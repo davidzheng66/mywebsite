{
  "nbformat": 4,
  "nbformat_minor": 0,
  "metadata": {
    "colab": {
      "name": "Untitled2.ipynb",
      "provenance": [],
      "toc_visible": true,
      "authorship_tag": "ABX9TyPu/BKB80gcI9XPlDZybsH/",
      "include_colab_link": true
    },
    "kernelspec": {
      "name": "python3",
      "display_name": "Python 3"
    }
  },
  "cells": [
    {
      "cell_type": "markdown",
      "metadata": {
        "id": "view-in-github",
        "colab_type": "text"
      },
      "source": [
        "<a href=\"https://colab.research.google.com/github/davidzheng66/python3/blob/master/opencv/opencv-robotics/opencv-robotics.ipynb\" target=\"_parent\"><img src=\"https://colab.research.google.com/assets/colab-badge.svg\" alt=\"Open In Colab\"/></a>"
      ]
    },
    {
      "cell_type": "markdown",
      "metadata": {
        "id": "KZl_M8Ml6yow"
      },
      "source": [
        "# [OpenCV Website](https://opencv.org/)"
      ]
    },
    {
      "cell_type": "markdown",
      "metadata": {
        "id": "xIla7CMSSpVx"
      },
      "source": [
        "# [Learn OpenCV - Video - Murtaza's Workshop](https://www.youtube.com/watch?v=WQeoO7MI0Bs)\r\n",
        "\r\n",
        "Time Stamps:\r\n",
        "- 00:00 Intro\r\n",
        "- 2:17 Introduction to Images\r\n",
        "- 4:37  Installations\r\n",
        "- 9:09 Chapter 1\r\n",
        "- 17:01 Chapter 2\r\n",
        "- 27:31 Chapter 3\r\n",
        "- 34:12 Chapter 4\r\n",
        "- 44:59 Chapter 5\r\n",
        "- 50:04 Chapter 6\r\n",
        "- 56:14 Chapter 7\r\n",
        "- 1:15:37 Chapter8\r\n",
        "- 1:40:31 Chapter 9\r\n",
        "- 1:46:03 Project 1\r\n",
        "- 2:15:45 Project 2\r\n",
        "- 2:56:34 Project 3"
      ]
    },
    {
      "cell_type": "code",
      "metadata": {
        "colab": {
          "base_uri": "https://localhost:8080/",
          "height": 350
        },
        "id": "an0Xinun7maJ",
        "outputId": "06b7d4d5-d2a9-475e-ea9e-c9366e1a987e"
      },
      "source": [
        "import cv2\r\n",
        "from google.colab.patches import cv2_imshow\r\n",
        "\r\n",
        "# img = cv2.imread('https://github.com/davidzheng66/python3/blob/master/opencv/fig1.png')\r\n",
        "img = cv2.imread('fig1.png')\r\n",
        "# cv2.imshow('Output', img)\r\n",
        "# print(img.shape)\r\n",
        "cv2_imshow(img)\r\n",
        "cv2.waitKey(1000)\r\n",
        "\r\n",
        "cap = cv2.VideoCapture('test.mp4')\r\n",
        "while True:\r\n",
        "  success, img = cap.read()\r\n",
        "  # cv2.imshow('Video', img)\r\n",
        "  cv2_imshow(img)\r\n",
        "  if cv2.waitKey(1) & 0xFF == ord('q'):\r\n",
        "    break"
      ],
      "execution_count": 4,
      "outputs": [
        {
          "output_type": "error",
          "ename": "AttributeError",
          "evalue": "ignored",
          "traceback": [
            "\u001b[0;31m---------------------------------------------------------------------------\u001b[0m",
            "\u001b[0;31mAttributeError\u001b[0m                            Traceback (most recent call last)",
            "\u001b[0;32m<ipython-input-4-041b5acdaee0>\u001b[0m in \u001b[0;36m<module>\u001b[0;34m()\u001b[0m\n\u001b[1;32m      6\u001b[0m \u001b[0;31m# cv2.imshow('Output', img)\u001b[0m\u001b[0;34m\u001b[0m\u001b[0;34m\u001b[0m\u001b[0;34m\u001b[0m\u001b[0m\n\u001b[1;32m      7\u001b[0m \u001b[0;31m# print(img.shape)\u001b[0m\u001b[0;34m\u001b[0m\u001b[0;34m\u001b[0m\u001b[0;34m\u001b[0m\u001b[0m\n\u001b[0;32m----> 8\u001b[0;31m \u001b[0mcv2_imshow\u001b[0m\u001b[0;34m(\u001b[0m\u001b[0mimg\u001b[0m\u001b[0;34m)\u001b[0m\u001b[0;34m\u001b[0m\u001b[0;34m\u001b[0m\u001b[0m\n\u001b[0m\u001b[1;32m      9\u001b[0m \u001b[0mcv2\u001b[0m\u001b[0;34m.\u001b[0m\u001b[0mwaitKey\u001b[0m\u001b[0;34m(\u001b[0m\u001b[0;36m1000\u001b[0m\u001b[0;34m)\u001b[0m\u001b[0;34m\u001b[0m\u001b[0;34m\u001b[0m\u001b[0m\n\u001b[1;32m     10\u001b[0m \u001b[0;34m\u001b[0m\u001b[0m\n",
            "\u001b[0;32m/usr/local/lib/python3.6/dist-packages/google/colab/patches/__init__.py\u001b[0m in \u001b[0;36mcv2_imshow\u001b[0;34m(a)\u001b[0m\n\u001b[1;32m     20\u001b[0m       \u001b[0mimage\u001b[0m\u001b[0;34m.\u001b[0m\u001b[0;34m\u001b[0m\u001b[0;34m\u001b[0m\u001b[0m\n\u001b[1;32m     21\u001b[0m   \"\"\"\n\u001b[0;32m---> 22\u001b[0;31m   \u001b[0ma\u001b[0m \u001b[0;34m=\u001b[0m \u001b[0ma\u001b[0m\u001b[0;34m.\u001b[0m\u001b[0mclip\u001b[0m\u001b[0;34m(\u001b[0m\u001b[0;36m0\u001b[0m\u001b[0;34m,\u001b[0m \u001b[0;36m255\u001b[0m\u001b[0;34m)\u001b[0m\u001b[0;34m.\u001b[0m\u001b[0mastype\u001b[0m\u001b[0;34m(\u001b[0m\u001b[0;34m'uint8'\u001b[0m\u001b[0;34m)\u001b[0m\u001b[0;34m\u001b[0m\u001b[0;34m\u001b[0m\u001b[0m\n\u001b[0m\u001b[1;32m     23\u001b[0m   \u001b[0;31m# cv2 stores colors as BGR; convert to RGB\u001b[0m\u001b[0;34m\u001b[0m\u001b[0;34m\u001b[0m\u001b[0;34m\u001b[0m\u001b[0m\n\u001b[1;32m     24\u001b[0m   \u001b[0;32mif\u001b[0m \u001b[0ma\u001b[0m\u001b[0;34m.\u001b[0m\u001b[0mndim\u001b[0m \u001b[0;34m==\u001b[0m \u001b[0;36m3\u001b[0m\u001b[0;34m:\u001b[0m\u001b[0;34m\u001b[0m\u001b[0;34m\u001b[0m\u001b[0m\n",
            "\u001b[0;31mAttributeError\u001b[0m: 'NoneType' object has no attribute 'clip'"
          ]
        }
      ]
    },
    {
      "cell_type": "markdown",
      "metadata": {
        "id": "rdZXR84878vP"
      },
      "source": [
        "## Chapter 4 - Shapes and Texts"
      ]
    },
    {
      "cell_type": "code",
      "metadata": {
        "id": "CDal_7wL6w0g",
        "outputId": "756ef949-67e8-475f-a524-6e26f241f566",
        "colab": {
          "base_uri": "https://localhost:8080/",
          "height": 546
        }
      },
      "source": [
        "import cv2\r\n",
        "import numpy as np\r\n",
        "from google.colab.patches import cv2_imshow\r\n",
        "\r\n",
        "img = np.zeros((512, 512, 3), np.uint8)\r\n",
        "\r\n",
        "# img[:] = 255,255,255\r\n",
        "# print(img.shape[0])\r\n",
        "\r\n",
        "cv2.line(img, (0,0), (img.shape[1], img.shape[0]), (0,255,0), 10)\r\n",
        "cv2.rectangle(img, (0,0), (250, 350), (0,0,255), cv2.FILLED)\r\n",
        "cv2.circle(img, (400, 50), 30, (255, 255, 0), 5)\r\n",
        "cv2.putText(img, 'OPEN CV ', (300, 200), cv2.FONT_HERSHEY_COMPLEX, 1, (0, 150, 0), 2)\r\n",
        "\r\n",
        "# cv2.imshow('Image', img)\r\n",
        "cv2_imshow(img)\r\n",
        "cv2.waitKey(0)"
      ],
      "execution_count": 3,
      "outputs": [
        {
          "output_type": "display_data",
          "data": {
            "image/png": "[encoded data removed]",
            "text/plain": [
              "<PIL.Image.Image image mode=RGB size=512x512 at 0x7FF99A39C278>"
            ]
          },
          "metadata": {
            "tags": []
          }
        },
        {
          "output_type": "execute_result",
          "data": {
            "text/plain": [
              "-1"
            ]
          },
          "metadata": {
            "tags": []
          },
          "execution_count": 3
        }
      ]
    },
    {
      "cell_type": "markdown",
      "metadata": {
        "id": "CEEXaAAc7ku1"
      },
      "source": [
        "#3. Projects\r\n",
        "* Project 1:\r\n",
        "* Project 2:\r\n",
        "* Project 3:"
      ]
    },
    {
      "cell_type": "markdown",
      "metadata": {
        "id": "YWKXz3ua6xmr"
      },
      "source": [
        ""
      ]
    }
  ]
}