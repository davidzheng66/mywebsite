{
  "nbformat": 4,
  "nbformat_minor": 0,
  "metadata": {
    "colab": {
      "name": "Untitled2.ipynb",
      "provenance": [],
      "toc_visible": true,
      "authorship_tag": "ABX9TyMMX7pr2qF5IMOZV3RQktwK",
      "include_colab_link": true
    },
    "kernelspec": {
      "name": "python3",
      "display_name": "Python 3"
    }
  },
  "cells": [
    {
      "cell_type": "markdown",
      "metadata": {
        "id": "view-in-github",
        "colab_type": "text"
      },
      "source": [
        "<a href=\"https://colab.research.google.com/github/davidzheng66/python3/blob/master/opencv/opencv-course/opencv-course-freecodecamp.ipynb\" target=\"_parent\"><img src=\"https://colab.research.google.com/assets/colab-badge.svg\" alt=\"Open In Colab\"/></a>"
      ]
    },
    {
      "cell_type": "markdown",
      "metadata": {
        "id": "KZl_M8Ml6yow"
      },
      "source": [
        "# [OpenCV Website](https://opencv.org/)\r\n",
        "\r\n",
        "# [OpenCV Github](https://github.com/opencv/opencv)"
      ]
    },
    {
      "cell_type": "markdown",
      "metadata": {
        "id": "xIla7CMSSpVx"
      },
      "source": [
        "# [OpenCV Course - Video - freecodecamp](https://www.youtube.com/watch?v=oXlwWbU8l2o)\r\n",
        "\r\n",
        "# [Source Code - original](https://github.com/jasmcaus/opencv-course)\r\n",
        "\r\n",
        "⭐️ Course Contents ⭐️\r\n",
        "- ⌨️ (0:00:00) Introduction\r\n",
        "- ⌨️ (0:01:07) Installing OpenCV and Caer\r\n",
        "- Section #1 - Basics\r\n",
        "- ⌨️ (0:04:12) Reading Images & Video\r\n",
        "- ⌨️ (0:12:57) Resizing and Rescaling Frames\r\n",
        "- ⌨️ (0:20:21) Drawing Shapes & Putting Text\r\n",
        "- ⌨️ (0:31:55) 5 Essential Functions in OpenCV\r\n",
        "- ⌨️ (0:44:13) Image Transformations\r\n",
        "- ⌨️ (0:57:06) Contour Detection\r\n",
        "- Section #2 - Advanced\r\n",
        "- ⌨️ (1:12:53) Color Spaces\r\n",
        "- ⌨️ (1:23:10) Color Channels\r\n",
        "- ⌨️ (1:31:03) Blurring\r\n",
        "- ⌨️ (1:44:27) BITWISE operations\r\n",
        "- ⌨️ (1:53:06) Masking\r\n",
        "- ⌨️ (2:01:43) Histogram Computation\r\n",
        "- ⌨️ (2:15:22) Thresholding/Binarizing Images\r\n",
        "- ⌨️ (2:26:27) Edge Detection\r\n",
        "- Section #3 - Faces:\r\n",
        "- ⌨️ (2:35:25) Face Detection with Haar Cascades\r\n",
        "- ⌨️ (2:49:05) Face Recognition with OpenCV's built-in recognizer\r\n",
        "- Section #4 - Capstone\r\n",
        "- ⌨️ (3:11:57) Deep Computer Vision "
      ]
    },
    {
      "cell_type": "code",
      "metadata": {
        "id": "Sx2bi9m9JJEB"
      },
      "source": [
        "#!pip install opencv-contrib-python # or #!pip install opencv--python\r\n",
        "# !pip install caer"
      ],
      "execution_count": null,
      "outputs": []
    },
    {
      "cell_type": "markdown",
      "metadata": {
        "id": "R7wrmNUyJ7EQ"
      },
      "source": [
        "#  Reading Images & Video (0:04:12) "
      ]
    },
    {
      "cell_type": "code",
      "metadata": {
        "id": "ZJn7FC1sBFvT",
        "outputId": "932e4519-40ac-4c47-b817-b14db3a9d8ea",
        "colab": {
          "base_uri": "https://localhost:8080/"
        }
      },
      "source": [
        "import cv2 as cv\r\n",
        "from google.colab.patches import cv2_imshow\r\n",
        "\r\n",
        "img = cv.imread('https://github.com/davidzheng66/python3/blob/master/opencv/opencv-course/resources/Photos/cat.jpg')\r\n",
        "print(img)\r\n",
        "# cv2_imshow(img)\r\n",
        "\r\n",
        "cv.waitKey(0)\r\n",
        "\r\n",
        "# Reading Videos\r\n",
        "# capture = cv.VideoCapture('resources/Videos/dog.mp4')\r\n",
        "\r\n",
        "# while True:\r\n",
        "#     isTrue, frame = capture.read()\r\n",
        "    \r\n",
        "#     cv.imshow('Video', frame)\r\n",
        "\r\n",
        "#     if (cv.waitKey(20) & 0xFF) == ord('q'):\r\n",
        "#         break\r\n",
        "\r\n",
        "# capture.release()\r\n",
        "# cv.destroyAllWindows()"
      ],
      "execution_count": 5,
      "outputs": [
        {
          "output_type": "stream",
          "text": [
            "None\n"
          ],
          "name": "stdout"
        },
        {
          "output_type": "execute_result",
          "data": {
            "text/plain": [
              "-1"
            ]
          },
          "metadata": {
            "tags": []
          },
          "execution_count": 5
        }
      ]
    }
  ]
}