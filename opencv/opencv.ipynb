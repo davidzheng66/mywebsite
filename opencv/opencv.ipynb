{
  "nbformat": 4,
  "nbformat_minor": 0,
  "metadata": {
    "colab": {
      "name": "Untitled2.ipynb",
      "provenance": [],
      "authorship_tag": "ABX9TyNadx7Mx83Pz/NCPQQ48lIC",
      "include_colab_link": true
    },
    "kernelspec": {
      "name": "python3",
      "display_name": "Python 3"
    }
  },
  "cells": [
    {
      "cell_type": "markdown",
      "metadata": {
        "id": "view-in-github",
        "colab_type": "text"
      },
      "source": [
        "<a href=\"https://colab.research.google.com/github/davidzheng66/python3/blob/master/opencv/opencv.ipynb\" target=\"_parent\"><img src=\"https://colab.research.google.com/assets/colab-badge.svg\" alt=\"Open In Colab\"/></a>"
      ]
    },
    {
      "cell_type": "markdown",
      "metadata": {
        "id": "KZl_M8Ml6yow"
      },
      "source": [
        "#1. [OpenCV](https://opencv.org/)\r\n",
        "\r\n",
        "#2. [Learn OpenCV](https://www.youtube.com/watch?v=WQeoO7MI0Bs)\r\n",
        "\r\n",
        "\r\n"
      ]
    },
    {
      "cell_type": "code",
      "metadata": {
        "id": "an0Xinun7maJ"
      },
      "source": [
        "import cv2\r\n",
        "from google.colab.patches import cv2_imshow\r\n",
        "\r\n",
        "img = cv2.imread('fig1.png')\r\n",
        "# cv2.imshow('Output', img)\r\n",
        "\r\n",
        "cv2_imshow(img)\r\n",
        "cv2.waitKey(1000)"
      ],
      "execution_count": null,
      "outputs": []
    },
    {
      "cell_type": "code",
      "metadata": {
        "id": "CDal_7wL6w0g"
      },
      "source": [
        ""
      ],
      "execution_count": null,
      "outputs": []
    },
    {
      "cell_type": "markdown",
      "metadata": {
        "id": "CEEXaAAc7ku1"
      },
      "source": [
        "#3. Projects\r\n",
        "* Project 1:\r\n",
        "* Project 2:\r\n",
        "* Project 3:"
      ]
    },
    {
      "cell_type": "markdown",
      "metadata": {
        "id": "YWKXz3ua6xmr"
      },
      "source": [
        ""
      ]
    }
  ]
}