{
  "nbformat": 4,
  "nbformat_minor": 0,
  "metadata": {
    "colab": {
      "name": "Untitled4.ipynb",
      "provenance": [],
      "authorship_tag": "ABX9TyMRsr+RQU2q4Fk53uKExewE",
      "include_colab_link": true
    },
    "kernelspec": {
      "name": "python3",
      "display_name": "Python 3"
    }
  },
  "cells": [
    {
      "cell_type": "markdown",
      "metadata": {
        "id": "view-in-github",
        "colab_type": "text"
      },
      "source": [
        "<a href=\"https://colab.research.google.com/github/davidzheng66/python3/blob/master/deeplearning/deeplearning-deeplizard.ipynb\" target=\"_parent\"><img src=\"https://colab.research.google.com/assets/colab-badge.svg\" alt=\"Open In Colab\"/></a>"
      ]
    },
    {
      "cell_type": "markdown",
      "metadata": {
        "id": "NZ5mcjXt94xi"
      },
      "source": [
        "#[Machine Learning and Deep Learning Fundamental - deeplizard](https://www.youtube.com/playlist?list=PLZbbT5o_s2xq7LwI2y8_QtvuXZedL6tQU)"
      ]
    },
    {
      "cell_type": "markdown",
      "metadata": {
        "id": "JWU2iwq0vS0y"
      },
      "source": [
        "##[1. Deep Learning Overview & Machine Learning Introduction](https://www.youtube.com/watch?v=gZmobeGL0Yg&list=PLZbbT5o_s2xq7LwI2y8_QtvuXZedL6tQU&index=1)"
      ]
    },
    {
      "cell_type": "markdown",
      "metadata": {
        "id": "su13EwxuvrWd"
      },
      "source": [
        "##[2. Deep Learning](https://www.youtube.com/watch?v=OT1jslLoCyA&list=PLZbbT5o_s2xq7LwI2y8_QtvuXZedL6tQU&index=2)"
      ]
    },
    {
      "cell_type": "markdown",
      "metadata": {
        "id": "Riqx8N0pvzLw"
      },
      "source": [
        "##[3. Artificial Neural Network (ANN)](https://www.youtube.com/watch?v=hfK_dvC-avg&list=PLZbbT5o_s2xq7LwI2y8_QtvuXZedL6tQU&index=3)"
      ]
    },
    {
      "cell_type": "markdown",
      "metadata": {
        "id": "IEj1AiG2v-K3"
      },
      "source": [
        "##[4. Layers in a Neural Network](https://www.youtube.com/watch?v=FK77zZxaBoI&list=PLZbbT5o_s2xq7LwI2y8_QtvuXZedL6tQU&index=4)\r\n",
        "###Layers in an ANN\r\n",
        "Artificial neural network is typically organized in layers. Different types of layers include:\r\n",
        "* Dense (or fully connected) Layers\r\n",
        "* Convolutional layers\r\n",
        "* Pooling Layers\r\n",
        "* Recurrent Layers\r\n",
        "* Normalization Layers\r\n",
        "* Many others\r\n"
      ]
    },
    {
      "cell_type": "markdown",
      "metadata": {
        "id": "P9XefjIhwJQu"
      },
      "source": [
        "##[5. Activation Functions in a Neural Network](https://www.youtube.com/watch?v=m0pIlLfpXWE&list=PLZbbT5o_s2xq7LwI2y8_QtvuXZedL6tQU&index=5)\r\n",
        "###Activation Functions\r\n",
        "In an artificial neural network, the activation function of a neuron defines the output of that neuro given a set of inputs.\r\n",
        "* Biologically inspired by activity in our brains, where different neurons fire, or are activated, by different stimuli"
      ]
    },
    {
      "cell_type": "code",
      "metadata": {
        "id": "4eZrEddwgrYh"
      },
      "source": [
        "from keras.models import Sequential\r\n",
        "from keras.layers import Dense, Activation\r\n",
        "\r\n",
        "#Way 1 to create a model\r\n",
        "model = Sequential([\r\n",
        "    Dense(5, input_shape=(3,), activation='relu')\r\n",
        "])"
      ],
      "execution_count": 2,
      "outputs": []
    },
    {
      "cell_type": "code",
      "metadata": {
        "id": "ClYbS3INhE7z"
      },
      "source": [
        "#Way 2 to create a model\r\n",
        "model = Sequential()\r\n",
        "model.add(Dense(5, input_shape=(3,)))\r\n",
        "model.add(Activation('relu'))"
      ],
      "execution_count": 3,
      "outputs": []
    },
    {
      "cell_type": "code",
      "metadata": {
        "id": "VRvpdGUJkhfL"
      },
      "source": [
        "from keras.models import Sequential\r\n",
        "from keras.layers import Dense, Activation\r\n",
        "\r\n",
        "#Way 1 to create a model\r\n",
        "model = Sequential([\r\n",
        "    Dense(5, input_shape=(3,), activation='relu'),\r\n",
        "    Dense(2, activation='softmax')\r\n",
        "])"
      ],
      "execution_count": 4,
      "outputs": []
    },
    {
      "cell_type": "code",
      "metadata": {
        "id": "SqFslPPxk2pJ"
      },
      "source": [
        "import numpy as np\r\n",
        "# from scipy import ndimage\r\n",
        "from scipy import misc\r\n",
        "import matplotlib.pyplot as plt\r\n",
        "%matplotlib inline\r\n",
        "\r\n",
        "# img = np.expand_dims(ndimage.imread('NN.PNG'), 0)\r\n",
        "img = np.expand_dims(misc.imread('NN.PNG'), 0)\r\n",
        "plt.imshow(img[0])"
      ],
      "execution_count": null,
      "outputs": []
    },
    {
      "cell_type": "markdown",
      "metadata": {
        "id": "d-8_oiL7oXsQ"
      },
      "source": [
        "##[6. Training a Neural Network](https://www.youtube.com/watch?v=sZAlS3_dnk0&list=PLZbbT5o_s2xq7LwI2y8_QtvuXZedL6tQU&index=6)"
      ]
    },
    {
      "cell_type": "markdown",
      "metadata": {
        "id": "4ID4nh1MoqIB"
      },
      "source": [
        "###Training\r\n",
        "Solving an optimization proble\r\n",
        "* Optimizing weights\r\n",
        " * with Stochastic Gradient Descent (SGD)\r\n",
        "* Objective: Minimize the loss function\r\n",
        "\r\n",
        "###Learning\r\n"
      ]
    },
    {
      "cell_type": "markdown",
      "metadata": {
        "id": "06JwRVlJw6gs"
      },
      "source": [
        "##[7. How a Neural Network Learns](https://www.youtube.com/watch?v=_N5kpSMDf4o&list=PLZbbT5o_s2xq7LwI2y8_QtvuXZedL6tQU&index=7)"
      ]
    },
    {
      "cell_type": "markdown",
      "metadata": {
        "id": "lomcNRe0xCNC"
      },
      "source": [
        "##[8. Loss in a Neural Network](https://www.youtube.com/watch?v=Skc8nqJirJg&list=PLZbbT5o_s2xq7LwI2y8_QtvuXZedL6tQU&index=8)"
      ]
    },
    {
      "cell_type": "markdown",
      "metadata": {
        "id": "wSMjjyC-xKp0"
      },
      "source": [
        "##[9. Learning Rate in a Neural Network](https://www.youtube.com/watch?v=jWT-AX9677k&list=PLZbbT5o_s2xq7LwI2y8_QtvuXZedL6tQU&index=9)"
      ]
    },
    {
      "cell_type": "markdown",
      "metadata": {
        "id": "NItVj2dExT_S"
      },
      "source": [
        "##[10. Train, Test & Validation Sets](https://www.youtube.com/watch?v=Zi-0rlM4RDs&list=PLZbbT5o_s2xq7LwI2y8_QtvuXZedL6tQU&index=10)"
      ]
    },
    {
      "cell_type": "markdown",
      "metadata": {
        "id": "Os2vLwDDxery"
      },
      "source": [
        "##[11. Predicting with a Neural Network](https://www.youtube.com/watch?v=Z0KVRdE_a7Q&list=PLZbbT5o_s2xq7LwI2y8_QtvuXZedL6tQU&index=11)"
      ]
    },
    {
      "cell_type": "markdown",
      "metadata": {
        "id": "_zu0NQUkxneE"
      },
      "source": [
        "##[12. Overfitting in a Neural Network](https://www.youtube.com/watch?v=DEMmkFC6IGM&list=PLZbbT5o_s2xq7LwI2y8_QtvuXZedL6tQU&index=12)"
      ]
    },
    {
      "cell_type": "markdown",
      "metadata": {
        "id": "86EHAHKmxveB"
      },
      "source": [
        "##[13. Underfitting in a Neural Network](https://www.youtube.com/watch?v=0h8lAm5Ki5g&list=PLZbbT5o_s2xq7LwI2y8_QtvuXZedL6tQU&index=13)"
      ]
    },
    {
      "cell_type": "markdown",
      "metadata": {
        "id": "lvrfD7QGx5Dh"
      },
      "source": [
        "##[14. Supervised Learning](https://www.youtube.com/watch?v=Quh6x4kG6VY&list=PLZbbT5o_s2xq7LwI2y8_QtvuXZedL6tQU&index=14)"
      ]
    },
    {
      "cell_type": "markdown",
      "metadata": {
        "id": "PL-mW3ExyDCS"
      },
      "source": [
        "##[15. Unsupervised Learning](https://www.youtube.com/watch?v=lEfrr0Yr684&list=PLZbbT5o_s2xq7LwI2y8_QtvuXZedL6tQU&index=15)"
      ]
    },
    {
      "cell_type": "markdown",
      "metadata": {
        "id": "4G4FOWKtyKaz"
      },
      "source": [
        "##[16. Semi-supervised Learning](https://www.youtube.com/watch?v=b-yhKUINb7o&list=PLZbbT5o_s2xq7LwI2y8_QtvuXZedL6tQU&index=16)"
      ]
    },
    {
      "cell_type": "markdown",
      "metadata": {
        "id": "PC_rtFEnyRPS"
      },
      "source": [
        "##[17. Data Augmentation](https://www.youtube.com/watch?v=rfM4DaLTkMs&list=PLZbbT5o_s2xq7LwI2y8_QtvuXZedL6tQU&index=17)"
      ]
    },
    {
      "cell_type": "markdown",
      "metadata": {
        "id": "ybGFKyXYyX4a"
      },
      "source": [
        "##[18. One-hot Encoding](https://www.youtube.com/watch?v=v_4KWmkwmsU&list=PLZbbT5o_s2xq7LwI2y8_QtvuXZedL6tQU&index=18)"
      ]
    },
    {
      "cell_type": "markdown",
      "metadata": {
        "id": "xIBs1Mihyfxp"
      },
      "source": [
        "##[19. Convolutional Neural Networks](https://www.youtube.com/watch?v=YRhxdVk_sIs&list=PLZbbT5o_s2xq7LwI2y8_QtvuXZedL6tQU&index=19)"
      ]
    },
    {
      "cell_type": "markdown",
      "metadata": {
        "id": "G3JxHihWyqIK"
      },
      "source": [
        "##[20. Visualizing Convolutional Filters from a CNN](https://www.youtube.com/watch?v=cNBBNAxC8l4&list=PLZbbT5o_s2xq7LwI2y8_QtvuXZedL6tQU&index=20)"
      ]
    },
    {
      "cell_type": "markdown",
      "metadata": {
        "id": "gx2am-khy4ai"
      },
      "source": [
        "##[21. Zero Padding in Convolutional Neural Networks](https://www.youtube.com/watch?v=qSTv_m-KFk0&list=PLZbbT5o_s2xq7LwI2y8_QtvuXZedL6tQU&index=21)"
      ]
    },
    {
      "cell_type": "markdown",
      "metadata": {
        "id": "ArRuAPNrzD8q"
      },
      "source": [
        "##[22. Max Pooling in Convolutional Neural Networks](https://www.youtube.com/watch?v=ZjM_XQa5s6s&list=PLZbbT5o_s2xq7LwI2y8_QtvuXZedL6tQU&index=22)"
      ]
    },
    {
      "cell_type": "markdown",
      "metadata": {
        "id": "EVWiU3W_zQdO"
      },
      "source": [
        "##[23. Backpropagation | Part 1 - The Intuition](https://www.youtube.com/watch?v=XE3krf3CQls&list=PLZbbT5o_s2xq7LwI2y8_QtvuXZedL6tQU&index=23)"
      ]
    },
    {
      "cell_type": "markdown",
      "metadata": {
        "id": "I12zwfgSzeV7"
      },
      "source": [
        "##[24. Backpropagation | Part 2 - The Mathematical Notation](https://www.youtube.com/watch?v=2mSysRx-1c0&list=PLZbbT5o_s2xq7LwI2y8_QtvuXZedL6tQU&index=24)"
      ]
    },
    {
      "cell_type": "markdown",
      "metadata": {
        "id": "DbuzZSzuztDh"
      },
      "source": [
        "##[25. Backpropagation | Part 3 - Mathematical Observations](https://www.youtube.com/watch?v=G5b4jRBKNxw&list=PLZbbT5o_s2xq7LwI2y8_QtvuXZedL6tQU&index=25)"
      ]
    },
    {
      "cell_type": "markdown",
      "metadata": {
        "id": "ye5UXLt3z9dS"
      },
      "source": [
        "##[26. Backpropagation | Part 4 - Calculating the Gradient](https://www.youtube.com/watch?v=Zr5viAZGndE&list=PLZbbT5o_s2xq7LwI2y8_QtvuXZedL6tQU&index=26)"
      ]
    },
    {
      "cell_type": "markdown",
      "metadata": {
        "id": "Tomxx2w20IRS"
      },
      "source": [
        "##[27. Backpropagation | Part 5 - What Puts the \"back\" in Backprop?](https://www.youtube.com/watch?v=xClK__CqZnQ&list=PLZbbT5o_s2xq7LwI2y8_QtvuXZedL6tQU&index=27)"
      ]
    },
    {
      "cell_type": "markdown",
      "metadata": {
        "id": "n2x1lbfxR2ZR"
      },
      "source": [
        "##[28. Vanishing & Exploding Gradient | A Problem Resulting from Backprogagation](https://www.youtube.com/watch?v=qO_NLVjD6zE&list=PLZbbT5o_s2xq7LwI2y8_QtvuXZedL6tQU&index=28)\r\n",
        "- Gradient: referrring to the gradient of the loss function with respect to the weights in the network"
      ]
    },
    {
      "cell_type": "markdown",
      "metadata": {
        "id": "W0IzlBUBUi7k"
      },
      "source": [
        "##[29. Weight Initialization | A Way to Reduce the Vanishing Gradient Problem](https://www.youtube.com/watch?v=8krd5qKVw-Q&list=PLZbbT5o_s2xq7LwI2y8_QtvuXZedL6tQU&index=29)"
      ]
    },
    {
      "cell_type": "markdown",
      "metadata": {
        "id": "fA1f8ZVpXeQH"
      },
      "source": [
        "##[30. Bias in an Artificial Neural Network | How Bias Impacts Training](https://www.youtube.com/watch?v=HetFihsXSys&list=PLZbbT5o_s2xq7LwI2y8_QtvuXZedL6tQU&index=30)"
      ]
    },
    {
      "cell_type": "markdown",
      "metadata": {
        "id": "kpgRyhDjgxcI"
      },
      "source": [
        "##[31. Learnable Parameters in an Artificial Neural Network](https://www.youtube.com/watch?v=pg3hJpSopHQ&list=PLZbbT5o_s2xq7LwI2y8_QtvuXZedL6tQU&index=31)"
      ]
    },
    {
      "cell_type": "markdown",
      "metadata": {
        "id": "Dd7diOMEj5wa"
      },
      "source": [
        "##[32. Learnable Parameters in a Convolutional Neural Network (CNN)](https://www.youtube.com/watch?v=gmBfb6LNnZs&list=PLZbbT5o_s2xq7LwI2y8_QtvuXZedL6tQU&index=32)"
      ]
    },
    {
      "cell_type": "markdown",
      "metadata": {
        "id": "MePjTZIMXp_B"
      },
      "source": [
        "##[33. Regularization in a Neural Network](https://www.youtube.com/watch?v=iuJgyiS7BKM&list=PLZbbT5o_s2xq7LwI2y8_QtvuXZedL6tQU&index=33)"
      ]
    },
    {
      "cell_type": "markdown",
      "metadata": {
        "id": "BP06JifmqTB-"
      },
      "source": [
        "##[34. Batch Size in a Neural Network](https://www.youtube.com/watch?v=U4WB9p6ODjM&list=PLZbbT5o_s2xq7LwI2y8_QtvuXZedL6tQU&index=34)"
      ]
    },
    {
      "cell_type": "markdown",
      "metadata": {
        "id": "NlGcmepPrUZE"
      },
      "source": [
        "##[35. Fine-tuning a Neural Network](https://www.youtube.com/watch?v=5T-iXNNiwIs&list=PLZbbT5o_s2xq7LwI2y8_QtvuXZedL6tQU&index=35)"
      ]
    },
    {
      "cell_type": "markdown",
      "metadata": {
        "id": "sV3zR-SstIab"
      },
      "source": [
        "##[36. Batch Normalization (\"batch norm\")](https://www.youtube.com/watch?v=dXB-KQYkzNU&list=PLZbbT5o_s2xq7LwI2y8_QtvuXZedL6tQU&index=36)"
      ]
    },
    {
      "cell_type": "markdown",
      "metadata": {
        "id": "etB_2F87AMXI"
      },
      "source": [
        "#[Practical Machine Learning Tutorial with Python -  sentdex](https://www.youtube.com/watch?v=OGxgnH8y2NM&list=PLQVvvaa0QuDfKTOs3Keq_kaG2P55YRn5v)"
      ]
    },
    {
      "cell_type": "markdown",
      "metadata": {
        "id": "DM33OqbLQx0d"
      },
      "source": [
        "##Install Packages\r\n",
        "- ```pip install sklean```\r\n",
        "- ```pip install quandl```\r\n",
        "- ```pip isntall pandas```\r\n"
      ]
    },
    {
      "cell_type": "code",
      "metadata": {
        "id": "XnN9sjshQr3e"
      },
      "source": [
        ""
      ],
      "execution_count": null,
      "outputs": []
    },
    {
      "cell_type": "markdown",
      "metadata": {
        "id": "yNPfaXhW-QBE"
      },
      "source": [
        "#[Deep Learning - 3Blue1Brown](https://www.youtube.com/watch?v=aircAruvnKk&list=PLZHQObOWTQDNU6R1_67000Dx_ZCJB-3pi)"
      ]
    },
    {
      "cell_type": "markdown",
      "metadata": {
        "id": "ic2lNYazNi6f"
      },
      "source": [
        "#[Practical Deep Learning for Coders - Full Course from fast.ai and Jeremy Howard](https://www.youtube.com/watch?v=0oyCUWLL_fU&list=RDCMUC8butISFwT-Wl7EV0hUK0BQ&start_radio=1&t=55)"
      ]
    }
  ]
}