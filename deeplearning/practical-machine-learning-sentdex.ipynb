{
  "nbformat": 4,
  "nbformat_minor": 0,
  "metadata": {
    "colab": {
      "name": "Untitled4.ipynb",
      "provenance": [],
      "authorship_tag": "ABX9TyPg6Twcz9mZtQ7mcrC7ScKW",
      "include_colab_link": true
    },
    "kernelspec": {
      "name": "python3",
      "display_name": "Python 3"
    }
  },
  "cells": [
    {
      "cell_type": "markdown",
      "metadata": {
        "id": "view-in-github",
        "colab_type": "text"
      },
      "source": [
        "<a href=\"https://colab.research.google.com/github/davidzheng66/python3/blob/master/deeplearning/practical-machine-learning-sentdex.ipynb\" target=\"_parent\"><img src=\"https://colab.research.google.com/assets/colab-badge.svg\" alt=\"Open In Colab\"/></a>"
      ]
    },
    {
      "cell_type": "markdown",
      "metadata": {
        "id": "NZ5mcjXt94xi"
      },
      "source": [
        "#[Practical Machine Learning Tutorial with Python -  sentdex](https://www.youtube.com/watch?v=OGxgnH8y2NM&list=PLQVvvaa0QuDfKTOs3Keq_kaG2P55YRn5v)"
      ]
    },
    {
      "cell_type": "markdown",
      "metadata": {
        "id": "hXEb9bTeTBLJ"
      },
      "source": [
        "##[1. Python Introduction ](https://www.youtube.com/watch?v=OGxgnH8y2NM&list=PLQVvvaa0QuDfKTOs3Keq_kaG2P55YRn5v&index=1)\r\n",
        "###What you will need for this tutorial series:\r\n",
        "Install numpy, matplotlib, pandas, sklearn and their dependencies\r\n",
        "```\r\n",
        "- pip install sklearn\r\n",
        "- pip install quandl\r\n",
        "- pip install pandas\r\n",
        "- pip install numpy\r\n",
        "- pip install scipy\r\n",
        "- pip install scikit-learn\r\n",
        "- pip install matplotlib\r\n",
        "```"
      ]
    },
    {
      "cell_type": "markdown",
      "metadata": {
        "id": "yBaJLT2kURn8"
      },
      "source": [
        "##[2. Regression Introduction](https://www.youtube.com/watch?v=JcI5Vnw0b2c&list=PLQVvvaa0QuDfKTOs3Keq_kaG2P55YRn5v&index=2)"
      ]
    },
    {
      "cell_type": "code",
      "metadata": {
        "id": "zlsZiOB5Us59",
        "outputId": "2d5465e1-7a5a-4ab2-992a-76addece4188",
        "colab": {
          "base_uri": "https://localhost:8080/"
        }
      },
      "source": [
        "# !pip install sklearn\r\n",
        "!pip install quandl"
      ],
      "execution_count": 1,
      "outputs": [
        {
          "output_type": "stream",
          "text": [
            "Requirement already satisfied: quandl in /usr/local/lib/python3.6/dist-packages (3.5.3)\n",
            "Requirement already satisfied: python-dateutil in /usr/local/lib/python3.6/dist-packages (from quandl) (2.8.1)\n",
            "Requirement already satisfied: requests>=2.7.0 in /usr/local/lib/python3.6/dist-packages (from quandl) (2.23.0)\n",
            "Requirement already satisfied: six in /usr/local/lib/python3.6/dist-packages (from quandl) (1.15.0)\n",
            "Requirement already satisfied: inflection>=0.3.1 in /usr/local/lib/python3.6/dist-packages (from quandl) (0.5.1)\n",
            "Requirement already satisfied: more-itertools in /usr/local/lib/python3.6/dist-packages (from quandl) (8.6.0)\n",
            "Requirement already satisfied: numpy>=1.8 in /usr/local/lib/python3.6/dist-packages (from quandl) (1.19.4)\n",
            "Requirement already satisfied: pandas>=0.14 in /usr/local/lib/python3.6/dist-packages (from quandl) (1.1.5)\n",
            "Requirement already satisfied: certifi>=2017.4.17 in /usr/local/lib/python3.6/dist-packages (from requests>=2.7.0->quandl) (2020.12.5)\n",
            "Requirement already satisfied: urllib3!=1.25.0,!=1.25.1,<1.26,>=1.21.1 in /usr/local/lib/python3.6/dist-packages (from requests>=2.7.0->quandl) (1.24.3)\n",
            "Requirement already satisfied: idna<3,>=2.5 in /usr/local/lib/python3.6/dist-packages (from requests>=2.7.0->quandl) (2.10)\n",
            "Requirement already satisfied: chardet<4,>=3.0.2 in /usr/local/lib/python3.6/dist-packages (from requests>=2.7.0->quandl) (3.0.4)\n",
            "Requirement already satisfied: pytz>=2017.2 in /usr/local/lib/python3.6/dist-packages (from pandas>=0.14->quandl) (2018.9)\n"
          ],
          "name": "stdout"
        }
      ]
    },
    {
      "cell_type": "markdown",
      "metadata": {
        "id": "z9UmEx8fbatI"
      },
      "source": [
        "###[quandl](https://www.quandl.com/tools/full-list)"
      ]
    },
    {
      "cell_type": "code",
      "metadata": {
        "id": "XT_GRX4zWynx"
      },
      "source": [
        "import pandas as pd\r\n",
        "import quandl\r\n",
        "df = quandl.get('WIKI/GOOGL') # https://www.quandl.com/tools/python"
      ],
      "execution_count": 16,
      "outputs": []
    },
    {
      "cell_type": "code",
      "metadata": {
        "id": "XC0a0qXzXd_N",
        "outputId": "a2dd33c7-cb2c-4982-9a4c-b35f146eb622",
        "colab": {
          "base_uri": "https://localhost:8080/"
        }
      },
      "source": [
        "print(df.head())"
      ],
      "execution_count": 17,
      "outputs": [
        {
          "output_type": "stream",
          "text": [
            "              Open    High     Low  ...   Adj. Low  Adj. Close  Adj. Volume\n",
            "Date                                ...                                    \n",
            "2004-08-19  100.01  104.06   95.96  ...  48.128568   50.322842   44659000.0\n",
            "2004-08-20  101.01  109.08  100.50  ...  50.405597   54.322689   22834300.0\n",
            "2004-08-23  110.76  113.48  109.05  ...  54.693835   54.869377   18256100.0\n",
            "2004-08-24  111.24  111.60  103.57  ...  51.945350   52.597363   15247300.0\n",
            "2004-08-25  104.76  108.00  103.88  ...  52.100830   53.164113    9188600.0\n",
            "\n",
            "[5 rows x 12 columns]\n"
          ],
          "name": "stdout"
        }
      ]
    },
    {
      "cell_type": "code",
      "metadata": {
        "id": "C6DQ3AqHYyXN",
        "outputId": "4a9f75d2-16ef-48db-9c68-186e7d08640d",
        "colab": {
          "base_uri": "https://localhost:8080/"
        }
      },
      "source": [
        "df = df[['Adj. Open', 'Adj. High', 'Adj. Low', 'Adj. Close', 'Adj. Volume',]]\r\n",
        "print(df.head())"
      ],
      "execution_count": 18,
      "outputs": [
        {
          "output_type": "stream",
          "text": [
            "            Adj. Open  Adj. High   Adj. Low  Adj. Close  Adj. Volume\n",
            "Date                                                                \n",
            "2004-08-19  50.159839  52.191109  48.128568   50.322842   44659000.0\n",
            "2004-08-20  50.661387  54.708881  50.405597   54.322689   22834300.0\n",
            "2004-08-23  55.551482  56.915693  54.693835   54.869377   18256100.0\n",
            "2004-08-24  55.792225  55.972783  51.945350   52.597363   15247300.0\n",
            "2004-08-25  52.542193  54.167209  52.100830   53.164113    9188600.0\n"
          ],
          "name": "stdout"
        }
      ]
    },
    {
      "cell_type": "code",
      "metadata": {
        "id": "CV9SB_mPZsFO",
        "outputId": "519a98e3-ae80-4363-d59d-2d9e1930c1b8",
        "colab": {
          "base_uri": "https://localhost:8080/"
        }
      },
      "source": [
        "df['HL_PCT'] = (df['Adj. High'] - df['Adj. Close']) / df['Adj. Close'] * 100.0\r\n",
        "print(df['HL_PCT'].head())\r\n",
        "print(df.head())"
      ],
      "execution_count": 21,
      "outputs": [
        {
          "output_type": "stream",
          "text": [
            "Date\n",
            "2004-08-19    3.712563\n",
            "2004-08-20    0.710922\n",
            "2004-08-23    3.729433\n",
            "2004-08-24    6.417469\n",
            "2004-08-25    1.886792\n",
            "Name: HL_PCT, dtype: float64\n",
            "            Adj. Open  Adj. High   Adj. Low  Adj. Close  Adj. Volume    HL_PCT\n",
            "Date                                                                          \n",
            "2004-08-19  50.159839  52.191109  48.128568   50.322842   44659000.0  3.712563\n",
            "2004-08-20  50.661387  54.708881  50.405597   54.322689   22834300.0  0.710922\n",
            "2004-08-23  55.551482  56.915693  54.693835   54.869377   18256100.0  3.729433\n",
            "2004-08-24  55.792225  55.972783  51.945350   52.597363   15247300.0  6.417469\n",
            "2004-08-25  52.542193  54.167209  52.100830   53.164113    9188600.0  1.886792\n"
          ],
          "name": "stdout"
        }
      ]
    },
    {
      "cell_type": "code",
      "metadata": {
        "id": "HVFmsVWXb_aE",
        "outputId": "c283b0d5-5198-4608-a74f-9e76262a4f31",
        "colab": {
          "base_uri": "https://localhost:8080/"
        }
      },
      "source": [
        "df['PCT_change'] = (df['Adj. Close'] - df['Adj. Open']) / df['Adj. Open'] * 100.0\r\n",
        "print(df['PCT_change'].head())\r\n",
        "print(df)"
      ],
      "execution_count": 22,
      "outputs": [
        {
          "output_type": "stream",
          "text": [
            "Date\n",
            "2004-08-19    0.324968\n",
            "2004-08-20    7.227007\n",
            "2004-08-23   -1.227880\n",
            "2004-08-24   -5.726357\n",
            "2004-08-25    1.183658\n",
            "Name: PCT_change, dtype: float64\n",
            "              Adj. Open    Adj. High  ...    HL_PCT  PCT_change\n",
            "Date                                  ...                      \n",
            "2004-08-19    50.159839    52.191109  ...  3.712563    0.324968\n",
            "2004-08-20    50.661387    54.708881  ...  0.710922    7.227007\n",
            "2004-08-23    55.551482    56.915693  ...  3.729433   -1.227880\n",
            "2004-08-24    55.792225    55.972783  ...  6.417469   -5.726357\n",
            "2004-08-25    52.542193    54.167209  ...  1.886792    1.183658\n",
            "...                 ...          ...  ...       ...         ...\n",
            "2018-03-21  1092.570000  1108.700000  ...  1.343693    0.130884\n",
            "2018-03-22  1080.010000  1083.920000  ...  2.921711   -2.487014\n",
            "2018-03-23  1051.370000  1066.780000  ...  3.918952   -2.360729\n",
            "2018-03-26  1050.600000  1059.270000  ...  0.491419    0.332191\n",
            "2018-03-27  1063.900000  1064.540000  ...  5.720301   -5.353887\n",
            "\n",
            "[3424 rows x 7 columns]\n"
          ],
          "name": "stdout"
        }
      ]
    },
    {
      "cell_type": "code",
      "metadata": {
        "id": "oUwaH7umck8p",
        "outputId": "5b40d1ee-c067-4853-d430-08b1a701ff6f",
        "colab": {
          "base_uri": "https://localhost:8080/"
        }
      },
      "source": [
        "df = df[['Adj. Close', 'HL_PCT', 'PCT_change', 'Adj. Volume']]\r\n",
        "print(df.head())"
      ],
      "execution_count": 24,
      "outputs": [
        {
          "output_type": "stream",
          "text": [
            "            Adj. Close    HL_PCT  PCT_change  Adj. Volume\n",
            "Date                                                     \n",
            "2004-08-19   50.322842  3.712563    0.324968   44659000.0\n",
            "2004-08-20   54.322689  0.710922    7.227007   22834300.0\n",
            "2004-08-23   54.869377  3.729433   -1.227880   18256100.0\n",
            "2004-08-24   52.597363  6.417469   -5.726357   15247300.0\n",
            "2004-08-25   53.164113  1.886792    1.183658    9188600.0\n"
          ],
          "name": "stdout"
        }
      ]
    },
    {
      "cell_type": "markdown",
      "metadata": {
        "id": "oyAZxj-1WwXM"
      },
      "source": [
        "##[3. Regression Features and Labels](https://www.youtube.com/watch?v=lN5jesocJjk&list=PLQVvvaa0QuDfKTOs3Keq_kaG2P55YRn5v&index=3)"
      ]
    },
    {
      "cell_type": "markdown",
      "metadata": {
        "id": "yNPfaXhW-QBE"
      },
      "source": [
        "#[Deep Learning - 3Blue1Brown](https://www.youtube.com/watch?v=aircAruvnKk&list=PLZHQObOWTQDNU6R1_67000Dx_ZCJB-3pi)"
      ]
    },
    {
      "cell_type": "markdown",
      "metadata": {
        "id": "ic2lNYazNi6f"
      },
      "source": [
        "#[Practical Deep Learning for Coders - Full Course from fast.ai and Jeremy Howard](https://www.youtube.com/watch?v=0oyCUWLL_fU&list=RDCMUC8butISFwT-Wl7EV0hUK0BQ&start_radio=1&t=55)"
      ]
    }
  ]
}