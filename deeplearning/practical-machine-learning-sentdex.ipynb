{
  "nbformat": 4,
  "nbformat_minor": 0,
  "metadata": {
    "colab": {
      "name": "Untitled4.ipynb",
      "provenance": [],
      "authorship_tag": "ABX9TyNbKua0PYv9gwioS05HMASa",
      "include_colab_link": true
    },
    "kernelspec": {
      "name": "python3",
      "display_name": "Python 3"
    }
  },
  "cells": [
    {
      "cell_type": "markdown",
      "metadata": {
        "id": "view-in-github",
        "colab_type": "text"
      },
      "source": [
        "<a href=\"https://colab.research.google.com/github/davidzheng66/python3/blob/master/deeplearning/practical-machine-learning-sentdex.ipynb\" target=\"_parent\"><img src=\"https://colab.research.google.com/assets/colab-badge.svg\" alt=\"Open In Colab\"/></a>"
      ]
    },
    {
      "cell_type": "markdown",
      "metadata": {
        "id": "NZ5mcjXt94xi"
      },
      "source": [
        "#[Practical Machine Learning Tutorial with Python -  sentdex](https://www.youtube.com/watch?v=OGxgnH8y2NM&list=PLQVvvaa0QuDfKTOs3Keq_kaG2P55YRn5v)"
      ]
    },
    {
      "cell_type": "markdown",
      "metadata": {
        "id": "hXEb9bTeTBLJ"
      },
      "source": [
        "##[1. Python Introduction ](https://www.youtube.com/watch?v=OGxgnH8y2NM&list=PLQVvvaa0QuDfKTOs3Keq_kaG2P55YRn5v&index=1)\r\n",
        "###What you will need for this tutorial series:\r\n",
        "Install numpy, matplotlib, pandas, sklearn and their dependencies\r\n",
        "```\r\n",
        "- pip install sklearn\r\n",
        "- pip install quandl\r\n",
        "- pip install pandas\r\n",
        "- pip install numpy\r\n",
        "- pip install scipy\r\n",
        "- pip install scikit-learn\r\n",
        "- pip install matplotlib\r\n",
        "```"
      ]
    },
    {
      "cell_type": "markdown",
      "metadata": {
        "id": "yBaJLT2kURn8"
      },
      "source": [
        "##[2. Regression Introduction](https://www.youtube.com/watch?v=JcI5Vnw0b2c&list=PLQVvvaa0QuDfKTOs3Keq_kaG2P55YRn5v&index=2)"
      ]
    },
    {
      "cell_type": "code",
      "metadata": {
        "colab": {
          "base_uri": "https://localhost:8080/"
        },
        "id": "zlsZiOB5Us59",
        "outputId": "2d5465e1-7a5a-4ab2-992a-76addece4188"
      },
      "source": [
        "# !pip install sklearn\r\n",
        "!pip install quandl"
      ],
      "execution_count": 1,
      "outputs": [
        {
          "output_type": "stream",
          "text": [
            "Requirement already satisfied: quandl in /usr/local/lib/python3.6/dist-packages (3.5.3)\n",
            "Requirement already satisfied: python-dateutil in /usr/local/lib/python3.6/dist-packages (from quandl) (2.8.1)\n",
            "Requirement already satisfied: requests>=2.7.0 in /usr/local/lib/python3.6/dist-packages (from quandl) (2.23.0)\n",
            "Requirement already satisfied: six in /usr/local/lib/python3.6/dist-packages (from quandl) (1.15.0)\n",
            "Requirement already satisfied: inflection>=0.3.1 in /usr/local/lib/python3.6/dist-packages (from quandl) (0.5.1)\n",
            "Requirement already satisfied: more-itertools in /usr/local/lib/python3.6/dist-packages (from quandl) (8.6.0)\n",
            "Requirement already satisfied: numpy>=1.8 in /usr/local/lib/python3.6/dist-packages (from quandl) (1.19.4)\n",
            "Requirement already satisfied: pandas>=0.14 in /usr/local/lib/python3.6/dist-packages (from quandl) (1.1.5)\n",
            "Requirement already satisfied: certifi>=2017.4.17 in /usr/local/lib/python3.6/dist-packages (from requests>=2.7.0->quandl) (2020.12.5)\n",
            "Requirement already satisfied: urllib3!=1.25.0,!=1.25.1,<1.26,>=1.21.1 in /usr/local/lib/python3.6/dist-packages (from requests>=2.7.0->quandl) (1.24.3)\n",
            "Requirement already satisfied: idna<3,>=2.5 in /usr/local/lib/python3.6/dist-packages (from requests>=2.7.0->quandl) (2.10)\n",
            "Requirement already satisfied: chardet<4,>=3.0.2 in /usr/local/lib/python3.6/dist-packages (from requests>=2.7.0->quandl) (3.0.4)\n",
            "Requirement already satisfied: pytz>=2017.2 in /usr/local/lib/python3.6/dist-packages (from pandas>=0.14->quandl) (2018.9)\n"
          ],
          "name": "stdout"
        }
      ]
    },
    {
      "cell_type": "markdown",
      "metadata": {
        "id": "z9UmEx8fbatI"
      },
      "source": [
        "###[quandl](https://www.quandl.com/tools/full-list)"
      ]
    },
    {
      "cell_type": "code",
      "metadata": {
        "id": "XT_GRX4zWynx"
      },
      "source": [
        "import pandas as pd\r\n",
        "import quandl\r\n",
        "import math\r\n",
        "df = quandl.get('WIKI/GOOGL') # https://www.quandl.com/tools/python"
      ],
      "execution_count": 16,
      "outputs": []
    },
    {
      "cell_type": "code",
      "metadata": {
        "colab": {
          "base_uri": "https://localhost:8080/"
        },
        "id": "XC0a0qXzXd_N",
        "outputId": "a2dd33c7-cb2c-4982-9a4c-b35f146eb622"
      },
      "source": [
        "print(df.head())"
      ],
      "execution_count": 17,
      "outputs": [
        {
          "output_type": "stream",
          "text": [
            "              Open    High     Low  ...   Adj. Low  Adj. Close  Adj. Volume\n",
            "Date                                ...                                    \n",
            "2004-08-19  100.01  104.06   95.96  ...  48.128568   50.322842   44659000.0\n",
            "2004-08-20  101.01  109.08  100.50  ...  50.405597   54.322689   22834300.0\n",
            "2004-08-23  110.76  113.48  109.05  ...  54.693835   54.869377   18256100.0\n",
            "2004-08-24  111.24  111.60  103.57  ...  51.945350   52.597363   15247300.0\n",
            "2004-08-25  104.76  108.00  103.88  ...  52.100830   53.164113    9188600.0\n",
            "\n",
            "[5 rows x 12 columns]\n"
          ],
          "name": "stdout"
        }
      ]
    },
    {
      "cell_type": "code",
      "metadata": {
        "colab": {
          "base_uri": "https://localhost:8080/"
        },
        "id": "C6DQ3AqHYyXN",
        "outputId": "4a9f75d2-16ef-48db-9c68-186e7d08640d"
      },
      "source": [
        "df = df[['Adj. Open', 'Adj. High', 'Adj. Low', 'Adj. Close', 'Adj. Volume',]]\r\n",
        "print(df.head())"
      ],
      "execution_count": 18,
      "outputs": [
        {
          "output_type": "stream",
          "text": [
            "            Adj. Open  Adj. High   Adj. Low  Adj. Close  Adj. Volume\n",
            "Date                                                                \n",
            "2004-08-19  50.159839  52.191109  48.128568   50.322842   44659000.0\n",
            "2004-08-20  50.661387  54.708881  50.405597   54.322689   22834300.0\n",
            "2004-08-23  55.551482  56.915693  54.693835   54.869377   18256100.0\n",
            "2004-08-24  55.792225  55.972783  51.945350   52.597363   15247300.0\n",
            "2004-08-25  52.542193  54.167209  52.100830   53.164113    9188600.0\n"
          ],
          "name": "stdout"
        }
      ]
    },
    {
      "cell_type": "code",
      "metadata": {
        "colab": {
          "base_uri": "https://localhost:8080/"
        },
        "id": "CV9SB_mPZsFO",
        "outputId": "519a98e3-ae80-4363-d59d-2d9e1930c1b8"
      },
      "source": [
        "df['HL_PCT'] = (df['Adj. High'] - df['Adj. Close']) / df['Adj. Close'] * 100.0\r\n",
        "print(df['HL_PCT'].head())\r\n",
        "print(df.head())"
      ],
      "execution_count": 21,
      "outputs": [
        {
          "output_type": "stream",
          "text": [
            "Date\n",
            "2004-08-19    3.712563\n",
            "2004-08-20    0.710922\n",
            "2004-08-23    3.729433\n",
            "2004-08-24    6.417469\n",
            "2004-08-25    1.886792\n",
            "Name: HL_PCT, dtype: float64\n",
            "            Adj. Open  Adj. High   Adj. Low  Adj. Close  Adj. Volume    HL_PCT\n",
            "Date                                                                          \n",
            "2004-08-19  50.159839  52.191109  48.128568   50.322842   44659000.0  3.712563\n",
            "2004-08-20  50.661387  54.708881  50.405597   54.322689   22834300.0  0.710922\n",
            "2004-08-23  55.551482  56.915693  54.693835   54.869377   18256100.0  3.729433\n",
            "2004-08-24  55.792225  55.972783  51.945350   52.597363   15247300.0  6.417469\n",
            "2004-08-25  52.542193  54.167209  52.100830   53.164113    9188600.0  1.886792\n"
          ],
          "name": "stdout"
        }
      ]
    },
    {
      "cell_type": "code",
      "metadata": {
        "colab": {
          "base_uri": "https://localhost:8080/"
        },
        "id": "HVFmsVWXb_aE",
        "outputId": "c283b0d5-5198-4608-a74f-9e76262a4f31"
      },
      "source": [
        "df['PCT_change'] = (df['Adj. Close'] - df['Adj. Open']) / df['Adj. Open'] * 100.0\r\n",
        "print(df['PCT_change'].head())\r\n",
        "print(df)"
      ],
      "execution_count": 22,
      "outputs": [
        {
          "output_type": "stream",
          "text": [
            "Date\n",
            "2004-08-19    0.324968\n",
            "2004-08-20    7.227007\n",
            "2004-08-23   -1.227880\n",
            "2004-08-24   -5.726357\n",
            "2004-08-25    1.183658\n",
            "Name: PCT_change, dtype: float64\n",
            "              Adj. Open    Adj. High  ...    HL_PCT  PCT_change\n",
            "Date                                  ...                      \n",
            "2004-08-19    50.159839    52.191109  ...  3.712563    0.324968\n",
            "2004-08-20    50.661387    54.708881  ...  0.710922    7.227007\n",
            "2004-08-23    55.551482    56.915693  ...  3.729433   -1.227880\n",
            "2004-08-24    55.792225    55.972783  ...  6.417469   -5.726357\n",
            "2004-08-25    52.542193    54.167209  ...  1.886792    1.183658\n",
            "...                 ...          ...  ...       ...         ...\n",
            "2018-03-21  1092.570000  1108.700000  ...  1.343693    0.130884\n",
            "2018-03-22  1080.010000  1083.920000  ...  2.921711   -2.487014\n",
            "2018-03-23  1051.370000  1066.780000  ...  3.918952   -2.360729\n",
            "2018-03-26  1050.600000  1059.270000  ...  0.491419    0.332191\n",
            "2018-03-27  1063.900000  1064.540000  ...  5.720301   -5.353887\n",
            "\n",
            "[3424 rows x 7 columns]\n"
          ],
          "name": "stdout"
        }
      ]
    },
    {
      "cell_type": "code",
      "metadata": {
        "colab": {
          "base_uri": "https://localhost:8080/"
        },
        "id": "oUwaH7umck8p",
        "outputId": "187956ee-dc9b-4be0-b828-301fed7edadd"
      },
      "source": [
        "df = df[['Adj. Close', 'HL_PCT', 'PCT_change', 'Adj. Volume']]\r\n",
        "print(df)"
      ],
      "execution_count": 38,
      "outputs": [
        {
          "output_type": "stream",
          "text": [
            "             Adj. Close    HL_PCT  PCT_change  Adj. Volume\n",
            "Date                                                      \n",
            "2004-08-19    50.322842  3.712563    0.324968   44659000.0\n",
            "2004-08-20    54.322689  0.710922    7.227007   22834300.0\n",
            "2004-08-23    54.869377  3.729433   -1.227880   18256100.0\n",
            "2004-08-24    52.597363  6.417469   -5.726357   15247300.0\n",
            "2004-08-25    53.164113  1.886792    1.183658    9188600.0\n",
            "...                 ...       ...         ...          ...\n",
            "2018-03-21  1094.000000  1.343693    0.130884    1990515.0\n",
            "2018-03-22  1053.150000  2.921711   -2.487014    3418154.0\n",
            "2018-03-23  1026.550000  3.918952   -2.360729    2413517.0\n",
            "2018-03-26  1054.090000  0.491419    0.332191    3272409.0\n",
            "2018-03-27  1006.940000  5.720301   -5.353887    2940957.0\n",
            "\n",
            "[3424 rows x 4 columns]\n"
          ],
          "name": "stdout"
        }
      ]
    },
    {
      "cell_type": "code",
      "metadata": {
        "id": "-6ralTvG8Cpb",
        "outputId": "91227613-d263-4710-d900-3aced069eb5f",
        "colab": {
          "base_uri": "https://localhost:8080/"
        }
      },
      "source": [
        "df1= df[['Adj. Close']]\r\n",
        "print(df1)\r\n",
        "type(df1)"
      ],
      "execution_count": 39,
      "outputs": [
        {
          "output_type": "stream",
          "text": [
            "             Adj. Close\n",
            "Date                   \n",
            "2004-08-19    50.322842\n",
            "2004-08-20    54.322689\n",
            "2004-08-23    54.869377\n",
            "2004-08-24    52.597363\n",
            "2004-08-25    53.164113\n",
            "...                 ...\n",
            "2018-03-21  1094.000000\n",
            "2018-03-22  1053.150000\n",
            "2018-03-23  1026.550000\n",
            "2018-03-26  1054.090000\n",
            "2018-03-27  1006.940000\n",
            "\n",
            "[3424 rows x 1 columns]\n"
          ],
          "name": "stdout"
        },
        {
          "output_type": "execute_result",
          "data": {
            "text/plain": [
              "pandas.core.frame.DataFrame"
            ]
          },
          "metadata": {
            "tags": []
          },
          "execution_count": 39
        }
      ]
    },
    {
      "cell_type": "code",
      "metadata": {
        "id": "cM7mgCVD8mI2",
        "outputId": "a0266dff-6260-4721-9372-808a28297e85",
        "colab": {
          "base_uri": "https://localhost:8080/"
        }
      },
      "source": [
        "df2= df['Adj. Close']\r\n",
        "print(df2)\r\n",
        "type(df2)"
      ],
      "execution_count": 40,
      "outputs": [
        {
          "output_type": "stream",
          "text": [
            "Date\n",
            "2004-08-19      50.322842\n",
            "2004-08-20      54.322689\n",
            "2004-08-23      54.869377\n",
            "2004-08-24      52.597363\n",
            "2004-08-25      53.164113\n",
            "                 ...     \n",
            "2018-03-21    1094.000000\n",
            "2018-03-22    1053.150000\n",
            "2018-03-23    1026.550000\n",
            "2018-03-26    1054.090000\n",
            "2018-03-27    1006.940000\n",
            "Name: Adj. Close, Length: 3424, dtype: float64\n"
          ],
          "name": "stdout"
        },
        {
          "output_type": "execute_result",
          "data": {
            "text/plain": [
              "pandas.core.series.Series"
            ]
          },
          "metadata": {
            "tags": []
          },
          "execution_count": 40
        }
      ]
    },
    {
      "cell_type": "markdown",
      "metadata": {
        "id": "oyAZxj-1WwXM"
      },
      "source": [
        "##[3. Regression Features and Labels](https://www.youtube.com/watch?v=lN5jesocJjk&list=PLQVvvaa0QuDfKTOs3Keq_kaG2P55YRn5v&index=3)"
      ]
    },
    {
      "cell_type": "code",
      "metadata": {
        "id": "MuFBGNp05kOl",
        "outputId": "064db98a-fcac-42ef-8e31-1b350ff07888",
        "colab": {
          "base_uri": "https://localhost:8080/"
        }
      },
      "source": [
        "forecast_col = 'Adj. Close'\r\n",
        "df.fillna(-99999, inplace=True)\r\n",
        "\r\n",
        "forecast_out = int(math.ceil(0.01 * len(df)))\r\n",
        "print(forecast_out)"
      ],
      "execution_count": 51,
      "outputs": [
        {
          "output_type": "stream",
          "text": [
            "31\n"
          ],
          "name": "stdout"
        }
      ]
    },
    {
      "cell_type": "code",
      "metadata": {
        "id": "zbyjCRZa9utq",
        "outputId": "40f3dc9f-fc73-4d54-b24f-cb78348845cd",
        "colab": {
          "base_uri": "https://localhost:8080/"
        }
      },
      "source": [
        "df['label'] = df[forecast_col].shift(-forecast_out)\r\n",
        "print(df['label'])\r\n",
        "print(df)"
      ],
      "execution_count": 52,
      "outputs": [
        {
          "output_type": "stream",
          "text": [
            "Date\n",
            "2004-08-19    67.739104\n",
            "2004-08-20    69.399229\n",
            "2004-08-23    68.752232\n",
            "2004-08-24    69.639972\n",
            "2004-08-25    69.078238\n",
            "                ...    \n",
            "2016-11-04          NaN\n",
            "2016-11-07          NaN\n",
            "2016-11-08          NaN\n",
            "2016-11-09          NaN\n",
            "2016-11-10          NaN\n",
            "Name: label, Length: 3081, dtype: float64\n",
            "            Adj. Close    HL_PCT  PCT_change  Adj. Volume      label\n",
            "Date                                                                \n",
            "2004-08-19   50.322842  3.712563    0.324968   44659000.0  67.739104\n",
            "2004-08-20   54.322689  0.710922    7.227007   22834300.0  69.399229\n",
            "2004-08-23   54.869377  3.729433   -1.227880   18256100.0  68.752232\n",
            "2004-08-24   52.597363  6.417469   -5.726357   15247300.0  69.639972\n",
            "2004-08-25   53.164113  1.886792    1.183658    9188600.0  69.078238\n",
            "...                ...       ...         ...          ...        ...\n",
            "2016-11-04  781.100000  0.944821    1.270582    1970603.0        NaN\n",
            "2016-11-07  802.030000  0.370310    0.890622    1992570.0        NaN\n",
            "2016-11-08  811.980000  0.500012    1.240602    1769069.0        NaN\n",
            "2016-11-09  805.590000  0.759692    0.468927    3098510.0        NaN\n",
            "2016-11-10  780.290000  3.815248   -3.667901    5909609.0        NaN\n",
            "\n",
            "[3081 rows x 5 columns]\n"
          ],
          "name": "stdout"
        }
      ]
    },
    {
      "cell_type": "code",
      "metadata": {
        "id": "VQkbKX4wAb4r",
        "outputId": "3ad79736-8823-44a8-cad8-f37bd76276f9",
        "colab": {
          "base_uri": "https://localhost:8080/"
        }
      },
      "source": [
        "df.dropna(inplace=True)\r\n",
        "print(df.tail())"
      ],
      "execution_count": 53,
      "outputs": [
        {
          "output_type": "stream",
          "text": [
            "            Adj. Close    HL_PCT  PCT_change  Adj. Volume   label\n",
            "Date                                                             \n",
            "2016-09-22      815.95  0.381151    0.734568    1759290.0  781.10\n",
            "2016-09-23      814.96  0.250319   -0.022082    1411673.0  802.03\n",
            "2016-09-26      802.65  0.925684   -0.885382    1472732.0  811.98\n",
            "2016-09-27      810.73  0.340434    1.109961    1367271.0  805.59\n",
            "2016-09-28      810.06  0.023455    0.743707    1470280.0  780.29\n"
          ],
          "name": "stdout"
        }
      ]
    },
    {
      "cell_type": "markdown",
      "metadata": {
        "id": "xgkc9L42Bj9e"
      },
      "source": [
        "##[4. Regression Training and Testing](https://www.youtube.com/watch?v=r4mwkS2T9aI&list=PLQVvvaa0QuDfKTOs3Keq_kaG2P55YRn5v&index=4)"
      ]
    },
    {
      "cell_type": "code",
      "metadata": {
        "id": "ReenEDX-BuRZ"
      },
      "source": [
        ""
      ],
      "execution_count": null,
      "outputs": []
    },
    {
      "cell_type": "markdown",
      "metadata": {
        "id": "yNPfaXhW-QBE"
      },
      "source": [
        "#[Deep Learning - 3Blue1Brown](https://www.youtube.com/watch?v=aircAruvnKk&list=PLZHQObOWTQDNU6R1_67000Dx_ZCJB-3pi)"
      ]
    },
    {
      "cell_type": "markdown",
      "metadata": {
        "id": "ic2lNYazNi6f"
      },
      "source": [
        "#[Practical Deep Learning for Coders - Full Course from fast.ai and Jeremy Howard](https://www.youtube.com/watch?v=0oyCUWLL_fU&list=RDCMUC8butISFwT-Wl7EV0hUK0BQ&start_radio=1&t=55)"
      ]
    }
  ]
}