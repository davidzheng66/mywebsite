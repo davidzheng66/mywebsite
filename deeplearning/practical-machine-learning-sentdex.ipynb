{
  "nbformat": 4,
  "nbformat_minor": 0,
  "metadata": {
    "colab": {
      "name": "Untitled4.ipynb",
      "provenance": [],
      "authorship_tag": "ABX9TyMidNljn4trFa6DPgoGsINF",
      "include_colab_link": true
    },
    "kernelspec": {
      "name": "python3",
      "display_name": "Python 3"
    }
  },
  "cells": [
    {
      "cell_type": "markdown",
      "metadata": {
        "id": "view-in-github",
        "colab_type": "text"
      },
      "source": [
        "<a href=\"https://colab.research.google.com/github/davidzheng66/python3/blob/master/deeplearning/practical-machine-learning-sentdex.ipynb\" target=\"_parent\"><img src=\"https://colab.research.google.com/assets/colab-badge.svg\" alt=\"Open In Colab\"/></a>"
      ]
    },
    {
      "cell_type": "markdown",
      "metadata": {
        "id": "NZ5mcjXt94xi"
      },
      "source": [
        "#[Practical Machine Learning Tutorial with Python -  sentdex](https://www.youtube.com/watch?v=OGxgnH8y2NM&list=PLQVvvaa0QuDfKTOs3Keq_kaG2P55YRn5v)"
      ]
    },
    {
      "cell_type": "markdown",
      "metadata": {
        "id": "hXEb9bTeTBLJ"
      },
      "source": [
        "##[1. Python Introduction ](https://www.youtube.com/watch?v=OGxgnH8y2NM&list=PLQVvvaa0QuDfKTOs3Keq_kaG2P55YRn5v&index=1)\r\n",
        "###What you will need for this tutorial series:\r\n",
        "Install numpy, matplotlib, pandas, sklearn and their dependencies\r\n",
        "```\r\n",
        "- pip install sklearn\r\n",
        "- pip install quandl\r\n",
        "- pip install pandas\r\n",
        "- pip install numpy\r\n",
        "- pip install scipy\r\n",
        "- pip install scikit-learn\r\n",
        "- pip install matplotlib\r\n",
        "```"
      ]
    },
    {
      "cell_type": "markdown",
      "metadata": {
        "id": "yBaJLT2kURn8"
      },
      "source": [
        "##[2. Regression Introduction](https://www.youtube.com/watch?v=JcI5Vnw0b2c&list=PLQVvvaa0QuDfKTOs3Keq_kaG2P55YRn5v&index=2)"
      ]
    },
    {
      "cell_type": "code",
      "metadata": {
        "colab": {
          "base_uri": "https://localhost:8080/"
        },
        "id": "zlsZiOB5Us59",
        "outputId": "8590c3fd-70cf-4cfa-eac7-d5d49ca12de3"
      },
      "source": [
        "!pip install sklearn\r\n",
        "!pip install quandl"
      ],
      "execution_count": 24,
      "outputs": [
        {
          "output_type": "stream",
          "text": [
            "Requirement already satisfied: sklearn in /usr/local/lib/python3.6/dist-packages (0.0)\n",
            "Requirement already satisfied: scikit-learn in /usr/local/lib/python3.6/dist-packages (from sklearn) (0.22.2.post1)\n",
            "Requirement already satisfied: joblib>=0.11 in /usr/local/lib/python3.6/dist-packages (from scikit-learn->sklearn) (1.0.0)\n",
            "Requirement already satisfied: scipy>=0.17.0 in /usr/local/lib/python3.6/dist-packages (from scikit-learn->sklearn) (1.4.1)\n",
            "Requirement already satisfied: numpy>=1.11.0 in /usr/local/lib/python3.6/dist-packages (from scikit-learn->sklearn) (1.19.4)\n",
            "Requirement already satisfied: quandl in /usr/local/lib/python3.6/dist-packages (3.5.3)\n",
            "Requirement already satisfied: python-dateutil in /usr/local/lib/python3.6/dist-packages (from quandl) (2.8.1)\n",
            "Requirement already satisfied: pandas>=0.14 in /usr/local/lib/python3.6/dist-packages (from quandl) (1.1.5)\n",
            "Requirement already satisfied: more-itertools in /usr/local/lib/python3.6/dist-packages (from quandl) (8.6.0)\n",
            "Requirement already satisfied: inflection>=0.3.1 in /usr/local/lib/python3.6/dist-packages (from quandl) (0.5.1)\n",
            "Requirement already satisfied: requests>=2.7.0 in /usr/local/lib/python3.6/dist-packages (from quandl) (2.23.0)\n",
            "Requirement already satisfied: numpy>=1.8 in /usr/local/lib/python3.6/dist-packages (from quandl) (1.19.4)\n",
            "Requirement already satisfied: six in /usr/local/lib/python3.6/dist-packages (from quandl) (1.15.0)\n",
            "Requirement already satisfied: pytz>=2017.2 in /usr/local/lib/python3.6/dist-packages (from pandas>=0.14->quandl) (2018.9)\n",
            "Requirement already satisfied: certifi>=2017.4.17 in /usr/local/lib/python3.6/dist-packages (from requests>=2.7.0->quandl) (2020.12.5)\n",
            "Requirement already satisfied: chardet<4,>=3.0.2 in /usr/local/lib/python3.6/dist-packages (from requests>=2.7.0->quandl) (3.0.4)\n",
            "Requirement already satisfied: idna<3,>=2.5 in /usr/local/lib/python3.6/dist-packages (from requests>=2.7.0->quandl) (2.10)\n",
            "Requirement already satisfied: urllib3!=1.25.0,!=1.25.1,<1.26,>=1.21.1 in /usr/local/lib/python3.6/dist-packages (from requests>=2.7.0->quandl) (1.24.3)\n"
          ],
          "name": "stdout"
        }
      ]
    },
    {
      "cell_type": "markdown",
      "metadata": {
        "id": "z9UmEx8fbatI"
      },
      "source": [
        "###[quandl](https://www.quandl.com/tools/full-list)"
      ]
    },
    {
      "cell_type": "code",
      "metadata": {
        "id": "OMNz5iPiD7oE"
      },
      "source": [
        "# !pip list"
      ],
      "execution_count": null,
      "outputs": []
    },
    {
      "cell_type": "code",
      "metadata": {
        "id": "XT_GRX4zWynx"
      },
      "source": [
        "import pandas as pd\r\n",
        "import quandl, math\r\n",
        "import numpy as np\r\n",
        "from sklearn import preprocessing, svm #cross_validation\r\n",
        "from sklearn.model_selection import train_test_split\r\n",
        "from sklearn.linear_model import LinearRegression"
      ],
      "execution_count": 26,
      "outputs": []
    },
    {
      "cell_type": "code",
      "metadata": {
        "id": "9lJY-vQzCN-O"
      },
      "source": [
        "quandl.ApiConfig.api_key =  'agNNnvSVprb22QD7mA8L'\r\n",
        "df = quandl.get('WIKI/GOOGL') # https://www.quandl.com/tools/python"
      ],
      "execution_count": 27,
      "outputs": []
    },
    {
      "cell_type": "code",
      "metadata": {
        "colab": {
          "base_uri": "https://localhost:8080/"
        },
        "id": "XC0a0qXzXd_N",
        "outputId": "e4ee9463-81eb-48bc-bfc6-ca8e9b52004e"
      },
      "source": [
        "print(df.head())"
      ],
      "execution_count": 28,
      "outputs": [
        {
          "output_type": "stream",
          "text": [
            "              Open    High     Low  ...   Adj. Low  Adj. Close  Adj. Volume\n",
            "Date                                ...                                    \n",
            "2004-08-19  100.01  104.06   95.96  ...  48.128568   50.322842   44659000.0\n",
            "2004-08-20  101.01  109.08  100.50  ...  50.405597   54.322689   22834300.0\n",
            "2004-08-23  110.76  113.48  109.05  ...  54.693835   54.869377   18256100.0\n",
            "2004-08-24  111.24  111.60  103.57  ...  51.945350   52.597363   15247300.0\n",
            "2004-08-25  104.76  108.00  103.88  ...  52.100830   53.164113    9188600.0\n",
            "\n",
            "[5 rows x 12 columns]\n"
          ],
          "name": "stdout"
        }
      ]
    },
    {
      "cell_type": "code",
      "metadata": {
        "colab": {
          "base_uri": "https://localhost:8080/"
        },
        "id": "C6DQ3AqHYyXN",
        "outputId": "deb5d327-34e4-4306-e629-5e4eea1305e2"
      },
      "source": [
        "df = df[['Adj. Open', 'Adj. High', 'Adj. Low', 'Adj. Close', 'Adj. Volume',]]\r\n",
        "print(df.head())"
      ],
      "execution_count": 29,
      "outputs": [
        {
          "output_type": "stream",
          "text": [
            "            Adj. Open  Adj. High   Adj. Low  Adj. Close  Adj. Volume\n",
            "Date                                                                \n",
            "2004-08-19  50.159839  52.191109  48.128568   50.322842   44659000.0\n",
            "2004-08-20  50.661387  54.708881  50.405597   54.322689   22834300.0\n",
            "2004-08-23  55.551482  56.915693  54.693835   54.869377   18256100.0\n",
            "2004-08-24  55.792225  55.972783  51.945350   52.597363   15247300.0\n",
            "2004-08-25  52.542193  54.167209  52.100830   53.164113    9188600.0\n"
          ],
          "name": "stdout"
        }
      ]
    },
    {
      "cell_type": "code",
      "metadata": {
        "colab": {
          "base_uri": "https://localhost:8080/"
        },
        "id": "CV9SB_mPZsFO",
        "outputId": "e6e828d1-397c-404c-b52f-aa79e591c25d"
      },
      "source": [
        "df['HL_PCT'] = (df['Adj. High'] - df['Adj. Close']) / df['Adj. Close'] * 100.0\r\n",
        "print(df['HL_PCT'].head())\r\n",
        "print(df.head())"
      ],
      "execution_count": 30,
      "outputs": [
        {
          "output_type": "stream",
          "text": [
            "Date\n",
            "2004-08-19    3.712563\n",
            "2004-08-20    0.710922\n",
            "2004-08-23    3.729433\n",
            "2004-08-24    6.417469\n",
            "2004-08-25    1.886792\n",
            "Name: HL_PCT, dtype: float64\n",
            "            Adj. Open  Adj. High   Adj. Low  Adj. Close  Adj. Volume    HL_PCT\n",
            "Date                                                                          \n",
            "2004-08-19  50.159839  52.191109  48.128568   50.322842   44659000.0  3.712563\n",
            "2004-08-20  50.661387  54.708881  50.405597   54.322689   22834300.0  0.710922\n",
            "2004-08-23  55.551482  56.915693  54.693835   54.869377   18256100.0  3.729433\n",
            "2004-08-24  55.792225  55.972783  51.945350   52.597363   15247300.0  6.417469\n",
            "2004-08-25  52.542193  54.167209  52.100830   53.164113    9188600.0  1.886792\n"
          ],
          "name": "stdout"
        }
      ]
    },
    {
      "cell_type": "code",
      "metadata": {
        "colab": {
          "base_uri": "https://localhost:8080/"
        },
        "id": "HVFmsVWXb_aE",
        "outputId": "4a99f97e-4003-436c-c915-60bed7a7409a"
      },
      "source": [
        "df['PCT_change'] = (df['Adj. Close'] - df['Adj. Open']) / df['Adj. Open'] * 100.0\r\n",
        "print(df['PCT_change'].head())\r\n",
        "print(df)"
      ],
      "execution_count": 31,
      "outputs": [
        {
          "output_type": "stream",
          "text": [
            "Date\n",
            "2004-08-19    0.324968\n",
            "2004-08-20    7.227007\n",
            "2004-08-23   -1.227880\n",
            "2004-08-24   -5.726357\n",
            "2004-08-25    1.183658\n",
            "Name: PCT_change, dtype: float64\n",
            "              Adj. Open    Adj. High  ...    HL_PCT  PCT_change\n",
            "Date                                  ...                      \n",
            "2004-08-19    50.159839    52.191109  ...  3.712563    0.324968\n",
            "2004-08-20    50.661387    54.708881  ...  0.710922    7.227007\n",
            "2004-08-23    55.551482    56.915693  ...  3.729433   -1.227880\n",
            "2004-08-24    55.792225    55.972783  ...  6.417469   -5.726357\n",
            "2004-08-25    52.542193    54.167209  ...  1.886792    1.183658\n",
            "...                 ...          ...  ...       ...         ...\n",
            "2018-03-21  1092.570000  1108.700000  ...  1.343693    0.130884\n",
            "2018-03-22  1080.010000  1083.920000  ...  2.921711   -2.487014\n",
            "2018-03-23  1051.370000  1066.780000  ...  3.918952   -2.360729\n",
            "2018-03-26  1050.600000  1059.270000  ...  0.491419    0.332191\n",
            "2018-03-27  1063.900000  1064.540000  ...  5.720301   -5.353887\n",
            "\n",
            "[3424 rows x 7 columns]\n"
          ],
          "name": "stdout"
        }
      ]
    },
    {
      "cell_type": "code",
      "metadata": {
        "colab": {
          "base_uri": "https://localhost:8080/"
        },
        "id": "oUwaH7umck8p",
        "outputId": "7bfe509f-1a6e-4f84-c744-5c325d7ff4e0"
      },
      "source": [
        "df = df[['Adj. Close', 'HL_PCT', 'PCT_change', 'Adj. Volume']]\r\n",
        "print(df)"
      ],
      "execution_count": 32,
      "outputs": [
        {
          "output_type": "stream",
          "text": [
            "             Adj. Close    HL_PCT  PCT_change  Adj. Volume\n",
            "Date                                                      \n",
            "2004-08-19    50.322842  3.712563    0.324968   44659000.0\n",
            "2004-08-20    54.322689  0.710922    7.227007   22834300.0\n",
            "2004-08-23    54.869377  3.729433   -1.227880   18256100.0\n",
            "2004-08-24    52.597363  6.417469   -5.726357   15247300.0\n",
            "2004-08-25    53.164113  1.886792    1.183658    9188600.0\n",
            "...                 ...       ...         ...          ...\n",
            "2018-03-21  1094.000000  1.343693    0.130884    1990515.0\n",
            "2018-03-22  1053.150000  2.921711   -2.487014    3418154.0\n",
            "2018-03-23  1026.550000  3.918952   -2.360729    2413517.0\n",
            "2018-03-26  1054.090000  0.491419    0.332191    3272409.0\n",
            "2018-03-27  1006.940000  5.720301   -5.353887    2940957.0\n",
            "\n",
            "[3424 rows x 4 columns]\n"
          ],
          "name": "stdout"
        }
      ]
    },
    {
      "cell_type": "code",
      "metadata": {
        "id": "-6ralTvG8Cpb",
        "colab": {
          "base_uri": "https://localhost:8080/"
        },
        "outputId": "d87fc2b5-eba1-437a-b26b-4e8aac888378"
      },
      "source": [
        "df1= df[['Adj. Close']]\r\n",
        "print(df1)\r\n",
        "type(df1)"
      ],
      "execution_count": 33,
      "outputs": [
        {
          "output_type": "stream",
          "text": [
            "             Adj. Close\n",
            "Date                   \n",
            "2004-08-19    50.322842\n",
            "2004-08-20    54.322689\n",
            "2004-08-23    54.869377\n",
            "2004-08-24    52.597363\n",
            "2004-08-25    53.164113\n",
            "...                 ...\n",
            "2018-03-21  1094.000000\n",
            "2018-03-22  1053.150000\n",
            "2018-03-23  1026.550000\n",
            "2018-03-26  1054.090000\n",
            "2018-03-27  1006.940000\n",
            "\n",
            "[3424 rows x 1 columns]\n"
          ],
          "name": "stdout"
        },
        {
          "output_type": "execute_result",
          "data": {
            "text/plain": [
              "pandas.core.frame.DataFrame"
            ]
          },
          "metadata": {
            "tags": []
          },
          "execution_count": 33
        }
      ]
    },
    {
      "cell_type": "code",
      "metadata": {
        "id": "cM7mgCVD8mI2",
        "colab": {
          "base_uri": "https://localhost:8080/"
        },
        "outputId": "cbf23b52-b162-46af-ce5b-092720d76100"
      },
      "source": [
        "df2= df['Adj. Close']\r\n",
        "print(df2)\r\n",
        "type(df2)"
      ],
      "execution_count": 34,
      "outputs": [
        {
          "output_type": "stream",
          "text": [
            "Date\n",
            "2004-08-19      50.322842\n",
            "2004-08-20      54.322689\n",
            "2004-08-23      54.869377\n",
            "2004-08-24      52.597363\n",
            "2004-08-25      53.164113\n",
            "                 ...     \n",
            "2018-03-21    1094.000000\n",
            "2018-03-22    1053.150000\n",
            "2018-03-23    1026.550000\n",
            "2018-03-26    1054.090000\n",
            "2018-03-27    1006.940000\n",
            "Name: Adj. Close, Length: 3424, dtype: float64\n"
          ],
          "name": "stdout"
        },
        {
          "output_type": "execute_result",
          "data": {
            "text/plain": [
              "pandas.core.series.Series"
            ]
          },
          "metadata": {
            "tags": []
          },
          "execution_count": 34
        }
      ]
    },
    {
      "cell_type": "markdown",
      "metadata": {
        "id": "oyAZxj-1WwXM"
      },
      "source": [
        "##[3. Regression Features and Labels](https://www.youtube.com/watch?v=lN5jesocJjk&list=PLQVvvaa0QuDfKTOs3Keq_kaG2P55YRn5v&index=3)"
      ]
    },
    {
      "cell_type": "code",
      "metadata": {
        "id": "MuFBGNp05kOl",
        "colab": {
          "base_uri": "https://localhost:8080/"
        },
        "outputId": "aa893fb4-1ac4-4e5c-d493-5cd4d301a8bd"
      },
      "source": [
        "forecast_col = 'Adj. Close'\r\n",
        "df.fillna(-99999, inplace=True)\r\n",
        "\r\n",
        "forecast_out = int(math.ceil(0.01 * len(df)))\r\n",
        "print(forecast_out)"
      ],
      "execution_count": 35,
      "outputs": [
        {
          "output_type": "stream",
          "text": [
            "35\n"
          ],
          "name": "stdout"
        }
      ]
    },
    {
      "cell_type": "code",
      "metadata": {
        "id": "zbyjCRZa9utq",
        "colab": {
          "base_uri": "https://localhost:8080/"
        },
        "outputId": "e1307b89-f2db-449a-912d-6d7e1dfec652"
      },
      "source": [
        "df['label'] = df[forecast_col].shift(-forecast_out)\r\n",
        "print(df['label'])\r\n",
        "print(df)"
      ],
      "execution_count": 36,
      "outputs": [
        {
          "output_type": "stream",
          "text": [
            "Date\n",
            "2004-08-19    69.078238\n",
            "2004-08-20    67.839414\n",
            "2004-08-23    68.912727\n",
            "2004-08-24    70.668146\n",
            "2004-08-25    71.219849\n",
            "                ...    \n",
            "2018-03-21          NaN\n",
            "2018-03-22          NaN\n",
            "2018-03-23          NaN\n",
            "2018-03-26          NaN\n",
            "2018-03-27          NaN\n",
            "Name: label, Length: 3424, dtype: float64\n",
            "             Adj. Close    HL_PCT  PCT_change  Adj. Volume      label\n",
            "Date                                                                 \n",
            "2004-08-19    50.322842  3.712563    0.324968   44659000.0  69.078238\n",
            "2004-08-20    54.322689  0.710922    7.227007   22834300.0  67.839414\n",
            "2004-08-23    54.869377  3.729433   -1.227880   18256100.0  68.912727\n",
            "2004-08-24    52.597363  6.417469   -5.726357   15247300.0  70.668146\n",
            "2004-08-25    53.164113  1.886792    1.183658    9188600.0  71.219849\n",
            "...                 ...       ...         ...          ...        ...\n",
            "2018-03-21  1094.000000  1.343693    0.130884    1990515.0        NaN\n",
            "2018-03-22  1053.150000  2.921711   -2.487014    3418154.0        NaN\n",
            "2018-03-23  1026.550000  3.918952   -2.360729    2413517.0        NaN\n",
            "2018-03-26  1054.090000  0.491419    0.332191    3272409.0        NaN\n",
            "2018-03-27  1006.940000  5.720301   -5.353887    2940957.0        NaN\n",
            "\n",
            "[3424 rows x 5 columns]\n"
          ],
          "name": "stdout"
        }
      ]
    },
    {
      "cell_type": "code",
      "metadata": {
        "id": "VQkbKX4wAb4r",
        "colab": {
          "base_uri": "https://localhost:8080/"
        },
        "outputId": "ed284415-314e-478a-efd8-83092129d101"
      },
      "source": [
        "df.dropna(inplace=True)\r\n",
        "print(df.tail())"
      ],
      "execution_count": 37,
      "outputs": [
        {
          "output_type": "stream",
          "text": [
            "            Adj. Close    HL_PCT  PCT_change  Adj. Volume    label\n",
            "Date                                                              \n",
            "2018-01-30     1177.37  0.896914   -0.029718    1792602.0  1094.00\n",
            "2018-01-31     1182.22  0.346805   -0.134312    1643877.0  1053.15\n",
            "2018-02-01     1181.59  0.495942    0.476195    2774967.0  1026.55\n",
            "2018-02-02     1119.20  1.081129   -0.729098    5798880.0  1054.09\n",
            "2018-02-05     1068.76  4.325574   -2.893850    3742469.0  1006.94\n"
          ],
          "name": "stdout"
        }
      ]
    },
    {
      "cell_type": "code",
      "metadata": {
        "id": "iW8S5JtKGdM4",
        "outputId": "c19ce68c-ec86-4d04-edda-fdb96c22fe08",
        "colab": {
          "base_uri": "https://localhost:8080/"
        }
      },
      "source": [
        "print(df.head())"
      ],
      "execution_count": 38,
      "outputs": [
        {
          "output_type": "stream",
          "text": [
            "            Adj. Close    HL_PCT  PCT_change  Adj. Volume      label\n",
            "Date                                                                \n",
            "2004-08-19   50.322842  3.712563    0.324968   44659000.0  69.078238\n",
            "2004-08-20   54.322689  0.710922    7.227007   22834300.0  67.839414\n",
            "2004-08-23   54.869377  3.729433   -1.227880   18256100.0  68.912727\n",
            "2004-08-24   52.597363  6.417469   -5.726357   15247300.0  70.668146\n",
            "2004-08-25   53.164113  1.886792    1.183658    9188600.0  71.219849\n"
          ],
          "name": "stdout"
        }
      ]
    },
    {
      "cell_type": "markdown",
      "metadata": {
        "id": "xgkc9L42Bj9e"
      },
      "source": [
        "##[4. Regression Training and Testing](https://www.youtube.com/watch?v=r4mwkS2T9aI&list=PLQVvvaa0QuDfKTOs3Keq_kaG2P55YRn5v&index=4)"
      ]
    },
    {
      "cell_type": "code",
      "metadata": {
        "id": "ReenEDX-BuRZ",
        "outputId": "6b55e8f4-e22b-4961-8bc8-b9316a9bd869",
        "colab": {
          "base_uri": "https://localhost:8080/"
        }
      },
      "source": [
        "X = np.array(df.drop(['label'], 1))\r\n",
        "print(X)\r\n",
        "y = np.array(df['label'])\r\n",
        "print(y)\r\n",
        "X = preprocessing.scale(X)\r\n",
        "print(X)"
      ],
      "execution_count": 46,
      "outputs": [
        {
          "output_type": "stream",
          "text": [
            "[[ 5.03228418e+01  3.71256291e+00  3.24967503e-01  4.46590000e+07]\n",
            " [ 5.43226889e+01  7.10922353e-01  7.22700723e+00  2.28343000e+07]\n",
            " [ 5.48693765e+01  3.72943327e+00 -1.22788010e+00  1.82561000e+07]\n",
            " ...\n",
            " [ 1.18159000e+03  4.95941909e-01  4.76194525e-01  2.77496700e+06]\n",
            " [ 1.11920000e+03  1.08112938e+00 -7.29098295e-01  5.79888000e+06]\n",
            " [ 1.06876000e+03  4.32557356e+00 -2.89384977e+00  3.74246900e+06]]\n",
            "[  69.0782379    67.83941377   68.91272699 ... 1026.55       1054.09\n",
            " 1006.94      ]\n",
            "[[-1.41006544  2.35025798  0.23194449  4.44790502]\n",
            " [-1.39402696 -0.30866295  4.84146176  1.80881376]\n",
            " [-1.39183486  2.36520212 -0.80512254  1.25520764]\n",
            " ...\n",
            " [ 3.12606095 -0.49909747  0.33294124 -0.61680539]\n",
            " [ 2.87589111  0.01927479 -0.47201183 -0.25114711]\n",
            " [ 2.67363808  2.89327664 -1.91773798 -0.4998129 ]]\n"
          ],
          "name": "stdout"
        }
      ]
    },
    {
      "cell_type": "code",
      "metadata": {
        "id": "NpeAC1QIIvb_",
        "outputId": "0bdeb4c6-8e4f-4077-a270-9c6246da00ac",
        "colab": {
          "base_uri": "https://localhost:8080/"
        }
      },
      "source": [
        "# X = X[:-forecast_out + 1]\r\n",
        "# print(X)\r\n",
        "# df.dropna(inplace=True)\r\n",
        "y = np.array(df['label'])\r\n",
        "print(len(X), len(y))"
      ],
      "execution_count": 48,
      "outputs": [
        {
          "output_type": "stream",
          "text": [
            "3389 3389\n"
          ],
          "name": "stdout"
        }
      ]
    },
    {
      "cell_type": "code",
      "metadata": {
        "id": "UFsQ-iv1KnJj"
      },
      "source": [
        "# !pip install scikit-learn==0.20\r\n",
        "# pip install -U scikit-learn"
      ],
      "execution_count": null,
      "outputs": []
    },
    {
      "cell_type": "code",
      "metadata": {
        "id": "xYBt1qzUKCdH",
        "outputId": "a8b33b73-2ffc-4390-8276-8cc414fb7aa9",
        "colab": {
          "base_uri": "https://localhost:8080/"
        }
      },
      "source": [
        "X_train, X_test, y_train, y_test = train_test_split(X, y, test_size=0.2)\r\n",
        "clf = LinearRegression(n_jobs=10)\r\n",
        "clf.fit(X_train, y_train)\r\n",
        "\r\n",
        "accuracy = clf.score(X_test, y_test)\r\n",
        "print(accuracy)"
      ],
      "execution_count": 62,
      "outputs": [
        {
          "output_type": "stream",
          "text": [
            "0.9797437478518206\n"
          ],
          "name": "stdout"
        }
      ]
    },
    {
      "cell_type": "code",
      "metadata": {
        "id": "EAF0SDkgNNzY",
        "outputId": "e5846cb2-05f3-4fcc-c7de-434ff32ed318",
        "colab": {
          "base_uri": "https://localhost:8080/"
        }
      },
      "source": [
        "# clf = svm.SVR(kernel='poly')\r\n",
        "# clf.fit(X_train, y_train)\r\n",
        "\r\n",
        "# accuracy = clf.score(X_test, y_test)\r\n",
        "# print(accuracy)"
      ],
      "execution_count": 61,
      "outputs": [
        {
          "output_type": "stream",
          "text": [
            "0.622181001388604\n"
          ],
          "name": "stdout"
        }
      ]
    },
    {
      "cell_type": "markdown",
      "metadata": {
        "id": "yNPfaXhW-QBE"
      },
      "source": [
        "#[Deep Learning - 3Blue1Brown](https://www.youtube.com/watch?v=aircAruvnKk&list=PLZHQObOWTQDNU6R1_67000Dx_ZCJB-3pi)"
      ]
    },
    {
      "cell_type": "markdown",
      "metadata": {
        "id": "ic2lNYazNi6f"
      },
      "source": [
        "#[Practical Deep Learning for Coders - Full Course from fast.ai and Jeremy Howard](https://www.youtube.com/watch?v=0oyCUWLL_fU&list=RDCMUC8butISFwT-Wl7EV0hUK0BQ&start_radio=1&t=55)"
      ]
    }
  ]
}