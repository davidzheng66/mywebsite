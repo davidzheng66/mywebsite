{
  "nbformat": 4,
  "nbformat_minor": 0,
  "metadata": {
    "colab": {
      "name": "Untitled4.ipynb",
      "provenance": [],
      "authorship_tag": "ABX9TyOwBrXX4RwDllBCd+sTukLJ",
      "include_colab_link": true
    },
    "kernelspec": {
      "name": "python3",
      "display_name": "Python 3"
    }
  },
  "cells": [
    {
      "cell_type": "markdown",
      "metadata": {
        "id": "view-in-github",
        "colab_type": "text"
      },
      "source": [
        "<a href=\"https://colab.research.google.com/github/davidzheng66/python3/blob/master/deeplearning/deeplearning-keras-deeplizard-.ipynb\" target=\"_parent\"><img src=\"https://colab.research.google.com/assets/colab-badge.svg\" alt=\"Open In Colab\"/></a>"
      ]
    },
    {
      "cell_type": "markdown",
      "metadata": {
        "id": "NZ5mcjXt94xi"
      },
      "source": [
        "#[Prerequisite: Machine Learning and Deep Learning Fundamental - deeplizard](https://www.youtube.com/playlist?list=PLZbbT5o_s2xq7LwI2y8_QtvuXZedL6tQU)"
      ]
    },
    {
      "cell_type": "markdown",
      "metadata": {
        "id": "JWU2iwq0vS0y"
      },
      "source": [
        "##[1. Deep Learning Overview & Machine Learning Introduction](https://www.youtube.com/watch?v=gZmobeGL0Yg&list=PLZbbT5o_s2xq7LwI2y8_QtvuXZedL6tQU&index=1)"
      ]
    },
    {
      "cell_type": "markdown",
      "metadata": {
        "id": "su13EwxuvrWd"
      },
      "source": [
        "##[2. Deep Learning](https://www.youtube.com/watch?v=OT1jslLoCyA&list=PLZbbT5o_s2xq7LwI2y8_QtvuXZedL6tQU&index=2)"
      ]
    },
    {
      "cell_type": "markdown",
      "metadata": {
        "id": "Riqx8N0pvzLw"
      },
      "source": [
        "##[3. Artificial Neural Network (ANN)](https://www.youtube.com/watch?v=hfK_dvC-avg&list=PLZbbT5o_s2xq7LwI2y8_QtvuXZedL6tQU&index=3)"
      ]
    },
    {
      "cell_type": "markdown",
      "metadata": {
        "id": "IEj1AiG2v-K3"
      },
      "source": [
        "##[4. Layers in a Neural Network](https://www.youtube.com/watch?v=FK77zZxaBoI&list=PLZbbT5o_s2xq7LwI2y8_QtvuXZedL6tQU&index=4)\r\n",
        "###Layers in an ANN\r\n",
        "Artificial neural network is typically organized in layers. Different types of layers include:\r\n",
        "* Dense (or fully connected) Layers\r\n",
        "* Convolutional layers\r\n",
        "* Pooling Layers\r\n",
        "* Recurrent Layers\r\n",
        "* Normalization Layers\r\n",
        "* Many others\r\n"
      ]
    },
    {
      "cell_type": "markdown",
      "metadata": {
        "id": "P9XefjIhwJQu"
      },
      "source": [
        "##[5. Activation Functions in a Neural Network](https://www.youtube.com/watch?v=m0pIlLfpXWE&list=PLZbbT5o_s2xq7LwI2y8_QtvuXZedL6tQU&index=5)\r\n",
        "###Activation Functions\r\n",
        "In an artificial neural network, the activation function of a neuron defines the output of that neuro given a set of inputs.\r\n",
        "* Biologically inspired by activity in our brains, where different neurons fire, or are activated, by different stimuli"
      ]
    },
    {
      "cell_type": "code",
      "metadata": {
        "id": "4eZrEddwgrYh"
      },
      "source": [
        "from keras.models import Sequential\r\n",
        "from keras.layers import Dense, Activation\r\n",
        "\r\n",
        "#Way 1 to create a model\r\n",
        "model = Sequential([\r\n",
        "    Dense(5, input_shape=(3,), activation='relu')\r\n",
        "])"
      ],
      "execution_count": null,
      "outputs": []
    },
    {
      "cell_type": "code",
      "metadata": {
        "id": "ClYbS3INhE7z"
      },
      "source": [
        "#Way 2 to create a model\r\n",
        "model = Sequential()\r\n",
        "model.add(Dense(5, input_shape=(3,)))\r\n",
        "model.add(Activation('relu'))"
      ],
      "execution_count": null,
      "outputs": []
    },
    {
      "cell_type": "code",
      "metadata": {
        "id": "VRvpdGUJkhfL"
      },
      "source": [
        "from keras.models import Sequential\r\n",
        "from keras.layers import Dense, Activation\r\n",
        "\r\n",
        "#Way 1 to create a model\r\n",
        "model = Sequential([\r\n",
        "    Dense(5, input_shape=(3,), activation='relu'),\r\n",
        "    Dense(2, activation='softmax')\r\n",
        "])"
      ],
      "execution_count": null,
      "outputs": []
    },
    {
      "cell_type": "code",
      "metadata": {
        "id": "SqFslPPxk2pJ"
      },
      "source": [
        "import numpy as np\r\n",
        "# from scipy import ndimage\r\n",
        "from scipy import misc\r\n",
        "import matplotlib.pyplot as plt\r\n",
        "%matplotlib inline\r\n",
        "\r\n",
        "# img = np.expand_dims(ndimage.imread('NN.PNG'), 0)\r\n",
        "img = np.expand_dims(misc.imread('NN.PNG'), 0)\r\n",
        "plt.imshow(img[0])"
      ],
      "execution_count": null,
      "outputs": []
    },
    {
      "cell_type": "markdown",
      "metadata": {
        "id": "d-8_oiL7oXsQ"
      },
      "source": [
        "##[6. Training a Neural Network](https://www.youtube.com/watch?v=sZAlS3_dnk0&list=PLZbbT5o_s2xq7LwI2y8_QtvuXZedL6tQU&index=6)"
      ]
    },
    {
      "cell_type": "markdown",
      "metadata": {
        "id": "4ID4nh1MoqIB"
      },
      "source": [
        "###Training\r\n",
        "Solving an optimization proble\r\n",
        "* Optimizing weights\r\n",
        " * with Stochastic Gradient Descent (SGD)\r\n",
        "* Objective: Minimize the loss function\r\n",
        "\r\n",
        "###Learning\r\n"
      ]
    },
    {
      "cell_type": "markdown",
      "metadata": {
        "id": "06JwRVlJw6gs"
      },
      "source": [
        "##[7. How a Neural Network Learns](https://www.youtube.com/watch?v=_N5kpSMDf4o&list=PLZbbT5o_s2xq7LwI2y8_QtvuXZedL6tQU&index=7)"
      ]
    },
    {
      "cell_type": "markdown",
      "metadata": {
        "id": "lomcNRe0xCNC"
      },
      "source": [
        "##[8. Loss in a Neural Network](https://www.youtube.com/watch?v=Skc8nqJirJg&list=PLZbbT5o_s2xq7LwI2y8_QtvuXZedL6tQU&index=8)"
      ]
    },
    {
      "cell_type": "markdown",
      "metadata": {
        "id": "wSMjjyC-xKp0"
      },
      "source": [
        "##[9. Learning Rate in a Neural Network](https://www.youtube.com/watch?v=jWT-AX9677k&list=PLZbbT5o_s2xq7LwI2y8_QtvuXZedL6tQU&index=9)"
      ]
    },
    {
      "cell_type": "markdown",
      "metadata": {
        "id": "NItVj2dExT_S"
      },
      "source": [
        "##[10. Train, Test & Validation Sets](https://www.youtube.com/watch?v=Zi-0rlM4RDs&list=PLZbbT5o_s2xq7LwI2y8_QtvuXZedL6tQU&index=10)"
      ]
    },
    {
      "cell_type": "markdown",
      "metadata": {
        "id": "Os2vLwDDxery"
      },
      "source": [
        "##[11. Predicting with a Neural Network](https://www.youtube.com/watch?v=Z0KVRdE_a7Q&list=PLZbbT5o_s2xq7LwI2y8_QtvuXZedL6tQU&index=11)"
      ]
    },
    {
      "cell_type": "markdown",
      "metadata": {
        "id": "_zu0NQUkxneE"
      },
      "source": [
        "##[12. Overfitting in a Neural Network](https://www.youtube.com/watch?v=DEMmkFC6IGM&list=PLZbbT5o_s2xq7LwI2y8_QtvuXZedL6tQU&index=12)"
      ]
    },
    {
      "cell_type": "markdown",
      "metadata": {
        "id": "86EHAHKmxveB"
      },
      "source": [
        "##[13. Underfitting in a Neural Network](https://www.youtube.com/watch?v=0h8lAm5Ki5g&list=PLZbbT5o_s2xq7LwI2y8_QtvuXZedL6tQU&index=13)"
      ]
    },
    {
      "cell_type": "markdown",
      "metadata": {
        "id": "lvrfD7QGx5Dh"
      },
      "source": [
        "##[14. Supervised Learning](https://www.youtube.com/watch?v=Quh6x4kG6VY&list=PLZbbT5o_s2xq7LwI2y8_QtvuXZedL6tQU&index=14)"
      ]
    },
    {
      "cell_type": "markdown",
      "metadata": {
        "id": "PL-mW3ExyDCS"
      },
      "source": [
        "##[15. Unsupervised Learning](https://www.youtube.com/watch?v=lEfrr0Yr684&list=PLZbbT5o_s2xq7LwI2y8_QtvuXZedL6tQU&index=15)"
      ]
    },
    {
      "cell_type": "markdown",
      "metadata": {
        "id": "4G4FOWKtyKaz"
      },
      "source": [
        "##[16. Semi-supervised Learning](https://www.youtube.com/watch?v=b-yhKUINb7o&list=PLZbbT5o_s2xq7LwI2y8_QtvuXZedL6tQU&index=16)"
      ]
    },
    {
      "cell_type": "markdown",
      "metadata": {
        "id": "PC_rtFEnyRPS"
      },
      "source": [
        "##[17. Data Augmentation](https://www.youtube.com/watch?v=rfM4DaLTkMs&list=PLZbbT5o_s2xq7LwI2y8_QtvuXZedL6tQU&index=17)"
      ]
    },
    {
      "cell_type": "markdown",
      "metadata": {
        "id": "ybGFKyXYyX4a"
      },
      "source": [
        "##[18. One-hot Encoding](https://www.youtube.com/watch?v=v_4KWmkwmsU&list=PLZbbT5o_s2xq7LwI2y8_QtvuXZedL6tQU&index=18)"
      ]
    },
    {
      "cell_type": "markdown",
      "metadata": {
        "id": "xIBs1Mihyfxp"
      },
      "source": [
        "##[19. Convolutional Neural Networks](https://www.youtube.com/watch?v=YRhxdVk_sIs&list=PLZbbT5o_s2xq7LwI2y8_QtvuXZedL6tQU&index=19)"
      ]
    },
    {
      "cell_type": "markdown",
      "metadata": {
        "id": "G3JxHihWyqIK"
      },
      "source": [
        "##[20. Visualizing Convolutional Filters from a CNN](https://www.youtube.com/watch?v=cNBBNAxC8l4&list=PLZbbT5o_s2xq7LwI2y8_QtvuXZedL6tQU&index=20)"
      ]
    },
    {
      "cell_type": "markdown",
      "metadata": {
        "id": "gx2am-khy4ai"
      },
      "source": [
        "##[21. Zero Padding in Convolutional Neural Networks](https://www.youtube.com/watch?v=qSTv_m-KFk0&list=PLZbbT5o_s2xq7LwI2y8_QtvuXZedL6tQU&index=21)"
      ]
    },
    {
      "cell_type": "markdown",
      "metadata": {
        "id": "ArRuAPNrzD8q"
      },
      "source": [
        "##[22. Max Pooling in Convolutional Neural Networks](https://www.youtube.com/watch?v=ZjM_XQa5s6s&list=PLZbbT5o_s2xq7LwI2y8_QtvuXZedL6tQU&index=22)"
      ]
    },
    {
      "cell_type": "markdown",
      "metadata": {
        "id": "EVWiU3W_zQdO"
      },
      "source": [
        "##[23. Backpropagation | Part 1 - The Intuition](https://www.youtube.com/watch?v=XE3krf3CQls&list=PLZbbT5o_s2xq7LwI2y8_QtvuXZedL6tQU&index=23)"
      ]
    },
    {
      "cell_type": "markdown",
      "metadata": {
        "id": "I12zwfgSzeV7"
      },
      "source": [
        "##[24. Backpropagation | Part 2 - The Mathematical Notation](https://www.youtube.com/watch?v=2mSysRx-1c0&list=PLZbbT5o_s2xq7LwI2y8_QtvuXZedL6tQU&index=24)"
      ]
    },
    {
      "cell_type": "markdown",
      "metadata": {
        "id": "DbuzZSzuztDh"
      },
      "source": [
        "##[25. Backpropagation | Part 3 - Mathematical Observations](https://www.youtube.com/watch?v=G5b4jRBKNxw&list=PLZbbT5o_s2xq7LwI2y8_QtvuXZedL6tQU&index=25)"
      ]
    },
    {
      "cell_type": "markdown",
      "metadata": {
        "id": "ye5UXLt3z9dS"
      },
      "source": [
        "##[26. Backpropagation | Part 4 - Calculating the Gradient](https://www.youtube.com/watch?v=Zr5viAZGndE&list=PLZbbT5o_s2xq7LwI2y8_QtvuXZedL6tQU&index=26)"
      ]
    },
    {
      "cell_type": "markdown",
      "metadata": {
        "id": "Tomxx2w20IRS"
      },
      "source": [
        "##[27. Backpropagation | Part 5 - What Puts the \"back\" in Backprop?](https://www.youtube.com/watch?v=xClK__CqZnQ&list=PLZbbT5o_s2xq7LwI2y8_QtvuXZedL6tQU&index=27)"
      ]
    },
    {
      "cell_type": "markdown",
      "metadata": {
        "id": "n2x1lbfxR2ZR"
      },
      "source": [
        "##[28. Vanishing & Exploding Gradient | A Problem Resulting from Backprogagation](https://www.youtube.com/watch?v=qO_NLVjD6zE&list=PLZbbT5o_s2xq7LwI2y8_QtvuXZedL6tQU&index=28)\r\n",
        "- Gradient: referrring to the gradient of the loss function with respect to the weights in the network"
      ]
    },
    {
      "cell_type": "markdown",
      "metadata": {
        "id": "W0IzlBUBUi7k"
      },
      "source": [
        "##[29. Weight Initialization | A Way to Reduce the Vanishing Gradient Problem](https://www.youtube.com/watch?v=8krd5qKVw-Q&list=PLZbbT5o_s2xq7LwI2y8_QtvuXZedL6tQU&index=29)"
      ]
    },
    {
      "cell_type": "markdown",
      "metadata": {
        "id": "fA1f8ZVpXeQH"
      },
      "source": [
        "##[30. Bias in an Artificial Neural Network | How Bias Impacts Training](https://www.youtube.com/watch?v=HetFihsXSys&list=PLZbbT5o_s2xq7LwI2y8_QtvuXZedL6tQU&index=30)"
      ]
    },
    {
      "cell_type": "markdown",
      "metadata": {
        "id": "kpgRyhDjgxcI"
      },
      "source": [
        "##[31. Learnable Parameters in an Artificial Neural Network](https://www.youtube.com/watch?v=pg3hJpSopHQ&list=PLZbbT5o_s2xq7LwI2y8_QtvuXZedL6tQU&index=31)"
      ]
    },
    {
      "cell_type": "markdown",
      "metadata": {
        "id": "Dd7diOMEj5wa"
      },
      "source": [
        "##[32. Learnable Parameters in a Convolutional Neural Network (CNN)](https://www.youtube.com/watch?v=gmBfb6LNnZs&list=PLZbbT5o_s2xq7LwI2y8_QtvuXZedL6tQU&index=32)"
      ]
    },
    {
      "cell_type": "markdown",
      "metadata": {
        "id": "MePjTZIMXp_B"
      },
      "source": [
        "##[33. Regularization in a Neural Network](https://www.youtube.com/watch?v=iuJgyiS7BKM&list=PLZbbT5o_s2xq7LwI2y8_QtvuXZedL6tQU&index=33)"
      ]
    },
    {
      "cell_type": "markdown",
      "metadata": {
        "id": "BP06JifmqTB-"
      },
      "source": [
        "##[34. Batch Size in a Neural Network](https://www.youtube.com/watch?v=U4WB9p6ODjM&list=PLZbbT5o_s2xq7LwI2y8_QtvuXZedL6tQU&index=34)"
      ]
    },
    {
      "cell_type": "markdown",
      "metadata": {
        "id": "NlGcmepPrUZE"
      },
      "source": [
        "##[35. Fine-tuning a Neural Network](https://www.youtube.com/watch?v=5T-iXNNiwIs&list=PLZbbT5o_s2xq7LwI2y8_QtvuXZedL6tQU&index=35)"
      ]
    },
    {
      "cell_type": "markdown",
      "metadata": {
        "id": "sV3zR-SstIab"
      },
      "source": [
        "##[36. Batch Normalization (\"batch norm\")](https://www.youtube.com/watch?v=dXB-KQYkzNU&list=PLZbbT5o_s2xq7LwI2y8_QtvuXZedL6tQU&index=36)"
      ]
    },
    {
      "cell_type": "markdown",
      "metadata": {
        "id": "WcXKWvR4BX6z"
      },
      "source": [
        "#[Keras with TensorFlow Course - Python Deep Learning and Neural Networks for Beginners Tutorial](https://www.youtube.com/watch?v=qFJeN9V1ZsI&t=94s)\r\n",
        "- ⌨️ (00:00:00) Welcome to this course\r\n",
        "- ⌨️ (00:00:16) Keras Course Introduction\r\n",
        "- ⌨️ (00:00:50) Course Prerequisites\r\n",
        "- ⌨️ (00:01:33) DEEPLIZARD Deep Learning Path\r\n",
        "- ⌨️ (00:01:45) Course Resources\r\n",
        "- ⌨️ (00:02:30) About Keras\r\n",
        "- ⌨️ (00:06:41) Keras with TensorFlow - Data Processing for Neural Network Training\r\n",
        "- ⌨️ (00:18:39) Create an Artificial Neural Network with TensorFlow's Keras API\r\n",
        "- ⌨️ (00:24:36) Train an Artificial Neural Network with TensorFlow's Keras API\r\n",
        "- ⌨️ (00:30:07) Build a Validation Set With TensorFlow's Keras API\r\n",
        "- ⌨️ (00:39:28) Neural Network Predictions with TensorFlow's Keras API\r\n",
        "- ⌨️ (00:47:48) Create a Confusion Matrix for Neural Network Predictions\r\n",
        "- ⌨️ (00:52:29) Save and Load a Model with TensorFlow's Keras API\r\n",
        "- ⌨️ (01:01:25) Image Preparation for CNNs with TensorFlow's Keras API\r\n",
        "- ⌨️ (01:19:22) Build and Train a CNN with TensorFlow's Keras API\r\n",
        "- ⌨️ (01:28:42) CNN Predictions with TensorFlow's Keras API\r\n",
        "- ⌨️ (01:37:05) Build a Fine-Tuned Neural Network with TensorFlow's Keras API\r\n",
        "- ⌨️ (01:48:19) Train a Fine-Tuned Neural Network with TensorFlow's Keras API\r\n",
        "- ⌨️ (01:52:39) Predict with a Fine-Tuned Neural Network with TensorFlow's Keras API\r\n",
        "- ⌨️ (01:57:50) MobileNet Image Classification with TensorFlow's Keras API\r\n",
        "- ⌨️ (02:11:18) Process Images for Fine-Tuned MobileNet with TensorFlow's Keras API\r\n",
        "- ⌨️ (02:24:24) Fine-Tuning MobileNet on Custom Data Set with TensorFlow's Keras API\r\n",
        "- ⌨️ (02:38:59) Data Augmentation with TensorFlow' Keras API\r\n",
        "- ⌨️ (02:47:24) Collective Intelligence and the DEEPLIZARD HIVEMIND\r\n",
        "\r\n",
        "##[Keras](https://keras.io/)"
      ]
    },
    {
      "cell_type": "markdown",
      "metadata": {
        "id": "TkrMXKB2FM9O"
      },
      "source": [
        "##Data Preparation and Processing"
      ]
    },
    {
      "cell_type": "code",
      "metadata": {
        "id": "Cqx_3BJuFMH9"
      },
      "source": [
        "import numpy as np\r\n",
        "from random import randint\r\n",
        "from sklearn.utils import shuffle\r\n",
        "from sklearn.preprocessing import MinMaxScaler"
      ],
      "execution_count": 1,
      "outputs": []
    },
    {
      "cell_type": "markdown",
      "metadata": {
        "id": "EuBPczNLGCxl"
      },
      "source": [
        "###Example data:\r\n",
        "- An experiemental drug was tested on individuals from ages 13 to 100 in a clinical trial.\r\n",
        "- The trial has 2100 participants. Half were under 65 years old, half were 65 years older.\r\n",
        "- Around 95% of patients 65 or older experienced side effects.\r\n",
        "- Around 95% of patients under 65 experienced no side effects."
      ]
    },
    {
      "cell_type": "code",
      "metadata": {
        "id": "n0MtYZNkFzky"
      },
      "source": [
        "train_labels = []\r\n",
        "train_samples = []\r\n",
        "\r\n",
        "for i in range(50):\r\n",
        "  # The ~5% of younger individuals who did experience side effects\r\n",
        "  random_younger = randint(13, 64)\r\n",
        "  train_samples.append(random_younger)\r\n",
        "  train_labels.append(1)\r\n",
        "\r\n",
        "  # The ~5% of older individuals who did not experience side effects\r\n",
        "  random_older = randint(65, 100)\r\n",
        "  train_samples.append(random_older)\r\n",
        "  train_labels.append(0)\r\n",
        "\r\n",
        "for i in range(1000):\r\n",
        "  # The ~95% of younger individuals who did not experience side effects\r\n",
        "  random_younger = randint(13, 64)\r\n",
        "  train_samples.append(random_younger)\r\n",
        "  train_labels.append(0)\r\n",
        "\r\n",
        "  # The ~95% of older individuals who did experience side effects\r\n",
        "  random_older = randint(65, 100)\r\n",
        "  train_samples.append(random_older)\r\n",
        "  train_labels.append(1)"
      ],
      "execution_count": 2,
      "outputs": []
    },
    {
      "cell_type": "code",
      "metadata": {
        "id": "qq8VcMQhKA3E",
        "colab": {
          "base_uri": "https://localhost:8080/"
        },
        "outputId": "7d89eea1-5dca-4332-abbb-769179a0d409"
      },
      "source": [
        "train_labels = np.array(train_labels)\r\n",
        "train_samples = np.array(train_samples)\r\n",
        "train_labels, train_samples = shuffle(train_labels, train_samples)\r\n",
        "\r\n",
        "print(train_labels)\r\n",
        "print(train_samples)"
      ],
      "execution_count": 5,
      "outputs": [
        {
          "output_type": "stream",
          "text": [
            "[0 1 0 ... 1 1 0]\n",
            "[28 81 62 ... 70 92 18]\n"
          ],
          "name": "stdout"
        }
      ]
    },
    {
      "cell_type": "code",
      "metadata": {
        "colab": {
          "base_uri": "https://localhost:8080/"
        },
        "id": "mO2MVDLb8RKE",
        "outputId": "31da9964-c482-4573-9e68-70a8878ea8cb"
      },
      "source": [
        "scaler = MinMaxScaler(feature_range=(0,1))\r\n",
        "print(scaler)\r\n",
        "scaler_train_samples = scaler.fit_transform(train_samples.reshape(-1,1))\r\n",
        "print(scaler_train_samples)"
      ],
      "execution_count": 7,
      "outputs": [
        {
          "output_type": "stream",
          "text": [
            "MinMaxScaler(copy=True, feature_range=(0, 1))\n",
            "[[0.17241379]\n",
            " [0.7816092 ]\n",
            " [0.56321839]\n",
            " ...\n",
            " [0.65517241]\n",
            " [0.90804598]\n",
            " [0.05747126]]\n"
          ],
          "name": "stdout"
        }
      ]
    },
    {
      "cell_type": "markdown",
      "metadata": {
        "id": "V05dNMgk9OfF"
      },
      "source": [
        "##Simple tf.keras Sequential Model"
      ]
    },
    {
      "cell_type": "code",
      "metadata": {
        "id": "rcds_84B9WY8"
      },
      "source": [
        "import tensorflow as tf\r\n",
        "from tensorflow import keras\r\n",
        "from tensorflow.keras.models import Sequential\r\n",
        "from tensorflow.keras.layers import Activation, Dense\r\n",
        "from tensorflow.keras.optimizers import Adam\r\n",
        "from tensorflow.keras.metrics import categorical_crossentropy"
      ],
      "execution_count": 9,
      "outputs": []
    },
    {
      "cell_type": "code",
      "metadata": {
        "id": "7_TG1fnB93LG",
        "outputId": "4f340269-aef5-45f8-96c2-f9870b589b44",
        "colab": {
          "base_uri": "https://localhost:8080/",
          "height": 214
        }
      },
      "source": [
        "physical_devices = tf.config.experimental.list_physical_devices('GPU')\r\n",
        "print('Num GPUs Available: ', len(physical_devices))\r\n",
        "tf.config.experimental.set_memory_growth(physical_devices[0], True)"
      ],
      "execution_count": 10,
      "outputs": [
        {
          "output_type": "stream",
          "text": [
            "Num GPUs Available:  0\n"
          ],
          "name": "stdout"
        },
        {
          "output_type": "error",
          "ename": "IndexError",
          "evalue": "ignored",
          "traceback": [
            "\u001b[0;31m---------------------------------------------------------------------------\u001b[0m",
            "\u001b[0;31mIndexError\u001b[0m                                Traceback (most recent call last)",
            "\u001b[0;32m<ipython-input-10-b42eb6479b3c>\u001b[0m in \u001b[0;36m<module>\u001b[0;34m()\u001b[0m\n\u001b[1;32m      1\u001b[0m \u001b[0mphysical_devices\u001b[0m \u001b[0;34m=\u001b[0m \u001b[0mtf\u001b[0m\u001b[0;34m.\u001b[0m\u001b[0mconfig\u001b[0m\u001b[0;34m.\u001b[0m\u001b[0mexperimental\u001b[0m\u001b[0;34m.\u001b[0m\u001b[0mlist_physical_devices\u001b[0m\u001b[0;34m(\u001b[0m\u001b[0;34m'GPU'\u001b[0m\u001b[0;34m)\u001b[0m\u001b[0;34m\u001b[0m\u001b[0;34m\u001b[0m\u001b[0m\n\u001b[1;32m      2\u001b[0m \u001b[0mprint\u001b[0m\u001b[0;34m(\u001b[0m\u001b[0;34m'Num GPUs Available: '\u001b[0m\u001b[0;34m,\u001b[0m \u001b[0mlen\u001b[0m\u001b[0;34m(\u001b[0m\u001b[0mphysical_devices\u001b[0m\u001b[0;34m)\u001b[0m\u001b[0;34m)\u001b[0m\u001b[0;34m\u001b[0m\u001b[0;34m\u001b[0m\u001b[0m\n\u001b[0;32m----> 3\u001b[0;31m \u001b[0mtf\u001b[0m\u001b[0;34m.\u001b[0m\u001b[0mconfig\u001b[0m\u001b[0;34m.\u001b[0m\u001b[0mexperimental\u001b[0m\u001b[0;34m.\u001b[0m\u001b[0mset_memory_growth\u001b[0m\u001b[0;34m(\u001b[0m\u001b[0mphysical_devices\u001b[0m\u001b[0;34m[\u001b[0m\u001b[0;36m0\u001b[0m\u001b[0;34m]\u001b[0m\u001b[0;34m,\u001b[0m \u001b[0;32mTrue\u001b[0m\u001b[0;34m)\u001b[0m\u001b[0;34m\u001b[0m\u001b[0;34m\u001b[0m\u001b[0m\n\u001b[0m",
            "\u001b[0;31mIndexError\u001b[0m: list index out of range"
          ]
        }
      ]
    },
    {
      "cell_type": "code",
      "metadata": {
        "id": "RAy70bCb-OCc"
      },
      "source": [
        "model = Sequential([\r\n",
        "    Dense(units=16, input_shape=(1,), activation='relu'),\r\n",
        "    Dense(units=32, activation='relu'),\r\n",
        "    Dense(units=2, activation='softmax')\r\n",
        "])"
      ],
      "execution_count": 12,
      "outputs": []
    },
    {
      "cell_type": "code",
      "metadata": {
        "colab": {
          "base_uri": "https://localhost:8080/"
        },
        "id": "R-lqVj8E86AN",
        "outputId": "bd755c19-f359-4b97-823e-de5b89b4f1fa"
      },
      "source": [
        "model.summary()"
      ],
      "execution_count": 13,
      "outputs": [
        {
          "output_type": "stream",
          "text": [
            "Model: \"sequential\"\n",
            "_________________________________________________________________\n",
            "Layer (type)                 Output Shape              Param #   \n",
            "=================================================================\n",
            "dense (Dense)                (None, 16)                32        \n",
            "_________________________________________________________________\n",
            "dense_1 (Dense)              (None, 32)                544       \n",
            "_________________________________________________________________\n",
            "dense_2 (Dense)              (None, 2)                 66        \n",
            "=================================================================\n",
            "Total params: 642\n",
            "Trainable params: 642\n",
            "Non-trainable params: 0\n",
            "_________________________________________________________________\n"
          ],
          "name": "stdout"
        }
      ]
    },
    {
      "cell_type": "code",
      "metadata": {
        "id": "kWDpFKyl-45J"
      },
      "source": [
        ""
      ],
      "execution_count": null,
      "outputs": []
    },
    {
      "cell_type": "markdown",
      "metadata": {
        "id": "etB_2F87AMXI"
      },
      "source": [
        "#[Practical Machine Learning Tutorial with Python -  sentdex](https://www.youtube.com/watch?v=OGxgnH8y2NM&list=PLQVvvaa0QuDfKTOs3Keq_kaG2P55YRn5v)"
      ]
    },
    {
      "cell_type": "markdown",
      "metadata": {
        "id": "DM33OqbLQx0d"
      },
      "source": [
        "##Install Packages\r\n",
        "- ```pip install sklean```\r\n",
        "- ```pip install quandl```\r\n",
        "- ```pip isntall pandas```\r\n"
      ]
    },
    {
      "cell_type": "code",
      "metadata": {
        "id": "XnN9sjshQr3e"
      },
      "source": [
        ""
      ],
      "execution_count": null,
      "outputs": []
    },
    {
      "cell_type": "markdown",
      "metadata": {
        "id": "yNPfaXhW-QBE"
      },
      "source": [
        "#[Deep Learning - 3Blue1Brown](https://www.youtube.com/watch?v=aircAruvnKk&list=PLZHQObOWTQDNU6R1_67000Dx_ZCJB-3pi)"
      ]
    },
    {
      "cell_type": "markdown",
      "metadata": {
        "id": "ic2lNYazNi6f"
      },
      "source": [
        "#[Practical Deep Learning for Coders - Full Course from fast.ai and Jeremy Howard](https://www.youtube.com/watch?v=0oyCUWLL_fU&list=RDCMUC8butISFwT-Wl7EV0hUK0BQ&start_radio=1&t=55)"
      ]
    }
  ]
}