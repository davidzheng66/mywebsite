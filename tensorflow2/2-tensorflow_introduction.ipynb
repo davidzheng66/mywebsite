{
  "nbformat": 4,
  "nbformat_minor": 0,
  "metadata": {
    "colab": {
      "name": "Untitled3.ipynb",
      "provenance": [],
      "authorship_tag": "ABX9TyNAY1HKoo/WwBSICcki3UvV",
      "include_colab_link": true
    },
    "kernelspec": {
      "name": "python3",
      "display_name": "Python 3"
    }
  },
  "cells": [
    {
      "cell_type": "markdown",
      "metadata": {
        "id": "view-in-github",
        "colab_type": "text"
      },
      "source": [
        "<a href=\"https://colab.research.google.com/github/davidzheng66/python3/blob/master/tensorflow2/2-tensorflow_introduction.ipynb\" target=\"_parent\"><img src=\"https://colab.research.google.com/assets/colab-badge.svg\" alt=\"Open In Colab\"/></a>"
      ]
    },
    {
      "cell_type": "markdown",
      "metadata": {
        "id": "4Zgwbgg1IOCw"
      },
      "source": [
        "# [TensorFlow 2.0](https://www.tensorflow.org/)\r\n",
        "# [TensorFlow 2.0 - Python Neural Networks for Beginner Tutorial](https://www.youtube.com/watch?v=tPYj3fFJGjk&t=4942s)[00:30:08]"
      ]
    },
    {
      "cell_type": "markdown",
      "metadata": {
        "id": "nDi2gWl8JFuQ"
      },
      "source": [
        "#TensorFlow 2.0 Introduction\r\n",
        "In this notebook you will be given an interactive introduction to TensorFlow 2.0. We will walk through the following topics within the TensorFlow module:\r\n",
        "\r\n",
        "- TensorFlow Install and Setup\r\n",
        "- Representing Tensors\r\n",
        "- Tensor Shape and Rank\r\n",
        "- Types of Tensors\r\n",
        "\r\n",
        "\r\n",
        "If you'd like to follow along without installing TensorFlow on your machine you can use **Google Collaboratory**. Collaboratory is a free Jupyter notebook environment that requires no setup and runs entirely in the cloud."
      ]
    },
    {
      "cell_type": "markdown",
      "metadata": {
        "id": "PMlpftIq5g44"
      },
      "source": [
        "# [What is TensorFlow?](https://en.wikipedia.org/wiki/TensorFlow)\r\n",
        "TensorFlow is an open source machine learning platform. It is owned and maintained by google and is one of the largest open source machine learning libraries in the world.\r\n",
        "\r\n",
        "For our purposes we will use TensorFlow to build models that can do some of the following things:\r\n",
        "* Image Classification\r\n",
        "* Data Clustering\r\n",
        "* Regression\r\n",
        "* Reinforcement Learning\r\n",
        "* Natural Language Procession\r\n",
        "\r\n",
        "Now let's start with a brief introduction to the basics of TensorFlow\r\n"
      ]
    },
    {
      "cell_type": "markdown",
      "metadata": {
        "id": "Lp1evpHG35qk"
      },
      "source": [
        "# How it Works\r\n",
        "In this section, I'll briefly describe how TensorFlow works on a lower level. This should help us understand why we do certain things in our code.\r\n",
        "TensorFlow has two main components that we will try to understand:\r\n",
        "* Graphs\r\n",
        "* Sessions\r\n",
        "\r\n",
        "TensorFlow works by building a graph of defined computations. Nothing is computed or stored in this graph. It is simply a way of defining the operations that have been written in code.\r\n",
        "\r\n",
        "A TensorFlow session allows parts of the graph to be executed. It allocates memory and resources and handles the execution of the operations and comutations we have defined.\r\n",
        "\r\n",
        "In some instances we will need to run a session to be able to execute parts of the graph we have created earlier.\r\n",
        "\r\n",
        "\r\n"
      ]
    },
    {
      "cell_type": "markdown",
      "metadata": {
        "id": "UN0ZtTexJeWR"
      },
      "source": [
        "##Installing TensorFlow\r\n",
        "To install TensorFlow on your local machine you can use pip.\r\n",
        "```console\r\n",
        "pip install tensorflow\r\n",
        "```"
      ]
    },
    {
      "cell_type": "markdown",
      "metadata": {
        "id": "BJDVQT8YJjut"
      },
      "source": [
        "![alt text](https://)If you have a CUDA enabled GPU you can install the GPU version of TensorFlow. You will also need to install some other software which can be found here: https://www.tensorflow.org/install/gpu \r\n",
        "```console\r\n",
        "pip install tensorflow-gpu\r\n",
        "```"
      ]
    },
    {
      "cell_type": "markdown",
      "metadata": {
        "id": "6SsOhEDqJrll"
      },
      "source": [
        "## Importing TensorFlow\r\n",
        "The first step here is going to be to select the correct version of TensorFlow from within collabratory!"
      ]
    },
    {
      "cell_type": "code",
      "metadata": {
        "id": "sEM5Ru7JJ9Wq"
      },
      "source": [
        "%tensorflow_version 2.x  # this line is not required unless you are in a notebook\r\n",
        "import tensorflow as tf  # now import the tensorflow module\r\n",
        "print(tf.version)  # make sure the version is 2.x"
      ],
      "execution_count": null,
      "outputs": []
    },
    {
      "cell_type": "markdown",
      "metadata": {
        "id": "YSFqIFebKJwA"
      },
      "source": [
        "##Tensors \r\n",
        "\"A tensor is a generalization of vectors and matrices to potentially higher dimensions. Internally, TensorFlow represents tensors as n-dimensional arrays of base datatypes.\" (https://www.tensorflow.org/guide/tensor)\r\n",
        "\r\n",
        "It should't surprise you that tensors are a fundemental apsect of TensorFlow. They are the main objects that are passed around and manipluated throughout the program. Each tensor represents a partialy defined computation that will eventually produce a value. TensorFlow programs work by building a graph of Tensor objects that details how tensors are related. Running different parts of the graph allow results to be generated.\r\n",
        "\r\n",
        "Each tensor has a data type and a shape. \r\n",
        "\r\n",
        "**Data Types Include**: float32, int32, string and others.\r\n",
        "\r\n",
        "**Shape**: Represents the dimension of data.\r\n",
        "\r\n",
        "Just like vectors and matrices tensors can have operations applied to them like addition, subtraction, dot product, cross product etc.\r\n",
        "\r\n",
        "In the next sections we will discuss some different properties of tensors. This is to make you more familiar with how tensorflow represnts data and how you can manipulate this data."
      ]
    },
    {
      "cell_type": "code",
      "metadata": {
        "id": "rPJI16LUN9Rk",
        "outputId": "53c9ee94-3ef4-4034-97c3-6cf6c2d9c533",
        "colab": {
          "base_uri": "https://localhost:8080/"
        }
      },
      "source": [
        "rank_0_tensor = tf.constant(4)\r\n",
        "print(rank_0_tensor)"
      ],
      "execution_count": 10,
      "outputs": [
        {
          "output_type": "stream",
          "text": [
            "tf.Tensor(4, shape=(), dtype=int32)\n"
          ],
          "name": "stdout"
        }
      ]
    },
    {
      "cell_type": "markdown",
      "metadata": {
        "id": "9IVHdOAEKqHm"
      },
      "source": [
        "###Creating Tensors\r\n",
        "Below is an example of how to create some different tensors.\r\n",
        "\r\n",
        "You simply define the value of the tensor and the datatype and you are good to go! It's worth mentioning that usually we deal with tensors of numeric data, it is quite rare to see string tensors.\r\n",
        "\r\n",
        "For a full list of datatypes please refer to the following guide.\r\n",
        "\r\n",
        "https://www.tensorflow.org/api_docs/python/tf/dtypes/DType?version=stable"
      ]
    },
    {
      "cell_type": "code",
      "metadata": {
        "colab": {
          "base_uri": "https://localhost:8080/"
        },
        "id": "Kq6wO9OHK3C0",
        "outputId": "6935986e-36df-4a27-ef1c-c6feaa2cbafc"
      },
      "source": [
        "string = tf.Variable(\"this is a string\", tf.string) \r\n",
        "number = tf.Variable(324, tf.int16)\r\n",
        "floating = tf.Variable(3.567, tf.float64)\r\n",
        "print(string)\r\n",
        "print(number)\r\n",
        "print(floating)"
      ],
      "execution_count": null,
      "outputs": [
        {
          "output_type": "stream",
          "text": [
            "<tf.Variable 'Variable:0' shape=() dtype=string, numpy=b'this is a string'>\n",
            "<tf.Variable 'Variable:0' shape=() dtype=int32, numpy=324>\n",
            "<tf.Variable 'Variable:0' shape=() dtype=float32, numpy=3.567>\n"
          ],
          "name": "stdout"
        }
      ]
    },
    {
      "cell_type": "markdown",
      "metadata": {
        "id": "_cefXRnBLHn6"
      },
      "source": [
        "###Rank/Degree of Tensors\r\n",
        "Another word for rank is degree, these terms simply mean the number of dimensions involved in the tensor. What we created above is a *tensor of rank 0*, also known as a scalar. \r\n",
        "\r\n",
        "Now we'll create some tensors of higher degrees/ranks."
      ]
    },
    {
      "cell_type": "code",
      "metadata": {
        "colab": {
          "base_uri": "https://localhost:8080/"
        },
        "id": "-nqdDH2rLldw",
        "outputId": "4feee060-ed54-4755-9e54-4f2909f274fb"
      },
      "source": [
        "rank1_tensor = tf.Variable([\"Test\"], tf.string) \r\n",
        "rank2_tensor = tf.Variable([[\"test\", \"ok\", '1'], [\"test\", \"yes\",'2']], tf.string)\r\n",
        "print(rank1_tensor)\r\n",
        "print(rank2_tensor)"
      ],
      "execution_count": 25,
      "outputs": [
        {
          "output_type": "stream",
          "text": [
            "<tf.Variable 'Variable:0' shape=(1,) dtype=string, numpy=array([b'Test'], dtype=object)>\n",
            "<tf.Variable 'Variable:0' shape=(2, 3) dtype=string, numpy=\n",
            "array([[b'test', b'ok', b'1'],\n",
            "       [b'test', b'yes', b'2']], dtype=object)>\n"
          ],
          "name": "stdout"
        }
      ]
    },
    {
      "cell_type": "markdown",
      "metadata": {
        "id": "HVddCLNrLeWy"
      },
      "source": [
        "**To determine the rank** of a tensor we can call the following method."
      ]
    },
    {
      "cell_type": "code",
      "metadata": {
        "colab": {
          "base_uri": "https://localhost:8080/"
        },
        "id": "lPFdM7_uLLwK",
        "outputId": "99b82a5f-e893-4298-d74d-0cb20f503b9d"
      },
      "source": [
        "print(tf.rank(rank2_tensor))\r\n",
        "tf.rank(rank2_tensor)"
      ],
      "execution_count": 26,
      "outputs": [
        {
          "output_type": "stream",
          "text": [
            "tf.Tensor(2, shape=(), dtype=int32)\n"
          ],
          "name": "stdout"
        },
        {
          "output_type": "execute_result",
          "data": {
            "text/plain": [
              "<tf.Tensor: shape=(), dtype=int32, numpy=2>"
            ]
          },
          "metadata": {
            "tags": []
          },
          "execution_count": 26
        }
      ]
    },
    {
      "cell_type": "markdown",
      "metadata": {
        "id": "YlCu9AIiLdZI"
      },
      "source": [
        "The rank of a tensor is direclty related to the deepest level of nested lists. You can see in the first example ```[\"Test\"]``` is a rank 1 tensor as the deepest level of nesting is 1. \r\n",
        "Where in the second example ```[[\"test\", \"ok\"], [\"test\", \"yes\"]]``` is a rank 2 tensor as the deepest level of nesting is 2."
      ]
    },
    {
      "cell_type": "markdown",
      "metadata": {
        "id": "S1f3LSMnNIyG"
      },
      "source": [
        "###Shape of Tensors\r\n",
        "Now that we've talked about the rank of tensors it's time to talk about the shape. The shape of a tensor is simply the number of elements that exist in each dimension. TensorFlow will try to determine the shape of a tensor but sometimes it may be unknown.\r\n",
        "\r\n",
        "To **get the shape** of a tensor we use the shape attribute."
      ]
    },
    {
      "cell_type": "code",
      "metadata": {
        "colab": {
          "base_uri": "https://localhost:8080/"
        },
        "id": "VOdb_Tr9NTFt",
        "outputId": "a84922cf-c826-477d-e272-582b5ac57840"
      },
      "source": [
        "rank2_tensor.shape"
      ],
      "execution_count": 23,
      "outputs": [
        {
          "output_type": "execute_result",
          "data": {
            "text/plain": [
              "TensorShape([2, 2])"
            ]
          },
          "metadata": {
            "tags": []
          },
          "execution_count": 23
        }
      ]
    },
    {
      "cell_type": "markdown",
      "metadata": {
        "id": "21IcPgajNSXT"
      },
      "source": [
        "###Changing Shape\r\n",
        "The number of elements of a tensor is the product of the sizes of all its shapes. There are often many shapes that have the same number of elements, making it convient to be able to change the shape of a tensor.\r\n",
        "\r\n",
        "The example below shows how to change the shape of a tensor."
      ]
    },
    {
      "cell_type": "code",
      "metadata": {
        "colab": {
          "base_uri": "https://localhost:8080/"
        },
        "id": "i8X5bvQMNgoK",
        "outputId": "bc194e29-cfe7-421c-a12a-e3e16a3a0740"
      },
      "source": [
        "tensor1 = tf.ones([1,2,3])  # tf.ones() creates a shape [1,2,3] tensor full of ones\r\n",
        "tensor2 = tf.reshape(tensor1, [2,3,1])  # reshape existing data to shape [2,3,1]\r\n",
        "tensor3 = tf.reshape(tensor2, [3, -1])  # -1 tells the tensor to calculate the size of the dimension in that place\r\n",
        "                                        # this will reshape the tensor to [3,2]\r\n",
        "tensor4 = tf.reshape(tensor2, [6, -1])                          \r\n",
        "                                                                             \r\n",
        "# The numer of elements in the reshaped tensor MUST match the number in the original\r\n",
        "print(tensor1)\r\n",
        "print(tensor2)\r\n",
        "print(tensor3)\r\n",
        "print(tensor4)"
      ],
      "execution_count": 30,
      "outputs": [
        {
          "output_type": "stream",
          "text": [
            "tf.Tensor(\n",
            "[[[1. 1. 1.]\n",
            "  [1. 1. 1.]]], shape=(1, 2, 3), dtype=float32)\n",
            "tf.Tensor(\n",
            "[[[1.]\n",
            "  [1.]\n",
            "  [1.]]\n",
            "\n",
            " [[1.]\n",
            "  [1.]\n",
            "  [1.]]], shape=(2, 3, 1), dtype=float32)\n",
            "tf.Tensor(\n",
            "[[1. 1.]\n",
            " [1. 1.]\n",
            " [1. 1.]], shape=(3, 2), dtype=float32)\n",
            "tf.Tensor(\n",
            "[[1.]\n",
            " [1.]\n",
            " [1.]\n",
            " [1.]\n",
            " [1.]\n",
            " [1.]], shape=(6, 1), dtype=float32)\n"
          ],
          "name": "stdout"
        }
      ]
    },
    {
      "cell_type": "code",
      "metadata": {
        "id": "9pfcJGDFO69p"
      },
      "source": [
        "###Slicing Tensors\r\n",
        "You may be familiar with the term \"slice\" in python and its use on lists, tuples etc. Well the slice operator can be used on tensors to select specific axes or elements.\r\n",
        "\r\n",
        "When we slice or select elements from a tensor, we can use comma seperated values inside the set of square brackets. Each subsequent value refrences a different dimension of the tensor.\r\n",
        "\r\n",
        "Ex: ```tensor[dim1, dim2, dim3]```\r\n",
        "\r\n",
        "I've included a few examples that will hopefully help illustrate how we can manipulate tensors with the slice operator."
      ],
      "execution_count": null,
      "outputs": []
    },
    {
      "cell_type": "code",
      "metadata": {
        "colab": {
          "base_uri": "https://localhost:8080/"
        },
        "id": "pQruMqBbO8DF",
        "outputId": "d2f64bd6-3cea-4171-be3d-a7213caff62a"
      },
      "source": [
        "# Creating a 2D tensor\r\n",
        "matrix = [[1,2,3,4,5],\r\n",
        "          [6,7,8,9,10],\r\n",
        "          [11,12,13,14,15],\r\n",
        "          [16,17,18,19,20]]\r\n",
        "\r\n",
        "tensor = tf.Variable(matrix, dtype=tf.int32) \r\n",
        "print(tf.rank(tensor))\r\n",
        "print(tensor.shape)"
      ],
      "execution_count": null,
      "outputs": [
        {
          "output_type": "stream",
          "text": [
            "tf.Tensor(2, shape=(), dtype=int32)\n",
            "(4, 5)\n"
          ],
          "name": "stdout"
        }
      ]
    },
    {
      "cell_type": "code",
      "metadata": {
        "colab": {
          "base_uri": "https://localhost:8080/"
        },
        "id": "3RNeaGbCPymP",
        "outputId": "72d10cf4-e4ee-4a5e-c660-8348380d82ef"
      },
      "source": [
        "# Now lets select some different rows and columns from our tensor\r\n",
        "\r\n",
        "three = tensor[0,2]  # selects the 3rd element from the 1st row\r\n",
        "print(three)  # -> 3\r\n",
        "\r\n",
        "row1 = tensor[0]  # selects the first row\r\n",
        "print(row1)\r\n",
        "\r\n",
        "column1 = tensor[:, 0]  # selects the first column\r\n",
        "print(column1)\r\n",
        "\r\n",
        "row_2_and_4 = tensor[1::2]  # selects second and fourth row\r\n",
        "print(row_2_and_4)\r\n",
        "\r\n",
        "column_1_in_row_2_and_3 = tensor[1:3, 0]\r\n",
        "print(column_1_in_row_2_and_3)\r\n"
      ],
      "execution_count": null,
      "outputs": [
        {
          "output_type": "stream",
          "text": [
            "tf.Tensor(3, shape=(), dtype=int32)\n",
            "tf.Tensor([1 2 3 4 5], shape=(5,), dtype=int32)\n",
            "tf.Tensor([ 1  6 11 16], shape=(4,), dtype=int32)\n",
            "tf.Tensor(\n",
            "[[ 6  7  8  9 10]\n",
            " [16 17 18 19 20]], shape=(2, 5), dtype=int32)\n",
            "tf.Tensor([ 6 11], shape=(2,), dtype=int32)\n"
          ],
          "name": "stdout"
        }
      ]
    },
    {
      "cell_type": "markdown",
      "metadata": {
        "id": "j8QY6i_WQC6P"
      },
      "source": [
        "###Types of Tensors\r\n",
        "Before we go to far, I will mention that there are diffent types of tensors. These are the most used and we will talk more in depth about each as they are used.\r\n",
        "- Variable\r\n",
        "- Constant\r\n",
        "- Placeholder\r\n",
        "- SparseTensor\r\n",
        "\r\n",
        "With the execption of ```Variable``` all these tensors are immuttable, meaning their value may not change during execution.\r\n",
        "\r\n",
        "For now, it is enough to understand that we use the Variable tensor when we want to potentially change the value of our tensor."
      ]
    },
    {
      "cell_type": "markdown",
      "metadata": {
        "id": "j2VnO7JVTef3"
      },
      "source": [
        "###Evaluating Tensors\r\n",
        "There will be some times throughout this guide that we need to evaluate a tensor. In other words, get its value. Since tensors represent a partially complete computation we will sometimes need to run what's called a *session* to evaluate the tensor.\r\n",
        "\r\n",
        "There are many different ways to achieve this but I will note the simplest way below."
      ]
    },
    {
      "cell_type": "code",
      "metadata": {
        "id": "KWR9ukkGUSZd",
        "outputId": "5f9cbc8e-1a85-4d47-d863-fd9565ef6a08",
        "colab": {
          "base_uri": "https://localhost:8080/",
          "height": 180
        }
      },
      "source": [
        "with tf.compat.v1.Session() as sess: # create a session using default graph\r\n",
        "  tensor.eval() # tensor will be the name of your tensor"
      ],
      "execution_count": 38,
      "outputs": [
        {
          "output_type": "error",
          "ename": "NameError",
          "evalue": "ignored",
          "traceback": [
            "\u001b[0;31m---------------------------------------------------------------------------\u001b[0m",
            "\u001b[0;31mNameError\u001b[0m                                 Traceback (most recent call last)",
            "\u001b[0;32m<ipython-input-38-a24a92906ad8>\u001b[0m in \u001b[0;36m<module>\u001b[0;34m()\u001b[0m\n\u001b[1;32m      1\u001b[0m \u001b[0;32mwith\u001b[0m \u001b[0mtf\u001b[0m\u001b[0;34m.\u001b[0m\u001b[0mcompat\u001b[0m\u001b[0;34m.\u001b[0m\u001b[0mv1\u001b[0m\u001b[0;34m.\u001b[0m\u001b[0mSession\u001b[0m\u001b[0;34m(\u001b[0m\u001b[0;34m)\u001b[0m \u001b[0;32mas\u001b[0m \u001b[0msess\u001b[0m\u001b[0;34m:\u001b[0m \u001b[0;31m# create a session using default graph\u001b[0m\u001b[0;34m\u001b[0m\u001b[0;34m\u001b[0m\u001b[0m\n\u001b[0;32m----> 2\u001b[0;31m   \u001b[0mtensor\u001b[0m\u001b[0;34m.\u001b[0m\u001b[0meval\u001b[0m\u001b[0;34m(\u001b[0m\u001b[0;34m)\u001b[0m\u001b[0;34m\u001b[0m\u001b[0;34m\u001b[0m\u001b[0m\n\u001b[0m",
            "\u001b[0;31mNameError\u001b[0m: name 'tensor' is not defined"
          ]
        }
      ]
    },
    {
      "cell_type": "markdown",
      "metadata": {
        "id": "3KK8lUExU1z9"
      },
      "source": [
        "In the code above, we evaluated the tensor variable that was stored in the **default graph**. The defalt graph holds all operations not specified to any other graph. It is possible to create our own seperate graphs but for now we will stick with the default."
      ]
    },
    {
      "cell_type": "markdown",
      "metadata": {
        "id": "GrTwBdCYQF3B"
      },
      "source": [
        "#Sources\r\n",
        "Most of the information is taken direclty from the TensorFlow website which can be found below.\r\n",
        "\r\n",
        "https://www.tensorflow.org/guide/tensor"
      ]
    }
  ]
}