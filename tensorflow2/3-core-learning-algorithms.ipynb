{
  "nbformat": 4,
  "nbformat_minor": 0,
  "metadata": {
    "colab": {
      "name": "Untitled7.ipynb",
      "provenance": [],
      "toc_visible": true,
      "authorship_tag": "ABX9TyMScgvzERY5+xqBj2B5Ej8i",
      "include_colab_link": true
    },
    "kernelspec": {
      "name": "python3",
      "display_name": "Python 3"
    }
  },
  "cells": [
    {
      "cell_type": "markdown",
      "metadata": {
        "id": "view-in-github",
        "colab_type": "text"
      },
      "source": [
        "<a href=\"https://colab.research.google.com/github/davidzheng66/python3/blob/master/tensorflow2/3-core-learning-algorithms.ipynb\" target=\"_parent\"><img src=\"https://colab.research.google.com/assets/colab-badge.svg\" alt=\"Open In Colab\"/></a>"
      ]
    },
    {
      "cell_type": "markdown",
      "metadata": {
        "id": "d2hB9ZWgcLym"
      },
      "source": [
        "#TensorFlow Core Learning Algorithms [1:00:00]\r\n",
        "In this notebook we will walk through 4 fundemental machine learning algorithms. We will apply each of these algorithms to unique problems and datasets before highlighting the use cases of each.\r\n",
        "\r\n",
        "The algorithms we will focus on include:\r\n",
        "- Linear Regression\r\n",
        "- Classification\r\n",
        "- Clustering\r\n",
        "- Hidden Markov Models\r\n",
        "\r\n",
        "It is worth noting that there are many tools within TensorFlow that could be used to solve the problems we will see below. I have chosen the tools that I belive give the most variety and are easiest to use."
      ]
    },
    {
      "cell_type": "markdown",
      "metadata": {
        "id": "oCZxaYsDcff2"
      },
      "source": [
        "##Linear Regression\r\n",
        "Linear regression is one of the most basic forms of machine learning and is used to predict numeric values. \r\n",
        "\r\n",
        "In this tutorial we will use a linear model to predict the survival rate of passangers from the titanic dataset.\r\n",
        "\r\n",
        "*This section is based on the following documentation: https://www.tensorflow.org/tutorials/estimator/linear*\r\n"
      ]
    },
    {
      "cell_type": "markdown",
      "metadata": {
        "id": "d8MwLcc4crxW"
      },
      "source": [
        "###How it Works\r\n",
        "Before we dive in, I will provide a very surface level explanation of the linear regression algorithm.\r\n",
        "\r\n",
        "Linear regression follows a very simple concept. If data points are related linearly, we can generate a line of best fit for these points and use it to predict future values.\r\n",
        "\r\n",
        "Let's take an example of a data set with one feature and one label."
      ]
    },
    {
      "cell_type": "code",
      "metadata": {
        "colab": {
          "base_uri": "https://localhost:8080/",
          "height": 286
        },
        "id": "FGfi5TiCcKvd",
        "outputId": "55d38fe9-4091-47b9-95d2-5d2203cf7ca1"
      },
      "source": [
        "import matplotlib.pyplot as plt\r\n",
        "import numpy as np\r\n",
        "\r\n",
        "x = [1, 2, 2.5, 3, 4]\r\n",
        "y = [1, 4, 7, 9, 15]\r\n",
        "plt.plot(x, y, 'ro')\r\n",
        "plt.axis([0, 6, 0, 20])"
      ],
      "execution_count": 6,
      "outputs": [
        {
          "output_type": "execute_result",
          "data": {
            "text/plain": [
              "(0.0, 6.0, 0.0, 20.0)"
            ]
          },
          "metadata": {
            "tags": []
          },
          "execution_count": 6
        },
        {
          "output_type": "display_data",
          "data": {
            "image/png": "[encoded data removed]",
            "text/plain": [
              "<Figure size 432x288 with 1 Axes>"
            ]
          },
          "metadata": {
            "tags": [],
            "needs_background": "light"
          }
        }
      ]
    },
    {
      "cell_type": "markdown",
      "metadata": {
        "id": "t9SpJQkzfR51"
      },
      "source": [
        "We can see that this data has a linear coorespondence. When the x value increases, so does the y. Because of this relation we can create a line of best fit for this dataset. In this example our line will only use one input variable, as we are working with two dimensions. In larger datasets with more features our line will have more features and inputs.\r\n",
        "\r\n",
        "\"Line of best fit refers to a line through a scatter plot of data points that best expresses the relationship between those points.\" (https://www.investopedia.com/terms/l/line-of-best-fit.asp)\r\n",
        "\r\n",
        "Here's a refresher on the equation of a line in 2D.\r\n",
        "\r\n",
        "$ y = mx + b $\r\n",
        "\r\n",
        "Here's an example of a line of best fit for this graph.\r\n"
      ]
    },
    {
      "cell_type": "code",
      "metadata": {
        "colab": {
          "base_uri": "https://localhost:8080/",
          "height": 269
        },
        "id": "sMlqiXQAfesF",
        "outputId": "197b7290-9a9b-4b27-809d-0fd090e3df9f"
      },
      "source": [
        "plt.plot(x, y, 'ro')\r\n",
        "plt.axis([0, 6, 0, 20])\r\n",
        "plt.plot(np.unique(x), np.poly1d(np.polyfit(x, y, 1))(np.unique(x)))\r\n",
        "# # plt.plot(np.unique(x))\r\n",
        "# plt.plo(np.poly1d(np.polyfit(x, y, 1)))\r\n",
        "plt.show()"
      ],
      "execution_count": 18,
      "outputs": [
        {
          "output_type": "display_data",
          "data": {
            "image/png": "[encoded data removed]",
            "text/plain": [
              "<Figure size 432x288 with 1 Axes>"
            ]
          },
          "metadata": {
            "tags": [],
            "needs_background": "light"
          }
        }
      ]
    },
    {
      "cell_type": "markdown",
      "metadata": {
        "id": "kF0nXGnI0plg"
      },
      "source": [
        "Once we've generated this line for our dataset, we can use its equation to predict future values. We just pass the features of the data point we would like to predict into the equation of the line and use the output as our prediction."
      ]
    },
    {
      "cell_type": "markdown",
      "metadata": {
        "id": "5ewTkHeB6eEt"
      },
      "source": [
        "### Setup and Imports\r\n",
        "Before we get started we must install *sklearn* and import the following modules."
      ]
    },
    {
      "cell_type": "code",
      "metadata": {
        "id": "LDpmXSzP6fnd"
      },
      "source": [
        "!pip install -q sklearn"
      ],
      "execution_count": 19,
      "outputs": []
    },
    {
      "cell_type": "code",
      "metadata": {
        "colab": {
          "base_uri": "https://localhost:8080/"
        },
        "id": "0NFJTNZe6os8",
        "outputId": "5aa6ac4b-53da-4f1a-b535-df19a5e3889b"
      },
      "source": [
        "%tensorflow_version 2.x  # this line is not required unless you are in a notebook"
      ],
      "execution_count": 20,
      "outputs": [
        {
          "output_type": "stream",
          "text": [
            "`%tensorflow_version` only switches the major version: 1.x or 2.x.\n",
            "You set: `2.x  # this line is not required unless you are in a notebook`. This will be interpreted as: `2.x`.\n",
            "\n",
            "\n",
            "TensorFlow 2.x selected.\n"
          ],
          "name": "stdout"
        }
      ]
    },
    {
      "cell_type": "code",
      "metadata": {
        "id": "MZFq-lXr6uIG"
      },
      "source": [
        "from __future__ import absolute_import, division, print_function, unicode_literals\r\n",
        "\r\n",
        "import numpy as np\r\n",
        "import pandas as pd\r\n",
        "import matplotlib.pyplot as plt\r\n",
        "from IPython.display import clear_output\r\n",
        "from six.moves import urllib\r\n",
        "\r\n",
        "import tensorflow.compat.v2.feature_column as fc\r\n",
        "\r\n",
        "import tensorflow as tf"
      ],
      "execution_count": 2,
      "outputs": []
    },
    {
      "cell_type": "markdown",
      "metadata": {
        "id": "lUHPyS0K7oW6"
      },
      "source": [
        "### Data\r\n",
        "So, if you haven't realized by now a major part of machine learning is data! In fact, it's so important that most of what we do in this tutorial will focus on exploring, cleaning and selecting appropriate data.\r\n",
        "\r\n",
        "The dataset we will be focusing on here is the titanic dataset. It has tons of information about each passanger on the ship. Our first step is always to understand the data and explore it. So, let's do that!\r\n",
        "\r\n",
        "**Below we will load a dataset and learn how we can explore it using some built-in tools. **\r\n"
      ]
    },
    {
      "cell_type": "code",
      "metadata": {
        "colab": {
          "base_uri": "https://localhost:8080/"
        },
        "id": "1ICB6Bi_7uYC",
        "outputId": "69cec0b0-fb75-4bcc-9b86-024159d5e01a"
      },
      "source": [
        "# Load dataset.\r\n",
        "dftrain = pd.read_csv('https://raw.githubusercontent.com/davidzheng66/python3/master/tensorflow2/train.csv') # training data\r\n",
        "dfeval = pd.read_csv('https://raw.githubusercontent.com/davidzheng66/python3/master/tensorflow2/eval.csv') # testing data\r\n",
        "# pd.set_option('max_columns', None)\r\n",
        "# pd.set_option('display.max.columns', None)\r\n",
        "# pd.set_option('display.width', None)\r\n",
        "pd.reset_option('max_columns')\r\n",
        "print(dftrain)\r\n",
        "y_train = dftrain.pop('survived')\r\n",
        "print(y_train)\r\n",
        "y_eval = dfeval.pop('survived')\r\n",
        "print(dftrain)\r\n",
        "print(dftrain.loc[0])\r\n",
        "print(y_train.loc[0])\r\n"
      ],
      "execution_count": 61,
      "outputs": [
        {
          "output_type": "stream",
          "text": [
            "     survived     sex   age  ...     deck  embark_town  alone\n",
            "0           0    male  22.0  ...  unknown  Southampton      n\n",
            "1           1  female  38.0  ...        C    Cherbourg      n\n",
            "2           1  female  26.0  ...  unknown  Southampton      y\n",
            "3           1  female  35.0  ...        C  Southampton      n\n",
            "4           0    male  28.0  ...  unknown   Queenstown      y\n",
            "..        ...     ...   ...  ...      ...          ...    ...\n",
            "622         0    male  28.0  ...  unknown  Southampton      y\n",
            "623         0    male  25.0  ...  unknown  Southampton      y\n",
            "624         1  female  19.0  ...        B  Southampton      y\n",
            "625         0  female  28.0  ...  unknown  Southampton      n\n",
            "626         0    male  32.0  ...  unknown   Queenstown      y\n",
            "\n",
            "[627 rows x 10 columns]\n",
            "0      0\n",
            "1      1\n",
            "2      1\n",
            "3      1\n",
            "4      0\n",
            "      ..\n",
            "622    0\n",
            "623    0\n",
            "624    1\n",
            "625    0\n",
            "626    0\n",
            "Name: survived, Length: 627, dtype: int64\n",
            "        sex   age  n_siblings_spouses  ...     deck  embark_town alone\n",
            "0      male  22.0                   1  ...  unknown  Southampton     n\n",
            "1    female  38.0                   1  ...        C    Cherbourg     n\n",
            "2    female  26.0                   0  ...  unknown  Southampton     y\n",
            "3    female  35.0                   1  ...        C  Southampton     n\n",
            "4      male  28.0                   0  ...  unknown   Queenstown     y\n",
            "..      ...   ...                 ...  ...      ...          ...   ...\n",
            "622    male  28.0                   0  ...  unknown  Southampton     y\n",
            "623    male  25.0                   0  ...  unknown  Southampton     y\n",
            "624  female  19.0                   0  ...        B  Southampton     y\n",
            "625  female  28.0                   1  ...  unknown  Southampton     n\n",
            "626    male  32.0                   0  ...  unknown   Queenstown     y\n",
            "\n",
            "[627 rows x 9 columns]\n",
            "sex                          male\n",
            "age                            22\n",
            "n_siblings_spouses              1\n",
            "parch                           0\n",
            "fare                         7.25\n",
            "class                       Third\n",
            "deck                      unknown\n",
            "embark_town           Southampton\n",
            "alone                           n\n",
            "Name: 0, dtype: object\n",
            "0\n"
          ],
          "name": "stdout"
        }
      ]
    },
    {
      "cell_type": "markdown",
      "metadata": {
        "id": "OiF0eg3U9Yso"
      },
      "source": [
        "The pd.read_csv() method will return to us a new pandas dataframe. You can think of a dataframe like a table. In fact, we can actually have a look at the table representation.\r\n",
        "\r\n",
        "We've decided to pop the \"survived\" column from our dataset and store it in a new variable. This column simply tells us if the person survived or not.\r\n",
        "\r\n",
        "To look at the data we'll use the .head() method from pandas. This will show us the first 5 items in our dataframe."
      ]
    },
    {
      "cell_type": "code",
      "metadata": {
        "colab": {
          "base_uri": "https://localhost:8080/",
          "height": 204
        },
        "id": "yytasFTi9bbY",
        "outputId": "5a5b0650-a33b-4951-bc48-86dd5bc126a1"
      },
      "source": [
        "dftrain.head()"
      ],
      "execution_count": 37,
      "outputs": [
        {
          "output_type": "execute_result",
          "data": {
            "text/html": [
              "<div>\n",
              "<style scoped>\n",
              "    .dataframe tbody tr th:only-of-type {\n",
              "        vertical-align: middle;\n",
              "    }\n",
              "\n",
              "    .dataframe tbody tr th {\n",
              "        vertical-align: top;\n",
              "    }\n",
              "\n",
              "    .dataframe thead th {\n",
              "        text-align: right;\n",
              "    }\n",
              "</style>\n",
              "<table border=\"1\" class=\"dataframe\">\n",
              "  <thead>\n",
              "    <tr style=\"text-align: right;\">\n",
              "      <th></th>\n",
              "      <th>sex</th>\n",
              "      <th>age</th>\n",
              "      <th>n_siblings_spouses</th>\n",
              "      <th>parch</th>\n",
              "      <th>fare</th>\n",
              "      <th>class</th>\n",
              "      <th>deck</th>\n",
              "      <th>embark_town</th>\n",
              "      <th>alone</th>\n",
              "    </tr>\n",
              "  </thead>\n",
              "  <tbody>\n",
              "    <tr>\n",
              "      <th>0</th>\n",
              "      <td>male</td>\n",
              "      <td>22.0</td>\n",
              "      <td>1</td>\n",
              "      <td>0</td>\n",
              "      <td>7.2500</td>\n",
              "      <td>Third</td>\n",
              "      <td>unknown</td>\n",
              "      <td>Southampton</td>\n",
              "      <td>n</td>\n",
              "    </tr>\n",
              "    <tr>\n",
              "      <th>1</th>\n",
              "      <td>female</td>\n",
              "      <td>38.0</td>\n",
              "      <td>1</td>\n",
              "      <td>0</td>\n",
              "      <td>71.2833</td>\n",
              "      <td>First</td>\n",
              "      <td>C</td>\n",
              "      <td>Cherbourg</td>\n",
              "      <td>n</td>\n",
              "    </tr>\n",
              "    <tr>\n",
              "      <th>2</th>\n",
              "      <td>female</td>\n",
              "      <td>26.0</td>\n",
              "      <td>0</td>\n",
              "      <td>0</td>\n",
              "      <td>7.9250</td>\n",
              "      <td>Third</td>\n",
              "      <td>unknown</td>\n",
              "      <td>Southampton</td>\n",
              "      <td>y</td>\n",
              "    </tr>\n",
              "    <tr>\n",
              "      <th>3</th>\n",
              "      <td>female</td>\n",
              "      <td>35.0</td>\n",
              "      <td>1</td>\n",
              "      <td>0</td>\n",
              "      <td>53.1000</td>\n",
              "      <td>First</td>\n",
              "      <td>C</td>\n",
              "      <td>Southampton</td>\n",
              "      <td>n</td>\n",
              "    </tr>\n",
              "    <tr>\n",
              "      <th>4</th>\n",
              "      <td>male</td>\n",
              "      <td>28.0</td>\n",
              "      <td>0</td>\n",
              "      <td>0</td>\n",
              "      <td>8.4583</td>\n",
              "      <td>Third</td>\n",
              "      <td>unknown</td>\n",
              "      <td>Queenstown</td>\n",
              "      <td>y</td>\n",
              "    </tr>\n",
              "  </tbody>\n",
              "</table>\n",
              "</div>"
            ],
            "text/plain": [
              "      sex   age  n_siblings_spouses  parch  ...  class     deck  embark_town alone\n",
              "0    male  22.0                   1      0  ...  Third  unknown  Southampton     n\n",
              "1  female  38.0                   1      0  ...  First        C    Cherbourg     n\n",
              "2  female  26.0                   0      0  ...  Third  unknown  Southampton     y\n",
              "3  female  35.0                   1      0  ...  First        C  Southampton     n\n",
              "4    male  28.0                   0      0  ...  Third  unknown   Queenstown     y\n",
              "\n",
              "[5 rows x 9 columns]"
            ]
          },
          "metadata": {
            "tags": []
          },
          "execution_count": 37
        }
      ]
    },
    {
      "cell_type": "markdown",
      "metadata": {
        "id": "Mg5qfL7e9pZv"
      },
      "source": [
        "And if we want a more statistical analysis of our data we can use the ```.describe()``` method."
      ]
    },
    {
      "cell_type": "code",
      "metadata": {
        "colab": {
          "base_uri": "https://localhost:8080/",
          "height": 297
        },
        "id": "Lugq9NHk9tZ_",
        "outputId": "8cea9107-5b84-415c-f740-80cf81992b12"
      },
      "source": [
        "dftrain.describe()"
      ],
      "execution_count": 9,
      "outputs": [
        {
          "output_type": "execute_result",
          "data": {
            "text/html": [
              "<div>\n",
              "<style scoped>\n",
              "    .dataframe tbody tr th:only-of-type {\n",
              "        vertical-align: middle;\n",
              "    }\n",
              "\n",
              "    .dataframe tbody tr th {\n",
              "        vertical-align: top;\n",
              "    }\n",
              "\n",
              "    .dataframe thead th {\n",
              "        text-align: right;\n",
              "    }\n",
              "</style>\n",
              "<table border=\"1\" class=\"dataframe\">\n",
              "  <thead>\n",
              "    <tr style=\"text-align: right;\">\n",
              "      <th></th>\n",
              "      <th>age</th>\n",
              "      <th>n_siblings_spouses</th>\n",
              "      <th>parch</th>\n",
              "      <th>fare</th>\n",
              "    </tr>\n",
              "  </thead>\n",
              "  <tbody>\n",
              "    <tr>\n",
              "      <th>count</th>\n",
              "      <td>627.000000</td>\n",
              "      <td>627.000000</td>\n",
              "      <td>627.000000</td>\n",
              "      <td>627.000000</td>\n",
              "    </tr>\n",
              "    <tr>\n",
              "      <th>mean</th>\n",
              "      <td>29.631308</td>\n",
              "      <td>0.545455</td>\n",
              "      <td>0.379585</td>\n",
              "      <td>34.385399</td>\n",
              "    </tr>\n",
              "    <tr>\n",
              "      <th>std</th>\n",
              "      <td>12.511818</td>\n",
              "      <td>1.151090</td>\n",
              "      <td>0.792999</td>\n",
              "      <td>54.597730</td>\n",
              "    </tr>\n",
              "    <tr>\n",
              "      <th>min</th>\n",
              "      <td>0.750000</td>\n",
              "      <td>0.000000</td>\n",
              "      <td>0.000000</td>\n",
              "      <td>0.000000</td>\n",
              "    </tr>\n",
              "    <tr>\n",
              "      <th>25%</th>\n",
              "      <td>23.000000</td>\n",
              "      <td>0.000000</td>\n",
              "      <td>0.000000</td>\n",
              "      <td>7.895800</td>\n",
              "    </tr>\n",
              "    <tr>\n",
              "      <th>50%</th>\n",
              "      <td>28.000000</td>\n",
              "      <td>0.000000</td>\n",
              "      <td>0.000000</td>\n",
              "      <td>15.045800</td>\n",
              "    </tr>\n",
              "    <tr>\n",
              "      <th>75%</th>\n",
              "      <td>35.000000</td>\n",
              "      <td>1.000000</td>\n",
              "      <td>0.000000</td>\n",
              "      <td>31.387500</td>\n",
              "    </tr>\n",
              "    <tr>\n",
              "      <th>max</th>\n",
              "      <td>80.000000</td>\n",
              "      <td>8.000000</td>\n",
              "      <td>5.000000</td>\n",
              "      <td>512.329200</td>\n",
              "    </tr>\n",
              "  </tbody>\n",
              "</table>\n",
              "</div>"
            ],
            "text/plain": [
              "              age  n_siblings_spouses       parch        fare\n",
              "count  627.000000          627.000000  627.000000  627.000000\n",
              "mean    29.631308            0.545455    0.379585   34.385399\n",
              "std     12.511818            1.151090    0.792999   54.597730\n",
              "min      0.750000            0.000000    0.000000    0.000000\n",
              "25%     23.000000            0.000000    0.000000    7.895800\n",
              "50%     28.000000            0.000000    0.000000   15.045800\n",
              "75%     35.000000            1.000000    0.000000   31.387500\n",
              "max     80.000000            8.000000    5.000000  512.329200"
            ]
          },
          "metadata": {
            "tags": []
          },
          "execution_count": 9
        }
      ]
    },
    {
      "cell_type": "markdown",
      "metadata": {
        "id": "7KkAcZ_T920O"
      },
      "source": [
        "And since we talked so much about shapes in the previous tutorial let's have a look at that too!"
      ]
    },
    {
      "cell_type": "code",
      "metadata": {
        "colab": {
          "base_uri": "https://localhost:8080/"
        },
        "id": "OfQ25Gil95Td",
        "outputId": "46d52b84-e2e3-4309-dfd2-e41e4ce217d7"
      },
      "source": [
        "dftrain.shape"
      ],
      "execution_count": 10,
      "outputs": [
        {
          "output_type": "execute_result",
          "data": {
            "text/plain": [
              "(627, 9)"
            ]
          },
          "metadata": {
            "tags": []
          },
          "execution_count": 10
        }
      ]
    },
    {
      "cell_type": "markdown",
      "metadata": {
        "id": "7HLQ0Vy-99G3"
      },
      "source": [
        "So have have 627 entries and 9 features, nice!\r\n",
        "\r\n",
        "Now let's have a look at our survival information."
      ]
    },
    {
      "cell_type": "code",
      "metadata": {
        "colab": {
          "base_uri": "https://localhost:8080/"
        },
        "id": "l7w4tAsE9-wv",
        "outputId": "1d0b8f9b-3904-4ec3-c3f3-643bbf150013"
      },
      "source": [
        "y_train.head()"
      ],
      "execution_count": 11,
      "outputs": [
        {
          "output_type": "execute_result",
          "data": {
            "text/plain": [
              "0    0\n",
              "1    1\n",
              "2    1\n",
              "3    1\n",
              "4    0\n",
              "Name: survived, dtype: int64"
            ]
          },
          "metadata": {
            "tags": []
          },
          "execution_count": 11
        }
      ]
    },
    {
      "cell_type": "markdown",
      "metadata": {
        "id": "dud-cGDJIfaY"
      },
      "source": [
        "Notice that each entry is either a 0 or 1. Can you guess which stands for survival? \r\n",
        "\r\n",
        "**And now because visuals are always valuable let's generate a few graphs of the data.**"
      ]
    },
    {
      "cell_type": "code",
      "metadata": {
        "colab": {
          "base_uri": "https://localhost:8080/",
          "height": 265
        },
        "id": "zGl8Jc80GVzQ",
        "outputId": "40fd24f6-1ccb-400e-a15e-b7779077859b"
      },
      "source": [
        "# dftrain.age.hist(bins=20)\r\n",
        "plt.hist(dftrain['age'], bins=20)\r\n",
        "plt.show()"
      ],
      "execution_count": 58,
      "outputs": [
        {
          "output_type": "display_data",
          "data": {
            "image/png": "[encoded data removed]",
            "text/plain": [
              "<Figure size 432x288 with 1 Axes>"
            ]
          },
          "metadata": {
            "tags": [],
            "needs_background": "light"
          }
        }
      ]
    },
    {
      "cell_type": "code",
      "metadata": {
        "colab": {
          "base_uri": "https://localhost:8080/",
          "height": 282
        },
        "id": "p0DDGby6I4Pq",
        "outputId": "2870c018-56c7-49a3-ba6d-f244d6fba31b"
      },
      "source": [
        "dftrain.sex.value_counts().plot(kind='barh')"
      ],
      "execution_count": 41,
      "outputs": [
        {
          "output_type": "execute_result",
          "data": {
            "text/plain": [
              "<matplotlib.axes._subplots.AxesSubplot at 0x7ff91cdb2ef0>"
            ]
          },
          "metadata": {
            "tags": []
          },
          "execution_count": 41
        },
        {
          "output_type": "display_data",
          "data": {
            "image/png": "[encoded data removed]",
            "text/plain": [
              "<Figure size 432x288 with 1 Axes>"
            ]
          },
          "metadata": {
            "tags": [],
            "needs_background": "light"
          }
        }
      ]
    },
    {
      "cell_type": "code",
      "metadata": {
        "colab": {
          "base_uri": "https://localhost:8080/",
          "height": 282
        },
        "id": "MR6BqLNTJ65j",
        "outputId": "11f0e36a-7faf-45cf-b97f-b95cff60f48a"
      },
      "source": [
        "dftrain['class'].value_counts().plot(kind='barh')"
      ],
      "execution_count": 46,
      "outputs": [
        {
          "output_type": "execute_result",
          "data": {
            "text/plain": [
              "<matplotlib.axes._subplots.AxesSubplot at 0x7ff91cae5eb8>"
            ]
          },
          "metadata": {
            "tags": []
          },
          "execution_count": 46
        },
        {
          "output_type": "display_data",
          "data": {
            "image/png": "[encoded data removed]",
            "text/plain": [
              "<Figure size 432x288 with 1 Axes>"
            ]
          },
          "metadata": {
            "tags": [],
            "needs_background": "light"
          }
        }
      ]
    },
    {
      "cell_type": "code",
      "metadata": {
        "colab": {
          "base_uri": "https://localhost:8080/",
          "height": 296
        },
        "id": "swgy-oesKCeb",
        "outputId": "6f8cdf7d-267f-4010-d392-573ed96cd4ba"
      },
      "source": [
        "pd.concat([dftrain, y_train], axis=1).groupby('sex').survived.mean().plot(kind='barh').set_xlabel('% survive')"
      ],
      "execution_count": 52,
      "outputs": [
        {
          "output_type": "execute_result",
          "data": {
            "text/plain": [
              "Text(0.5, 0, '% survive')"
            ]
          },
          "metadata": {
            "tags": []
          },
          "execution_count": 52
        },
        {
          "output_type": "display_data",
          "data": {
            "image/png": "[encoded data removed]",
            "text/plain": [
              "<Figure size 432x288 with 1 Axes>"
            ]
          },
          "metadata": {
            "tags": [],
            "needs_background": "light"
          }
        }
      ]
    },
    {
      "cell_type": "markdown",
      "metadata": {
        "id": "QvPF0RKPKpUF"
      },
      "source": [
        "After analyzing this information, we should notice the following:\r\n",
        "- Most passengers are in their 20's or 30's \r\n",
        "- Most passengers are male\r\n",
        "- Most passengers are in \"Third\" class\r\n",
        "- Females have a much higher chance of survival"
      ]
    },
    {
      "cell_type": "markdown",
      "metadata": {
        "id": "TR13j1gPN1ne"
      },
      "source": [
        "###Feature Columns\r\n",
        "In our dataset we have two different kinds of information: **Categorical and Numeric**\r\n",
        "\r\n",
        "Our **categorical data** is anything that is not numeric! For example, the sex column does not use numbers, it uses the words \"male\" and \"female\".\r\n",
        "\r\n",
        "Before we continue and create/train a model we must convet our categorical data into numeric data. We can do this by encoding each category with an integer (ex. male = 1, female = 2). \r\n",
        "\r\n",
        "Fortunately for us TensorFlow has some tools to help!"
      ]
    },
    {
      "cell_type": "code",
      "metadata": {
        "colab": {
          "base_uri": "https://localhost:8080/"
        },
        "id": "EnzcDLG7N6KQ",
        "outputId": "aa9ef515-5448-4758-8ca9-d33389368a7a"
      },
      "source": [
        "CATEGORICAL_COLUMNS = ['sex', 'n_siblings_spouses', 'parch', 'class', 'deck',\r\n",
        "                       'embark_town', 'alone']\r\n",
        "NUMERIC_COLUMNS = ['age', 'fare']\r\n",
        "\r\n",
        "feature_columns = []\r\n",
        "for feature_name in CATEGORICAL_COLUMNS:\r\n",
        "  print(feature_name)\r\n",
        "  vocabulary = dftrain[feature_name].unique()  # gets a list of all unique values from given feature column\r\n",
        "  print(vocabulary)\r\n",
        "  feature_columns.append(tf.feature_column.categorical_column_with_vocabulary_list(feature_name, vocabulary))\r\n",
        "\r\n",
        "for feature_name in NUMERIC_COLUMNS:\r\n",
        "  feature_columns.append(tf.feature_column.numeric_column(feature_name, dtype=tf.float32))\r\n",
        "\r\n",
        "print(feature_columns)"
      ],
      "execution_count": 59,
      "outputs": [
        {
          "output_type": "stream",
          "text": [
            "sex\n",
            "['male' 'female']\n",
            "n_siblings_spouses\n",
            "[1 0 3 4 2 5 8]\n",
            "parch\n",
            "[0 1 2 5 3 4]\n",
            "class\n",
            "['Third' 'First' 'Second']\n",
            "deck\n",
            "['unknown' 'C' 'G' 'A' 'B' 'D' 'F' 'E']\n",
            "embark_town\n",
            "['Southampton' 'Cherbourg' 'Queenstown' 'unknown']\n",
            "alone\n",
            "['n' 'y']\n",
            "[VocabularyListCategoricalColumn(key='sex', vocabulary_list=('male', 'female'), dtype=tf.string, default_value=-1, num_oov_buckets=0), VocabularyListCategoricalColumn(key='n_siblings_spouses', vocabulary_list=(1, 0, 3, 4, 2, 5, 8), dtype=tf.int64, default_value=-1, num_oov_buckets=0), VocabularyListCategoricalColumn(key='parch', vocabulary_list=(0, 1, 2, 5, 3, 4), dtype=tf.int64, default_value=-1, num_oov_buckets=0), VocabularyListCategoricalColumn(key='class', vocabulary_list=('Third', 'First', 'Second'), dtype=tf.string, default_value=-1, num_oov_buckets=0), VocabularyListCategoricalColumn(key='deck', vocabulary_list=('unknown', 'C', 'G', 'A', 'B', 'D', 'F', 'E'), dtype=tf.string, default_value=-1, num_oov_buckets=0), VocabularyListCategoricalColumn(key='embark_town', vocabulary_list=('Southampton', 'Cherbourg', 'Queenstown', 'unknown'), dtype=tf.string, default_value=-1, num_oov_buckets=0), VocabularyListCategoricalColumn(key='alone', vocabulary_list=('n', 'y'), dtype=tf.string, default_value=-1, num_oov_buckets=0), NumericColumn(key='age', shape=(1,), default_value=None, dtype=tf.float32, normalizer_fn=None), NumericColumn(key='fare', shape=(1,), default_value=None, dtype=tf.float32, normalizer_fn=None)]\n"
          ],
          "name": "stdout"
        }
      ]
    },
    {
      "cell_type": "markdown",
      "metadata": {
        "id": "A_Hqu4z3UR3I"
      },
      "source": [
        "Let's break this code down a little bit...\r\n",
        "\r\n",
        "Essentially what we are doing here is creating a list of features that are used in our dataset. \r\n",
        "\r\n",
        "The cryptic lines of code inside the ```append()``` create an object that our model can use to map string values like \"male\" and \"female\" to integers. This allows us to avoid manually having to encode our dataframes.\r\n",
        "\r\n",
        "*And here is some relevant documentation*\r\n",
        "\r\n",
        "https://www.tensorflow.org/api_docs/python/tf/feature_column/categorical_column_with_vocabulary_list?version=stable\r\n"
      ]
    },
    {
      "cell_type": "markdown",
      "metadata": {
        "id": "bDvU-ikUUjNe"
      },
      "source": [
        "The Training Process\r\n",
        "So, we are almost done preparing our dataset and I feel as though it's a good time to explain how our model is trained. Specifically, how input data is fed to our model.\r\n",
        "\r\n",
        "For this specific model data is going to be streamed into it in small batches of 32. This means we will not feed the entire dataset to our model at once, but simply small batches of entries. We will feed these batches to our model multiple times according to the number of epochs.\r\n",
        "\r\n",
        "An epoch is simply one stream of our entire dataset. The number of epochs we define is the amount of times our model will see the entire dataset. We use multiple epochs in hope that after seeing the same data multiple times the model will better determine how to estimate it.\r\n",
        "\r\n",
        "Ex. if we have 10 ephocs, our model will see the same dataset 10 times.\r\n",
        "\r\n",
        "Since we need to feed our data in batches and multiple times, we need to create something called an input function. The input function simply defines how our dataset will be converted into batches at each epoch."
      ]
    },
    {
      "cell_type": "markdown",
      "metadata": {
        "id": "6t8Q4RIyVAK8"
      },
      "source": [
        "###Input Function\r\n",
        "The TensorFlow model we are going to use requires that the data we pass it comes in as a ```tf.data.Dataset``` object. This means we must create a *input function* that can convert our current pandas dataframe into that object. \r\n",
        "\r\n",
        "Below you'll see a seemingly complicated input function, this is straight from the TensorFlow documentation (https://www.tensorflow.org/tutorials/estimator/linear). I've commented as much as I can to make it understandble, but you may want to refer to the documentation for a detailed explination of each method."
      ]
    },
    {
      "cell_type": "code",
      "metadata": {
        "id": "PH71qqdJVP9m"
      },
      "source": [
        "def make_input_fn(data_df, label_df, num_epochs=10, shuffle=True, batch_size=32):\r\n",
        "  def input_function():  # inner function, this will be returned\r\n",
        "    ds = tf.data.Dataset.from_tensor_slices((dict(data_df), label_df))  # create tf.data.Dataset object with data and its label\r\n",
        "    if shuffle:\r\n",
        "      ds = ds.shuffle(1000)  # randomize order of data\r\n",
        "    ds = ds.batch(batch_size).repeat(num_epochs)  # split dataset into batches of 32 and repeat process for number of epochs\r\n",
        "    return ds  # return a batch of the dataset\r\n",
        "  return input_function  # return a function object for use\r\n",
        "\r\n",
        "train_input_fn = make_input_fn(dftrain, y_train)  # here we will call the input_function that was returned to us to get a dataset object we can feed to the model\r\n",
        "eval_input_fn = make_input_fn(dfeval, y_eval, num_epochs=1, shuffle=False)"
      ],
      "execution_count": 60,
      "outputs": []
    },
    {
      "cell_type": "markdown",
      "metadata": {
        "id": "ih8UB1PsZQmc"
      },
      "source": [
        "###Creating the Model\r\n",
        "In this tutorial we are going to use a linear estimator to utilize the linear regression algorithm. \r\n",
        "\r\n",
        "Creating one is pretty easy! Have a look below.\r\n"
      ]
    },
    {
      "cell_type": "code",
      "metadata": {
        "colab": {
          "base_uri": "https://localhost:8080/"
        },
        "id": "purahhjZZXNp",
        "outputId": "1bf4e249-2d9b-45ba-d159-8a79c53cd45d"
      },
      "source": [
        "# We create a linear estimtor by passing the feature columns we created earlier\r\n",
        "linear_est = tf.estimator.LinearClassifier(feature_columns=feature_columns)"
      ],
      "execution_count": 62,
      "outputs": [
        {
          "output_type": "stream",
          "text": [
            "INFO:tensorflow:Using default config.\n",
            "WARNING:tensorflow:Using temporary folder as model directory: /tmp/tmpgxjq35g2\n",
            "INFO:tensorflow:Using config: {'_model_dir': '/tmp/tmpgxjq35g2', '_tf_random_seed': None, '_save_summary_steps': 100, '_save_checkpoints_steps': None, '_save_checkpoints_secs': 600, '_session_config': allow_soft_placement: true\n",
            "graph_options {\n",
            "  rewrite_options {\n",
            "    meta_optimizer_iterations: ONE\n",
            "  }\n",
            "}\n",
            ", '_keep_checkpoint_max': 5, '_keep_checkpoint_every_n_hours': 10000, '_log_step_count_steps': 100, '_train_distribute': None, '_device_fn': None, '_protocol': None, '_eval_distribute': None, '_experimental_distribute': None, '_experimental_max_worker_delay_secs': None, '_session_creation_timeout_secs': 7200, '_checkpoint_save_graph_def': True, '_service': None, '_cluster_spec': ClusterSpec({}), '_task_type': 'worker', '_task_id': 0, '_global_id_in_cluster': 0, '_master': '', '_evaluation_master': '', '_is_chief': True, '_num_ps_replicas': 0, '_num_worker_replicas': 1}\n"
          ],
          "name": "stdout"
        }
      ]
    },
    {
      "cell_type": "markdown",
      "metadata": {
        "id": "WhpIelxEZl2q"
      },
      "source": [
        "###Training the Model\r\n",
        "Training the model is as easy as passing the input functions that we created earlier."
      ]
    },
    {
      "cell_type": "code",
      "metadata": {
        "colab": {
          "base_uri": "https://localhost:8080/"
        },
        "id": "ayjm87KUZqps",
        "outputId": "4fd10d62-e03c-4473-ec9e-8d6667c78a91"
      },
      "source": [
        "linear_est.train(train_input_fn)  # train\r\n",
        "result = linear_est.evaluate(eval_input_fn)  # get model metrics/stats by testing on testing data\r\n",
        "\r\n",
        "clear_output()  # clears consoke output\r\n",
        "print(result['accuracy'])  # the result variable is simply a dict of stats about our model\r\n",
        "print(result)"
      ],
      "execution_count": 68,
      "outputs": [
        {
          "output_type": "stream",
          "text": [
            "0.78409094\n",
            "{'accuracy': 0.78409094, 'accuracy_baseline': 0.625, 'auc': 0.8376186, 'auc_precision_recall': 0.78829443, 'average_loss': 0.46771258, 'label/mean': 0.375, 'loss': 0.45293576, 'precision': 0.7058824, 'prediction/mean': 0.3896317, 'recall': 0.72727275, 'global_step': 1200}\n"
          ],
          "name": "stdout"
        }
      ]
    },
    {
      "cell_type": "markdown",
      "metadata": {
        "id": "1Z3fNqc1Zpa5"
      },
      "source": [
        "And we now we have a model with a 74% accuracy (this will change each time)! Not crazy impressive but decent for our first try.\r\n",
        "\r\n",
        "Now let's see how we can actually use this model to make predicitons.\r\n",
        "\r\n",
        "We can use the ```.predict()``` method to get survival probabilities from the model. This method will return a list of dicts that store a predicition for each of the entries in our testing data set. Below we've used some pandas magic to plot a nice graph of the predictions.\r\n",
        "\r\n",
        "As you can see the survival rate is not very high :/"
      ]
    },
    {
      "cell_type": "code",
      "metadata": {
        "colab": {
          "base_uri": "https://localhost:8080/"
        },
        "id": "mhu2eiyNbh9Y",
        "outputId": "023cecdb-8983-483d-e53f-238b9d4164dc"
      },
      "source": [
        "pred_dicts = list(linear_est.predict(eval_input_fn))\r\n",
        "print(dfeval.loc[4])\r\n",
        "print(y_eval[4])\r\n",
        "print(pred_dicts[4]['probabilities'][1])"
      ],
      "execution_count": 85,
      "outputs": [
        {
          "output_type": "stream",
          "text": [
            "INFO:tensorflow:Calling model_fn.\n"
          ],
          "name": "stdout"
        },
        {
          "output_type": "stream",
          "text": [
            "/usr/local/lib/python3.6/dist-packages/tensorflow/python/keras/engine/base_layer_v1.py:1727: UserWarning: `layer.add_variable` is deprecated and will be removed in a future version. Please use `layer.add_weight` method instead.\n",
            "  warnings.warn('`layer.add_variable` is deprecated and '\n"
          ],
          "name": "stderr"
        },
        {
          "output_type": "stream",
          "text": [
            "INFO:tensorflow:Done calling model_fn.\n",
            "INFO:tensorflow:Graph was finalized.\n",
            "INFO:tensorflow:Restoring parameters from /tmp/tmpgxjq35g2/model.ckpt-1200\n",
            "INFO:tensorflow:Running local_init_op.\n",
            "INFO:tensorflow:Done running local_init_op.\n",
            "sex                          male\n",
            "age                            34\n",
            "n_siblings_spouses              0\n",
            "parch                           0\n",
            "fare                           13\n",
            "class                      Second\n",
            "deck                            D\n",
            "embark_town           Southampton\n",
            "alone                           y\n",
            "Name: 4, dtype: object\n",
            "1\n",
            "0.24670321\n"
          ],
          "name": "stdout"
        }
      ]
    },
    {
      "cell_type": "code",
      "metadata": {
        "colab": {
          "base_uri": "https://localhost:8080/",
          "height": 298
        },
        "id": "-8wnAatefPcv",
        "outputId": "bc8aa196-e8b8-4cda-f95d-69d1b6299636"
      },
      "source": [
        "probs = pd.Series([pred['probabilities'][1] for pred in pred_dicts])\r\n",
        "probs.plot(kind='hist', bins=20, title='predicted probabilities')\r\n",
        "# plt.hst(probs, bins=20)"
      ],
      "execution_count": 86,
      "outputs": [
        {
          "output_type": "execute_result",
          "data": {
            "text/plain": [
              "<matplotlib.axes._subplots.AxesSubplot at 0x7ff9136b4dd8>"
            ]
          },
          "metadata": {
            "tags": []
          },
          "execution_count": 86
        },
        {
          "output_type": "display_data",
          "data": {
            "image/png": "[encoded data removed]",
            "text/plain": [
              "<Figure size 432x288 with 1 Axes>"
            ]
          },
          "metadata": {
            "tags": [],
            "needs_background": "light"
          }
        }
      ]
    },
    {
      "cell_type": "markdown",
      "metadata": {
        "id": "BD7Z-GC1fY-2"
      },
      "source": [
        "That's it for linear regression! Now onto classification."
      ]
    },
    {
      "cell_type": "markdown",
      "metadata": {
        "id": "DBBEZyU6fbqi"
      },
      "source": [
        "##Classification\r\n",
        "Now that we've covered linear regression it is time to talk about classification. Where regression was used to predict a numeric value, classification is used to seperate data points into classes of different labels. In this example we will use a TensorFlow estimator to classify flowers.\r\n",
        "\r\n",
        "Since we've touched on how estimators work earlier, I'll go a bit quicker through this example. \r\n",
        "\r\n",
        "This section is based on the following guide from the TensorFlow website.\r\n",
        "https://www.tensorflow.org/tutorials/estimator/premade\r\n"
      ]
    },
    {
      "cell_type": "markdown",
      "metadata": {
        "id": "Z9R_hptoffwu"
      },
      "source": [
        "###Imports and Setup"
      ]
    },
    {
      "cell_type": "code",
      "metadata": {
        "id": "kz-KXO_vfgpa"
      },
      "source": [
        "%tensorflow_version 2.x  # this line is not required unless you are in a notebook\r\n",
        "from __future__ import absolute_import, division, print_function, unicode_literals\r\n",
        "import tensorflow as tf\r\n",
        "import pandas as pd"
      ],
      "execution_count": null,
      "outputs": []
    },
    {
      "cell_type": "markdown",
      "metadata": {
        "id": "M8693-3CgUNe"
      },
      "source": [
        "###Dataset\r\n",
        "This specific dataset seperates flowers into 3 different classes of species.\r\n",
        "- Setosa\r\n",
        "- Versicolor\r\n",
        "- Virginica\r\n",
        "\r\n",
        "The information about each flower is the following.\r\n",
        "- sepal length\r\n",
        "- sepal width\r\n",
        "- petal length\r\n",
        "- petal width"
      ]
    },
    {
      "cell_type": "code",
      "metadata": {
        "id": "qWf_daZ9gWDm"
      },
      "source": [
        "# Lets define some constants to help us later on\r\n",
        "CSV_COLUMN_NAMES = ['SepalLength', 'SepalWidth', 'PetalLength', 'PetalWidth', 'Species']\r\n",
        "SPECIES = ['Setosa', 'Versicolor', 'Virginica']"
      ],
      "execution_count": 88,
      "outputs": []
    },
    {
      "cell_type": "code",
      "metadata": {
        "id": "HDXGWyCUiMAH"
      },
      "source": [
        "# Here we use keras (a module inside of TensorFlow) to grab our datasets and read them into a pandas dataframe\r\n",
        "train_path = tf.keras.utils.get_file(\r\n",
        "    \"iris_training.csv\", \"https://storage.googleapis.com/download.tensorflow.org/data/iris_training.csv\")\r\n",
        "test_path = tf.keras.utils.get_file(\r\n",
        "    \"iris_test.csv\", \"https://storage.googleapis.com/download.tensorflow.org/data/iris_test.csv\")\r\n",
        "\r\n",
        "train = pd.read_csv(train_path, names=CSV_COLUMN_NAMES, header=0)\r\n",
        "test = pd.read_csv(test_path, names=CSV_COLUMN_NAMES, header=0)"
      ],
      "execution_count": 100,
      "outputs": []
    },
    {
      "cell_type": "markdown",
      "metadata": {
        "id": "O6yKWXbQinGf"
      },
      "source": [
        "Let's have a look at our data."
      ]
    },
    {
      "cell_type": "code",
      "metadata": {
        "colab": {
          "base_uri": "https://localhost:8080/",
          "height": 204
        },
        "id": "5CD7BlylilO_",
        "outputId": "adcb489d-c62c-4bc4-c723-4acfcd6bcba2"
      },
      "source": [
        "train.head()"
      ],
      "execution_count": 101,
      "outputs": [
        {
          "output_type": "execute_result",
          "data": {
            "text/html": [
              "<div>\n",
              "<style scoped>\n",
              "    .dataframe tbody tr th:only-of-type {\n",
              "        vertical-align: middle;\n",
              "    }\n",
              "\n",
              "    .dataframe tbody tr th {\n",
              "        vertical-align: top;\n",
              "    }\n",
              "\n",
              "    .dataframe thead th {\n",
              "        text-align: right;\n",
              "    }\n",
              "</style>\n",
              "<table border=\"1\" class=\"dataframe\">\n",
              "  <thead>\n",
              "    <tr style=\"text-align: right;\">\n",
              "      <th></th>\n",
              "      <th>SepalLength</th>\n",
              "      <th>SepalWidth</th>\n",
              "      <th>PetalLength</th>\n",
              "      <th>PetalWidth</th>\n",
              "      <th>Species</th>\n",
              "    </tr>\n",
              "  </thead>\n",
              "  <tbody>\n",
              "    <tr>\n",
              "      <th>0</th>\n",
              "      <td>6.4</td>\n",
              "      <td>2.8</td>\n",
              "      <td>5.6</td>\n",
              "      <td>2.2</td>\n",
              "      <td>2</td>\n",
              "    </tr>\n",
              "    <tr>\n",
              "      <th>1</th>\n",
              "      <td>5.0</td>\n",
              "      <td>2.3</td>\n",
              "      <td>3.3</td>\n",
              "      <td>1.0</td>\n",
              "      <td>1</td>\n",
              "    </tr>\n",
              "    <tr>\n",
              "      <th>2</th>\n",
              "      <td>4.9</td>\n",
              "      <td>2.5</td>\n",
              "      <td>4.5</td>\n",
              "      <td>1.7</td>\n",
              "      <td>2</td>\n",
              "    </tr>\n",
              "    <tr>\n",
              "      <th>3</th>\n",
              "      <td>4.9</td>\n",
              "      <td>3.1</td>\n",
              "      <td>1.5</td>\n",
              "      <td>0.1</td>\n",
              "      <td>0</td>\n",
              "    </tr>\n",
              "    <tr>\n",
              "      <th>4</th>\n",
              "      <td>5.7</td>\n",
              "      <td>3.8</td>\n",
              "      <td>1.7</td>\n",
              "      <td>0.3</td>\n",
              "      <td>0</td>\n",
              "    </tr>\n",
              "  </tbody>\n",
              "</table>\n",
              "</div>"
            ],
            "text/plain": [
              "   SepalLength  SepalWidth  PetalLength  PetalWidth  Species\n",
              "0          6.4         2.8          5.6         2.2        2\n",
              "1          5.0         2.3          3.3         1.0        1\n",
              "2          4.9         2.5          4.5         1.7        2\n",
              "3          4.9         3.1          1.5         0.1        0\n",
              "4          5.7         3.8          1.7         0.3        0"
            ]
          },
          "metadata": {
            "tags": []
          },
          "execution_count": 101
        }
      ]
    },
    {
      "cell_type": "markdown",
      "metadata": {
        "id": "dDgX3z21i3OV"
      },
      "source": [
        "Now we can pop the species column off and use that as our label."
      ]
    },
    {
      "cell_type": "code",
      "metadata": {
        "colab": {
          "base_uri": "https://localhost:8080/",
          "height": 204
        },
        "id": "XyQsjwPai4d2",
        "outputId": "b12e29c2-a069-4cd4-89e0-a669928819af"
      },
      "source": [
        "train_y = train.pop('Species')\r\n",
        "test_y = test.pop('Species')\r\n",
        "train.head() # the species column is now gone"
      ],
      "execution_count": 102,
      "outputs": [
        {
          "output_type": "execute_result",
          "data": {
            "text/html": [
              "<div>\n",
              "<style scoped>\n",
              "    .dataframe tbody tr th:only-of-type {\n",
              "        vertical-align: middle;\n",
              "    }\n",
              "\n",
              "    .dataframe tbody tr th {\n",
              "        vertical-align: top;\n",
              "    }\n",
              "\n",
              "    .dataframe thead th {\n",
              "        text-align: right;\n",
              "    }\n",
              "</style>\n",
              "<table border=\"1\" class=\"dataframe\">\n",
              "  <thead>\n",
              "    <tr style=\"text-align: right;\">\n",
              "      <th></th>\n",
              "      <th>SepalLength</th>\n",
              "      <th>SepalWidth</th>\n",
              "      <th>PetalLength</th>\n",
              "      <th>PetalWidth</th>\n",
              "    </tr>\n",
              "  </thead>\n",
              "  <tbody>\n",
              "    <tr>\n",
              "      <th>0</th>\n",
              "      <td>6.4</td>\n",
              "      <td>2.8</td>\n",
              "      <td>5.6</td>\n",
              "      <td>2.2</td>\n",
              "    </tr>\n",
              "    <tr>\n",
              "      <th>1</th>\n",
              "      <td>5.0</td>\n",
              "      <td>2.3</td>\n",
              "      <td>3.3</td>\n",
              "      <td>1.0</td>\n",
              "    </tr>\n",
              "    <tr>\n",
              "      <th>2</th>\n",
              "      <td>4.9</td>\n",
              "      <td>2.5</td>\n",
              "      <td>4.5</td>\n",
              "      <td>1.7</td>\n",
              "    </tr>\n",
              "    <tr>\n",
              "      <th>3</th>\n",
              "      <td>4.9</td>\n",
              "      <td>3.1</td>\n",
              "      <td>1.5</td>\n",
              "      <td>0.1</td>\n",
              "    </tr>\n",
              "    <tr>\n",
              "      <th>4</th>\n",
              "      <td>5.7</td>\n",
              "      <td>3.8</td>\n",
              "      <td>1.7</td>\n",
              "      <td>0.3</td>\n",
              "    </tr>\n",
              "  </tbody>\n",
              "</table>\n",
              "</div>"
            ],
            "text/plain": [
              "   SepalLength  SepalWidth  PetalLength  PetalWidth\n",
              "0          6.4         2.8          5.6         2.2\n",
              "1          5.0         2.3          3.3         1.0\n",
              "2          4.9         2.5          4.5         1.7\n",
              "3          4.9         3.1          1.5         0.1\n",
              "4          5.7         3.8          1.7         0.3"
            ]
          },
          "metadata": {
            "tags": []
          },
          "execution_count": 102
        }
      ]
    },
    {
      "cell_type": "code",
      "metadata": {
        "colab": {
          "base_uri": "https://localhost:8080/"
        },
        "id": "0vlknA60kMtg",
        "outputId": "2a1c6235-2031-43e5-968a-f2144ab672cc"
      },
      "source": [
        "train.shape  # we have 120 entires with 4 features"
      ],
      "execution_count": 103,
      "outputs": [
        {
          "output_type": "execute_result",
          "data": {
            "text/plain": [
              "(120, 4)"
            ]
          },
          "metadata": {
            "tags": []
          },
          "execution_count": 103
        }
      ]
    },
    {
      "cell_type": "markdown",
      "metadata": {
        "id": "6UvvahCSkSGb"
      },
      "source": [
        "###Input Function\r\n",
        "Remember that nasty input function we created earlier. Well we need to make another one here! Fortunatly for us this one is a little easier to digest."
      ]
    },
    {
      "cell_type": "code",
      "metadata": {
        "id": "Nnw1u3uHkTqT"
      },
      "source": [
        "def input_fn(features, labels, training=True, batch_size=256):\r\n",
        "    # Convert the inputs to a Dataset.\r\n",
        "    dataset = tf.data.Dataset.from_tensor_slices((dict(features), labels))\r\n",
        "\r\n",
        "    # Shuffle and repeat if you are in training mode.\r\n",
        "    if training:\r\n",
        "        dataset = dataset.shuffle(1000).repeat()\r\n",
        "    \r\n",
        "    return dataset.batch(batch_size)"
      ],
      "execution_count": null,
      "outputs": []
    },
    {
      "cell_type": "markdown",
      "metadata": {
        "id": "IsshnKstkbRH"
      },
      "source": [
        "Feature Columns\r\n",
        "And you didn't think we forgot about the feature columns, did you?"
      ]
    },
    {
      "cell_type": "code",
      "metadata": {
        "colab": {
          "base_uri": "https://localhost:8080/"
        },
        "id": "7umwLRYvkeg7",
        "outputId": "4625a979-0b3d-41d4-c679-a5b32efb2f0f"
      },
      "source": [
        "# Feature columns describe how to use the input.\r\n",
        "my_feature_columns = []\r\n",
        "for key in train.keys():\r\n",
        "    my_feature_columns.append(tf.feature_column.numeric_column(key=key))\r\n",
        "print(my_feature_columns)"
      ],
      "execution_count": 104,
      "outputs": [
        {
          "output_type": "stream",
          "text": [
            "[NumericColumn(key='SepalLength', shape=(1,), default_value=None, dtype=tf.float32, normalizer_fn=None), NumericColumn(key='SepalWidth', shape=(1,), default_value=None, dtype=tf.float32, normalizer_fn=None), NumericColumn(key='PetalLength', shape=(1,), default_value=None, dtype=tf.float32, normalizer_fn=None), NumericColumn(key='PetalWidth', shape=(1,), default_value=None, dtype=tf.float32, normalizer_fn=None)]\n"
          ],
          "name": "stdout"
        }
      ]
    },
    {
      "cell_type": "markdown",
      "metadata": {
        "id": "VzvDq5-nkjMi"
      },
      "source": [
        "###Building the Model\r\n",
        "And now we are ready to choose a model. For classification tasks there are variety of different estimators/models that we can pick from. Some options are listed below.\r\n",
        "- ```DNNClassifier``` (Deep Neural Network)\r\n",
        "- ```LinearClassifier```\r\n",
        "\r\n",
        "We can choose either model but the DNN seems to be the best choice. This is because we may not be able to find a linear coorespondence in our data. \r\n",
        "\r\n",
        "So let's build a model!"
      ]
    },
    {
      "cell_type": "code",
      "metadata": {
        "colab": {
          "base_uri": "https://localhost:8080/"
        },
        "id": "UGZMDJzBkmrP",
        "outputId": "7b2fda8d-a28b-4041-91d5-f60965287968"
      },
      "source": [
        "# Build a DNN with 2 hidden layers with 30 and 10 hidden nodes each.\r\n",
        "classifier = tf.estimator.DNNClassifier(\r\n",
        "    feature_columns=my_feature_columns,\r\n",
        "    # Two hidden layers of 30 and 10 nodes respectively.\r\n",
        "    hidden_units=[30, 10],\r\n",
        "    # The model must choose between 3 classes.\r\n",
        "    n_classes=3)"
      ],
      "execution_count": 105,
      "outputs": [
        {
          "output_type": "stream",
          "text": [
            "INFO:tensorflow:Using default config.\n",
            "WARNING:tensorflow:Using temporary folder as model directory: /tmp/tmpd3wjz1qt\n",
            "INFO:tensorflow:Using config: {'_model_dir': '/tmp/tmpd3wjz1qt', '_tf_random_seed': None, '_save_summary_steps': 100, '_save_checkpoints_steps': None, '_save_checkpoints_secs': 600, '_session_config': allow_soft_placement: true\n",
            "graph_options {\n",
            "  rewrite_options {\n",
            "    meta_optimizer_iterations: ONE\n",
            "  }\n",
            "}\n",
            ", '_keep_checkpoint_max': 5, '_keep_checkpoint_every_n_hours': 10000, '_log_step_count_steps': 100, '_train_distribute': None, '_device_fn': None, '_protocol': None, '_eval_distribute': None, '_experimental_distribute': None, '_experimental_max_worker_delay_secs': None, '_session_creation_timeout_secs': 7200, '_checkpoint_save_graph_def': True, '_service': None, '_cluster_spec': ClusterSpec({}), '_task_type': 'worker', '_task_id': 0, '_global_id_in_cluster': 0, '_master': '', '_evaluation_master': '', '_is_chief': True, '_num_ps_replicas': 0, '_num_worker_replicas': 1}\n"
          ],
          "name": "stdout"
        }
      ]
    },
    {
      "cell_type": "markdown",
      "metadata": {
        "id": "b3_9kEFDktKt"
      },
      "source": [
        "What we've just done is created a deep neural network that has two hidden layers. These layers have 30 and 10 neurons respectively. This is the number of neurons the TensorFlow official tutorial uses so we'll stick with it. However, it is worth mentioning that the number of hidden neurons is an arbitrary number and many experiments and tests are usually done to determine the best choice for these values. Try playing around with the number of hidden neurons and see if your results change."
      ]
    },
    {
      "cell_type": "markdown",
      "metadata": {
        "id": "hEQQpNf2ku5b"
      },
      "source": [
        "###Training\r\n",
        "Now it's time to train the model!"
      ]
    },
    {
      "cell_type": "code",
      "metadata": {
        "id": "g-B3q5UTkziC"
      },
      "source": [
        "classifier.train(\r\n",
        "    input_fn=lambda: input_fn(train, train_y, training=True),\r\n",
        "    steps=5000)\r\n",
        "# We include a lambda to avoid creating an inner function previously"
      ],
      "execution_count": null,
      "outputs": []
    },
    {
      "cell_type": "markdown",
      "metadata": {
        "id": "s20q1bgCk3YQ"
      },
      "source": [
        "The only thing to explain here is the steps argument. This simply tells the classifier to run for 5000 steps. Try modifiying this and seeing if your results change. Keep in mind that more is not always better."
      ]
    },
    {
      "cell_type": "markdown",
      "metadata": {
        "id": "lTAkoGi3k48I"
      },
      "source": [
        "Evaluation\r\n",
        "Now let's see how this trained model does!"
      ]
    },
    {
      "cell_type": "code",
      "metadata": {
        "id": "nuFVgCvpk8XK"
      },
      "source": [
        "eval_result = classifier.evaluate(\r\n",
        "    input_fn=lambda: input_fn(test, test_y, training=False))\r\n",
        "\r\n",
        "print('\\nTest set accuracy: {accuracy:0.3f}\\n'.format(**eval_result))"
      ],
      "execution_count": null,
      "outputs": []
    },
    {
      "cell_type": "markdown",
      "metadata": {
        "id": "fqq5W4Njk_T6"
      },
      "source": [
        "Notice this time we didn't specify the number of steps. This is because during evaluation the model will only look at the testing data one time."
      ]
    },
    {
      "cell_type": "markdown",
      "metadata": {
        "id": "RvoscomelCph"
      },
      "source": [
        "### Predictions\r\n",
        "Now that we have a trained model it's time to use it to make predictions. I've written a little script below that allows you to type the features of a flower and see a prediction for its class."
      ]
    },
    {
      "cell_type": "code",
      "metadata": {
        "id": "smYW-vLAlGCB"
      },
      "source": [
        "def input_fn(features, batch_size=256):\r\n",
        "    # Convert the inputs to a Dataset without labels.\r\n",
        "    return tf.data.Dataset.from_tensor_slices(dict(features)).batch(batch_size)\r\n",
        "\r\n",
        "features = ['SepalLength', 'SepalWidth', 'PetalLength', 'PetalWidth']\r\n",
        "predict = {}\r\n",
        "\r\n",
        "print(\"Please type numeric values as prompted.\")\r\n",
        "for feature in features:\r\n",
        "  valid = True\r\n",
        "  while valid: \r\n",
        "    val = input(feature + \": \")\r\n",
        "    if not val.isdigit(): valid = False\r\n",
        "\r\n",
        "  predict[feature] = [float(val)]\r\n",
        "\r\n",
        "predictions = classifier.predict(input_fn=lambda: input_fn(predict))\r\n",
        "for pred_dict in predictions:\r\n",
        "    class_id = pred_dict['class_ids'][0]\r\n",
        "    probability = pred_dict['probabilities'][class_id]\r\n",
        "\r\n",
        "    print('Prediction is \"{}\" ({:.1f}%)'.format(\r\n",
        "        SPECIES[class_id], 100 * probability))"
      ],
      "execution_count": null,
      "outputs": []
    },
    {
      "cell_type": "code",
      "metadata": {
        "id": "iD9d9zq_lJDJ"
      },
      "source": [
        "# Here is some example input and expected classes you can try above\r\n",
        "expected = ['Setosa', 'Versicolor', 'Virginica']\r\n",
        "predict_x = {\r\n",
        "    'SepalLength': [5.1, 5.9, 6.9],\r\n",
        "    'SepalWidth': [3.3, 3.0, 3.1],\r\n",
        "    'PetalLength': [1.7, 4.2, 5.4],\r\n",
        "    'PetalWidth': [0.5, 1.5, 2.1],\r\n",
        "}"
      ],
      "execution_count": null,
      "outputs": []
    },
    {
      "cell_type": "markdown",
      "metadata": {
        "id": "Hew2rd24lLVv"
      },
      "source": [
        "And that's pretty much it for classification! "
      ]
    }
  ]
}