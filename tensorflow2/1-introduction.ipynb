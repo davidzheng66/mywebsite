{
  "nbformat": 4,
  "nbformat_minor": 0,
  "metadata": {
    "colab": {
      "name": "Untitled5.ipynb",
      "provenance": [],
      "authorship_tag": "ABX9TyMQE2gprEaP+GyK3K28X580",
      "include_colab_link": true
    },
    "kernelspec": {
      "name": "python3",
      "display_name": "Python 3"
    }
  },
  "cells": [
    {
      "cell_type": "markdown",
      "metadata": {
        "id": "view-in-github",
        "colab_type": "text"
      },
      "source": [
        "<a href=\"https://colab.research.google.com/github/davidzheng66/python3/blob/master/tensorflow2/1-introduction.ipynb\" target=\"_parent\"><img src=\"https://colab.research.google.com/assets/colab-badge.svg\" alt=\"Open In Colab\"/></a>"
      ]
    },
    {
      "cell_type": "markdown",
      "metadata": {
        "id": "62UxZZsqVvUR"
      },
      "source": [
        "#[TensorFlow 2.0 Complete Course - Python Neural Networks for Beginners Tutorial](https://www.youtube.com/watch?v=tPYj3fFJGjk&t=4943s)"
      ]
    },
    {
      "cell_type": "markdown",
      "metadata": {
        "id": "UN2XbF5YV_Ax"
      },
      "source": [
        "# Artifical Intellegence vs Machine Learning vs Neural Network (Deep Learning)\r\n",
        "* [Artifical Intellegence](https://en.wikipedia.org/wiki/Artificial_intelligence)\r\n",
        " * The effor to automate intellectual tasks normally performed by humans.\r\n",
        " * Input: data, rules.\r\n",
        " * Output: answers.\r\n",
        "* [Machine Learning](https://en.wikipedia.org/wiki/Machine_learning) \r\n",
        " * Rather than giving the program the rules, an algorithm finds the rules for us.\r\n",
        " * Input: data, answers.\r\n",
        " * Output: rules.\r\n",
        "* [Neural Network(Deep Learning)](https://en.wikipedia.org/wiki/Neural_network)\r\n",
        " * A form of machine learning that uses a layered representation of data."
      ]
    },
    {
      "cell_type": "code",
      "metadata": {
        "id": "h89Rq2HKVuiO"
      },
      "source": [
        ""
      ],
      "execution_count": null,
      "outputs": []
    }
  ]
}