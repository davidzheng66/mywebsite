{
  "nbformat": 4,
  "nbformat_minor": 0,
  "metadata": {
    "colab": {
      "name": "Untitled6.ipynb",
      "provenance": [],
      "authorship_tag": "ABX9TyMZxNn+bMg1kV0pOLnXuyOa",
      "include_colab_link": true
    },
    "kernelspec": {
      "name": "python3",
      "display_name": "Python 3"
    }
  },
  "cells": [
    {
      "cell_type": "markdown",
      "metadata": {
        "id": "view-in-github",
        "colab_type": "text"
      },
      "source": [
        "<a href=\"https://colab.research.google.com/github/davidzheng66/python3/blob/master/numpy/numpy.ipynb\" target=\"_parent\"><img src=\"https://colab.research.google.com/assets/colab-badge.svg\" alt=\"Open In Colab\"/></a>"
      ]
    },
    {
      "cell_type": "markdown",
      "metadata": {
        "id": "oFg7NmZtEk4k"
      },
      "source": [
        "#[Numpy](https://numpy.org/)\r\n",
        "#[Introduction to Numerical Computing with NumPy: Alex Chabot-Leclerc](https://www.youtube.com/watch?v=ZB7BZMhfPgk&feature=youtu.be)"
      ]
    }
  ]
}