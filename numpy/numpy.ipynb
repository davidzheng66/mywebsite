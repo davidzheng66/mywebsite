{
  "nbformat": 4,
  "nbformat_minor": 0,
  "metadata": {
    "colab": {
      "name": "Untitled6.ipynb",
      "provenance": [],
      "authorship_tag": "ABX9TyOCTX93Y48KqwKXZjKNYKG/",
      "include_colab_link": true
    },
    "kernelspec": {
      "name": "python3",
      "display_name": "Python 3"
    }
  },
  "cells": [
    {
      "cell_type": "markdown",
      "metadata": {
        "id": "view-in-github",
        "colab_type": "text"
      },
      "source": [
        "<a href=\"https://colab.research.google.com/github/davidzheng66/python3/blob/master/numpy/numpy.ipynb\" target=\"_parent\"><img src=\"https://colab.research.google.com/assets/colab-badge.svg\" alt=\"Open In Colab\"/></a>"
      ]
    },
    {
      "cell_type": "markdown",
      "metadata": {
        "id": "oFg7NmZtEk4k"
      },
      "source": [
        "#[Numpy](https://numpy.org/)\r\n",
        "#[Python Numpy Tutorial for Beginners](https://www.youtube.com/watch?v=QUT1VHiLmmI)\r\n",
        "#[Introduction to Numerical Computing with NumPy: Alex Chabot-Leclerc](https://www.youtube.com/watch?v=ZB7BZMhfPgk&feature=youtu.be)"
      ]
    },
    {
      "cell_type": "code",
      "metadata": {
        "id": "jJGan9u4JPmm"
      },
      "source": [
        "import numpy as np"
      ],
      "execution_count": 8,
      "outputs": []
    },
    {
      "cell_type": "code",
      "metadata": {
        "colab": {
          "base_uri": "https://localhost:8080/"
        },
        "id": "m2f5wYFDJUIy",
        "outputId": "3200631f-0c4b-4497-894f-341f9c63c2ea"
      },
      "source": [
        "stats = np.array([[1,2,3], [4,5,6], [7,8,9]])\r\n",
        "stats\r\n",
        "print(stats)"
      ],
      "execution_count": 21,
      "outputs": [
        {
          "output_type": "stream",
          "text": [
            "[[1 2 3]\n",
            " [4 5 6]\n",
            " [7 8 9]]\n"
          ],
          "name": "stdout"
        }
      ]
    },
    {
      "cell_type": "code",
      "metadata": {
        "colab": {
          "base_uri": "https://localhost:8080/"
        },
        "id": "JN3_CwK3JiTv",
        "outputId": "c07fbb6a-14c5-4faf-cfaf-f7ee278a3f86"
      },
      "source": [
        "np.min(stats, axis=1)"
      ],
      "execution_count": 22,
      "outputs": [
        {
          "output_type": "execute_result",
          "data": {
            "text/plain": [
              "array([1, 4, 7])"
            ]
          },
          "metadata": {
            "tags": []
          },
          "execution_count": 22
        }
      ]
    }
  ]
}