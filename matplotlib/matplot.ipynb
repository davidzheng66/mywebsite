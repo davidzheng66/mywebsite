{
  "nbformat": 4,
  "nbformat_minor": 0,
  "metadata": {
    "colab": {
      "name": "Untitled1.ipynb",
      "provenance": [],
      "authorship_tag": "ABX9TyNglMXS+1ZmJ2WnFwVaxl9g",
      "include_colab_link": true
    },
    "kernelspec": {
      "name": "python3",
      "display_name": "Python 3"
    }
  },
  "cells": [
    {
      "cell_type": "markdown",
      "metadata": {
        "id": "view-in-github",
        "colab_type": "text"
      },
      "source": [
        "<a href=\"https://colab.research.google.com/github/davidzheng66/python3/blob/master/matplotlib/matplot.ipynb\" target=\"_parent\"><img src=\"https://colab.research.google.com/assets/colab-badge.svg\" alt=\"Open In Colab\"/></a>"
      ]
    },
    {
      "cell_type": "markdown",
      "metadata": {
        "id": "HnWvCmTsBkXb"
      },
      "source": [
        "# [Matplotlib](https://matplotlib.org/https://matplotlib.org/)"
      ]
    },
    {
      "cell_type": "markdown",
      "metadata": {
        "id": "EAkS91AtB1WE"
      },
      "source": [
        "# [Corey Schafer: Matplotlib Tutorial](https://www.youtube.com/watch?v=UO98lJQ3QGI&list=PL-osiE80TeTt2d9bfVyTiXJA-UTHn6WwU&index=112)\r\n",
        "# [1. Creating and Customizing Our First Plots](https://www.youtube.com/watch?v=UO98lJQ3QGI&list=PL-osiE80TeTt2d9bfVyTiXJA-UTHn6WwU&index=112)"
      ]
    }
  ]
}