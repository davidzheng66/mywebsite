{
  "nbformat": 4,
  "nbformat_minor": 0,
  "metadata": {
    "colab": {
      "name": "Untitled0.ipynb",
      "provenance": [],
      "authorship_tag": "ABX9TyMb0LXPnSpybSSNznj6Uzrf",
      "include_colab_link": true
    },
    "kernelspec": {
      "name": "python3",
      "display_name": "Python 3"
    }
  },
  "cells": [
    {
      "cell_type": "markdown",
      "metadata": {
        "id": "view-in-github",
        "colab_type": "text"
      },
      "source": [
        "<a href=\"https://colab.research.google.com/github/davidzheng66/python3/blob/master/jupyternotebook/jupyternotebook0.ipynb\" target=\"_parent\"><img src=\"https://colab.research.google.com/assets/colab-badge.svg\" alt=\"Open In Colab\"/></a>"
      ]
    },
    {
      "cell_type": "markdown",
      "metadata": {
        "id": "BSiLZdoVR9yL"
      },
      "source": [
        "# Corey Schafer: [Jupyter Notebook](https://jupyter.org/)\r\n",
        " * [Video](https://www.youtube.com/watch?v=HW29067qVWk&t=714s)\r\n",
        "# Install Packages\r\n",
        " * pip install jupyterlab\r\n",
        "# Commands\r\n",
        " * Run bash command by prefixing '!'\r\n",
        "  * !pip list \r\n",
        "  * !pip install -U numpy==1.19.3\r\n",
        " * List magics\r\n",
        "  * %lsmagic (line magic)\r\n",
        "  * %%lsmagic (cell magic)\r\n",
        "  * %ls\r\n",
        " \r\n",
        "\r\n"
      ]
    }
  ]
}