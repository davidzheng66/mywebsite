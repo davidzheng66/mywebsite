{
  "nbformat": 4,
  "nbformat_minor": 0,
  "metadata": {
    "colab": {
      "name": "Untitled0.ipynb",
      "provenance": [],
      "authorship_tag": "ABX9TyO/85+WJidTPl9S0iApHuHP",
      "include_colab_link": true
    },
    "kernelspec": {
      "name": "python3",
      "display_name": "Python 3"
    }
  },
  "cells": [
    {
      "cell_type": "markdown",
      "metadata": {
        "id": "view-in-github",
        "colab_type": "text"
      },
      "source": [
        "<a href=\"https://colab.research.google.com/github/davidzheng66/python3/blob/master/jupyternotebook/jupyternotebook0.ipynb\" target=\"_parent\"><img src=\"https://colab.research.google.com/assets/colab-badge.svg\" alt=\"Open In Colab\"/></a>"
      ]
    },
    {
      "cell_type": "markdown",
      "metadata": {
        "id": "BSiLZdoVR9yL"
      },
      "source": [
        "# [Jupyter Notebook](https://jupyter.org/)\r\n",
        " * [Corey Schafer: Video](https://www.youtube.com/watch?v=HW29067qVWk&t=714s)\r\n",
        "\r\n",
        "# [A Gallery of Interesting IPython Notebooks](https://github.com/jupyter/jupyter/wiki/A-gallery-of-interesting-Jupyter-Notebooks) \r\n",
        "\r\n",
        "# Install Packages\r\n",
        " * pip install jupyterlab\r\n",
        " \r\n",
        "# Commands\r\n",
        " * Run bash command by prefixing '!'\r\n",
        "  * !pip list \r\n",
        "  * !pip install -U numpy==1.19.3\r\n",
        " * List magics\r\n",
        "  * %lsmagic (line magic)\r\n",
        "  * %%lsmagic (cell magic)\r\n",
        "  * %ls\r\n",
        " \r\n",
        "\r\n"
      ]
    },
    {
      "cell_type": "code",
      "metadata": {
        "id": "i1s13H-JW66C"
      },
      "source": [
        "%pwd"
      ],
      "execution_count": null,
      "outputs": []
    },
    {
      "cell_type": "code",
      "metadata": {
        "id": "Qp_yHSqgXge5"
      },
      "source": [
        "%matplotlib inline"
      ],
      "execution_count": 3,
      "outputs": []
    },
    {
      "cell_type": "code",
      "metadata": {
        "id": "HC79f3VVX28C"
      },
      "source": [
        "\"\"\"\r\n",
        "Simple demo of a scatter plot\r\n",
        "\"\"\"\r\n",
        "import numpy as np\r\n",
        "import matplotlib.pyplot as plt\r\n",
        "\r\n",
        "N = 50\r\n",
        "x = np.random.random(N)\r\n",
        "y = np.random.random(N)\r\n",
        "colors = np.random.random(N)\r\n",
        "area = np.pi * (15 * np.random.random(N))**2 # 0 to 15 pointt radiuses\r\n",
        "plt.scatter(x, y, s=area, c=colors, alpha=0.5)\r\n",
        "plt.show()"
      ],
      "execution_count": null,
      "outputs": []
    },
    {
      "cell_type": "code",
      "metadata": {
        "id": "iCSDdt4LZJFF"
      },
      "source": [
        "%%timeit\r\n",
        "square_event = [n*n for n in range(1000)]"
      ],
      "execution_count": null,
      "outputs": []
    },
    {
      "cell_type": "code",
      "metadata": {
        "id": "YCbW94PqZmFA"
      },
      "source": [
        "import pandas as pd\r\n",
        "import numpy as np\r\n",
        "df = pd.DataFrame(np.random.randn(10, 5))\r\n",
        "df"
      ],
      "execution_count": null,
      "outputs": []
    }
  ]
}