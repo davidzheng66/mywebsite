{
  "nbformat": 4,
  "nbformat_minor": 0,
  "metadata": {
    "colab": {
      "name": "Untitled",
      "provenance": [],
      "authorship_tag": "ABX9TyNsWAReuugv0VXdeoAfQsv8",
      "include_colab_link": true
    },
    "kernelspec": {
      "name": "python3",
      "display_name": "Python 3"
    }
  },
  "cells": [
    {
      "cell_type": "markdown",
      "metadata": {
        "id": "view-in-github",
        "colab_type": "text"
      },
      "source": [
        "<a href=\"https://colab.research.google.com/github/davidzheng66/python3/blob/master/panda/panda1.ipynb\" target=\"_parent\"><img src=\"https://colab.research.google.com/assets/colab-badge.svg\" alt=\"Open In Colab\"/></a>"
      ]
    },
    {
      "cell_type": "code",
      "metadata": {
        "id": "Afmm6AEaF4Jt"
      },
      "source": [
        "%tensorflow_version 2.x  # this line is not required unless you are in a notebook"
      ],
      "execution_count": null,
      "outputs": []
    },
    {
      "cell_type": "code",
      "metadata": {
        "id": "AvwmXBRtMBaP"
      },
      "source": [
        "import tensorflow as tf  # now import the tensorflow module\r\n",
        "print(tf.version)  # make sure the version is 2.x"
      ],
      "execution_count": null,
      "outputs": []
    },
    {
      "cell_type": "code",
      "metadata": {
        "id": "WwXbGjzQMGqZ"
      },
      "source": [
        "import sys\r\n",
        "print(sys.version)"
      ],
      "execution_count": null,
      "outputs": []
    },
    {
      "cell_type": "code",
      "metadata": {
        "id": "ymj--VzYMhA5",
        "colab": {
          "base_uri": "https://localhost:8080/"
        },
        "outputId": "0974ae0c-0ae2-4402-c40d-e5b95ffd46a4"
      },
      "source": [
        "import platform\r\n",
        "print(platform.python_version())"
      ],
      "execution_count": null,
      "outputs": [
        {
          "output_type": "stream",
          "text": [
            "3.6.9\n"
          ],
          "name": "stdout"
        }
      ]
    },
    {
      "cell_type": "markdown",
      "metadata": {
        "id": "sMbnqFsSZvDr"
      },
      "source": [
        "# Corey Schafer [Python Panda Tutorial](https://www.youtube.com/watch?v=ZyhVh-qRZPA&list=PL-osiE80TeTsWmV9i9c58mdDCSskIFdDS)"
      ]
    },
    {
      "cell_type": "markdown",
      "metadata": {
        "id": "JXjTekyPakBm"
      },
      "source": [
        "# Getting Started with Data Analysis - Installation and Loading Data\r\n",
        "* [Video](https://www.youtube.com/watch?v=ZyhVh-qRZPA&list=PL-osiE80TeTsWmV9i9c58mdDCSskIFdDS)\r\n",
        "* Install packages:\r\n",
        " * pip install pandas\r\n",
        " * pip install jupyterlab\r\n",
        "* [Stack Overflow Annual Developer Survey(Data)](https://insights.stackoverflow.com/survey)\r\n",
        "\r\n"
      ]
    },
    {
      "cell_type": "code",
      "metadata": {
        "id": "DoQAWcWaX8yc"
      },
      "source": [
        "!pip install -q sklearn"
      ],
      "execution_count": null,
      "outputs": []
    },
    {
      "cell_type": "markdown",
      "metadata": {
        "id": "Z-ZK911eHlJ_"
      },
      "source": [
        "$$\r\n",
        "\\int_0^\\infty x^2dx\r\n",
        "$$"
      ]
    },
    {
      "cell_type": "code",
      "metadata": {
        "id": "S_ttsqk_YSvu"
      },
      "source": [
        "import pandas as pd # Note: it depends on numpy==1.19.3, it doesn't work with numpy==1.19.4"
      ],
      "execution_count": 3,
      "outputs": []
    },
    {
      "cell_type": "code",
      "metadata": {
        "id": "5WiuXBlRbDmh"
      },
      "source": [
        "df = pd.read_csv('https://raw.githubusercontent.com/davidzheng66/python3/master/panda/data/survey_results_public.csv') # Note: it needs to use \"raw\" format\r\n",
        "df"
      ],
      "execution_count": null,
      "outputs": []
    },
    {
      "cell_type": "code",
      "metadata": {
        "id": "qjIB6ozY9U7Z"
      },
      "source": [
        "# pd.set_option('display.max_columns', 20)\r\n",
        "pd.set_option('display.min_rows', 10)\r\n",
        "# pd.get_option('display.min_rows')"
      ],
      "execution_count": null,
      "outputs": []
    },
    {
      "cell_type": "code",
      "metadata": {
        "id": "tzNNpE8CEPI9"
      },
      "source": [
        "df_schema = pd.read_csv('https://raw.githubusercontent.com/davidzheng66/python3/master/panda/data/survey_results_schema.csv')\r\n",
        "df_schema"
      ],
      "execution_count": null,
      "outputs": []
    },
    {
      "cell_type": "code",
      "metadata": {
        "id": "RsXYQ9iwII2r"
      },
      "source": [
        ""
      ],
      "execution_count": null,
      "outputs": []
    },
    {
      "cell_type": "markdown",
      "metadata": {
        "id": "PkgfztgIJsrB"
      },
      "source": [
        "# Run bash command by prefixing '!'\r\n",
        "*  !pip install -U numpy==1.19.3\r\n",
        "# List magic\r\n",
        "* %lsmagic (line magic)\r\n",
        "* %%lsmagic (cell magic)"
      ]
    },
    {
      "cell_type": "code",
      "metadata": {
        "id": "WyTFSU-2I05Q",
        "outputId": "4c5ef83c-b1fa-4233-f180-d76db22dcdd0",
        "colab": {
          "base_uri": "https://localhost:8080/",
          "height": 156
        }
      },
      "source": [
        "lsmagic"
      ],
      "execution_count": 7,
      "outputs": [
        {
          "output_type": "execute_result",
          "data": {
            "application/json": {
              "cell": {
                "prun": "ExecutionMagics",
                "file": "Other",
                "!": "OSMagics",
                "capture": "ExecutionMagics",
                "timeit": "ExecutionMagics",
                "script": "ScriptMagics",
                "pypy": "Other",
                "system": "OSMagics",
                "perl": "Other",
                "html": "DisplayMagics",
                "bash": "Other",
                "shell": "Other",
                "HTML": "Other",
                "python": "Other",
                "SVG": "Other",
                "javascript": "DisplayMagics",
                "bigquery": "Other",
                "js": "DisplayMagics",
                "writefile": "OSMagics",
                "ruby": "Other",
                "python3": "Other",
                "python2": "Other",
                "latex": "DisplayMagics",
                "sx": "OSMagics",
                "svg": "DisplayMagics",
                "sh": "Other",
                "time": "ExecutionMagics",
                "debug": "ExecutionMagics"
              },
              "line": {
                "psource": "NamespaceMagics",
                "logstart": "LoggingMagics",
                "popd": "OSMagics",
                "tensorflow_version": "Other",
                "loadpy": "CodeMagics",
                "colors": "BasicMagics",
                "who_ls": "NamespaceMagics",
                "lf": "Other",
                "ll": "Other",
                "pprint": "BasicMagics",
                "lk": "Other",
                "ls": "Other",
                "save": "CodeMagics",
                "tb": "ExecutionMagics",
                "lx": "Other",
                "pylab": "PylabMagics",
                "killbgscripts": "ScriptMagics",
                "quickref": "BasicMagics",
                "magic": "BasicMagics",
                "dhist": "OSMagics",
                "edit": "KernelMagics",
                "logstop": "LoggingMagics",
                "gui": "BasicMagics",
                "prun": "ExecutionMagics",
                "debug": "ExecutionMagics",
                "page": "BasicMagics",
                "logstate": "LoggingMagics",
                "ed": "Other",
                "pushd": "OSMagics",
                "timeit": "ExecutionMagics",
                "set_env": "OSMagics",
                "rehashx": "OSMagics",
                "hist": "Other",
                "qtconsole": "KernelMagics",
                "rm": "Other",
                "dirs": "OSMagics",
                "run": "ExecutionMagics",
                "reset_selective": "NamespaceMagics",
                "pinfo2": "NamespaceMagics",
                "matplotlib": "PylabMagics",
                "unload_ext": "ExtensionMagics",
                "doctest_mode": "BasicMagics",
                "logoff": "LoggingMagics",
                "reload_ext": "ExtensionMagics",
                "pdb": "ExecutionMagics",
                "load": "CodeMagics",
                "lsmagic": "BasicMagics",
                "autosave": "KernelMagics",
                "cd": "OSMagics",
                "pastebin": "CodeMagics",
                "alias_magic": "BasicMagics",
                "cp": "Other",
                "autocall": "AutoMagics",
                "ldir": "Other",
                "bookmark": "OSMagics",
                "connect_info": "KernelMagics",
                "mkdir": "Other",
                "system": "OSMagics",
                "whos": "NamespaceMagics",
                "rmdir": "Other",
                "automagic": "AutoMagics",
                "store": "StoreMagics",
                "more": "KernelMagics",
                "shell": "Other",
                "pdef": "NamespaceMagics",
                "precision": "BasicMagics",
                "pinfo": "NamespaceMagics",
                "pwd": "OSMagics",
                "psearch": "NamespaceMagics",
                "reset": "NamespaceMagics",
                "recall": "HistoryMagics",
                "xdel": "NamespaceMagics",
                "xmode": "BasicMagics",
                "cat": "Other",
                "mv": "Other",
                "rerun": "HistoryMagics",
                "logon": "LoggingMagics",
                "history": "HistoryMagics",
                "pycat": "OSMagics",
                "pip": "Other",
                "unalias": "OSMagics",
                "env": "OSMagics",
                "load_ext": "ExtensionMagics",
                "config": "ConfigMagics",
                "profile": "BasicMagics",
                "pfile": "NamespaceMagics",
                "less": "KernelMagics",
                "who": "NamespaceMagics",
                "notebook": "BasicMagics",
                "man": "KernelMagics",
                "sx": "OSMagics",
                "macro": "ExecutionMagics",
                "clear": "KernelMagics",
                "alias": "OSMagics",
                "time": "ExecutionMagics",
                "sc": "OSMagics",
                "rep": "Other",
                "pdoc": "NamespaceMagics"
              }
            },
            "text/plain": [
              "Available line magics:\n",
              "%alias  %alias_magic  %autocall  %automagic  %autosave  %bookmark  %cat  %cd  %clear  %colors  %config  %connect_info  %cp  %debug  %dhist  %dirs  %doctest_mode  %ed  %edit  %env  %gui  %hist  %history  %killbgscripts  %ldir  %less  %lf  %lk  %ll  %load  %load_ext  %loadpy  %logoff  %logon  %logstart  %logstate  %logstop  %ls  %lsmagic  %lx  %macro  %magic  %man  %matplotlib  %mkdir  %more  %mv  %notebook  %page  %pastebin  %pdb  %pdef  %pdoc  %pfile  %pinfo  %pinfo2  %pip  %popd  %pprint  %precision  %profile  %prun  %psearch  %psource  %pushd  %pwd  %pycat  %pylab  %qtconsole  %quickref  %recall  %rehashx  %reload_ext  %rep  %rerun  %reset  %reset_selective  %rm  %rmdir  %run  %save  %sc  %set_env  %shell  %store  %sx  %system  %tb  %tensorflow_version  %time  %timeit  %unalias  %unload_ext  %who  %who_ls  %whos  %xdel  %xmode\n",
              "\n",
              "Available cell magics:\n",
              "%%!  %%HTML  %%SVG  %%bash  %%bigquery  %%capture  %%debug  %%file  %%html  %%javascript  %%js  %%latex  %%perl  %%prun  %%pypy  %%python  %%python2  %%python3  %%ruby  %%script  %%sh  %%shell  %%svg  %%sx  %%system  %%time  %%timeit  %%writefile\n",
              "\n",
              "Automagic is ON, % prefix IS NOT needed for line magics."
            ]
          },
          "metadata": {
            "tags": []
          },
          "execution_count": 7
        }
      ]
    },
    {
      "cell_type": "code",
      "metadata": {
        "id": "Jkgca0R3KfvR"
      },
      "source": [
        "ls -al"
      ],
      "execution_count": null,
      "outputs": []
    },
    {
      "cell_type": "code",
      "metadata": {
        "id": "cTXCm6xIK-vo"
      },
      "source": [
        "matplotlib inline"
      ],
      "execution_count": 12,
      "outputs": []
    }
  ]
}