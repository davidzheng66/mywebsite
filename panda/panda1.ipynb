{
  "nbformat": 4,
  "nbformat_minor": 0,
  "metadata": {
    "colab": {
      "name": "Untitled",
      "provenance": [],
      "authorship_tag": "ABX9TyMfP9rhY1VEv0hKbT/HAkfr",
      "include_colab_link": true
    },
    "kernelspec": {
      "name": "python3",
      "display_name": "Python 3"
    }
  },
  "cells": [
    {
      "cell_type": "markdown",
      "metadata": {
        "id": "view-in-github",
        "colab_type": "text"
      },
      "source": [
        "<a href=\"https://colab.research.google.com/github/davidzheng66/python3/blob/master/panda/panda1.ipynb\" target=\"_parent\"><img src=\"https://colab.research.google.com/assets/colab-badge.svg\" alt=\"Open In Colab\"/></a>"
      ]
    },
    {
      "cell_type": "code",
      "metadata": {
        "id": "Afmm6AEaF4Jt"
      },
      "source": [
        "%tensorflow_version 2.x  # this line is not required unless you are in a notebook"
      ],
      "execution_count": null,
      "outputs": []
    },
    {
      "cell_type": "code",
      "metadata": {
        "id": "AvwmXBRtMBaP"
      },
      "source": [
        "import tensorflow as tf  # now import the tensorflow module\r\n",
        "print(tf.version)  # make sure the version is 2.x"
      ],
      "execution_count": null,
      "outputs": []
    },
    {
      "cell_type": "code",
      "metadata": {
        "id": "WwXbGjzQMGqZ"
      },
      "source": [
        "import sys\r\n",
        "print(sys.version)"
      ],
      "execution_count": null,
      "outputs": []
    },
    {
      "cell_type": "code",
      "metadata": {
        "id": "ymj--VzYMhA5"
      },
      "source": [
        "import platform\r\n",
        "print(platform.python_version())"
      ],
      "execution_count": null,
      "outputs": []
    },
    {
      "cell_type": "markdown",
      "metadata": {
        "id": "sMbnqFsSZvDr"
      },
      "source": [
        "# Corey Schafer [Python Panda Tutorial](https://www.youtube.com/watch?v=ZyhVh-qRZPA&list=PL-osiE80TeTsWmV9i9c58mdDCSskIFdDS)"
      ]
    },
    {
      "cell_type": "markdown",
      "metadata": {
        "id": "JXjTekyPakBm"
      },
      "source": [
        "# Getting Started with Data Analysis - Installation and Loading Data\r\n",
        "* [Video](https://www.youtube.com/watch?v=ZyhVh-qRZPA&list=PL-osiE80TeTsWmV9i9c58mdDCSskIFdDS)\r\n",
        "* Install packages:\r\n",
        " * pip install panda\r\n",
        " * pip install jupyterlab\r\n",
        "* [Stack Overflow Annual Developer Survey(Data)](https://insights.stackoverflow.com/survey)\r\n",
        "\r\n"
      ]
    },
    {
      "cell_type": "code",
      "metadata": {
        "id": "DoQAWcWaX8yc"
      },
      "source": [
        "!pip install -q sklearn"
      ],
      "execution_count": null,
      "outputs": []
    },
    {
      "cell_type": "markdown",
      "metadata": {
        "id": "Z-ZK911eHlJ_"
      },
      "source": [
        "$$\r\n",
        "\\int_0^\\infty x^2dx\r\n",
        "$$"
      ]
    },
    {
      "cell_type": "code",
      "metadata": {
        "id": "S_ttsqk_YSvu"
      },
      "source": [
        "import pandas as pd"
      ],
      "execution_count": 11,
      "outputs": []
    },
    {
      "cell_type": "code",
      "metadata": {
        "id": "5WiuXBlRbDmh",
        "outputId": "e1326009-4ac8-4128-ca7f-e58785c40011",
        "colab": {
          "base_uri": "https://localhost:8080/"
        }
      },
      "source": [
        "df = pd.read_csv('https://github.com/davidzheng66/python3/blob/master/panda/data/2011SurveyResult.csv', error_bad_lines=False)"
      ],
      "execution_count": 17,
      "outputs": [
        {
          "output_type": "stream",
          "text": [
            "b'Skipping line 72: expected 1 fields, saw 2\\nSkipping line 91: expected 1 fields, saw 156\\nSkipping line 92: expected 1 fields, saw 2\\nSkipping line 107: expected 1 fields, saw 2\\nSkipping line 155: expected 1 fields, saw 3\\nSkipping line 167: expected 1 fields, saw 6\\nSkipping line 168: expected 1 fields, saw 3\\nSkipping line 192: expected 1 fields, saw 4\\nSkipping line 196: expected 1 fields, saw 2\\nSkipping line 198: expected 1 fields, saw 2\\nSkipping line 199: expected 1 fields, saw 2\\nSkipping line 200: expected 1 fields, saw 2\\nSkipping line 201: expected 1 fields, saw 2\\nSkipping line 202: expected 1 fields, saw 2\\nSkipping line 203: expected 1 fields, saw 2\\nSkipping line 204: expected 1 fields, saw 2\\nSkipping line 205: expected 1 fields, saw 2\\nSkipping line 206: expected 1 fields, saw 2\\nSkipping line 210: expected 1 fields, saw 2\\nSkipping line 211: expected 1 fields, saw 2\\nSkipping line 217: expected 1 fields, saw 2\\nSkipping line 220: expected 1 fields, saw 2\\nSkipping line 228: expected 1 fields, saw 4\\nSkipping line 234: expected 1 fields, saw 2\\nSkipping line 239: expected 1 fields, saw 2\\nSkipping line 240: expected 1 fields, saw 2\\nSkipping line 241: expected 1 fields, saw 2\\nSkipping line 242: expected 1 fields, saw 2\\nSkipping line 243: expected 1 fields, saw 2\\nSkipping line 248: expected 1 fields, saw 2\\nSkipping line 249: expected 1 fields, saw 2\\nSkipping line 250: expected 1 fields, saw 2\\nSkipping line 251: expected 1 fields, saw 2\\nSkipping line 258: expected 1 fields, saw 2\\nSkipping line 266: expected 1 fields, saw 4\\nSkipping line 271: expected 1 fields, saw 2\\nSkipping line 274: expected 1 fields, saw 2\\nSkipping line 275: expected 1 fields, saw 2\\nSkipping line 279: expected 1 fields, saw 2\\nSkipping line 280: expected 1 fields, saw 2\\nSkipping line 302: expected 1 fields, saw 2\\nSkipping line 440: expected 1 fields, saw 6\\nSkipping line 441: expected 1 fields, saw 3\\nSkipping line 446: expected 1 fields, saw 6\\nSkipping line 447: expected 1 fields, saw 3\\nSkipping line 531: expected 1 fields, saw 6\\nSkipping line 542: expected 1 fields, saw 6\\nSkipping line 555: expected 1 fields, saw 6\\nSkipping line 571: expected 1 fields, saw 3\\nSkipping line 579: expected 1 fields, saw 3\\nSkipping line 587: expected 1 fields, saw 3\\nSkipping line 595: expected 1 fields, saw 3\\nSkipping line 603: expected 1 fields, saw 3\\nSkipping line 611: expected 1 fields, saw 3\\nSkipping line 619: expected 1 fields, saw 3\\nSkipping line 693: expected 1 fields, saw 3\\nSkipping line 694: expected 1 fields, saw 2\\nSkipping line 699: expected 1 fields, saw 3\\nSkipping line 700: expected 1 fields, saw 9\\nSkipping line 708: expected 1 fields, saw 3\\nSkipping line 710: expected 1 fields, saw 9\\nSkipping line 715: expected 1 fields, saw 3\\nSkipping line 716: expected 1 fields, saw 2\\nSkipping line 781: expected 1 fields, saw 7\\nSkipping line 842: expected 1 fields, saw 2\\nSkipping line 845: expected 1 fields, saw 2\\nSkipping line 896: expected 1 fields, saw 4\\nSkipping line 920: expected 1 fields, saw 2\\nSkipping line 938: expected 1 fields, saw 2\\nSkipping line 963: expected 1 fields, saw 3\\nSkipping line 966: expected 1 fields, saw 2\\nSkipping line 967: expected 1 fields, saw 3\\nSkipping line 968: expected 1 fields, saw 3\\nSkipping line 969: expected 1 fields, saw 3\\nSkipping line 970: expected 1 fields, saw 3\\nSkipping line 971: expected 1 fields, saw 3\\nSkipping line 972: expected 1 fields, saw 2\\nSkipping line 1036: expected 1 fields, saw 3\\nSkipping line 1235: expected 1 fields, saw 3\\nSkipping line 1238: expected 1 fields, saw 2\\nSkipping line 1280: expected 1 fields, saw 2\\nSkipping line 1291: expected 1 fields, saw 4\\nSkipping line 1303: expected 1 fields, saw 3\\nSkipping line 1306: expected 1 fields, saw 2\\nSkipping line 1307: expected 1 fields, saw 3\\nSkipping line 1308: expected 1 fields, saw 3\\nSkipping line 1309: expected 1 fields, saw 3\\nSkipping line 1310: expected 1 fields, saw 3\\nSkipping line 1311: expected 1 fields, saw 3\\nSkipping line 1312: expected 1 fields, saw 2\\nSkipping line 1330: expected 1 fields, saw 3\\nSkipping line 1375: expected 1 fields, saw 3\\nSkipping line 1416: expected 1 fields, saw 2\\nSkipping line 1427: expected 1 fields, saw 4\\nSkipping line 1439: expected 1 fields, saw 3\\nSkipping line 1466: expected 1 fields, saw 3\\nSkipping line 1484: expected 1 fields, saw 2\\nSkipping line 1494: expected 1 fields, saw 2\\nSkipping line 1534: expected 1 fields, saw 3\\nSkipping line 1552: expected 1 fields, saw 3\\nSkipping line 1575: expected 1 fields, saw 3\\nSkipping line 1602: expected 1 fields, saw 3\\nSkipping line 1620: expected 1 fields, saw 2\\nSkipping line 1711: expected 1 fields, saw 3\\nSkipping line 1720: expected 1 fields, saw 2\\nSkipping line 1738: expected 1 fields, saw 3\\nSkipping line 1756: expected 1 fields, saw 3\\nSkipping line 1806: expected 1 fields, saw 3\\nSkipping line 1874: expected 1 fields, saw 3\\nSkipping line 1892: expected 1 fields, saw 3\\nSkipping line 1915: expected 1 fields, saw 3\\nSkipping line 1942: expected 1 fields, saw 3\\nSkipping line 1960: expected 1 fields, saw 2\\nSkipping line 2028: expected 1 fields, saw 2\\nSkipping line 2051: expected 1 fields, saw 3\\nSkipping line 2078: expected 1 fields, saw 3\\nSkipping line 2096: expected 1 fields, saw 3\\nSkipping line 2146: expected 1 fields, saw 2\\nSkipping line 2164: expected 1 fields, saw 2\\nSkipping line 2187: expected 1 fields, saw 3\\nSkipping line 2214: expected 1 fields, saw 3\\nSkipping line 2232: expected 1 fields, saw 2\\nSkipping line 2255: expected 1 fields, saw 3\\nSkipping line 2258: expected 1 fields, saw 2\\nSkipping line 2300: expected 1 fields, saw 3\\nSkipping line 2350: expected 1 fields, saw 3\\nSkipping line 2391: expected 1 fields, saw 3\\nSkipping line 2394: expected 1 fields, saw 2\\nSkipping line 2418: expected 1 fields, saw 3\\nSkipping line 2446: expected 1 fields, saw 2\\nSkipping line 2486: expected 1 fields, saw 3\\nSkipping line 2504: expected 1 fields, saw 3\\nSkipping line 2531: expected 1 fields, saw 3\\nSkipping line 2554: expected 1 fields, saw 3\\nSkipping line 2572: expected 1 fields, saw 2\\nSkipping line 2595: expected 1 fields, saw 3\\nSkipping line 2598: expected 1 fields, saw 2\\nSkipping line 2622: expected 1 fields, saw 3\\nSkipping line 2640: expected 1 fields, saw 3\\nSkipping line 2650: expected 1 fields, saw 2\\nSkipping line 2672: expected 1 fields, saw 2\\nSkipping line 2690: expected 1 fields, saw 3\\nSkipping line 2708: expected 1 fields, saw 3\\nSkipping line 2718: expected 1 fields, saw 3\\nSkipping line 2731: expected 1 fields, saw 3\\nSkipping line 2736: expected 1 fields, saw 3\\nSkipping line 2758: expected 1 fields, saw 3\\nSkipping line 2776: expected 1 fields, saw 3\\nSkipping line 2802: expected 1 fields, saw 2\\nSkipping line 2826: expected 1 fields, saw 3\\nSkipping line 2854: expected 1 fields, saw 2\\nSkipping line 2876: expected 1 fields, saw 2\\nSkipping line 2894: expected 1 fields, saw 3\\nSkipping line 2912: expected 1 fields, saw 2\\nSkipping line 3030: expected 1 fields, saw 3\\nSkipping line 3098: expected 1 fields, saw 3\\nSkipping line 3116: expected 1 fields, saw 3\\nSkipping line 3166: expected 1 fields, saw 3\\nSkipping line 3184: expected 1 fields, saw 2\\nSkipping line 3234: expected 1 fields, saw 3\\nSkipping line 3252: expected 1 fields, saw 2\\nSkipping line 3281: expected 1 fields, saw 3\\nSkipping line 3302: expected 1 fields, saw 3\\nSkipping line 3320: expected 1 fields, saw 2\\nSkipping line 3438: expected 1 fields, saw 3\\nSkipping line 3456: expected 1 fields, saw 2\\nSkipping line 3506: expected 1 fields, saw 3\\nSkipping line 3524: expected 1 fields, saw 3\\nSkipping line 3574: expected 1 fields, saw 2\\nSkipping line 3619: expected 1 fields, saw 3\\nSkipping line 3642: expected 1 fields, saw 2\\nSkipping line 3683: expected 1 fields, saw 3\\nSkipping line 3686: expected 1 fields, saw 2\\nSkipping line 3710: expected 1 fields, saw 3\\nSkipping line 3819: expected 1 fields, saw 3\\nSkipping line 3823: expected 1 fields, saw 3\\nSkipping line 3846: expected 1 fields, saw 3\\nSkipping line 3864: expected 1 fields, saw 3\\nSkipping line 3874: expected 1 fields, saw 3\\nSkipping line 3914: expected 1 fields, saw 3\\nSkipping line 3932: expected 1 fields, saw 2\\nSkipping line 4010: expected 1 fields, saw 2\\nSkipping line 4026: expected 1 fields, saw 2\\nSkipping line 4050: expected 1 fields, saw 3\\nSkipping line 4068: expected 1 fields, saw 3\\nSkipping line 4146: expected 1 fields, saw 2\\nSkipping line 4186: expected 1 fields, saw 3\\nSkipping line 4204: expected 1 fields, saw 3\\nSkipping line 4214: expected 1 fields, saw 2\\nSkipping line 4234: expected 1 fields, saw 3\\nSkipping line 4254: expected 1 fields, saw 3\\nSkipping line 4271: expected 1 fields, saw 2\\nSkipping line 4322: expected 1 fields, saw 3\\nSkipping line 4363: expected 1 fields, saw 3\\nSkipping line 4387: expected 1 fields, saw 4\\nSkipping line 4458: expected 1 fields, saw 3\\nSkipping line 4476: expected 1 fields, saw 3\\nSkipping line 4486: expected 1 fields, saw 2\\nSkipping line 4526: expected 1 fields, saw 3\\nSkipping line 4544: expected 1 fields, saw 3\\nSkipping line 4554: expected 1 fields, saw 3\\nSkipping line 4622: expected 1 fields, saw 3\\nSkipping line 4730: expected 1 fields, saw 3\\nSkipping line 4771: expected 1 fields, saw 3\\nSkipping line 4775: expected 1 fields, saw 3\\nSkipping line 4798: expected 1 fields, saw 3\\nSkipping line 4816: expected 1 fields, saw 2\\nSkipping line 4839: expected 1 fields, saw 3\\nSkipping line 4866: expected 1 fields, saw 3\\nSkipping line 4884: expected 1 fields, saw 2\\nSkipping line 4907: expected 1 fields, saw 3\\nSkipping line 4934: expected 1 fields, saw 3\\nSkipping line 4952: expected 1 fields, saw 2\\nSkipping line 5002: expected 1 fields, saw 3\\nSkipping line 5020: expected 1 fields, saw 3\\nSkipping line 5043: expected 1 fields, saw 3\\nSkipping line 5047: expected 1 fields, saw 3\\nSkipping line 5070: expected 1 fields, saw 3\\nSkipping line 5098: expected 1 fields, saw 2\\nSkipping line 5138: expected 1 fields, saw 3\\nSkipping line 5156: expected 1 fields, saw 3\\nSkipping line 5206: expected 1 fields, saw 3\\nSkipping line 5224: expected 1 fields, saw 3\\nSkipping line 5234: expected 1 fields, saw 2\\nSkipping line 5274: expected 1 fields, saw 3\\nSkipping line 5292: expected 1 fields, saw 2\\nSkipping line 5342: expected 1 fields, saw 3\\nSkipping line 5360: expected 1 fields, saw 2\\nSkipping line 5370: expected 1 fields, saw 2\\nSkipping line 5386: expected 1 fields, saw 2\\nSkipping line 5410: expected 1 fields, saw 3\\nSkipping line 5428: expected 1 fields, saw 2\\nSkipping line 5506: expected 1 fields, saw 2\\nSkipping line 5519: expected 1 fields, saw 3\\nSkipping line 5546: expected 1 fields, saw 3\\nSkipping line 5564: expected 1 fields, saw 2\\nSkipping line 5614: expected 1 fields, saw 3\\nSkipping line 5642: expected 1 fields, saw 3\\nSkipping line 5655: expected 1 fields, saw 3\\nSkipping line 5700: expected 1 fields, saw 3\\nSkipping line 5741: expected 1 fields, saw 2\\nSkipping line 5742: expected 1 fields, saw 3\\nSkipping line 5743: expected 1 fields, saw 3\\nSkipping line 5745: expected 1 fields, saw 3\\nSkipping line 5747: expected 1 fields, saw 3\\nSkipping line 5748: expected 1 fields, saw 3\\nSkipping line 5749: expected 1 fields, saw 3\\nSkipping line 5750: expected 1 fields, saw 3\\nSkipping line 5751: expected 1 fields, saw 3\\nSkipping line 5752: expected 1 fields, saw 3\\nSkipping line 5753: expected 1 fields, saw 3\\nSkipping line 5754: expected 1 fields, saw 3\\nSkipping line 5755: expected 1 fields, saw 3\\nSkipping line 5826: expected 1 fields, saw 2\\nSkipping line 5833: expected 1 fields, saw 2\\nSkipping line 5845: expected 1 fields, saw 2\\n'\n"
          ],
          "name": "stderr"
        }
      ]
    },
    {
      "cell_type": "code",
      "metadata": {
        "id": "y04lhdLzbaYF",
        "outputId": "747db837-8987-4fdf-8ca1-48d8b28ac343",
        "colab": {
          "base_uri": "https://localhost:8080/"
        }
      },
      "source": [
        "df.shape"
      ],
      "execution_count": 15,
      "outputs": [
        {
          "output_type": "execute_result",
          "data": {
            "text/plain": [
              "(744, 1)"
            ]
          },
          "metadata": {
            "tags": []
          },
          "execution_count": 15
        }
      ]
    }
  ]
}