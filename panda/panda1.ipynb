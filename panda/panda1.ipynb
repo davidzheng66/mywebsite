{
  "nbformat": 4,
  "nbformat_minor": 0,
  "metadata": {
    "colab": {
      "name": "Untitled",
      "provenance": [],
      "authorship_tag": "ABX9TyNNTA6TCAO1iqt+kTuLsBS6",
      "include_colab_link": true
    },
    "kernelspec": {
      "name": "python3",
      "display_name": "Python 3"
    }
  },
  "cells": [
    {
      "cell_type": "markdown",
      "metadata": {
        "id": "view-in-github",
        "colab_type": "text"
      },
      "source": [
        "<a href=\"https://colab.research.google.com/github/davidzheng66/python3/blob/master/panda/panda1.ipynb\" target=\"_parent\"><img src=\"https://colab.research.google.com/assets/colab-badge.svg\" alt=\"Open In Colab\"/></a>"
      ]
    },
    {
      "cell_type": "code",
      "metadata": {
        "id": "Afmm6AEaF4Jt"
      },
      "source": [
        "%tensorflow_version 2.x  # this line is not required unless you are in a notebook"
      ],
      "execution_count": null,
      "outputs": []
    },
    {
      "cell_type": "code",
      "metadata": {
        "id": "AvwmXBRtMBaP"
      },
      "source": [
        "import tensorflow as tf  # now import the tensorflow module\r\n",
        "print(tf.version)  # make sure the version is 2.x"
      ],
      "execution_count": null,
      "outputs": []
    },
    {
      "cell_type": "code",
      "metadata": {
        "id": "WwXbGjzQMGqZ"
      },
      "source": [
        "import sys\r\n",
        "print(sys.version)"
      ],
      "execution_count": null,
      "outputs": []
    },
    {
      "cell_type": "code",
      "metadata": {
        "id": "ymj--VzYMhA5",
        "colab": {
          "base_uri": "https://localhost:8080/"
        },
        "outputId": "0974ae0c-0ae2-4402-c40d-e5b95ffd46a4"
      },
      "source": [
        "import platform\r\n",
        "print(platform.python_version())"
      ],
      "execution_count": null,
      "outputs": [
        {
          "output_type": "stream",
          "text": [
            "3.6.9\n"
          ],
          "name": "stdout"
        }
      ]
    },
    {
      "cell_type": "markdown",
      "metadata": {
        "id": "sMbnqFsSZvDr"
      },
      "source": [
        "# Corey Schafer [Python Panda Tutorial](https://www.youtube.com/watch?v=ZyhVh-qRZPA&list=PL-osiE80TeTsWmV9i9c58mdDCSskIFdDS)"
      ]
    },
    {
      "cell_type": "markdown",
      "metadata": {
        "id": "JXjTekyPakBm"
      },
      "source": [
        "#[1. Getting Started with Data Analysis - Installation and Loading Data](https://www.youtube.com/watch?v=ZyhVh-qRZPA&list=PL-osiE80TeTsWmV9i9c58mdDCSskIFdDS)\r\n",
        "* [Pandas(Panel Data): Python Data Analysis Library](https://pandas.pydata.org/)\r\n",
        "* Install packages:\r\n",
        " * pip install pandas\r\n",
        " * pip install jupyterlab\r\n",
        "* [Stack Overflow Annual Developer Survey(Data)](https://insights.stackoverflow.com/survey)\r\n",
        "\r\n"
      ]
    },
    {
      "cell_type": "code",
      "metadata": {
        "id": "DoQAWcWaX8yc"
      },
      "source": [
        "!pip install -q sklearn"
      ],
      "execution_count": null,
      "outputs": []
    },
    {
      "cell_type": "markdown",
      "metadata": {
        "id": "Z-ZK911eHlJ_"
      },
      "source": [
        "$$\r\n",
        "\\int_0^\\infty x^2dx\r\n",
        "$$"
      ]
    },
    {
      "cell_type": "code",
      "metadata": {
        "id": "S_ttsqk_YSvu"
      },
      "source": [
        "import pandas as pd # Note: it depends on numpy==1.19.3, it doesn't work with numpy==1.19.4"
      ],
      "execution_count": 2,
      "outputs": []
    },
    {
      "cell_type": "code",
      "metadata": {
        "id": "5WiuXBlRbDmh"
      },
      "source": [
        "df = pd.read_csv('https://raw.githubusercontent.com/davidzheng66/python3/master/panda/data/survey_results_public.csv') # Note: it needs to use \"raw\" format\r\n",
        "df"
      ],
      "execution_count": null,
      "outputs": []
    },
    {
      "cell_type": "code",
      "metadata": {
        "id": "qjIB6ozY9U7Z"
      },
      "source": [
        "pd.set_option('display.max_columns', 85)\r\n",
        "pd.set_option('display.min_rows', 10)\r\n",
        "# pd.get_option('display.min_rows')"
      ],
      "execution_count": 9,
      "outputs": []
    },
    {
      "cell_type": "code",
      "metadata": {
        "id": "tzNNpE8CEPI9"
      },
      "source": [
        "df_schema = pd.read_csv('https://raw.githubusercontent.com/davidzheng66/python3/master/panda/data/survey_results_schema.csv')\r\n",
        "df_schema.head()"
      ],
      "execution_count": null,
      "outputs": []
    },
    {
      "cell_type": "code",
      "metadata": {
        "id": "ACkJpRNR93YH"
      },
      "source": [
        "df_schema.shape"
      ],
      "execution_count": null,
      "outputs": []
    },
    {
      "cell_type": "code",
      "metadata": {
        "id": "y6o_ft0996wU"
      },
      "source": [
        "df.columns"
      ],
      "execution_count": null,
      "outputs": []
    },
    {
      "cell_type": "code",
      "metadata": {
        "id": "JXCkVRN499N2"
      },
      "source": [
        "df['Hobbyist']"
      ],
      "execution_count": null,
      "outputs": []
    },
    {
      "cell_type": "code",
      "metadata": {
        "id": "elHg72vuN_Gf"
      },
      "source": [
        "df['Hobbyist'].value_counts()"
      ],
      "execution_count": null,
      "outputs": []
    },
    {
      "cell_type": "code",
      "metadata": {
        "id": "OjMIz4g9OmVq"
      },
      "source": [
        "df.loc[0, 'Hobbyist']"
      ],
      "execution_count": null,
      "outputs": []
    },
    {
      "cell_type": "code",
      "metadata": {
        "id": "dAs8Fnkb99BW"
      },
      "source": [
        "df.loc[0:2, 'Hobbyist':'Employment'] # note: row 2 is not inclusive, but column 'Employment' is inclusive"
      ],
      "execution_count": null,
      "outputs": []
    },
    {
      "cell_type": "markdown",
      "metadata": {
        "id": "BMwSvWx5eRex"
      },
      "source": [
        "#[2. DataFrame and Series Basics - Selecting Rows and Colums](https://www.youtube.com/watch?v=zmdjNSmRXF4&list=PL-osiE80TeTsWmV9i9c58mdDCSskIFdDS&index=2)"
      ]
    },
    {
      "cell_type": "code",
      "metadata": {
        "id": "RsXYQ9iwII2r"
      },
      "source": [
        "person = {\r\n",
        "    \"first\": \"Corey\", \r\n",
        "    \"last\": \"Schafer\", \r\n",
        "    \"email\": \"CoreyMSchafer@gmail.com\"\r\n",
        "}\r\n",
        "person"
      ],
      "execution_count": null,
      "outputs": []
    },
    {
      "cell_type": "code",
      "metadata": {
        "id": "PuwiJ0Ax8bEI"
      },
      "source": [
        "\r\n",
        "people = {\r\n",
        "    \"first\": [\"Corey\"], \r\n",
        "    \"last\": [\"Schafer\"], \r\n",
        "    \"email\": [\"CoreyMSchafer@gmail.com\"]\r\n",
        "}\r\n",
        "people"
      ],
      "execution_count": null,
      "outputs": []
    },
    {
      "cell_type": "code",
      "metadata": {
        "id": "VwoMbUPB8pgY"
      },
      "source": [
        "people = {\r\n",
        "    \"first\": [\"Corey\", 'Jane', 'John'], \r\n",
        "    \"last\": [\"Schafer\", 'Doe', 'Doe'], \r\n",
        "    \"email\": [\"CoreyMSchafer@gmail.com\", 'JaneDoe@email.com', 'JohnDoe@email.com']\r\n",
        "}\r\n",
        "people"
      ],
      "execution_count": null,
      "outputs": []
    },
    {
      "cell_type": "code",
      "metadata": {
        "id": "REodcRjD9VFq"
      },
      "source": [
        "people['email']"
      ],
      "execution_count": null,
      "outputs": []
    },
    {
      "cell_type": "code",
      "metadata": {
        "id": "_yW_r_Ab-1q0"
      },
      "source": [
        "import pandas as pd\r\n",
        "\r\n",
        "df = pd.DataFrame(people)\r\n",
        "df"
      ],
      "execution_count": null,
      "outputs": []
    },
    {
      "cell_type": "code",
      "metadata": {
        "id": "kYeG1Z53_BbV"
      },
      "source": [
        "df['email']"
      ],
      "execution_count": null,
      "outputs": []
    },
    {
      "cell_type": "code",
      "metadata": {
        "id": "zk9Z0AAt_Td2"
      },
      "source": [
        "df.email"
      ],
      "execution_count": null,
      "outputs": []
    },
    {
      "cell_type": "code",
      "metadata": {
        "id": "6x5qeJ6Q_MDH"
      },
      "source": [
        "type(df['email'])"
      ],
      "execution_count": null,
      "outputs": []
    },
    {
      "cell_type": "code",
      "metadata": {
        "id": "Qydv54iEBEPe"
      },
      "source": [
        "df[['last','email']]"
      ],
      "execution_count": null,
      "outputs": []
    },
    {
      "cell_type": "code",
      "metadata": {
        "id": "CufwJHkQKJK8"
      },
      "source": [
        "type(df[['last','email']])"
      ],
      "execution_count": null,
      "outputs": []
    },
    {
      "cell_type": "code",
      "metadata": {
        "id": "EhcV6Dx6KgWq"
      },
      "source": [
        "df.columns"
      ],
      "execution_count": null,
      "outputs": []
    },
    {
      "cell_type": "code",
      "metadata": {
        "id": "dQkFEC1KLGaz"
      },
      "source": [
        "df.iloc[0:2]"
      ],
      "execution_count": null,
      "outputs": []
    },
    {
      "cell_type": "code",
      "metadata": {
        "id": "MJUskCk1Kkde"
      },
      "source": [
        "df.iloc[[0,1],2]"
      ],
      "execution_count": null,
      "outputs": []
    },
    {
      "cell_type": "code",
      "metadata": {
        "id": "vGW4pOysLx-f"
      },
      "source": [
        "df.loc[0]"
      ],
      "execution_count": null,
      "outputs": []
    },
    {
      "cell_type": "code",
      "metadata": {
        "id": "0avgebyBL8tN"
      },
      "source": [
        "df.loc[[0,1], ['email','last']]"
      ],
      "execution_count": null,
      "outputs": []
    },
    {
      "cell_type": "markdown",
      "metadata": {
        "id": "MUgmlbMkP3t3"
      },
      "source": [
        "#[3. Indexes - How to Set, Reset, and Use Indexed](https://www.youtube.com/watch?v=W9XjRYFkkyw&list=PL-osiE80TeTsWmV9i9c58mdDCSskIFdDS&index=3)"
      ]
    }
  ]
}