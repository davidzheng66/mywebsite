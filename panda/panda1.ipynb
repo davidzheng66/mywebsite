{
  "nbformat": 4,
  "nbformat_minor": 0,
  "metadata": {
    "colab": {
      "name": "Untitled",
      "provenance": [],
      "authorship_tag": "ABX9TyMCk6bGIK11OLSi7oIzoHKF",
      "include_colab_link": true
    },
    "kernelspec": {
      "name": "python3",
      "display_name": "Python 3"
    }
  },
  "cells": [
    {
      "cell_type": "markdown",
      "metadata": {
        "id": "view-in-github",
        "colab_type": "text"
      },
      "source": [
        "<a href=\"https://colab.research.google.com/github/davidzheng66/python3/blob/master/panda/panda1.ipynb\" target=\"_parent\"><img src=\"https://colab.research.google.com/assets/colab-badge.svg\" alt=\"Open In Colab\"/></a>"
      ]
    },
    {
      "cell_type": "code",
      "metadata": {
        "id": "Afmm6AEaF4Jt"
      },
      "source": [
        "%tensorflow_version 2.x  # this line is not required unless you are in a notebook"
      ],
      "execution_count": null,
      "outputs": []
    },
    {
      "cell_type": "code",
      "metadata": {
        "id": "AvwmXBRtMBaP"
      },
      "source": [
        "import tensorflow as tf  # now import the tensorflow module\r\n",
        "print(tf.version)  # make sure the version is 2.x"
      ],
      "execution_count": null,
      "outputs": []
    },
    {
      "cell_type": "code",
      "metadata": {
        "id": "WwXbGjzQMGqZ"
      },
      "source": [
        "import sys\r\n",
        "print(sys.version)"
      ],
      "execution_count": null,
      "outputs": []
    },
    {
      "cell_type": "code",
      "metadata": {
        "id": "ymj--VzYMhA5",
        "colab": {
          "base_uri": "https://localhost:8080/"
        },
        "outputId": "0974ae0c-0ae2-4402-c40d-e5b95ffd46a4"
      },
      "source": [
        "import platform\r\n",
        "print(platform.python_version())"
      ],
      "execution_count": null,
      "outputs": [
        {
          "output_type": "stream",
          "text": [
            "3.6.9\n"
          ],
          "name": "stdout"
        }
      ]
    },
    {
      "cell_type": "markdown",
      "metadata": {
        "id": "sMbnqFsSZvDr"
      },
      "source": [
        "# Corey Schafer [Python Panda Tutorial](https://www.youtube.com/watch?v=ZyhVh-qRZPA&list=PL-osiE80TeTsWmV9i9c58mdDCSskIFdDS)"
      ]
    },
    {
      "cell_type": "markdown",
      "metadata": {
        "id": "JXjTekyPakBm"
      },
      "source": [
        "#[1. Getting Started with Data Analysis - Installation and Loading Data](https://www.youtube.com/watch?v=ZyhVh-qRZPA&list=PL-osiE80TeTsWmV9i9c58mdDCSskIFdDS)\r\n",
        "* [Pandas(Panel Data): Python Data Analysis Library](https://pandas.pydata.org/)\r\n",
        "* Install packages:\r\n",
        " * pip install pandas\r\n",
        " * pip install jupyterlab\r\n",
        "* [Stack Overflow Annual Developer Survey(Data)](https://insights.stackoverflow.com/survey)\r\n",
        "\r\n"
      ]
    },
    {
      "cell_type": "code",
      "metadata": {
        "id": "DoQAWcWaX8yc"
      },
      "source": [
        "!pip install -q sklearn"
      ],
      "execution_count": null,
      "outputs": []
    },
    {
      "cell_type": "markdown",
      "metadata": {
        "id": "Z-ZK911eHlJ_"
      },
      "source": [
        "$$\r\n",
        "\\int_0^\\infty x^2dx\r\n",
        "$$"
      ]
    },
    {
      "cell_type": "code",
      "metadata": {
        "id": "S_ttsqk_YSvu"
      },
      "source": [
        "import pandas as pd # Note: it depends on numpy==1.19.3, it doesn't work with numpy==1.19.4"
      ],
      "execution_count": null,
      "outputs": []
    },
    {
      "cell_type": "code",
      "metadata": {
        "id": "5WiuXBlRbDmh"
      },
      "source": [
        "df = pd.read_csv('https://raw.githubusercontent.com/davidzheng66/python3/master/panda/data/survey_results_public.csv') # Note: it needs to use \"raw\" format\r\n",
        "df"
      ],
      "execution_count": null,
      "outputs": []
    },
    {
      "cell_type": "code",
      "metadata": {
        "id": "qjIB6ozY9U7Z"
      },
      "source": [
        "pd.set_option('display.max_columns', 85)\r\n",
        "pd.set_option('display.min_rows', 10)\r\n",
        "# pd.get_option('display.min_rows')"
      ],
      "execution_count": null,
      "outputs": []
    },
    {
      "cell_type": "code",
      "metadata": {
        "id": "tzNNpE8CEPI9"
      },
      "source": [
        "df_schema = pd.read_csv('https://raw.githubusercontent.com/davidzheng66/python3/master/panda/data/survey_results_schema.csv')\r\n",
        "df_schema.head()"
      ],
      "execution_count": null,
      "outputs": []
    },
    {
      "cell_type": "code",
      "metadata": {
        "id": "ACkJpRNR93YH"
      },
      "source": [
        "df_schema.shape"
      ],
      "execution_count": null,
      "outputs": []
    },
    {
      "cell_type": "code",
      "metadata": {
        "id": "y6o_ft0996wU"
      },
      "source": [
        "df.columns"
      ],
      "execution_count": null,
      "outputs": []
    },
    {
      "cell_type": "code",
      "metadata": {
        "id": "JXCkVRN499N2"
      },
      "source": [
        "df['Hobbyist']"
      ],
      "execution_count": null,
      "outputs": []
    },
    {
      "cell_type": "code",
      "metadata": {
        "id": "elHg72vuN_Gf"
      },
      "source": [
        "df['Hobbyist'].value_counts()"
      ],
      "execution_count": null,
      "outputs": []
    },
    {
      "cell_type": "code",
      "metadata": {
        "id": "OjMIz4g9OmVq"
      },
      "source": [
        "df.loc[0, 'Hobbyist']"
      ],
      "execution_count": null,
      "outputs": []
    },
    {
      "cell_type": "code",
      "metadata": {
        "id": "dAs8Fnkb99BW"
      },
      "source": [
        "df.loc[0:2, 'Hobbyist':'Employment'] # note: row 2 is not inclusive, but column 'Employment' is inclusive"
      ],
      "execution_count": null,
      "outputs": []
    },
    {
      "cell_type": "markdown",
      "metadata": {
        "id": "BMwSvWx5eRex"
      },
      "source": [
        "#[2. DataFrame and Series Basics - Selecting Rows and Colums](https://www.youtube.com/watch?v=zmdjNSmRXF4&list=PL-osiE80TeTsWmV9i9c58mdDCSskIFdDS&index=2)"
      ]
    },
    {
      "cell_type": "code",
      "metadata": {
        "id": "RsXYQ9iwII2r"
      },
      "source": [
        "person = {\r\n",
        "    \"first\": \"Corey\", \r\n",
        "    \"last\": \"Schafer\", \r\n",
        "    \"email\": \"CoreyMSchafer@gmail.com\"\r\n",
        "}\r\n",
        "person"
      ],
      "execution_count": null,
      "outputs": []
    },
    {
      "cell_type": "code",
      "metadata": {
        "id": "PuwiJ0Ax8bEI"
      },
      "source": [
        "\r\n",
        "people = {\r\n",
        "    \"first\": [\"Corey\"], \r\n",
        "    \"last\": [\"Schafer\"], \r\n",
        "    \"email\": [\"CoreyMSchafer@gmail.com\"]\r\n",
        "}\r\n",
        "people"
      ],
      "execution_count": null,
      "outputs": []
    },
    {
      "cell_type": "code",
      "metadata": {
        "id": "VwoMbUPB8pgY"
      },
      "source": [
        "people = {\r\n",
        "    \"first\": [\"Corey\", 'Jane', 'John'], \r\n",
        "    \"last\": [\"Schafer\", 'Doe', 'Doe'], \r\n",
        "    \"email\": [\"CoreyMSchafer@gmail.com\", 'JaneDoe@email.com', 'JohnDoe@email.com']\r\n",
        "}\r\n",
        "people"
      ],
      "execution_count": null,
      "outputs": []
    },
    {
      "cell_type": "code",
      "metadata": {
        "id": "REodcRjD9VFq"
      },
      "source": [
        "people['email']"
      ],
      "execution_count": null,
      "outputs": []
    },
    {
      "cell_type": "code",
      "metadata": {
        "id": "_yW_r_Ab-1q0"
      },
      "source": [
        "import pandas as pd\r\n",
        "\r\n",
        "df = pd.DataFrame(people)\r\n",
        "df"
      ],
      "execution_count": null,
      "outputs": []
    },
    {
      "cell_type": "code",
      "metadata": {
        "id": "kYeG1Z53_BbV"
      },
      "source": [
        "df['email']"
      ],
      "execution_count": null,
      "outputs": []
    },
    {
      "cell_type": "code",
      "metadata": {
        "id": "zk9Z0AAt_Td2"
      },
      "source": [
        "df.email"
      ],
      "execution_count": null,
      "outputs": []
    },
    {
      "cell_type": "code",
      "metadata": {
        "id": "6x5qeJ6Q_MDH"
      },
      "source": [
        "type(df['email'])"
      ],
      "execution_count": null,
      "outputs": []
    },
    {
      "cell_type": "code",
      "metadata": {
        "id": "Qydv54iEBEPe"
      },
      "source": [
        "df[['last','email']]"
      ],
      "execution_count": null,
      "outputs": []
    },
    {
      "cell_type": "code",
      "metadata": {
        "id": "CufwJHkQKJK8"
      },
      "source": [
        "type(df[['last','email']])"
      ],
      "execution_count": null,
      "outputs": []
    },
    {
      "cell_type": "code",
      "metadata": {
        "id": "EhcV6Dx6KgWq"
      },
      "source": [
        "df.columns"
      ],
      "execution_count": null,
      "outputs": []
    },
    {
      "cell_type": "code",
      "metadata": {
        "id": "dQkFEC1KLGaz"
      },
      "source": [
        "df.iloc[0:2]"
      ],
      "execution_count": null,
      "outputs": []
    },
    {
      "cell_type": "code",
      "metadata": {
        "id": "MJUskCk1Kkde"
      },
      "source": [
        "df.iloc[[0,1],2]"
      ],
      "execution_count": null,
      "outputs": []
    },
    {
      "cell_type": "code",
      "metadata": {
        "id": "vGW4pOysLx-f"
      },
      "source": [
        "df.loc[0]"
      ],
      "execution_count": null,
      "outputs": []
    },
    {
      "cell_type": "code",
      "metadata": {
        "id": "0avgebyBL8tN"
      },
      "source": [
        "df.loc[[0,1], ['email','last']]"
      ],
      "execution_count": null,
      "outputs": []
    },
    {
      "cell_type": "markdown",
      "metadata": {
        "id": "MUgmlbMkP3t3"
      },
      "source": [
        "#[3. Indexes - How to Set, Reset, and Use Indexed](https://www.youtube.com/watch?v=W9XjRYFkkyw&list=PL-osiE80TeTsWmV9i9c58mdDCSskIFdDS&index=3)"
      ]
    },
    {
      "cell_type": "code",
      "metadata": {
        "id": "wWa0c4SWf4WX"
      },
      "source": [
        "people = {\r\n",
        "    \"first\": [\"Corey\", 'Jane', 'John'], \r\n",
        "    \"last\": [\"Schafer\", 'Doe', 'Doe'], \r\n",
        "    \"email\": [\"CoreyMSchafer@gmail.com\", 'JaneDoe@email.com', 'JohnDoe@email.com']\r\n",
        "}\r\n",
        "people"
      ],
      "execution_count": null,
      "outputs": []
    },
    {
      "cell_type": "code",
      "metadata": {
        "id": "GoCXxjBTgINf"
      },
      "source": [
        "import pandas as pd\r\n",
        "df = pd.DataFrame(people)\r\n",
        "df"
      ],
      "execution_count": null,
      "outputs": []
    },
    {
      "cell_type": "code",
      "metadata": {
        "id": "8opOi_9egLiL"
      },
      "source": [
        "df['email']"
      ],
      "execution_count": null,
      "outputs": []
    },
    {
      "cell_type": "code",
      "metadata": {
        "id": "MwuU0MDlgWSg"
      },
      "source": [
        "df.set_index('email', inplace=True)"
      ],
      "execution_count": null,
      "outputs": []
    },
    {
      "cell_type": "code",
      "metadata": {
        "id": "ZINxodPpgveb"
      },
      "source": [
        "df"
      ],
      "execution_count": null,
      "outputs": []
    },
    {
      "cell_type": "code",
      "metadata": {
        "colab": {
          "base_uri": "https://localhost:8080/"
        },
        "id": "4ctPefX0hDyr",
        "outputId": "6230df18-9316-46ab-9837-99e0c4fd3800"
      },
      "source": [
        "df.index"
      ],
      "execution_count": null,
      "outputs": [
        {
          "output_type": "execute_result",
          "data": {
            "text/plain": [
              "Index(['CoreyMSchafer@gmail.com', 'JaneDoe@email.com', 'JohnDoe@email.com'], dtype='object', name='email')"
            ]
          },
          "metadata": {
            "tags": []
          },
          "execution_count": 58
        }
      ]
    },
    {
      "cell_type": "code",
      "metadata": {
        "id": "isjm_I-nhaY0"
      },
      "source": [
        "df.loc['CoreyMSchafer@gmail.com', 'last']"
      ],
      "execution_count": null,
      "outputs": []
    },
    {
      "cell_type": "code",
      "metadata": {
        "id": "NcQMIr9Jhtzl"
      },
      "source": [
        "# df.loc[0] # note: error after seting the index, it needs to use iloc\r\n",
        "df.iloc[0]\r\n",
        "df\r\n",
        "df.reset_index(inplace=True)\r\n",
        "df"
      ],
      "execution_count": null,
      "outputs": []
    },
    {
      "cell_type": "code",
      "metadata": {
        "id": "hJpLbQB3jGAy"
      },
      "source": [
        "df = pd.read_csv('https://raw.githubusercontent.com/davidzheng66/python3/master/panda/data/survey_results_public.csv', index_col='Respondent')\r\n",
        "df.head()"
      ],
      "execution_count": null,
      "outputs": []
    },
    {
      "cell_type": "code",
      "metadata": {
        "id": "5CuSqQ3Vjwto"
      },
      "source": [
        "df.loc[1]"
      ],
      "execution_count": null,
      "outputs": []
    },
    {
      "cell_type": "code",
      "metadata": {
        "id": "jXX3blN-kCGJ"
      },
      "source": [
        "df_schema = pd.read_csv('https://raw.githubusercontent.com/davidzheng66/python3/master/panda/data/survey_results_schema.csv', index_col='Column')\r\n",
        "# df_schema.head()\r\n",
        "# df_schema.loc['Hobbyist']\r\n",
        "# df_schema.loc['MgrIdiot']\r\n",
        "df_schema.loc['MgrIdiot', 'QuestionText']"
      ],
      "execution_count": null,
      "outputs": []
    },
    {
      "cell_type": "code",
      "metadata": {
        "id": "Bhex-fWsl_pv"
      },
      "source": [
        "df_schema.sort_index(ascending=False, inplace=True)\r\n",
        "df_schema"
      ],
      "execution_count": null,
      "outputs": []
    },
    {
      "cell_type": "markdown",
      "metadata": {
        "id": "cej0M5eQn8St"
      },
      "source": [
        "#[4. Filtering - Using Conditionals to Filter Rows and Columns](https://www.youtube.com/watch?v=Lw2rlcxScZY&list=PL-osiE80TeTsWmV9i9c58mdDCSskIFdDS&index=4)"
      ]
    },
    {
      "cell_type": "code",
      "metadata": {
        "id": "3MPyKBWOoPTw"
      },
      "source": [
        "import pandas as pd\r\n",
        "\r\n",
        "people = {\r\n",
        "    \"first\": [\"Corey\", 'Jane', 'John'], \r\n",
        "    \"last\": [\"Schafer\", 'Doe', 'Doe'], \r\n",
        "    \"email\": [\"CoreyMSchafer@gmail.com\", 'JaneDoe@email.com', 'JohnDoe@email.com']\r\n",
        "}\r\n",
        "\r\n",
        "df = pd.DataFrame(people)"
      ],
      "execution_count": null,
      "outputs": []
    },
    {
      "cell_type": "code",
      "metadata": {
        "id": "_bkNGVvNpgHm",
        "colab": {
          "base_uri": "https://localhost:8080/",
          "height": 80
        },
        "outputId": "6abdc143-f39b-4245-b480-c31c92dfc1c3"
      },
      "source": [
        "filt = (df['last'] == 'Doe') & (df['first'] == 'John')\r\n",
        "df[filt]"
      ],
      "execution_count": null,
      "outputs": [
        {
          "output_type": "execute_result",
          "data": {
            "text/html": [
              "<div>\n",
              "<style scoped>\n",
              "    .dataframe tbody tr th:only-of-type {\n",
              "        vertical-align: middle;\n",
              "    }\n",
              "\n",
              "    .dataframe tbody tr th {\n",
              "        vertical-align: top;\n",
              "    }\n",
              "\n",
              "    .dataframe thead th {\n",
              "        text-align: right;\n",
              "    }\n",
              "</style>\n",
              "<table border=\"1\" class=\"dataframe\">\n",
              "  <thead>\n",
              "    <tr style=\"text-align: right;\">\n",
              "      <th></th>\n",
              "      <th>first</th>\n",
              "      <th>last</th>\n",
              "      <th>email</th>\n",
              "    </tr>\n",
              "  </thead>\n",
              "  <tbody>\n",
              "    <tr>\n",
              "      <th>2</th>\n",
              "      <td>John</td>\n",
              "      <td>Doe</td>\n",
              "      <td>JohnDoe@email.com</td>\n",
              "    </tr>\n",
              "  </tbody>\n",
              "</table>\n",
              "</div>"
            ],
            "text/plain": [
              "  first last              email\n",
              "2  John  Doe  JohnDoe@email.com"
            ]
          },
          "metadata": {
            "tags": []
          },
          "execution_count": 3
        }
      ]
    },
    {
      "cell_type": "code",
      "metadata": {
        "id": "KwYWl5aZqFc0"
      },
      "source": [
        "df.loc[filt, 'email']"
      ],
      "execution_count": null,
      "outputs": []
    },
    {
      "cell_type": "code",
      "metadata": {
        "id": "if80mn_xRALo"
      },
      "source": [
        "df.loc[~filt, 'email']"
      ],
      "execution_count": null,
      "outputs": []
    },
    {
      "cell_type": "code",
      "metadata": {
        "id": "ThIw_b9lRUzv"
      },
      "source": [
        "df = pd.read_csv('https://raw.githubusercontent.com/davidzheng66/python3/master/panda/data/survey_results_public.csv', index_col='Respondent')"
      ],
      "execution_count": null,
      "outputs": []
    },
    {
      "cell_type": "code",
      "metadata": {
        "id": "A78Qgr0pRlvt"
      },
      "source": [
        "df_schema = pd.read_csv('https://raw.githubusercontent.com/davidzheng66/python3/master/panda/data/survey_results_schema.csv', index_col='Column')"
      ],
      "execution_count": null,
      "outputs": []
    },
    {
      "cell_type": "code",
      "metadata": {
        "id": "G7LWGNq4RqVy"
      },
      "source": [
        "high_salary = (df['ConvertedComp'] > 130000)"
      ],
      "execution_count": null,
      "outputs": []
    },
    {
      "cell_type": "code",
      "metadata": {
        "id": "L276kb7lR6VX"
      },
      "source": [
        "df.loc[high_salary, ['Country', 'LanguageWorkedWith', 'ConvertedComp']]"
      ],
      "execution_count": null,
      "outputs": []
    },
    {
      "cell_type": "code",
      "metadata": {
        "id": "_YK_ncsCTOGV"
      },
      "source": [
        "countries = ['United States', 'Canada', 'Germany', 'India', 'United Kindom']\r\n",
        "filt = df['Country'].isin(countries)\r\n",
        "df.loc[filt, 'Country']"
      ],
      "execution_count": null,
      "outputs": []
    },
    {
      "cell_type": "code",
      "metadata": {
        "id": "d5qx90Y0ULvt"
      },
      "source": [
        "filt = df['LanguageWorkedWith'].str.contains('Python', na=False)\r\n",
        "df.loc[filt, 'LanguageWorkedWith']"
      ],
      "execution_count": null,
      "outputs": []
    },
    {
      "cell_type": "markdown",
      "metadata": {
        "id": "Xo7_dP3rcMDh"
      },
      "source": [
        "# [5. Updating Rows and Columns - Modifying Data Within DataFrames](https://www.youtube.com/watch?v=DCDe29sIKcE&list=PL-osiE80TeTsWmV9i9c58mdDCSskIFdDS&index=5)"
      ]
    },
    {
      "cell_type": "code",
      "metadata": {
        "id": "kuRSL_MWcco7"
      },
      "source": [
        "import pandas as pd\r\n",
        "\r\n",
        "people = {\r\n",
        "    \"first\": [\"Corey\", 'Jane', 'John'], \r\n",
        "    \"last\": [\"Schafer\", 'Doe', 'Doe'], \r\n",
        "    \"email\": [\"CoreyMSchafer@gmail.com\", 'JaneDoe@email.com', 'JohnDoe@email.com']\r\n",
        "}\r\n",
        "\r\n",
        "df = pd.DataFrame(people)"
      ],
      "execution_count": 1,
      "outputs": []
    },
    {
      "cell_type": "code",
      "metadata": {
        "id": "n6gcdbFccsnq",
        "outputId": "a90070d9-a613-4d7b-97e0-a197c3627e4e",
        "colab": {
          "base_uri": "https://localhost:8080/",
          "height": 142
        }
      },
      "source": [
        "df"
      ],
      "execution_count": 2,
      "outputs": [
        {
          "output_type": "execute_result",
          "data": {
            "text/html": [
              "<div>\n",
              "<style scoped>\n",
              "    .dataframe tbody tr th:only-of-type {\n",
              "        vertical-align: middle;\n",
              "    }\n",
              "\n",
              "    .dataframe tbody tr th {\n",
              "        vertical-align: top;\n",
              "    }\n",
              "\n",
              "    .dataframe thead th {\n",
              "        text-align: right;\n",
              "    }\n",
              "</style>\n",
              "<table border=\"1\" class=\"dataframe\">\n",
              "  <thead>\n",
              "    <tr style=\"text-align: right;\">\n",
              "      <th></th>\n",
              "      <th>first</th>\n",
              "      <th>last</th>\n",
              "      <th>email</th>\n",
              "    </tr>\n",
              "  </thead>\n",
              "  <tbody>\n",
              "    <tr>\n",
              "      <th>0</th>\n",
              "      <td>Corey</td>\n",
              "      <td>Schafer</td>\n",
              "      <td>CoreyMSchafer@gmail.com</td>\n",
              "    </tr>\n",
              "    <tr>\n",
              "      <th>1</th>\n",
              "      <td>Jane</td>\n",
              "      <td>Doe</td>\n",
              "      <td>JaneDoe@email.com</td>\n",
              "    </tr>\n",
              "    <tr>\n",
              "      <th>2</th>\n",
              "      <td>John</td>\n",
              "      <td>Doe</td>\n",
              "      <td>JohnDoe@email.com</td>\n",
              "    </tr>\n",
              "  </tbody>\n",
              "</table>\n",
              "</div>"
            ],
            "text/plain": [
              "   first     last                    email\n",
              "0  Corey  Schafer  CoreyMSchafer@gmail.com\n",
              "1   Jane      Doe        JaneDoe@email.com\n",
              "2   John      Doe        JohnDoe@email.com"
            ]
          },
          "metadata": {
            "tags": []
          },
          "execution_count": 2
        }
      ]
    },
    {
      "cell_type": "code",
      "metadata": {
        "id": "Uw48iMmPcyfR"
      },
      "source": [
        "df.columns"
      ],
      "execution_count": null,
      "outputs": []
    },
    {
      "cell_type": "code",
      "metadata": {
        "id": "faYcwMSVc2pJ"
      },
      "source": [
        "type(df.columns)"
      ],
      "execution_count": null,
      "outputs": []
    },
    {
      "cell_type": "code",
      "metadata": {
        "id": "Bb8-9-1qdFbK"
      },
      "source": [
        "df.columns = ['first_name', 'last_name', 'email']\r\n",
        "df"
      ],
      "execution_count": null,
      "outputs": []
    },
    {
      "cell_type": "code",
      "metadata": {
        "id": "SULiHa6JdpdB"
      },
      "source": [
        "df.columns = [x.upper() for x in df.columns]\r\n",
        "df"
      ],
      "execution_count": null,
      "outputs": []
    },
    {
      "cell_type": "code",
      "metadata": {
        "id": "8gvMt4hAehPs"
      },
      "source": [
        "df.columns = df.columns.str.replace(' ', '_')\r\n",
        "df"
      ],
      "execution_count": null,
      "outputs": []
    },
    {
      "cell_type": "code",
      "metadata": {
        "id": "sD_dTEXJe0Tg"
      },
      "source": [
        "df.columns = [x.lower() for x in df.columns]\r\n",
        "df"
      ],
      "execution_count": null,
      "outputs": []
    },
    {
      "cell_type": "code",
      "metadata": {
        "id": "hBw9MjCAfFEQ",
        "outputId": "6c83f5b0-cd63-47c7-920f-72774f531b1d",
        "colab": {
          "base_uri": "https://localhost:8080/",
          "height": 142
        }
      },
      "source": [
        "df.rename(columns={'first_name':'first', 'last_name':'last'}, inplace=True)\r\n",
        "df"
      ],
      "execution_count": 23,
      "outputs": [
        {
          "output_type": "execute_result",
          "data": {
            "text/html": [
              "<div>\n",
              "<style scoped>\n",
              "    .dataframe tbody tr th:only-of-type {\n",
              "        vertical-align: middle;\n",
              "    }\n",
              "\n",
              "    .dataframe tbody tr th {\n",
              "        vertical-align: top;\n",
              "    }\n",
              "\n",
              "    .dataframe thead th {\n",
              "        text-align: right;\n",
              "    }\n",
              "</style>\n",
              "<table border=\"1\" class=\"dataframe\">\n",
              "  <thead>\n",
              "    <tr style=\"text-align: right;\">\n",
              "      <th></th>\n",
              "      <th>first</th>\n",
              "      <th>last</th>\n",
              "      <th>email</th>\n",
              "    </tr>\n",
              "  </thead>\n",
              "  <tbody>\n",
              "    <tr>\n",
              "      <th>0</th>\n",
              "      <td>Corey</td>\n",
              "      <td>Schafer</td>\n",
              "      <td>CoreyMSchafer@gmail.com</td>\n",
              "    </tr>\n",
              "    <tr>\n",
              "      <th>1</th>\n",
              "      <td>Jane</td>\n",
              "      <td>Doe</td>\n",
              "      <td>JaneDoe@email.com</td>\n",
              "    </tr>\n",
              "    <tr>\n",
              "      <th>2</th>\n",
              "      <td>John</td>\n",
              "      <td>Doe</td>\n",
              "      <td>JohnDoe@email.com</td>\n",
              "    </tr>\n",
              "  </tbody>\n",
              "</table>\n",
              "</div>"
            ],
            "text/plain": [
              "   first     last                    email\n",
              "0  Corey  Schafer  CoreyMSchafer@gmail.com\n",
              "1   Jane      Doe        JaneDoe@email.com\n",
              "2   John      Doe        JohnDoe@email.com"
            ]
          },
          "metadata": {
            "tags": []
          },
          "execution_count": 23
        }
      ]
    },
    {
      "cell_type": "code",
      "metadata": {
        "id": "z-JXNSRqoq42",
        "outputId": "c419d4bc-9c1b-4ad8-e259-999301ec2f8e",
        "colab": {
          "base_uri": "https://localhost:8080/",
          "height": 142
        }
      },
      "source": [
        "df.loc[2] = ['John', 'Smith', 'JohnSmith@email.com']\r\n",
        "df"
      ],
      "execution_count": 25,
      "outputs": [
        {
          "output_type": "execute_result",
          "data": {
            "text/html": [
              "<div>\n",
              "<style scoped>\n",
              "    .dataframe tbody tr th:only-of-type {\n",
              "        vertical-align: middle;\n",
              "    }\n",
              "\n",
              "    .dataframe tbody tr th {\n",
              "        vertical-align: top;\n",
              "    }\n",
              "\n",
              "    .dataframe thead th {\n",
              "        text-align: right;\n",
              "    }\n",
              "</style>\n",
              "<table border=\"1\" class=\"dataframe\">\n",
              "  <thead>\n",
              "    <tr style=\"text-align: right;\">\n",
              "      <th></th>\n",
              "      <th>first</th>\n",
              "      <th>last</th>\n",
              "      <th>email</th>\n",
              "    </tr>\n",
              "  </thead>\n",
              "  <tbody>\n",
              "    <tr>\n",
              "      <th>0</th>\n",
              "      <td>Corey</td>\n",
              "      <td>Schafer</td>\n",
              "      <td>CoreyMSchafer@gmail.com</td>\n",
              "    </tr>\n",
              "    <tr>\n",
              "      <th>1</th>\n",
              "      <td>Jane</td>\n",
              "      <td>Doe</td>\n",
              "      <td>JaneDoe@email.com</td>\n",
              "    </tr>\n",
              "    <tr>\n",
              "      <th>2</th>\n",
              "      <td>John</td>\n",
              "      <td>Smith</td>\n",
              "      <td>JohnSmith@email.com</td>\n",
              "    </tr>\n",
              "  </tbody>\n",
              "</table>\n",
              "</div>"
            ],
            "text/plain": [
              "   first     last                    email\n",
              "0  Corey  Schafer  CoreyMSchafer@gmail.com\n",
              "1   Jane      Doe        JaneDoe@email.com\n",
              "2   John    Smith      JohnSmith@email.com"
            ]
          },
          "metadata": {
            "tags": []
          },
          "execution_count": 25
        }
      ]
    },
    {
      "cell_type": "code",
      "metadata": {
        "id": "sKy5t84io9bN",
        "outputId": "28d85e53-5c75-4220-a16f-3e0669b90df3",
        "colab": {
          "base_uri": "https://localhost:8080/",
          "height": 142
        }
      },
      "source": [
        "df.loc[2, ['last','email']] =['Doe', 'JohnDoe@email.com']\r\n",
        "df"
      ],
      "execution_count": 27,
      "outputs": [
        {
          "output_type": "execute_result",
          "data": {
            "text/html": [
              "<div>\n",
              "<style scoped>\n",
              "    .dataframe tbody tr th:only-of-type {\n",
              "        vertical-align: middle;\n",
              "    }\n",
              "\n",
              "    .dataframe tbody tr th {\n",
              "        vertical-align: top;\n",
              "    }\n",
              "\n",
              "    .dataframe thead th {\n",
              "        text-align: right;\n",
              "    }\n",
              "</style>\n",
              "<table border=\"1\" class=\"dataframe\">\n",
              "  <thead>\n",
              "    <tr style=\"text-align: right;\">\n",
              "      <th></th>\n",
              "      <th>first</th>\n",
              "      <th>last</th>\n",
              "      <th>email</th>\n",
              "    </tr>\n",
              "  </thead>\n",
              "  <tbody>\n",
              "    <tr>\n",
              "      <th>0</th>\n",
              "      <td>Corey</td>\n",
              "      <td>Schafer</td>\n",
              "      <td>CoreyMSchafer@gmail.com</td>\n",
              "    </tr>\n",
              "    <tr>\n",
              "      <th>1</th>\n",
              "      <td>Jane</td>\n",
              "      <td>Doe</td>\n",
              "      <td>JaneDoe@email.com</td>\n",
              "    </tr>\n",
              "    <tr>\n",
              "      <th>2</th>\n",
              "      <td>John</td>\n",
              "      <td>Doe</td>\n",
              "      <td>JohnDoe@email.com</td>\n",
              "    </tr>\n",
              "  </tbody>\n",
              "</table>\n",
              "</div>"
            ],
            "text/plain": [
              "   first     last                    email\n",
              "0  Corey  Schafer  CoreyMSchafer@gmail.com\n",
              "1   Jane      Doe        JaneDoe@email.com\n",
              "2   John      Doe        JohnDoe@email.com"
            ]
          },
          "metadata": {
            "tags": []
          },
          "execution_count": 27
        }
      ]
    },
    {
      "cell_type": "code",
      "metadata": {
        "id": "fJvahw94pTyk",
        "outputId": "b44fe18d-fac7-4d38-c33d-6a9d9764792e",
        "colab": {
          "base_uri": "https://localhost:8080/",
          "height": 142
        }
      },
      "source": [
        "df.loc[2, 'last'] = 'Smith'\r\n",
        "df"
      ],
      "execution_count": 29,
      "outputs": [
        {
          "output_type": "execute_result",
          "data": {
            "text/html": [
              "<div>\n",
              "<style scoped>\n",
              "    .dataframe tbody tr th:only-of-type {\n",
              "        vertical-align: middle;\n",
              "    }\n",
              "\n",
              "    .dataframe tbody tr th {\n",
              "        vertical-align: top;\n",
              "    }\n",
              "\n",
              "    .dataframe thead th {\n",
              "        text-align: right;\n",
              "    }\n",
              "</style>\n",
              "<table border=\"1\" class=\"dataframe\">\n",
              "  <thead>\n",
              "    <tr style=\"text-align: right;\">\n",
              "      <th></th>\n",
              "      <th>first</th>\n",
              "      <th>last</th>\n",
              "      <th>email</th>\n",
              "    </tr>\n",
              "  </thead>\n",
              "  <tbody>\n",
              "    <tr>\n",
              "      <th>0</th>\n",
              "      <td>Corey</td>\n",
              "      <td>Schafer</td>\n",
              "      <td>CoreyMSchafer@gmail.com</td>\n",
              "    </tr>\n",
              "    <tr>\n",
              "      <th>1</th>\n",
              "      <td>Jane</td>\n",
              "      <td>Doe</td>\n",
              "      <td>JaneDoe@email.com</td>\n",
              "    </tr>\n",
              "    <tr>\n",
              "      <th>2</th>\n",
              "      <td>John</td>\n",
              "      <td>Smith</td>\n",
              "      <td>JohnDoe@email.com</td>\n",
              "    </tr>\n",
              "  </tbody>\n",
              "</table>\n",
              "</div>"
            ],
            "text/plain": [
              "   first     last                    email\n",
              "0  Corey  Schafer  CoreyMSchafer@gmail.com\n",
              "1   Jane      Doe        JaneDoe@email.com\n",
              "2   John    Smith        JohnDoe@email.com"
            ]
          },
          "metadata": {
            "tags": []
          },
          "execution_count": 29
        }
      ]
    },
    {
      "cell_type": "code",
      "metadata": {
        "id": "MBWBFzMbpfwd",
        "outputId": "e16f9098-066a-43de-fc41-a597bc84de1e",
        "colab": {
          "base_uri": "https://localhost:8080/",
          "height": 142
        }
      },
      "source": [
        "df.at[2, 'last'] = 'Doe'\r\n",
        "df"
      ],
      "execution_count": 31,
      "outputs": [
        {
          "output_type": "execute_result",
          "data": {
            "text/html": [
              "<div>\n",
              "<style scoped>\n",
              "    .dataframe tbody tr th:only-of-type {\n",
              "        vertical-align: middle;\n",
              "    }\n",
              "\n",
              "    .dataframe tbody tr th {\n",
              "        vertical-align: top;\n",
              "    }\n",
              "\n",
              "    .dataframe thead th {\n",
              "        text-align: right;\n",
              "    }\n",
              "</style>\n",
              "<table border=\"1\" class=\"dataframe\">\n",
              "  <thead>\n",
              "    <tr style=\"text-align: right;\">\n",
              "      <th></th>\n",
              "      <th>first</th>\n",
              "      <th>last</th>\n",
              "      <th>email</th>\n",
              "    </tr>\n",
              "  </thead>\n",
              "  <tbody>\n",
              "    <tr>\n",
              "      <th>0</th>\n",
              "      <td>Corey</td>\n",
              "      <td>Schafer</td>\n",
              "      <td>CoreyMSchafer@gmail.com</td>\n",
              "    </tr>\n",
              "    <tr>\n",
              "      <th>1</th>\n",
              "      <td>Jane</td>\n",
              "      <td>Doe</td>\n",
              "      <td>JaneDoe@email.com</td>\n",
              "    </tr>\n",
              "    <tr>\n",
              "      <th>2</th>\n",
              "      <td>John</td>\n",
              "      <td>Doe</td>\n",
              "      <td>JohnDoe@email.com</td>\n",
              "    </tr>\n",
              "  </tbody>\n",
              "</table>\n",
              "</div>"
            ],
            "text/plain": [
              "   first     last                    email\n",
              "0  Corey  Schafer  CoreyMSchafer@gmail.com\n",
              "1   Jane      Doe        JaneDoe@email.com\n",
              "2   John      Doe        JohnDoe@email.com"
            ]
          },
          "metadata": {
            "tags": []
          },
          "execution_count": 31
        }
      ]
    },
    {
      "cell_type": "code",
      "metadata": {
        "id": "tCOX5gu3ppfV",
        "outputId": "0f2522aa-c0f1-46a8-879d-8840f579b76f",
        "colab": {
          "base_uri": "https://localhost:8080/"
        }
      },
      "source": [
        "filt = (df['email'] == 'JohnDoe@email.com')\r\n",
        "df[filt]['last'] = 'Smith'"
      ],
      "execution_count": 34,
      "outputs": [
        {
          "output_type": "stream",
          "text": [
            "/usr/local/lib/python3.6/dist-packages/ipykernel_launcher.py:2: SettingWithCopyWarning: \n",
            "A value is trying to be set on a copy of a slice from a DataFrame.\n",
            "Try using .loc[row_indexer,col_indexer] = value instead\n",
            "\n",
            "See the caveats in the documentation: https://pandas.pydata.org/pandas-docs/stable/user_guide/indexing.html#returning-a-view-versus-a-copy\n",
            "  \n"
          ],
          "name": "stderr"
        }
      ]
    },
    {
      "cell_type": "code",
      "metadata": {
        "id": "MwrLo5rmqkFE",
        "outputId": "2caf8edd-2984-4304-ef71-d7913d163208",
        "colab": {
          "base_uri": "https://localhost:8080/",
          "height": 142
        }
      },
      "source": [
        "filt = (df['email'] == 'JohnDoe@email.com')\r\n",
        "df.loc[filt, 'last'] = 'Smith'\r\n",
        "df"
      ],
      "execution_count": 36,
      "outputs": [
        {
          "output_type": "execute_result",
          "data": {
            "text/html": [
              "<div>\n",
              "<style scoped>\n",
              "    .dataframe tbody tr th:only-of-type {\n",
              "        vertical-align: middle;\n",
              "    }\n",
              "\n",
              "    .dataframe tbody tr th {\n",
              "        vertical-align: top;\n",
              "    }\n",
              "\n",
              "    .dataframe thead th {\n",
              "        text-align: right;\n",
              "    }\n",
              "</style>\n",
              "<table border=\"1\" class=\"dataframe\">\n",
              "  <thead>\n",
              "    <tr style=\"text-align: right;\">\n",
              "      <th></th>\n",
              "      <th>first</th>\n",
              "      <th>last</th>\n",
              "      <th>email</th>\n",
              "    </tr>\n",
              "  </thead>\n",
              "  <tbody>\n",
              "    <tr>\n",
              "      <th>0</th>\n",
              "      <td>Corey</td>\n",
              "      <td>Schafer</td>\n",
              "      <td>CoreyMSchafer@gmail.com</td>\n",
              "    </tr>\n",
              "    <tr>\n",
              "      <th>1</th>\n",
              "      <td>Jane</td>\n",
              "      <td>Doe</td>\n",
              "      <td>JaneDoe@email.com</td>\n",
              "    </tr>\n",
              "    <tr>\n",
              "      <th>2</th>\n",
              "      <td>John</td>\n",
              "      <td>Smith</td>\n",
              "      <td>JohnDoe@email.com</td>\n",
              "    </tr>\n",
              "  </tbody>\n",
              "</table>\n",
              "</div>"
            ],
            "text/plain": [
              "   first     last                    email\n",
              "0  Corey  Schafer  CoreyMSchafer@gmail.com\n",
              "1   Jane      Doe        JaneDoe@email.com\n",
              "2   John    Smith        JohnDoe@email.com"
            ]
          },
          "metadata": {
            "tags": []
          },
          "execution_count": 36
        }
      ]
    },
    {
      "cell_type": "code",
      "metadata": {
        "id": "Z5-N--26rEwU",
        "outputId": "4c7f3489-a6be-4a2b-fdfc-33e6c2f9359c",
        "colab": {
          "base_uri": "https://localhost:8080/",
          "height": 142
        }
      },
      "source": [
        "df['email'] = df['email'].str.lower()\r\n",
        "df"
      ],
      "execution_count": 37,
      "outputs": [
        {
          "output_type": "execute_result",
          "data": {
            "text/html": [
              "<div>\n",
              "<style scoped>\n",
              "    .dataframe tbody tr th:only-of-type {\n",
              "        vertical-align: middle;\n",
              "    }\n",
              "\n",
              "    .dataframe tbody tr th {\n",
              "        vertical-align: top;\n",
              "    }\n",
              "\n",
              "    .dataframe thead th {\n",
              "        text-align: right;\n",
              "    }\n",
              "</style>\n",
              "<table border=\"1\" class=\"dataframe\">\n",
              "  <thead>\n",
              "    <tr style=\"text-align: right;\">\n",
              "      <th></th>\n",
              "      <th>first</th>\n",
              "      <th>last</th>\n",
              "      <th>email</th>\n",
              "    </tr>\n",
              "  </thead>\n",
              "  <tbody>\n",
              "    <tr>\n",
              "      <th>0</th>\n",
              "      <td>Corey</td>\n",
              "      <td>Schafer</td>\n",
              "      <td>coreymschafer@gmail.com</td>\n",
              "    </tr>\n",
              "    <tr>\n",
              "      <th>1</th>\n",
              "      <td>Jane</td>\n",
              "      <td>Doe</td>\n",
              "      <td>janedoe@email.com</td>\n",
              "    </tr>\n",
              "    <tr>\n",
              "      <th>2</th>\n",
              "      <td>John</td>\n",
              "      <td>Smith</td>\n",
              "      <td>johndoe@email.com</td>\n",
              "    </tr>\n",
              "  </tbody>\n",
              "</table>\n",
              "</div>"
            ],
            "text/plain": [
              "   first     last                    email\n",
              "0  Corey  Schafer  coreymschafer@gmail.com\n",
              "1   Jane      Doe        janedoe@email.com\n",
              "2   John    Smith        johndoe@email.com"
            ]
          },
          "metadata": {
            "tags": []
          },
          "execution_count": 37
        }
      ]
    },
    {
      "cell_type": "code",
      "metadata": {
        "id": "YpP_BBiqs7LE",
        "outputId": "fca8815d-b4e8-4d3d-d9e1-862b43ab63da",
        "colab": {
          "base_uri": "https://localhost:8080/"
        }
      },
      "source": [
        "df['email'].apply(len)"
      ],
      "execution_count": 38,
      "outputs": [
        {
          "output_type": "execute_result",
          "data": {
            "text/plain": [
              "0    23\n",
              "1    17\n",
              "2    17\n",
              "Name: email, dtype: int64"
            ]
          },
          "metadata": {
            "tags": []
          },
          "execution_count": 38
        }
      ]
    },
    {
      "cell_type": "code",
      "metadata": {
        "id": "Lxx7wTvbtfed"
      },
      "source": [
        "def update_email(email):\r\n",
        "    return email.upper()"
      ],
      "execution_count": 39,
      "outputs": []
    },
    {
      "cell_type": "code",
      "metadata": {
        "id": "XnzscpFdtgnU",
        "outputId": "bc7d644c-2fc7-4b38-ace0-c870743e0f07",
        "colab": {
          "base_uri": "https://localhost:8080/",
          "height": 142
        }
      },
      "source": [
        "df['email'].apply(update_email)"
      ],
      "execution_count": 42,
      "outputs": [
        {
          "output_type": "execute_result",
          "data": {
            "text/html": [
              "<div>\n",
              "<style scoped>\n",
              "    .dataframe tbody tr th:only-of-type {\n",
              "        vertical-align: middle;\n",
              "    }\n",
              "\n",
              "    .dataframe tbody tr th {\n",
              "        vertical-align: top;\n",
              "    }\n",
              "\n",
              "    .dataframe thead th {\n",
              "        text-align: right;\n",
              "    }\n",
              "</style>\n",
              "<table border=\"1\" class=\"dataframe\">\n",
              "  <thead>\n",
              "    <tr style=\"text-align: right;\">\n",
              "      <th></th>\n",
              "      <th>first</th>\n",
              "      <th>last</th>\n",
              "      <th>email</th>\n",
              "    </tr>\n",
              "  </thead>\n",
              "  <tbody>\n",
              "    <tr>\n",
              "      <th>0</th>\n",
              "      <td>Corey</td>\n",
              "      <td>Schafer</td>\n",
              "      <td>COREYMSCHAFER@GMAIL.COM</td>\n",
              "    </tr>\n",
              "    <tr>\n",
              "      <th>1</th>\n",
              "      <td>Jane</td>\n",
              "      <td>Doe</td>\n",
              "      <td>JANEDOE@EMAIL.COM</td>\n",
              "    </tr>\n",
              "    <tr>\n",
              "      <th>2</th>\n",
              "      <td>John</td>\n",
              "      <td>Smith</td>\n",
              "      <td>JOHNDOE@EMAIL.COM</td>\n",
              "    </tr>\n",
              "  </tbody>\n",
              "</table>\n",
              "</div>"
            ],
            "text/plain": [
              "   first     last                    email\n",
              "0  Corey  Schafer  COREYMSCHAFER@GMAIL.COM\n",
              "1   Jane      Doe        JANEDOE@EMAIL.COM\n",
              "2   John    Smith        JOHNDOE@EMAIL.COM"
            ]
          },
          "metadata": {
            "tags": []
          },
          "execution_count": 42
        }
      ]
    },
    {
      "cell_type": "code",
      "metadata": {
        "id": "pOzSKxY0tyW7",
        "outputId": "455dccb5-d78c-4d12-ecff-69a81e29aa0b",
        "colab": {
          "base_uri": "https://localhost:8080/",
          "height": 142
        }
      },
      "source": [
        "df['email'] = df['email'].apply(update_email)\r\n",
        "df"
      ],
      "execution_count": 44,
      "outputs": [
        {
          "output_type": "execute_result",
          "data": {
            "text/html": [
              "<div>\n",
              "<style scoped>\n",
              "    .dataframe tbody tr th:only-of-type {\n",
              "        vertical-align: middle;\n",
              "    }\n",
              "\n",
              "    .dataframe tbody tr th {\n",
              "        vertical-align: top;\n",
              "    }\n",
              "\n",
              "    .dataframe thead th {\n",
              "        text-align: right;\n",
              "    }\n",
              "</style>\n",
              "<table border=\"1\" class=\"dataframe\">\n",
              "  <thead>\n",
              "    <tr style=\"text-align: right;\">\n",
              "      <th></th>\n",
              "      <th>first</th>\n",
              "      <th>last</th>\n",
              "      <th>email</th>\n",
              "    </tr>\n",
              "  </thead>\n",
              "  <tbody>\n",
              "    <tr>\n",
              "      <th>0</th>\n",
              "      <td>Corey</td>\n",
              "      <td>Schafer</td>\n",
              "      <td>COREYMSCHAFER@GMAIL.COM</td>\n",
              "    </tr>\n",
              "    <tr>\n",
              "      <th>1</th>\n",
              "      <td>Jane</td>\n",
              "      <td>Doe</td>\n",
              "      <td>JANEDOE@EMAIL.COM</td>\n",
              "    </tr>\n",
              "    <tr>\n",
              "      <th>2</th>\n",
              "      <td>John</td>\n",
              "      <td>Smith</td>\n",
              "      <td>JOHNDOE@EMAIL.COM</td>\n",
              "    </tr>\n",
              "  </tbody>\n",
              "</table>\n",
              "</div>"
            ],
            "text/plain": [
              "   first     last                    email\n",
              "0  Corey  Schafer  COREYMSCHAFER@GMAIL.COM\n",
              "1   Jane      Doe        JANEDOE@EMAIL.COM\n",
              "2   John    Smith        JOHNDOE@EMAIL.COM"
            ]
          },
          "metadata": {
            "tags": []
          },
          "execution_count": 44
        }
      ]
    },
    {
      "cell_type": "code",
      "metadata": {
        "id": "C2Izn-brufl-",
        "outputId": "5393ac92-18e6-4fcb-ad04-171ec3406ffc",
        "colab": {
          "base_uri": "https://localhost:8080/",
          "height": 142
        }
      },
      "source": [
        "df['email'] = df['email'].apply(lambda x: x.lower())\r\n",
        "df"
      ],
      "execution_count": 45,
      "outputs": [
        {
          "output_type": "execute_result",
          "data": {
            "text/html": [
              "<div>\n",
              "<style scoped>\n",
              "    .dataframe tbody tr th:only-of-type {\n",
              "        vertical-align: middle;\n",
              "    }\n",
              "\n",
              "    .dataframe tbody tr th {\n",
              "        vertical-align: top;\n",
              "    }\n",
              "\n",
              "    .dataframe thead th {\n",
              "        text-align: right;\n",
              "    }\n",
              "</style>\n",
              "<table border=\"1\" class=\"dataframe\">\n",
              "  <thead>\n",
              "    <tr style=\"text-align: right;\">\n",
              "      <th></th>\n",
              "      <th>first</th>\n",
              "      <th>last</th>\n",
              "      <th>email</th>\n",
              "    </tr>\n",
              "  </thead>\n",
              "  <tbody>\n",
              "    <tr>\n",
              "      <th>0</th>\n",
              "      <td>Corey</td>\n",
              "      <td>Schafer</td>\n",
              "      <td>coreymschafer@gmail.com</td>\n",
              "    </tr>\n",
              "    <tr>\n",
              "      <th>1</th>\n",
              "      <td>Jane</td>\n",
              "      <td>Doe</td>\n",
              "      <td>janedoe@email.com</td>\n",
              "    </tr>\n",
              "    <tr>\n",
              "      <th>2</th>\n",
              "      <td>John</td>\n",
              "      <td>Smith</td>\n",
              "      <td>johndoe@email.com</td>\n",
              "    </tr>\n",
              "  </tbody>\n",
              "</table>\n",
              "</div>"
            ],
            "text/plain": [
              "   first     last                    email\n",
              "0  Corey  Schafer  coreymschafer@gmail.com\n",
              "1   Jane      Doe        janedoe@email.com\n",
              "2   John    Smith        johndoe@email.com"
            ]
          },
          "metadata": {
            "tags": []
          },
          "execution_count": 45
        }
      ]
    },
    {
      "cell_type": "code",
      "metadata": {
        "id": "ER9zrwh6uyJj",
        "outputId": "03dcfc8c-9068-44f7-83bd-2433d9538c86",
        "colab": {
          "base_uri": "https://localhost:8080/"
        }
      },
      "source": [
        "df['email'].apply(len)"
      ],
      "execution_count": 50,
      "outputs": [
        {
          "output_type": "execute_result",
          "data": {
            "text/plain": [
              "0    23\n",
              "1    17\n",
              "2    17\n",
              "Name: email, dtype: int64"
            ]
          },
          "metadata": {
            "tags": []
          },
          "execution_count": 50
        }
      ]
    },
    {
      "cell_type": "code",
      "metadata": {
        "id": "Zou7RbHevLCk",
        "outputId": "382885a2-cd7d-4605-ae87-ae8fdcc90058",
        "colab": {
          "base_uri": "https://localhost:8080/"
        }
      },
      "source": [
        "df.apply(len)"
      ],
      "execution_count": 51,
      "outputs": [
        {
          "output_type": "execute_result",
          "data": {
            "text/plain": [
              "first    3\n",
              "last     3\n",
              "email    3\n",
              "dtype: int64"
            ]
          },
          "metadata": {
            "tags": []
          },
          "execution_count": 51
        }
      ]
    },
    {
      "cell_type": "code",
      "metadata": {
        "id": "54QBbP4gvd9T",
        "outputId": "215bb986-d0fe-4b73-d34f-1324a6966e38",
        "colab": {
          "base_uri": "https://localhost:8080/"
        }
      },
      "source": [
        "len(df['email'])"
      ],
      "execution_count": 53,
      "outputs": [
        {
          "output_type": "execute_result",
          "data": {
            "text/plain": [
              "3"
            ]
          },
          "metadata": {
            "tags": []
          },
          "execution_count": 53
        }
      ]
    },
    {
      "cell_type": "code",
      "metadata": {
        "id": "1UAnVUmtvrWT",
        "outputId": "a41f714f-58d4-48f6-a5f0-7088d7568afd",
        "colab": {
          "base_uri": "https://localhost:8080/"
        }
      },
      "source": [
        "df.apply(len, axis='columns')"
      ],
      "execution_count": 55,
      "outputs": [
        {
          "output_type": "execute_result",
          "data": {
            "text/plain": [
              "0    3\n",
              "1    3\n",
              "2    3\n",
              "dtype: int64"
            ]
          },
          "metadata": {
            "tags": []
          },
          "execution_count": 55
        }
      ]
    },
    {
      "cell_type": "code",
      "metadata": {
        "id": "NzwLfN7YwTvS",
        "outputId": "dff36918-f148-4eb5-b227-d4e79e670dd1",
        "colab": {
          "base_uri": "https://localhost:8080/"
        }
      },
      "source": [
        "df.apply(pd.Series.min)"
      ],
      "execution_count": 56,
      "outputs": [
        {
          "output_type": "execute_result",
          "data": {
            "text/plain": [
              "first                      Corey\n",
              "last                         Doe\n",
              "email    coreymschafer@gmail.com\n",
              "dtype: object"
            ]
          },
          "metadata": {
            "tags": []
          },
          "execution_count": 56
        }
      ]
    },
    {
      "cell_type": "code",
      "metadata": {
        "id": "UzeV0p3ywxhR",
        "outputId": "29bb478c-856b-4fc0-a299-ddd90f9aebfd",
        "colab": {
          "base_uri": "https://localhost:8080/"
        }
      },
      "source": [
        "df.apply(lambda x: x.min())"
      ],
      "execution_count": 57,
      "outputs": [
        {
          "output_type": "execute_result",
          "data": {
            "text/plain": [
              "first                      Corey\n",
              "last                         Doe\n",
              "email    coreymschafer@gmail.com\n",
              "dtype: object"
            ]
          },
          "metadata": {
            "tags": []
          },
          "execution_count": 57
        }
      ]
    },
    {
      "cell_type": "code",
      "metadata": {
        "id": "EX8H1hqmxJUZ",
        "outputId": "92cf6b94-fcde-4094-99a0-1daf9f9caaea",
        "colab": {
          "base_uri": "https://localhost:8080/",
          "height": 142
        }
      },
      "source": [
        "df.applymap(len)"
      ],
      "execution_count": 58,
      "outputs": [
        {
          "output_type": "execute_result",
          "data": {
            "text/html": [
              "<div>\n",
              "<style scoped>\n",
              "    .dataframe tbody tr th:only-of-type {\n",
              "        vertical-align: middle;\n",
              "    }\n",
              "\n",
              "    .dataframe tbody tr th {\n",
              "        vertical-align: top;\n",
              "    }\n",
              "\n",
              "    .dataframe thead th {\n",
              "        text-align: right;\n",
              "    }\n",
              "</style>\n",
              "<table border=\"1\" class=\"dataframe\">\n",
              "  <thead>\n",
              "    <tr style=\"text-align: right;\">\n",
              "      <th></th>\n",
              "      <th>first</th>\n",
              "      <th>last</th>\n",
              "      <th>email</th>\n",
              "    </tr>\n",
              "  </thead>\n",
              "  <tbody>\n",
              "    <tr>\n",
              "      <th>0</th>\n",
              "      <td>5</td>\n",
              "      <td>7</td>\n",
              "      <td>23</td>\n",
              "    </tr>\n",
              "    <tr>\n",
              "      <th>1</th>\n",
              "      <td>4</td>\n",
              "      <td>3</td>\n",
              "      <td>17</td>\n",
              "    </tr>\n",
              "    <tr>\n",
              "      <th>2</th>\n",
              "      <td>4</td>\n",
              "      <td>5</td>\n",
              "      <td>17</td>\n",
              "    </tr>\n",
              "  </tbody>\n",
              "</table>\n",
              "</div>"
            ],
            "text/plain": [
              "   first  last  email\n",
              "0      5     7     23\n",
              "1      4     3     17\n",
              "2      4     5     17"
            ]
          },
          "metadata": {
            "tags": []
          },
          "execution_count": 58
        }
      ]
    },
    {
      "cell_type": "code",
      "metadata": {
        "id": "q0KfgYvHxZM5",
        "outputId": "96f7f662-ae96-4a03-e912-e1580d3f781b",
        "colab": {
          "base_uri": "https://localhost:8080/",
          "height": 142
        }
      },
      "source": [
        "df.applymap(str.lower)"
      ],
      "execution_count": 59,
      "outputs": [
        {
          "output_type": "execute_result",
          "data": {
            "text/html": [
              "<div>\n",
              "<style scoped>\n",
              "    .dataframe tbody tr th:only-of-type {\n",
              "        vertical-align: middle;\n",
              "    }\n",
              "\n",
              "    .dataframe tbody tr th {\n",
              "        vertical-align: top;\n",
              "    }\n",
              "\n",
              "    .dataframe thead th {\n",
              "        text-align: right;\n",
              "    }\n",
              "</style>\n",
              "<table border=\"1\" class=\"dataframe\">\n",
              "  <thead>\n",
              "    <tr style=\"text-align: right;\">\n",
              "      <th></th>\n",
              "      <th>first</th>\n",
              "      <th>last</th>\n",
              "      <th>email</th>\n",
              "    </tr>\n",
              "  </thead>\n",
              "  <tbody>\n",
              "    <tr>\n",
              "      <th>0</th>\n",
              "      <td>corey</td>\n",
              "      <td>schafer</td>\n",
              "      <td>coreymschafer@gmail.com</td>\n",
              "    </tr>\n",
              "    <tr>\n",
              "      <th>1</th>\n",
              "      <td>jane</td>\n",
              "      <td>doe</td>\n",
              "      <td>janedoe@email.com</td>\n",
              "    </tr>\n",
              "    <tr>\n",
              "      <th>2</th>\n",
              "      <td>john</td>\n",
              "      <td>smith</td>\n",
              "      <td>johndoe@email.com</td>\n",
              "    </tr>\n",
              "  </tbody>\n",
              "</table>\n",
              "</div>"
            ],
            "text/plain": [
              "   first     last                    email\n",
              "0  corey  schafer  coreymschafer@gmail.com\n",
              "1   jane      doe        janedoe@email.com\n",
              "2   john    smith        johndoe@email.com"
            ]
          },
          "metadata": {
            "tags": []
          },
          "execution_count": 59
        }
      ]
    },
    {
      "cell_type": "code",
      "metadata": {
        "id": "gdtCgzPbxc0Z",
        "outputId": "468833ab-5cb5-4740-ba9c-bd2fe97858fd",
        "colab": {
          "base_uri": "https://localhost:8080/"
        }
      },
      "source": [
        "df['first'].map({'Corey': 'Chris', 'Jane': 'Mary'})"
      ],
      "execution_count": 60,
      "outputs": [
        {
          "output_type": "execute_result",
          "data": {
            "text/plain": [
              "0    Chris\n",
              "1     Mary\n",
              "2      NaN\n",
              "Name: first, dtype: object"
            ]
          },
          "metadata": {
            "tags": []
          },
          "execution_count": 60
        }
      ]
    },
    {
      "cell_type": "code",
      "metadata": {
        "id": "dSAZ8tpGx0eq",
        "outputId": "394f3751-c334-4ff2-bb52-2a0901edec41",
        "colab": {
          "base_uri": "https://localhost:8080/"
        }
      },
      "source": [
        "df['first'].replace({'Corey': 'Chris', 'Jane': 'Mary'})"
      ],
      "execution_count": 62,
      "outputs": [
        {
          "output_type": "execute_result",
          "data": {
            "text/plain": [
              "0    Chris\n",
              "1     Mary\n",
              "2     John\n",
              "Name: first, dtype: object"
            ]
          },
          "metadata": {
            "tags": []
          },
          "execution_count": 62
        }
      ]
    },
    {
      "cell_type": "code",
      "metadata": {
        "id": "583mwRqcx_rZ",
        "outputId": "bee176a1-4ea7-4107-b50a-12a0e066b1d2",
        "colab": {
          "base_uri": "https://localhost:8080/",
          "height": 142
        }
      },
      "source": [
        "df"
      ],
      "execution_count": 63,
      "outputs": [
        {
          "output_type": "execute_result",
          "data": {
            "text/html": [
              "<div>\n",
              "<style scoped>\n",
              "    .dataframe tbody tr th:only-of-type {\n",
              "        vertical-align: middle;\n",
              "    }\n",
              "\n",
              "    .dataframe tbody tr th {\n",
              "        vertical-align: top;\n",
              "    }\n",
              "\n",
              "    .dataframe thead th {\n",
              "        text-align: right;\n",
              "    }\n",
              "</style>\n",
              "<table border=\"1\" class=\"dataframe\">\n",
              "  <thead>\n",
              "    <tr style=\"text-align: right;\">\n",
              "      <th></th>\n",
              "      <th>first</th>\n",
              "      <th>last</th>\n",
              "      <th>email</th>\n",
              "    </tr>\n",
              "  </thead>\n",
              "  <tbody>\n",
              "    <tr>\n",
              "      <th>0</th>\n",
              "      <td>Corey</td>\n",
              "      <td>Schafer</td>\n",
              "      <td>coreymschafer@gmail.com</td>\n",
              "    </tr>\n",
              "    <tr>\n",
              "      <th>1</th>\n",
              "      <td>Jane</td>\n",
              "      <td>Doe</td>\n",
              "      <td>janedoe@email.com</td>\n",
              "    </tr>\n",
              "    <tr>\n",
              "      <th>2</th>\n",
              "      <td>John</td>\n",
              "      <td>Smith</td>\n",
              "      <td>johndoe@email.com</td>\n",
              "    </tr>\n",
              "  </tbody>\n",
              "</table>\n",
              "</div>"
            ],
            "text/plain": [
              "   first     last                    email\n",
              "0  Corey  Schafer  coreymschafer@gmail.com\n",
              "1   Jane      Doe        janedoe@email.com\n",
              "2   John    Smith        johndoe@email.com"
            ]
          },
          "metadata": {
            "tags": []
          },
          "execution_count": 63
        }
      ]
    },
    {
      "cell_type": "code",
      "metadata": {
        "id": "g5GJ0J7qyMfq",
        "outputId": "f59a66d5-ee8a-47e7-863f-84378da6df26",
        "colab": {
          "base_uri": "https://localhost:8080/",
          "height": 142
        }
      },
      "source": [
        "df['first'] = df['first'].replace({'Corey': 'Chris', 'Jane': 'Mary'})\r\n",
        "df"
      ],
      "execution_count": 65,
      "outputs": [
        {
          "output_type": "execute_result",
          "data": {
            "text/html": [
              "<div>\n",
              "<style scoped>\n",
              "    .dataframe tbody tr th:only-of-type {\n",
              "        vertical-align: middle;\n",
              "    }\n",
              "\n",
              "    .dataframe tbody tr th {\n",
              "        vertical-align: top;\n",
              "    }\n",
              "\n",
              "    .dataframe thead th {\n",
              "        text-align: right;\n",
              "    }\n",
              "</style>\n",
              "<table border=\"1\" class=\"dataframe\">\n",
              "  <thead>\n",
              "    <tr style=\"text-align: right;\">\n",
              "      <th></th>\n",
              "      <th>first</th>\n",
              "      <th>last</th>\n",
              "      <th>email</th>\n",
              "    </tr>\n",
              "  </thead>\n",
              "  <tbody>\n",
              "    <tr>\n",
              "      <th>0</th>\n",
              "      <td>Chris</td>\n",
              "      <td>Schafer</td>\n",
              "      <td>coreymschafer@gmail.com</td>\n",
              "    </tr>\n",
              "    <tr>\n",
              "      <th>1</th>\n",
              "      <td>Mary</td>\n",
              "      <td>Doe</td>\n",
              "      <td>janedoe@email.com</td>\n",
              "    </tr>\n",
              "    <tr>\n",
              "      <th>2</th>\n",
              "      <td>John</td>\n",
              "      <td>Smith</td>\n",
              "      <td>johndoe@email.com</td>\n",
              "    </tr>\n",
              "  </tbody>\n",
              "</table>\n",
              "</div>"
            ],
            "text/plain": [
              "   first     last                    email\n",
              "0  Chris  Schafer  coreymschafer@gmail.com\n",
              "1   Mary      Doe        janedoe@email.com\n",
              "2   John    Smith        johndoe@email.com"
            ]
          },
          "metadata": {
            "tags": []
          },
          "execution_count": 65
        }
      ]
    },
    {
      "cell_type": "code",
      "metadata": {
        "id": "dvNi2VOkye0T",
        "outputId": "2565e825-c04c-418d-9095-5e328d33df48",
        "colab": {
          "base_uri": "https://localhost:8080/",
          "height": 782
        }
      },
      "source": [
        "df = pd.read_csv('https://raw.githubusercontent.com/davidzheng66/python3/master/panda/data/survey_results_public.csv', index_col='Respondent')\r\n",
        "df.head()"
      ],
      "execution_count": 85,
      "outputs": [
        {
          "output_type": "execute_result",
          "data": {
            "text/html": [
              "<div>\n",
              "<style scoped>\n",
              "    .dataframe tbody tr th:only-of-type {\n",
              "        vertical-align: middle;\n",
              "    }\n",
              "\n",
              "    .dataframe tbody tr th {\n",
              "        vertical-align: top;\n",
              "    }\n",
              "\n",
              "    .dataframe thead th {\n",
              "        text-align: right;\n",
              "    }\n",
              "</style>\n",
              "<table border=\"1\" class=\"dataframe\">\n",
              "  <thead>\n",
              "    <tr style=\"text-align: right;\">\n",
              "      <th></th>\n",
              "      <th>MainBranch</th>\n",
              "      <th>Hobbyist</th>\n",
              "      <th>OpenSourcer</th>\n",
              "      <th>OpenSource</th>\n",
              "      <th>Employment</th>\n",
              "      <th>Country</th>\n",
              "      <th>Student</th>\n",
              "      <th>EdLevel</th>\n",
              "      <th>UndergradMajor</th>\n",
              "      <th>EduOther</th>\n",
              "      <th>OrgSize</th>\n",
              "      <th>DevType</th>\n",
              "      <th>YearsCode</th>\n",
              "      <th>Age1stCode</th>\n",
              "      <th>YearsCodePro</th>\n",
              "      <th>CareerSat</th>\n",
              "      <th>JobSat</th>\n",
              "      <th>MgrIdiot</th>\n",
              "      <th>MgrMoney</th>\n",
              "      <th>MgrWant</th>\n",
              "      <th>JobSeek</th>\n",
              "      <th>LastHireDate</th>\n",
              "      <th>LastInt</th>\n",
              "      <th>FizzBuzz</th>\n",
              "      <th>JobFactors</th>\n",
              "      <th>ResumeUpdate</th>\n",
              "      <th>CurrencySymbol</th>\n",
              "      <th>CurrencyDesc</th>\n",
              "      <th>CompTotal</th>\n",
              "      <th>CompFreq</th>\n",
              "      <th>ConvertedComp</th>\n",
              "      <th>WorkWeekHrs</th>\n",
              "      <th>WorkPlan</th>\n",
              "      <th>WorkChallenge</th>\n",
              "      <th>WorkRemote</th>\n",
              "      <th>WorkLoc</th>\n",
              "      <th>ImpSyn</th>\n",
              "      <th>CodeRev</th>\n",
              "      <th>CodeRevHrs</th>\n",
              "      <th>UnitTests</th>\n",
              "      <th>PurchaseHow</th>\n",
              "      <th>PurchaseWhat</th>\n",
              "      <th>LanguageWorkedWith</th>\n",
              "      <th>LanguageDesireNextYear</th>\n",
              "      <th>DatabaseWorkedWith</th>\n",
              "      <th>DatabaseDesireNextYear</th>\n",
              "      <th>PlatformWorkedWith</th>\n",
              "      <th>PlatformDesireNextYear</th>\n",
              "      <th>WebFrameWorkedWith</th>\n",
              "      <th>WebFrameDesireNextYear</th>\n",
              "      <th>MiscTechWorkedWith</th>\n",
              "      <th>MiscTechDesireNextYear</th>\n",
              "      <th>DevEnviron</th>\n",
              "      <th>OpSys</th>\n",
              "      <th>Containers</th>\n",
              "      <th>BlockchainOrg</th>\n",
              "      <th>BlockchainIs</th>\n",
              "      <th>BetterLife</th>\n",
              "      <th>ITperson</th>\n",
              "      <th>OffOn</th>\n",
              "      <th>SocialMedia</th>\n",
              "      <th>Extraversion</th>\n",
              "      <th>ScreenName</th>\n",
              "      <th>SOVisit1st</th>\n",
              "      <th>SOVisitFreq</th>\n",
              "      <th>SOVisitTo</th>\n",
              "      <th>SOFindAnswer</th>\n",
              "      <th>SOTimeSaved</th>\n",
              "      <th>SOHowMuchTime</th>\n",
              "      <th>SOAccount</th>\n",
              "      <th>SOPartFreq</th>\n",
              "      <th>SOJobs</th>\n",
              "      <th>EntTeams</th>\n",
              "      <th>SOComm</th>\n",
              "      <th>WelcomeChange</th>\n",
              "      <th>SONewContent</th>\n",
              "      <th>Age</th>\n",
              "      <th>Gender</th>\n",
              "      <th>Trans</th>\n",
              "      <th>Sexuality</th>\n",
              "      <th>Ethnicity</th>\n",
              "      <th>Dependents</th>\n",
              "      <th>SurveyLength</th>\n",
              "      <th>SurveyEase</th>\n",
              "    </tr>\n",
              "    <tr>\n",
              "      <th>Respondent</th>\n",
              "      <th></th>\n",
              "      <th></th>\n",
              "      <th></th>\n",
              "      <th></th>\n",
              "      <th></th>\n",
              "      <th></th>\n",
              "      <th></th>\n",
              "      <th></th>\n",
              "      <th></th>\n",
              "      <th></th>\n",
              "      <th></th>\n",
              "      <th></th>\n",
              "      <th></th>\n",
              "      <th></th>\n",
              "      <th></th>\n",
              "      <th></th>\n",
              "      <th></th>\n",
              "      <th></th>\n",
              "      <th></th>\n",
              "      <th></th>\n",
              "      <th></th>\n",
              "      <th></th>\n",
              "      <th></th>\n",
              "      <th></th>\n",
              "      <th></th>\n",
              "      <th></th>\n",
              "      <th></th>\n",
              "      <th></th>\n",
              "      <th></th>\n",
              "      <th></th>\n",
              "      <th></th>\n",
              "      <th></th>\n",
              "      <th></th>\n",
              "      <th></th>\n",
              "      <th></th>\n",
              "      <th></th>\n",
              "      <th></th>\n",
              "      <th></th>\n",
              "      <th></th>\n",
              "      <th></th>\n",
              "      <th></th>\n",
              "      <th></th>\n",
              "      <th></th>\n",
              "      <th></th>\n",
              "      <th></th>\n",
              "      <th></th>\n",
              "      <th></th>\n",
              "      <th></th>\n",
              "      <th></th>\n",
              "      <th></th>\n",
              "      <th></th>\n",
              "      <th></th>\n",
              "      <th></th>\n",
              "      <th></th>\n",
              "      <th></th>\n",
              "      <th></th>\n",
              "      <th></th>\n",
              "      <th></th>\n",
              "      <th></th>\n",
              "      <th></th>\n",
              "      <th></th>\n",
              "      <th></th>\n",
              "      <th></th>\n",
              "      <th></th>\n",
              "      <th></th>\n",
              "      <th></th>\n",
              "      <th></th>\n",
              "      <th></th>\n",
              "      <th></th>\n",
              "      <th></th>\n",
              "      <th></th>\n",
              "      <th></th>\n",
              "      <th></th>\n",
              "      <th></th>\n",
              "      <th></th>\n",
              "      <th></th>\n",
              "      <th></th>\n",
              "      <th></th>\n",
              "      <th></th>\n",
              "      <th></th>\n",
              "      <th></th>\n",
              "      <th></th>\n",
              "      <th></th>\n",
              "      <th></th>\n",
              "    </tr>\n",
              "  </thead>\n",
              "  <tbody>\n",
              "    <tr>\n",
              "      <th>1</th>\n",
              "      <td>I am a student who is learning to code</td>\n",
              "      <td>Yes</td>\n",
              "      <td>Never</td>\n",
              "      <td>The quality of OSS and closed source software ...</td>\n",
              "      <td>Not employed, and not looking for work</td>\n",
              "      <td>United Kingdom</td>\n",
              "      <td>No</td>\n",
              "      <td>Primary/elementary school</td>\n",
              "      <td>NaN</td>\n",
              "      <td>Taught yourself a new language, framework, or ...</td>\n",
              "      <td>NaN</td>\n",
              "      <td>NaN</td>\n",
              "      <td>4</td>\n",
              "      <td>10</td>\n",
              "      <td>NaN</td>\n",
              "      <td>NaN</td>\n",
              "      <td>NaN</td>\n",
              "      <td>NaN</td>\n",
              "      <td>NaN</td>\n",
              "      <td>NaN</td>\n",
              "      <td>NaN</td>\n",
              "      <td>NaN</td>\n",
              "      <td>NaN</td>\n",
              "      <td>NaN</td>\n",
              "      <td>NaN</td>\n",
              "      <td>NaN</td>\n",
              "      <td>NaN</td>\n",
              "      <td>NaN</td>\n",
              "      <td>NaN</td>\n",
              "      <td>NaN</td>\n",
              "      <td>NaN</td>\n",
              "      <td>NaN</td>\n",
              "      <td>NaN</td>\n",
              "      <td>NaN</td>\n",
              "      <td>NaN</td>\n",
              "      <td>NaN</td>\n",
              "      <td>NaN</td>\n",
              "      <td>NaN</td>\n",
              "      <td>NaN</td>\n",
              "      <td>NaN</td>\n",
              "      <td>NaN</td>\n",
              "      <td>NaN</td>\n",
              "      <td>HTML/CSS;Java;JavaScript;Python</td>\n",
              "      <td>C;C++;C#;Go;HTML/CSS;Java;JavaScript;Python;SQL</td>\n",
              "      <td>SQLite</td>\n",
              "      <td>MySQL</td>\n",
              "      <td>MacOS;Windows</td>\n",
              "      <td>Android;Arduino;Windows</td>\n",
              "      <td>Django;Flask</td>\n",
              "      <td>Flask;jQuery</td>\n",
              "      <td>Node.js</td>\n",
              "      <td>Node.js</td>\n",
              "      <td>IntelliJ;Notepad++;PyCharm</td>\n",
              "      <td>Windows</td>\n",
              "      <td>I do not use containers</td>\n",
              "      <td>NaN</td>\n",
              "      <td>NaN</td>\n",
              "      <td>Yes</td>\n",
              "      <td>Fortunately, someone else has that title</td>\n",
              "      <td>Yes</td>\n",
              "      <td>Twitter</td>\n",
              "      <td>Online</td>\n",
              "      <td>Username</td>\n",
              "      <td>2017</td>\n",
              "      <td>A few times per month or weekly</td>\n",
              "      <td>Find answers to specific questions;Learn how t...</td>\n",
              "      <td>3-5 times per week</td>\n",
              "      <td>Stack Overflow was much faster</td>\n",
              "      <td>31-60 minutes</td>\n",
              "      <td>No</td>\n",
              "      <td>NaN</td>\n",
              "      <td>No, I didn't know that Stack Overflow had a jo...</td>\n",
              "      <td>No, and I don't know what those are</td>\n",
              "      <td>Neutral</td>\n",
              "      <td>Just as welcome now as I felt last year</td>\n",
              "      <td>Tech articles written by other developers;Indu...</td>\n",
              "      <td>14.0</td>\n",
              "      <td>Man</td>\n",
              "      <td>No</td>\n",
              "      <td>Straight / Heterosexual</td>\n",
              "      <td>NaN</td>\n",
              "      <td>No</td>\n",
              "      <td>Appropriate in length</td>\n",
              "      <td>Neither easy nor difficult</td>\n",
              "    </tr>\n",
              "    <tr>\n",
              "      <th>2</th>\n",
              "      <td>I am a student who is learning to code</td>\n",
              "      <td>No</td>\n",
              "      <td>Less than once per year</td>\n",
              "      <td>The quality of OSS and closed source software ...</td>\n",
              "      <td>Not employed, but looking for work</td>\n",
              "      <td>Bosnia and Herzegovina</td>\n",
              "      <td>Yes, full-time</td>\n",
              "      <td>Secondary school (e.g. American high school, G...</td>\n",
              "      <td>NaN</td>\n",
              "      <td>Taken an online course in programming or softw...</td>\n",
              "      <td>NaN</td>\n",
              "      <td>Developer, desktop or enterprise applications;...</td>\n",
              "      <td>NaN</td>\n",
              "      <td>17</td>\n",
              "      <td>NaN</td>\n",
              "      <td>NaN</td>\n",
              "      <td>NaN</td>\n",
              "      <td>NaN</td>\n",
              "      <td>NaN</td>\n",
              "      <td>NaN</td>\n",
              "      <td>I am actively looking for a job</td>\n",
              "      <td>I've never had a job</td>\n",
              "      <td>NaN</td>\n",
              "      <td>NaN</td>\n",
              "      <td>Financial performance or funding status of the...</td>\n",
              "      <td>Something else changed (education, award, medi...</td>\n",
              "      <td>NaN</td>\n",
              "      <td>NaN</td>\n",
              "      <td>NaN</td>\n",
              "      <td>NaN</td>\n",
              "      <td>NaN</td>\n",
              "      <td>NaN</td>\n",
              "      <td>NaN</td>\n",
              "      <td>NaN</td>\n",
              "      <td>NaN</td>\n",
              "      <td>NaN</td>\n",
              "      <td>NaN</td>\n",
              "      <td>NaN</td>\n",
              "      <td>NaN</td>\n",
              "      <td>NaN</td>\n",
              "      <td>NaN</td>\n",
              "      <td>NaN</td>\n",
              "      <td>C++;HTML/CSS;Python</td>\n",
              "      <td>C++;HTML/CSS;JavaScript;SQL</td>\n",
              "      <td>NaN</td>\n",
              "      <td>MySQL</td>\n",
              "      <td>Windows</td>\n",
              "      <td>Windows</td>\n",
              "      <td>Django</td>\n",
              "      <td>Django</td>\n",
              "      <td>NaN</td>\n",
              "      <td>NaN</td>\n",
              "      <td>Atom;PyCharm</td>\n",
              "      <td>Windows</td>\n",
              "      <td>I do not use containers</td>\n",
              "      <td>NaN</td>\n",
              "      <td>Useful across many domains and could change ma...</td>\n",
              "      <td>Yes</td>\n",
              "      <td>Yes</td>\n",
              "      <td>Yes</td>\n",
              "      <td>Instagram</td>\n",
              "      <td>Online</td>\n",
              "      <td>Username</td>\n",
              "      <td>2017</td>\n",
              "      <td>Daily or almost daily</td>\n",
              "      <td>Find answers to specific questions;Learn how t...</td>\n",
              "      <td>3-5 times per week</td>\n",
              "      <td>Stack Overflow was much faster</td>\n",
              "      <td>11-30 minutes</td>\n",
              "      <td>Yes</td>\n",
              "      <td>A few times per month or weekly</td>\n",
              "      <td>No, I knew that Stack Overflow had a job board...</td>\n",
              "      <td>No, and I don't know what those are</td>\n",
              "      <td>Yes, somewhat</td>\n",
              "      <td>Just as welcome now as I felt last year</td>\n",
              "      <td>Tech articles written by other developers;Indu...</td>\n",
              "      <td>19.0</td>\n",
              "      <td>Man</td>\n",
              "      <td>No</td>\n",
              "      <td>Straight / Heterosexual</td>\n",
              "      <td>NaN</td>\n",
              "      <td>No</td>\n",
              "      <td>Appropriate in length</td>\n",
              "      <td>Neither easy nor difficult</td>\n",
              "    </tr>\n",
              "    <tr>\n",
              "      <th>3</th>\n",
              "      <td>I am not primarily a developer, but I write co...</td>\n",
              "      <td>Yes</td>\n",
              "      <td>Never</td>\n",
              "      <td>The quality of OSS and closed source software ...</td>\n",
              "      <td>Employed full-time</td>\n",
              "      <td>Thailand</td>\n",
              "      <td>No</td>\n",
              "      <td>Bachelor’s degree (BA, BS, B.Eng., etc.)</td>\n",
              "      <td>Web development or web design</td>\n",
              "      <td>Taught yourself a new language, framework, or ...</td>\n",
              "      <td>100 to 499 employees</td>\n",
              "      <td>Designer;Developer, back-end;Developer, front-...</td>\n",
              "      <td>3</td>\n",
              "      <td>22</td>\n",
              "      <td>1</td>\n",
              "      <td>Slightly satisfied</td>\n",
              "      <td>Slightly satisfied</td>\n",
              "      <td>Not at all confident</td>\n",
              "      <td>Not sure</td>\n",
              "      <td>Not sure</td>\n",
              "      <td>I’m not actively looking, but I am open to new...</td>\n",
              "      <td>1-2 years ago</td>\n",
              "      <td>Interview with people in peer roles</td>\n",
              "      <td>No</td>\n",
              "      <td>Languages, frameworks, and other technologies ...</td>\n",
              "      <td>I was preparing for a job search</td>\n",
              "      <td>THB</td>\n",
              "      <td>Thai baht</td>\n",
              "      <td>23000.0</td>\n",
              "      <td>Monthly</td>\n",
              "      <td>8820.0</td>\n",
              "      <td>40.0</td>\n",
              "      <td>There's no schedule or spec; I work on what se...</td>\n",
              "      <td>Distracting work environment;Inadequate access...</td>\n",
              "      <td>Less than once per month / Never</td>\n",
              "      <td>Home</td>\n",
              "      <td>Average</td>\n",
              "      <td>No</td>\n",
              "      <td>NaN</td>\n",
              "      <td>No, but I think we should</td>\n",
              "      <td>Not sure</td>\n",
              "      <td>I have little or no influence</td>\n",
              "      <td>HTML/CSS</td>\n",
              "      <td>Elixir;HTML/CSS</td>\n",
              "      <td>PostgreSQL</td>\n",
              "      <td>PostgreSQL</td>\n",
              "      <td>NaN</td>\n",
              "      <td>NaN</td>\n",
              "      <td>NaN</td>\n",
              "      <td>Other(s):</td>\n",
              "      <td>NaN</td>\n",
              "      <td>NaN</td>\n",
              "      <td>Vim;Visual Studio Code</td>\n",
              "      <td>Linux-based</td>\n",
              "      <td>I do not use containers</td>\n",
              "      <td>NaN</td>\n",
              "      <td>NaN</td>\n",
              "      <td>Yes</td>\n",
              "      <td>Yes</td>\n",
              "      <td>Yes</td>\n",
              "      <td>Reddit</td>\n",
              "      <td>In real life (in person)</td>\n",
              "      <td>Username</td>\n",
              "      <td>2011</td>\n",
              "      <td>A few times per week</td>\n",
              "      <td>Find answers to specific questions;Learn how t...</td>\n",
              "      <td>6-10 times per week</td>\n",
              "      <td>They were about the same</td>\n",
              "      <td>NaN</td>\n",
              "      <td>Yes</td>\n",
              "      <td>Less than once per month or monthly</td>\n",
              "      <td>Yes</td>\n",
              "      <td>No, I've heard of them, but I am not part of a...</td>\n",
              "      <td>Neutral</td>\n",
              "      <td>Just as welcome now as I felt last year</td>\n",
              "      <td>Tech meetups or events in your area;Courses on...</td>\n",
              "      <td>28.0</td>\n",
              "      <td>Man</td>\n",
              "      <td>No</td>\n",
              "      <td>Straight / Heterosexual</td>\n",
              "      <td>NaN</td>\n",
              "      <td>Yes</td>\n",
              "      <td>Appropriate in length</td>\n",
              "      <td>Neither easy nor difficult</td>\n",
              "    </tr>\n",
              "    <tr>\n",
              "      <th>4</th>\n",
              "      <td>I am a developer by profession</td>\n",
              "      <td>No</td>\n",
              "      <td>Never</td>\n",
              "      <td>The quality of OSS and closed source software ...</td>\n",
              "      <td>Employed full-time</td>\n",
              "      <td>United States</td>\n",
              "      <td>No</td>\n",
              "      <td>Bachelor’s degree (BA, BS, B.Eng., etc.)</td>\n",
              "      <td>Computer science, computer engineering, or sof...</td>\n",
              "      <td>Taken an online course in programming or softw...</td>\n",
              "      <td>100 to 499 employees</td>\n",
              "      <td>Developer, full-stack</td>\n",
              "      <td>3</td>\n",
              "      <td>16</td>\n",
              "      <td>Less than 1 year</td>\n",
              "      <td>Very satisfied</td>\n",
              "      <td>Slightly satisfied</td>\n",
              "      <td>Very confident</td>\n",
              "      <td>No</td>\n",
              "      <td>Not sure</td>\n",
              "      <td>I am not interested in new job opportunities</td>\n",
              "      <td>Less than a year ago</td>\n",
              "      <td>Write code by hand (e.g., on a whiteboard);Int...</td>\n",
              "      <td>No</td>\n",
              "      <td>Languages, frameworks, and other technologies ...</td>\n",
              "      <td>I was preparing for a job search</td>\n",
              "      <td>USD</td>\n",
              "      <td>United States dollar</td>\n",
              "      <td>61000.0</td>\n",
              "      <td>Yearly</td>\n",
              "      <td>61000.0</td>\n",
              "      <td>80.0</td>\n",
              "      <td>There's no schedule or spec; I work on what se...</td>\n",
              "      <td>NaN</td>\n",
              "      <td>Less than once per month / Never</td>\n",
              "      <td>Home</td>\n",
              "      <td>A little below average</td>\n",
              "      <td>No</td>\n",
              "      <td>NaN</td>\n",
              "      <td>No, but I think we should</td>\n",
              "      <td>Developers typically have the most influence o...</td>\n",
              "      <td>I have little or no influence</td>\n",
              "      <td>C;C++;C#;Python;SQL</td>\n",
              "      <td>C;C#;JavaScript;SQL</td>\n",
              "      <td>MySQL;SQLite</td>\n",
              "      <td>MySQL;SQLite</td>\n",
              "      <td>Linux;Windows</td>\n",
              "      <td>Linux;Windows</td>\n",
              "      <td>NaN</td>\n",
              "      <td>NaN</td>\n",
              "      <td>.NET</td>\n",
              "      <td>.NET</td>\n",
              "      <td>Eclipse;Vim;Visual Studio;Visual Studio Code</td>\n",
              "      <td>Windows</td>\n",
              "      <td>I do not use containers</td>\n",
              "      <td>Not at all</td>\n",
              "      <td>Useful for decentralized currency (i.e., Bitcoin)</td>\n",
              "      <td>Yes</td>\n",
              "      <td>SIGH</td>\n",
              "      <td>Yes</td>\n",
              "      <td>Reddit</td>\n",
              "      <td>In real life (in person)</td>\n",
              "      <td>Username</td>\n",
              "      <td>2014</td>\n",
              "      <td>Daily or almost daily</td>\n",
              "      <td>Find answers to specific questions;Pass the ti...</td>\n",
              "      <td>1-2 times per week</td>\n",
              "      <td>Stack Overflow was much faster</td>\n",
              "      <td>31-60 minutes</td>\n",
              "      <td>Yes</td>\n",
              "      <td>Less than once per month or monthly</td>\n",
              "      <td>Yes</td>\n",
              "      <td>No, and I don't know what those are</td>\n",
              "      <td>No, not really</td>\n",
              "      <td>Just as welcome now as I felt last year</td>\n",
              "      <td>Tech articles written by other developers;Indu...</td>\n",
              "      <td>22.0</td>\n",
              "      <td>Man</td>\n",
              "      <td>No</td>\n",
              "      <td>Straight / Heterosexual</td>\n",
              "      <td>White or of European descent</td>\n",
              "      <td>No</td>\n",
              "      <td>Appropriate in length</td>\n",
              "      <td>Easy</td>\n",
              "    </tr>\n",
              "    <tr>\n",
              "      <th>5</th>\n",
              "      <td>I am a developer by profession</td>\n",
              "      <td>Yes</td>\n",
              "      <td>Once a month or more often</td>\n",
              "      <td>OSS is, on average, of HIGHER quality than pro...</td>\n",
              "      <td>Employed full-time</td>\n",
              "      <td>Ukraine</td>\n",
              "      <td>No</td>\n",
              "      <td>Bachelor’s degree (BA, BS, B.Eng., etc.)</td>\n",
              "      <td>Computer science, computer engineering, or sof...</td>\n",
              "      <td>Taken an online course in programming or softw...</td>\n",
              "      <td>10,000 or more employees</td>\n",
              "      <td>Academic researcher;Developer, desktop or ente...</td>\n",
              "      <td>16</td>\n",
              "      <td>14</td>\n",
              "      <td>9</td>\n",
              "      <td>Very dissatisfied</td>\n",
              "      <td>Slightly dissatisfied</td>\n",
              "      <td>Somewhat confident</td>\n",
              "      <td>Yes</td>\n",
              "      <td>No</td>\n",
              "      <td>I am not interested in new job opportunities</td>\n",
              "      <td>Less than a year ago</td>\n",
              "      <td>Write any code;Write code by hand (e.g., on a ...</td>\n",
              "      <td>No</td>\n",
              "      <td>Industry that I'd be working in;Languages, fra...</td>\n",
              "      <td>I was preparing for a job search</td>\n",
              "      <td>UAH</td>\n",
              "      <td>Ukrainian hryvnia</td>\n",
              "      <td>NaN</td>\n",
              "      <td>NaN</td>\n",
              "      <td>NaN</td>\n",
              "      <td>55.0</td>\n",
              "      <td>There is a schedule and/or spec (made by me or...</td>\n",
              "      <td>Being tasked with non-development work;Inadequ...</td>\n",
              "      <td>A few days each month</td>\n",
              "      <td>Office</td>\n",
              "      <td>A little above average</td>\n",
              "      <td>Yes, because I see value in code review</td>\n",
              "      <td>NaN</td>\n",
              "      <td>Yes, it's part of our process</td>\n",
              "      <td>Not sure</td>\n",
              "      <td>I have little or no influence</td>\n",
              "      <td>C++;HTML/CSS;Java;JavaScript;Python;SQL;VBA</td>\n",
              "      <td>HTML/CSS;Java;JavaScript;SQL;WebAssembly</td>\n",
              "      <td>Couchbase;MongoDB;MySQL;Oracle;PostgreSQL;SQLite</td>\n",
              "      <td>Couchbase;Firebase;MongoDB;MySQL;Oracle;Postgr...</td>\n",
              "      <td>Android;Linux;MacOS;Slack;Windows</td>\n",
              "      <td>Android;Docker;Kubernetes;Linux;Slack</td>\n",
              "      <td>Django;Express;Flask;jQuery;React.js;Spring</td>\n",
              "      <td>Flask;jQuery;React.js;Spring</td>\n",
              "      <td>Cordova;Node.js</td>\n",
              "      <td>Apache Spark;Hadoop;Node.js;React Native</td>\n",
              "      <td>IntelliJ;Notepad++;Vim</td>\n",
              "      <td>Linux-based</td>\n",
              "      <td>Outside of work, for personal projects</td>\n",
              "      <td>Not at all</td>\n",
              "      <td>NaN</td>\n",
              "      <td>Yes</td>\n",
              "      <td>Also Yes</td>\n",
              "      <td>Yes</td>\n",
              "      <td>Facebook</td>\n",
              "      <td>In real life (in person)</td>\n",
              "      <td>Username</td>\n",
              "      <td>I don't remember</td>\n",
              "      <td>Multiple times per day</td>\n",
              "      <td>Find answers to specific questions</td>\n",
              "      <td>More than 10 times per week</td>\n",
              "      <td>Stack Overflow was much faster</td>\n",
              "      <td>NaN</td>\n",
              "      <td>Yes</td>\n",
              "      <td>A few times per month or weekly</td>\n",
              "      <td>No, I knew that Stack Overflow had a job board...</td>\n",
              "      <td>No, I've heard of them, but I am not part of a...</td>\n",
              "      <td>Yes, definitely</td>\n",
              "      <td>Just as welcome now as I felt last year</td>\n",
              "      <td>Tech meetups or events in your area;Courses on...</td>\n",
              "      <td>30.0</td>\n",
              "      <td>Man</td>\n",
              "      <td>No</td>\n",
              "      <td>Straight / Heterosexual</td>\n",
              "      <td>White or of European descent;Multiracial</td>\n",
              "      <td>No</td>\n",
              "      <td>Appropriate in length</td>\n",
              "      <td>Easy</td>\n",
              "    </tr>\n",
              "  </tbody>\n",
              "</table>\n",
              "</div>"
            ],
            "text/plain": [
              "                                                   MainBranch Hobbyist  \\\n",
              "Respondent                                                               \n",
              "1                      I am a student who is learning to code      Yes   \n",
              "2                      I am a student who is learning to code       No   \n",
              "3           I am not primarily a developer, but I write co...      Yes   \n",
              "4                              I am a developer by profession       No   \n",
              "5                              I am a developer by profession      Yes   \n",
              "\n",
              "                           OpenSourcer  \\\n",
              "Respondent                               \n",
              "1                                Never   \n",
              "2              Less than once per year   \n",
              "3                                Never   \n",
              "4                                Never   \n",
              "5           Once a month or more often   \n",
              "\n",
              "                                                   OpenSource  \\\n",
              "Respondent                                                      \n",
              "1           The quality of OSS and closed source software ...   \n",
              "2           The quality of OSS and closed source software ...   \n",
              "3           The quality of OSS and closed source software ...   \n",
              "4           The quality of OSS and closed source software ...   \n",
              "5           OSS is, on average, of HIGHER quality than pro...   \n",
              "\n",
              "                                        Employment                 Country  \\\n",
              "Respondent                                                                   \n",
              "1           Not employed, and not looking for work          United Kingdom   \n",
              "2               Not employed, but looking for work  Bosnia and Herzegovina   \n",
              "3                               Employed full-time                Thailand   \n",
              "4                               Employed full-time           United States   \n",
              "5                               Employed full-time                 Ukraine   \n",
              "\n",
              "                   Student                                            EdLevel  \\\n",
              "Respondent                                                                      \n",
              "1                       No                          Primary/elementary school   \n",
              "2           Yes, full-time  Secondary school (e.g. American high school, G...   \n",
              "3                       No           Bachelor’s degree (BA, BS, B.Eng., etc.)   \n",
              "4                       No           Bachelor’s degree (BA, BS, B.Eng., etc.)   \n",
              "5                       No           Bachelor’s degree (BA, BS, B.Eng., etc.)   \n",
              "\n",
              "                                               UndergradMajor  \\\n",
              "Respondent                                                      \n",
              "1                                                         NaN   \n",
              "2                                                         NaN   \n",
              "3                               Web development or web design   \n",
              "4           Computer science, computer engineering, or sof...   \n",
              "5           Computer science, computer engineering, or sof...   \n",
              "\n",
              "                                                     EduOther  \\\n",
              "Respondent                                                      \n",
              "1           Taught yourself a new language, framework, or ...   \n",
              "2           Taken an online course in programming or softw...   \n",
              "3           Taught yourself a new language, framework, or ...   \n",
              "4           Taken an online course in programming or softw...   \n",
              "5           Taken an online course in programming or softw...   \n",
              "\n",
              "                             OrgSize  \\\n",
              "Respondent                             \n",
              "1                                NaN   \n",
              "2                                NaN   \n",
              "3               100 to 499 employees   \n",
              "4               100 to 499 employees   \n",
              "5           10,000 or more employees   \n",
              "\n",
              "                                                      DevType YearsCode  \\\n",
              "Respondent                                                                \n",
              "1                                                         NaN         4   \n",
              "2           Developer, desktop or enterprise applications;...       NaN   \n",
              "3           Designer;Developer, back-end;Developer, front-...         3   \n",
              "4                                       Developer, full-stack         3   \n",
              "5           Academic researcher;Developer, desktop or ente...        16   \n",
              "\n",
              "           Age1stCode      YearsCodePro           CareerSat  \\\n",
              "Respondent                                                    \n",
              "1                  10               NaN                 NaN   \n",
              "2                  17               NaN                 NaN   \n",
              "3                  22                 1  Slightly satisfied   \n",
              "4                  16  Less than 1 year      Very satisfied   \n",
              "5                  14                 9   Very dissatisfied   \n",
              "\n",
              "                           JobSat              MgrIdiot  MgrMoney   MgrWant  \\\n",
              "Respondent                                                                    \n",
              "1                             NaN                   NaN       NaN       NaN   \n",
              "2                             NaN                   NaN       NaN       NaN   \n",
              "3              Slightly satisfied  Not at all confident  Not sure  Not sure   \n",
              "4              Slightly satisfied        Very confident        No  Not sure   \n",
              "5           Slightly dissatisfied    Somewhat confident       Yes        No   \n",
              "\n",
              "                                                      JobSeek  \\\n",
              "Respondent                                                      \n",
              "1                                                         NaN   \n",
              "2                             I am actively looking for a job   \n",
              "3           I’m not actively looking, but I am open to new...   \n",
              "4                I am not interested in new job opportunities   \n",
              "5                I am not interested in new job opportunities   \n",
              "\n",
              "                    LastHireDate  \\\n",
              "Respondent                         \n",
              "1                            NaN   \n",
              "2           I've never had a job   \n",
              "3                  1-2 years ago   \n",
              "4           Less than a year ago   \n",
              "5           Less than a year ago   \n",
              "\n",
              "                                                      LastInt FizzBuzz  \\\n",
              "Respondent                                                               \n",
              "1                                                         NaN      NaN   \n",
              "2                                                         NaN      NaN   \n",
              "3                         Interview with people in peer roles       No   \n",
              "4           Write code by hand (e.g., on a whiteboard);Int...       No   \n",
              "5           Write any code;Write code by hand (e.g., on a ...       No   \n",
              "\n",
              "                                                   JobFactors  \\\n",
              "Respondent                                                      \n",
              "1                                                         NaN   \n",
              "2           Financial performance or funding status of the...   \n",
              "3           Languages, frameworks, and other technologies ...   \n",
              "4           Languages, frameworks, and other technologies ...   \n",
              "5           Industry that I'd be working in;Languages, fra...   \n",
              "\n",
              "                                                 ResumeUpdate CurrencySymbol  \\\n",
              "Respondent                                                                     \n",
              "1                                                         NaN            NaN   \n",
              "2           Something else changed (education, award, medi...            NaN   \n",
              "3                            I was preparing for a job search            THB   \n",
              "4                            I was preparing for a job search            USD   \n",
              "5                            I was preparing for a job search            UAH   \n",
              "\n",
              "                    CurrencyDesc  CompTotal CompFreq  ConvertedComp  \\\n",
              "Respondent                                                            \n",
              "1                            NaN        NaN      NaN            NaN   \n",
              "2                            NaN        NaN      NaN            NaN   \n",
              "3                      Thai baht    23000.0  Monthly         8820.0   \n",
              "4           United States dollar    61000.0   Yearly        61000.0   \n",
              "5              Ukrainian hryvnia        NaN      NaN            NaN   \n",
              "\n",
              "            WorkWeekHrs                                           WorkPlan  \\\n",
              "Respondent                                                                   \n",
              "1                   NaN                                                NaN   \n",
              "2                   NaN                                                NaN   \n",
              "3                  40.0  There's no schedule or spec; I work on what se...   \n",
              "4                  80.0  There's no schedule or spec; I work on what se...   \n",
              "5                  55.0  There is a schedule and/or spec (made by me or...   \n",
              "\n",
              "                                                WorkChallenge  \\\n",
              "Respondent                                                      \n",
              "1                                                         NaN   \n",
              "2                                                         NaN   \n",
              "3           Distracting work environment;Inadequate access...   \n",
              "4                                                         NaN   \n",
              "5           Being tasked with non-development work;Inadequ...   \n",
              "\n",
              "                                  WorkRemote WorkLoc                  ImpSyn  \\\n",
              "Respondent                                                                     \n",
              "1                                        NaN     NaN                     NaN   \n",
              "2                                        NaN     NaN                     NaN   \n",
              "3           Less than once per month / Never    Home                 Average   \n",
              "4           Less than once per month / Never    Home  A little below average   \n",
              "5                      A few days each month  Office  A little above average   \n",
              "\n",
              "                                            CodeRev  CodeRevHrs  \\\n",
              "Respondent                                                        \n",
              "1                                               NaN         NaN   \n",
              "2                                               NaN         NaN   \n",
              "3                                                No         NaN   \n",
              "4                                                No         NaN   \n",
              "5           Yes, because I see value in code review         NaN   \n",
              "\n",
              "                                UnitTests  \\\n",
              "Respondent                                  \n",
              "1                                     NaN   \n",
              "2                                     NaN   \n",
              "3               No, but I think we should   \n",
              "4               No, but I think we should   \n",
              "5           Yes, it's part of our process   \n",
              "\n",
              "                                                  PurchaseHow  \\\n",
              "Respondent                                                      \n",
              "1                                                         NaN   \n",
              "2                                                         NaN   \n",
              "3                                                    Not sure   \n",
              "4           Developers typically have the most influence o...   \n",
              "5                                                    Not sure   \n",
              "\n",
              "                             PurchaseWhat  \\\n",
              "Respondent                                  \n",
              "1                                     NaN   \n",
              "2                                     NaN   \n",
              "3           I have little or no influence   \n",
              "4           I have little or no influence   \n",
              "5           I have little or no influence   \n",
              "\n",
              "                                     LanguageWorkedWith  \\\n",
              "Respondent                                                \n",
              "1                       HTML/CSS;Java;JavaScript;Python   \n",
              "2                                   C++;HTML/CSS;Python   \n",
              "3                                              HTML/CSS   \n",
              "4                                   C;C++;C#;Python;SQL   \n",
              "5           C++;HTML/CSS;Java;JavaScript;Python;SQL;VBA   \n",
              "\n",
              "                                     LanguageDesireNextYear  \\\n",
              "Respondent                                                    \n",
              "1           C;C++;C#;Go;HTML/CSS;Java;JavaScript;Python;SQL   \n",
              "2                               C++;HTML/CSS;JavaScript;SQL   \n",
              "3                                           Elixir;HTML/CSS   \n",
              "4                                       C;C#;JavaScript;SQL   \n",
              "5                  HTML/CSS;Java;JavaScript;SQL;WebAssembly   \n",
              "\n",
              "                                          DatabaseWorkedWith  \\\n",
              "Respondent                                                     \n",
              "1                                                     SQLite   \n",
              "2                                                        NaN   \n",
              "3                                                 PostgreSQL   \n",
              "4                                               MySQL;SQLite   \n",
              "5           Couchbase;MongoDB;MySQL;Oracle;PostgreSQL;SQLite   \n",
              "\n",
              "                                       DatabaseDesireNextYear  \\\n",
              "Respondent                                                      \n",
              "1                                                       MySQL   \n",
              "2                                                       MySQL   \n",
              "3                                                  PostgreSQL   \n",
              "4                                                MySQL;SQLite   \n",
              "5           Couchbase;Firebase;MongoDB;MySQL;Oracle;Postgr...   \n",
              "\n",
              "                           PlatformWorkedWith  \\\n",
              "Respondent                                      \n",
              "1                               MacOS;Windows   \n",
              "2                                     Windows   \n",
              "3                                         NaN   \n",
              "4                               Linux;Windows   \n",
              "5           Android;Linux;MacOS;Slack;Windows   \n",
              "\n",
              "                           PlatformDesireNextYear  \\\n",
              "Respondent                                          \n",
              "1                         Android;Arduino;Windows   \n",
              "2                                         Windows   \n",
              "3                                             NaN   \n",
              "4                                   Linux;Windows   \n",
              "5           Android;Docker;Kubernetes;Linux;Slack   \n",
              "\n",
              "                                     WebFrameWorkedWith  \\\n",
              "Respondent                                                \n",
              "1                                          Django;Flask   \n",
              "2                                                Django   \n",
              "3                                                   NaN   \n",
              "4                                                   NaN   \n",
              "5           Django;Express;Flask;jQuery;React.js;Spring   \n",
              "\n",
              "                  WebFrameDesireNextYear MiscTechWorkedWith  \\\n",
              "Respondent                                                    \n",
              "1                           Flask;jQuery            Node.js   \n",
              "2                                 Django                NaN   \n",
              "3                              Other(s):                NaN   \n",
              "4                                    NaN               .NET   \n",
              "5           Flask;jQuery;React.js;Spring    Cordova;Node.js   \n",
              "\n",
              "                              MiscTechDesireNextYear  \\\n",
              "Respondent                                             \n",
              "1                                            Node.js   \n",
              "2                                                NaN   \n",
              "3                                                NaN   \n",
              "4                                               .NET   \n",
              "5           Apache Spark;Hadoop;Node.js;React Native   \n",
              "\n",
              "                                              DevEnviron        OpSys  \\\n",
              "Respondent                                                              \n",
              "1                             IntelliJ;Notepad++;PyCharm      Windows   \n",
              "2                                           Atom;PyCharm      Windows   \n",
              "3                                 Vim;Visual Studio Code  Linux-based   \n",
              "4           Eclipse;Vim;Visual Studio;Visual Studio Code      Windows   \n",
              "5                                 IntelliJ;Notepad++;Vim  Linux-based   \n",
              "\n",
              "                                        Containers BlockchainOrg  \\\n",
              "Respondent                                                         \n",
              "1                          I do not use containers           NaN   \n",
              "2                          I do not use containers           NaN   \n",
              "3                          I do not use containers           NaN   \n",
              "4                          I do not use containers    Not at all   \n",
              "5           Outside of work, for personal projects    Not at all   \n",
              "\n",
              "                                                 BlockchainIs BetterLife  \\\n",
              "Respondent                                                                 \n",
              "1                                                         NaN        Yes   \n",
              "2           Useful across many domains and could change ma...        Yes   \n",
              "3                                                         NaN        Yes   \n",
              "4           Useful for decentralized currency (i.e., Bitcoin)        Yes   \n",
              "5                                                         NaN        Yes   \n",
              "\n",
              "                                            ITperson OffOn SocialMedia  \\\n",
              "Respondent                                                               \n",
              "1           Fortunately, someone else has that title   Yes     Twitter   \n",
              "2                                                Yes   Yes   Instagram   \n",
              "3                                                Yes   Yes      Reddit   \n",
              "4                                               SIGH   Yes      Reddit   \n",
              "5                                           Also Yes   Yes    Facebook   \n",
              "\n",
              "                        Extraversion ScreenName        SOVisit1st  \\\n",
              "Respondent                                                          \n",
              "1                             Online   Username              2017   \n",
              "2                             Online   Username              2017   \n",
              "3           In real life (in person)   Username              2011   \n",
              "4           In real life (in person)   Username              2014   \n",
              "5           In real life (in person)   Username  I don't remember   \n",
              "\n",
              "                                SOVisitFreq  \\\n",
              "Respondent                                    \n",
              "1           A few times per month or weekly   \n",
              "2                     Daily or almost daily   \n",
              "3                      A few times per week   \n",
              "4                     Daily or almost daily   \n",
              "5                    Multiple times per day   \n",
              "\n",
              "                                                    SOVisitTo  \\\n",
              "Respondent                                                      \n",
              "1           Find answers to specific questions;Learn how t...   \n",
              "2           Find answers to specific questions;Learn how t...   \n",
              "3           Find answers to specific questions;Learn how t...   \n",
              "4           Find answers to specific questions;Pass the ti...   \n",
              "5                          Find answers to specific questions   \n",
              "\n",
              "                           SOFindAnswer                     SOTimeSaved  \\\n",
              "Respondent                                                                \n",
              "1                    3-5 times per week  Stack Overflow was much faster   \n",
              "2                    3-5 times per week  Stack Overflow was much faster   \n",
              "3                   6-10 times per week        They were about the same   \n",
              "4                    1-2 times per week  Stack Overflow was much faster   \n",
              "5           More than 10 times per week  Stack Overflow was much faster   \n",
              "\n",
              "            SOHowMuchTime SOAccount                           SOPartFreq  \\\n",
              "Respondent                                                                 \n",
              "1           31-60 minutes        No                                  NaN   \n",
              "2           11-30 minutes       Yes      A few times per month or weekly   \n",
              "3                     NaN       Yes  Less than once per month or monthly   \n",
              "4           31-60 minutes       Yes  Less than once per month or monthly   \n",
              "5                     NaN       Yes      A few times per month or weekly   \n",
              "\n",
              "                                                       SOJobs  \\\n",
              "Respondent                                                      \n",
              "1           No, I didn't know that Stack Overflow had a jo...   \n",
              "2           No, I knew that Stack Overflow had a job board...   \n",
              "3                                                         Yes   \n",
              "4                                                         Yes   \n",
              "5           No, I knew that Stack Overflow had a job board...   \n",
              "\n",
              "                                                     EntTeams  \\\n",
              "Respondent                                                      \n",
              "1                         No, and I don't know what those are   \n",
              "2                         No, and I don't know what those are   \n",
              "3           No, I've heard of them, but I am not part of a...   \n",
              "4                         No, and I don't know what those are   \n",
              "5           No, I've heard of them, but I am not part of a...   \n",
              "\n",
              "                     SOComm                            WelcomeChange  \\\n",
              "Respondent                                                             \n",
              "1                   Neutral  Just as welcome now as I felt last year   \n",
              "2             Yes, somewhat  Just as welcome now as I felt last year   \n",
              "3                   Neutral  Just as welcome now as I felt last year   \n",
              "4            No, not really  Just as welcome now as I felt last year   \n",
              "5           Yes, definitely  Just as welcome now as I felt last year   \n",
              "\n",
              "                                                 SONewContent   Age Gender  \\\n",
              "Respondent                                                                   \n",
              "1           Tech articles written by other developers;Indu...  14.0    Man   \n",
              "2           Tech articles written by other developers;Indu...  19.0    Man   \n",
              "3           Tech meetups or events in your area;Courses on...  28.0    Man   \n",
              "4           Tech articles written by other developers;Indu...  22.0    Man   \n",
              "5           Tech meetups or events in your area;Courses on...  30.0    Man   \n",
              "\n",
              "           Trans                Sexuality  \\\n",
              "Respondent                                  \n",
              "1             No  Straight / Heterosexual   \n",
              "2             No  Straight / Heterosexual   \n",
              "3             No  Straight / Heterosexual   \n",
              "4             No  Straight / Heterosexual   \n",
              "5             No  Straight / Heterosexual   \n",
              "\n",
              "                                           Ethnicity Dependents  \\\n",
              "Respondent                                                        \n",
              "1                                                NaN         No   \n",
              "2                                                NaN         No   \n",
              "3                                                NaN        Yes   \n",
              "4                       White or of European descent         No   \n",
              "5           White or of European descent;Multiracial         No   \n",
              "\n",
              "                     SurveyLength                  SurveyEase  \n",
              "Respondent                                                     \n",
              "1           Appropriate in length  Neither easy nor difficult  \n",
              "2           Appropriate in length  Neither easy nor difficult  \n",
              "3           Appropriate in length  Neither easy nor difficult  \n",
              "4           Appropriate in length                        Easy  \n",
              "5           Appropriate in length                        Easy  "
            ]
          },
          "metadata": {
            "tags": []
          },
          "execution_count": 85
        }
      ]
    },
    {
      "cell_type": "code",
      "metadata": {
        "id": "AvJHGSyVylnJ"
      },
      "source": [
        "df_schema = pd.read_csv('https://raw.githubusercontent.com/davidzheng66/python3/master/panda/data/survey_results_schema.csv', index_col='Column')"
      ],
      "execution_count": 82,
      "outputs": []
    },
    {
      "cell_type": "code",
      "metadata": {
        "id": "F1v0xpm3zAEh"
      },
      "source": [
        "pd.set_option('display.max_columns', 85)"
      ],
      "execution_count": 75,
      "outputs": []
    },
    {
      "cell_type": "code",
      "metadata": {
        "id": "_s-_FLMnyny2",
        "outputId": "9a97e50c-71e3-409d-f971-0b485ff93159",
        "colab": {
          "base_uri": "https://localhost:8080/",
          "height": 782
        }
      },
      "source": [
        "df.rename(columns={'ConvertedComp' : 'SalaryUSD'}, inplace=True)\r\n",
        "df.head()"
      ],
      "execution_count": 86,
      "outputs": [
        {
          "output_type": "execute_result",
          "data": {
            "text/html": [
              "<div>\n",
              "<style scoped>\n",
              "    .dataframe tbody tr th:only-of-type {\n",
              "        vertical-align: middle;\n",
              "    }\n",
              "\n",
              "    .dataframe tbody tr th {\n",
              "        vertical-align: top;\n",
              "    }\n",
              "\n",
              "    .dataframe thead th {\n",
              "        text-align: right;\n",
              "    }\n",
              "</style>\n",
              "<table border=\"1\" class=\"dataframe\">\n",
              "  <thead>\n",
              "    <tr style=\"text-align: right;\">\n",
              "      <th></th>\n",
              "      <th>MainBranch</th>\n",
              "      <th>Hobbyist</th>\n",
              "      <th>OpenSourcer</th>\n",
              "      <th>OpenSource</th>\n",
              "      <th>Employment</th>\n",
              "      <th>Country</th>\n",
              "      <th>Student</th>\n",
              "      <th>EdLevel</th>\n",
              "      <th>UndergradMajor</th>\n",
              "      <th>EduOther</th>\n",
              "      <th>OrgSize</th>\n",
              "      <th>DevType</th>\n",
              "      <th>YearsCode</th>\n",
              "      <th>Age1stCode</th>\n",
              "      <th>YearsCodePro</th>\n",
              "      <th>CareerSat</th>\n",
              "      <th>JobSat</th>\n",
              "      <th>MgrIdiot</th>\n",
              "      <th>MgrMoney</th>\n",
              "      <th>MgrWant</th>\n",
              "      <th>JobSeek</th>\n",
              "      <th>LastHireDate</th>\n",
              "      <th>LastInt</th>\n",
              "      <th>FizzBuzz</th>\n",
              "      <th>JobFactors</th>\n",
              "      <th>ResumeUpdate</th>\n",
              "      <th>CurrencySymbol</th>\n",
              "      <th>CurrencyDesc</th>\n",
              "      <th>CompTotal</th>\n",
              "      <th>CompFreq</th>\n",
              "      <th>SalaryUSD</th>\n",
              "      <th>WorkWeekHrs</th>\n",
              "      <th>WorkPlan</th>\n",
              "      <th>WorkChallenge</th>\n",
              "      <th>WorkRemote</th>\n",
              "      <th>WorkLoc</th>\n",
              "      <th>ImpSyn</th>\n",
              "      <th>CodeRev</th>\n",
              "      <th>CodeRevHrs</th>\n",
              "      <th>UnitTests</th>\n",
              "      <th>PurchaseHow</th>\n",
              "      <th>PurchaseWhat</th>\n",
              "      <th>LanguageWorkedWith</th>\n",
              "      <th>LanguageDesireNextYear</th>\n",
              "      <th>DatabaseWorkedWith</th>\n",
              "      <th>DatabaseDesireNextYear</th>\n",
              "      <th>PlatformWorkedWith</th>\n",
              "      <th>PlatformDesireNextYear</th>\n",
              "      <th>WebFrameWorkedWith</th>\n",
              "      <th>WebFrameDesireNextYear</th>\n",
              "      <th>MiscTechWorkedWith</th>\n",
              "      <th>MiscTechDesireNextYear</th>\n",
              "      <th>DevEnviron</th>\n",
              "      <th>OpSys</th>\n",
              "      <th>Containers</th>\n",
              "      <th>BlockchainOrg</th>\n",
              "      <th>BlockchainIs</th>\n",
              "      <th>BetterLife</th>\n",
              "      <th>ITperson</th>\n",
              "      <th>OffOn</th>\n",
              "      <th>SocialMedia</th>\n",
              "      <th>Extraversion</th>\n",
              "      <th>ScreenName</th>\n",
              "      <th>SOVisit1st</th>\n",
              "      <th>SOVisitFreq</th>\n",
              "      <th>SOVisitTo</th>\n",
              "      <th>SOFindAnswer</th>\n",
              "      <th>SOTimeSaved</th>\n",
              "      <th>SOHowMuchTime</th>\n",
              "      <th>SOAccount</th>\n",
              "      <th>SOPartFreq</th>\n",
              "      <th>SOJobs</th>\n",
              "      <th>EntTeams</th>\n",
              "      <th>SOComm</th>\n",
              "      <th>WelcomeChange</th>\n",
              "      <th>SONewContent</th>\n",
              "      <th>Age</th>\n",
              "      <th>Gender</th>\n",
              "      <th>Trans</th>\n",
              "      <th>Sexuality</th>\n",
              "      <th>Ethnicity</th>\n",
              "      <th>Dependents</th>\n",
              "      <th>SurveyLength</th>\n",
              "      <th>SurveyEase</th>\n",
              "    </tr>\n",
              "    <tr>\n",
              "      <th>Respondent</th>\n",
              "      <th></th>\n",
              "      <th></th>\n",
              "      <th></th>\n",
              "      <th></th>\n",
              "      <th></th>\n",
              "      <th></th>\n",
              "      <th></th>\n",
              "      <th></th>\n",
              "      <th></th>\n",
              "      <th></th>\n",
              "      <th></th>\n",
              "      <th></th>\n",
              "      <th></th>\n",
              "      <th></th>\n",
              "      <th></th>\n",
              "      <th></th>\n",
              "      <th></th>\n",
              "      <th></th>\n",
              "      <th></th>\n",
              "      <th></th>\n",
              "      <th></th>\n",
              "      <th></th>\n",
              "      <th></th>\n",
              "      <th></th>\n",
              "      <th></th>\n",
              "      <th></th>\n",
              "      <th></th>\n",
              "      <th></th>\n",
              "      <th></th>\n",
              "      <th></th>\n",
              "      <th></th>\n",
              "      <th></th>\n",
              "      <th></th>\n",
              "      <th></th>\n",
              "      <th></th>\n",
              "      <th></th>\n",
              "      <th></th>\n",
              "      <th></th>\n",
              "      <th></th>\n",
              "      <th></th>\n",
              "      <th></th>\n",
              "      <th></th>\n",
              "      <th></th>\n",
              "      <th></th>\n",
              "      <th></th>\n",
              "      <th></th>\n",
              "      <th></th>\n",
              "      <th></th>\n",
              "      <th></th>\n",
              "      <th></th>\n",
              "      <th></th>\n",
              "      <th></th>\n",
              "      <th></th>\n",
              "      <th></th>\n",
              "      <th></th>\n",
              "      <th></th>\n",
              "      <th></th>\n",
              "      <th></th>\n",
              "      <th></th>\n",
              "      <th></th>\n",
              "      <th></th>\n",
              "      <th></th>\n",
              "      <th></th>\n",
              "      <th></th>\n",
              "      <th></th>\n",
              "      <th></th>\n",
              "      <th></th>\n",
              "      <th></th>\n",
              "      <th></th>\n",
              "      <th></th>\n",
              "      <th></th>\n",
              "      <th></th>\n",
              "      <th></th>\n",
              "      <th></th>\n",
              "      <th></th>\n",
              "      <th></th>\n",
              "      <th></th>\n",
              "      <th></th>\n",
              "      <th></th>\n",
              "      <th></th>\n",
              "      <th></th>\n",
              "      <th></th>\n",
              "      <th></th>\n",
              "      <th></th>\n",
              "    </tr>\n",
              "  </thead>\n",
              "  <tbody>\n",
              "    <tr>\n",
              "      <th>1</th>\n",
              "      <td>I am a student who is learning to code</td>\n",
              "      <td>Yes</td>\n",
              "      <td>Never</td>\n",
              "      <td>The quality of OSS and closed source software ...</td>\n",
              "      <td>Not employed, and not looking for work</td>\n",
              "      <td>United Kingdom</td>\n",
              "      <td>No</td>\n",
              "      <td>Primary/elementary school</td>\n",
              "      <td>NaN</td>\n",
              "      <td>Taught yourself a new language, framework, or ...</td>\n",
              "      <td>NaN</td>\n",
              "      <td>NaN</td>\n",
              "      <td>4</td>\n",
              "      <td>10</td>\n",
              "      <td>NaN</td>\n",
              "      <td>NaN</td>\n",
              "      <td>NaN</td>\n",
              "      <td>NaN</td>\n",
              "      <td>NaN</td>\n",
              "      <td>NaN</td>\n",
              "      <td>NaN</td>\n",
              "      <td>NaN</td>\n",
              "      <td>NaN</td>\n",
              "      <td>NaN</td>\n",
              "      <td>NaN</td>\n",
              "      <td>NaN</td>\n",
              "      <td>NaN</td>\n",
              "      <td>NaN</td>\n",
              "      <td>NaN</td>\n",
              "      <td>NaN</td>\n",
              "      <td>NaN</td>\n",
              "      <td>NaN</td>\n",
              "      <td>NaN</td>\n",
              "      <td>NaN</td>\n",
              "      <td>NaN</td>\n",
              "      <td>NaN</td>\n",
              "      <td>NaN</td>\n",
              "      <td>NaN</td>\n",
              "      <td>NaN</td>\n",
              "      <td>NaN</td>\n",
              "      <td>NaN</td>\n",
              "      <td>NaN</td>\n",
              "      <td>HTML/CSS;Java;JavaScript;Python</td>\n",
              "      <td>C;C++;C#;Go;HTML/CSS;Java;JavaScript;Python;SQL</td>\n",
              "      <td>SQLite</td>\n",
              "      <td>MySQL</td>\n",
              "      <td>MacOS;Windows</td>\n",
              "      <td>Android;Arduino;Windows</td>\n",
              "      <td>Django;Flask</td>\n",
              "      <td>Flask;jQuery</td>\n",
              "      <td>Node.js</td>\n",
              "      <td>Node.js</td>\n",
              "      <td>IntelliJ;Notepad++;PyCharm</td>\n",
              "      <td>Windows</td>\n",
              "      <td>I do not use containers</td>\n",
              "      <td>NaN</td>\n",
              "      <td>NaN</td>\n",
              "      <td>Yes</td>\n",
              "      <td>Fortunately, someone else has that title</td>\n",
              "      <td>Yes</td>\n",
              "      <td>Twitter</td>\n",
              "      <td>Online</td>\n",
              "      <td>Username</td>\n",
              "      <td>2017</td>\n",
              "      <td>A few times per month or weekly</td>\n",
              "      <td>Find answers to specific questions;Learn how t...</td>\n",
              "      <td>3-5 times per week</td>\n",
              "      <td>Stack Overflow was much faster</td>\n",
              "      <td>31-60 minutes</td>\n",
              "      <td>No</td>\n",
              "      <td>NaN</td>\n",
              "      <td>No, I didn't know that Stack Overflow had a jo...</td>\n",
              "      <td>No, and I don't know what those are</td>\n",
              "      <td>Neutral</td>\n",
              "      <td>Just as welcome now as I felt last year</td>\n",
              "      <td>Tech articles written by other developers;Indu...</td>\n",
              "      <td>14.0</td>\n",
              "      <td>Man</td>\n",
              "      <td>No</td>\n",
              "      <td>Straight / Heterosexual</td>\n",
              "      <td>NaN</td>\n",
              "      <td>No</td>\n",
              "      <td>Appropriate in length</td>\n",
              "      <td>Neither easy nor difficult</td>\n",
              "    </tr>\n",
              "    <tr>\n",
              "      <th>2</th>\n",
              "      <td>I am a student who is learning to code</td>\n",
              "      <td>No</td>\n",
              "      <td>Less than once per year</td>\n",
              "      <td>The quality of OSS and closed source software ...</td>\n",
              "      <td>Not employed, but looking for work</td>\n",
              "      <td>Bosnia and Herzegovina</td>\n",
              "      <td>Yes, full-time</td>\n",
              "      <td>Secondary school (e.g. American high school, G...</td>\n",
              "      <td>NaN</td>\n",
              "      <td>Taken an online course in programming or softw...</td>\n",
              "      <td>NaN</td>\n",
              "      <td>Developer, desktop or enterprise applications;...</td>\n",
              "      <td>NaN</td>\n",
              "      <td>17</td>\n",
              "      <td>NaN</td>\n",
              "      <td>NaN</td>\n",
              "      <td>NaN</td>\n",
              "      <td>NaN</td>\n",
              "      <td>NaN</td>\n",
              "      <td>NaN</td>\n",
              "      <td>I am actively looking for a job</td>\n",
              "      <td>I've never had a job</td>\n",
              "      <td>NaN</td>\n",
              "      <td>NaN</td>\n",
              "      <td>Financial performance or funding status of the...</td>\n",
              "      <td>Something else changed (education, award, medi...</td>\n",
              "      <td>NaN</td>\n",
              "      <td>NaN</td>\n",
              "      <td>NaN</td>\n",
              "      <td>NaN</td>\n",
              "      <td>NaN</td>\n",
              "      <td>NaN</td>\n",
              "      <td>NaN</td>\n",
              "      <td>NaN</td>\n",
              "      <td>NaN</td>\n",
              "      <td>NaN</td>\n",
              "      <td>NaN</td>\n",
              "      <td>NaN</td>\n",
              "      <td>NaN</td>\n",
              "      <td>NaN</td>\n",
              "      <td>NaN</td>\n",
              "      <td>NaN</td>\n",
              "      <td>C++;HTML/CSS;Python</td>\n",
              "      <td>C++;HTML/CSS;JavaScript;SQL</td>\n",
              "      <td>NaN</td>\n",
              "      <td>MySQL</td>\n",
              "      <td>Windows</td>\n",
              "      <td>Windows</td>\n",
              "      <td>Django</td>\n",
              "      <td>Django</td>\n",
              "      <td>NaN</td>\n",
              "      <td>NaN</td>\n",
              "      <td>Atom;PyCharm</td>\n",
              "      <td>Windows</td>\n",
              "      <td>I do not use containers</td>\n",
              "      <td>NaN</td>\n",
              "      <td>Useful across many domains and could change ma...</td>\n",
              "      <td>Yes</td>\n",
              "      <td>Yes</td>\n",
              "      <td>Yes</td>\n",
              "      <td>Instagram</td>\n",
              "      <td>Online</td>\n",
              "      <td>Username</td>\n",
              "      <td>2017</td>\n",
              "      <td>Daily or almost daily</td>\n",
              "      <td>Find answers to specific questions;Learn how t...</td>\n",
              "      <td>3-5 times per week</td>\n",
              "      <td>Stack Overflow was much faster</td>\n",
              "      <td>11-30 minutes</td>\n",
              "      <td>Yes</td>\n",
              "      <td>A few times per month or weekly</td>\n",
              "      <td>No, I knew that Stack Overflow had a job board...</td>\n",
              "      <td>No, and I don't know what those are</td>\n",
              "      <td>Yes, somewhat</td>\n",
              "      <td>Just as welcome now as I felt last year</td>\n",
              "      <td>Tech articles written by other developers;Indu...</td>\n",
              "      <td>19.0</td>\n",
              "      <td>Man</td>\n",
              "      <td>No</td>\n",
              "      <td>Straight / Heterosexual</td>\n",
              "      <td>NaN</td>\n",
              "      <td>No</td>\n",
              "      <td>Appropriate in length</td>\n",
              "      <td>Neither easy nor difficult</td>\n",
              "    </tr>\n",
              "    <tr>\n",
              "      <th>3</th>\n",
              "      <td>I am not primarily a developer, but I write co...</td>\n",
              "      <td>Yes</td>\n",
              "      <td>Never</td>\n",
              "      <td>The quality of OSS and closed source software ...</td>\n",
              "      <td>Employed full-time</td>\n",
              "      <td>Thailand</td>\n",
              "      <td>No</td>\n",
              "      <td>Bachelor’s degree (BA, BS, B.Eng., etc.)</td>\n",
              "      <td>Web development or web design</td>\n",
              "      <td>Taught yourself a new language, framework, or ...</td>\n",
              "      <td>100 to 499 employees</td>\n",
              "      <td>Designer;Developer, back-end;Developer, front-...</td>\n",
              "      <td>3</td>\n",
              "      <td>22</td>\n",
              "      <td>1</td>\n",
              "      <td>Slightly satisfied</td>\n",
              "      <td>Slightly satisfied</td>\n",
              "      <td>Not at all confident</td>\n",
              "      <td>Not sure</td>\n",
              "      <td>Not sure</td>\n",
              "      <td>I’m not actively looking, but I am open to new...</td>\n",
              "      <td>1-2 years ago</td>\n",
              "      <td>Interview with people in peer roles</td>\n",
              "      <td>No</td>\n",
              "      <td>Languages, frameworks, and other technologies ...</td>\n",
              "      <td>I was preparing for a job search</td>\n",
              "      <td>THB</td>\n",
              "      <td>Thai baht</td>\n",
              "      <td>23000.0</td>\n",
              "      <td>Monthly</td>\n",
              "      <td>8820.0</td>\n",
              "      <td>40.0</td>\n",
              "      <td>There's no schedule or spec; I work on what se...</td>\n",
              "      <td>Distracting work environment;Inadequate access...</td>\n",
              "      <td>Less than once per month / Never</td>\n",
              "      <td>Home</td>\n",
              "      <td>Average</td>\n",
              "      <td>No</td>\n",
              "      <td>NaN</td>\n",
              "      <td>No, but I think we should</td>\n",
              "      <td>Not sure</td>\n",
              "      <td>I have little or no influence</td>\n",
              "      <td>HTML/CSS</td>\n",
              "      <td>Elixir;HTML/CSS</td>\n",
              "      <td>PostgreSQL</td>\n",
              "      <td>PostgreSQL</td>\n",
              "      <td>NaN</td>\n",
              "      <td>NaN</td>\n",
              "      <td>NaN</td>\n",
              "      <td>Other(s):</td>\n",
              "      <td>NaN</td>\n",
              "      <td>NaN</td>\n",
              "      <td>Vim;Visual Studio Code</td>\n",
              "      <td>Linux-based</td>\n",
              "      <td>I do not use containers</td>\n",
              "      <td>NaN</td>\n",
              "      <td>NaN</td>\n",
              "      <td>Yes</td>\n",
              "      <td>Yes</td>\n",
              "      <td>Yes</td>\n",
              "      <td>Reddit</td>\n",
              "      <td>In real life (in person)</td>\n",
              "      <td>Username</td>\n",
              "      <td>2011</td>\n",
              "      <td>A few times per week</td>\n",
              "      <td>Find answers to specific questions;Learn how t...</td>\n",
              "      <td>6-10 times per week</td>\n",
              "      <td>They were about the same</td>\n",
              "      <td>NaN</td>\n",
              "      <td>Yes</td>\n",
              "      <td>Less than once per month or monthly</td>\n",
              "      <td>Yes</td>\n",
              "      <td>No, I've heard of them, but I am not part of a...</td>\n",
              "      <td>Neutral</td>\n",
              "      <td>Just as welcome now as I felt last year</td>\n",
              "      <td>Tech meetups or events in your area;Courses on...</td>\n",
              "      <td>28.0</td>\n",
              "      <td>Man</td>\n",
              "      <td>No</td>\n",
              "      <td>Straight / Heterosexual</td>\n",
              "      <td>NaN</td>\n",
              "      <td>Yes</td>\n",
              "      <td>Appropriate in length</td>\n",
              "      <td>Neither easy nor difficult</td>\n",
              "    </tr>\n",
              "    <tr>\n",
              "      <th>4</th>\n",
              "      <td>I am a developer by profession</td>\n",
              "      <td>No</td>\n",
              "      <td>Never</td>\n",
              "      <td>The quality of OSS and closed source software ...</td>\n",
              "      <td>Employed full-time</td>\n",
              "      <td>United States</td>\n",
              "      <td>No</td>\n",
              "      <td>Bachelor’s degree (BA, BS, B.Eng., etc.)</td>\n",
              "      <td>Computer science, computer engineering, or sof...</td>\n",
              "      <td>Taken an online course in programming or softw...</td>\n",
              "      <td>100 to 499 employees</td>\n",
              "      <td>Developer, full-stack</td>\n",
              "      <td>3</td>\n",
              "      <td>16</td>\n",
              "      <td>Less than 1 year</td>\n",
              "      <td>Very satisfied</td>\n",
              "      <td>Slightly satisfied</td>\n",
              "      <td>Very confident</td>\n",
              "      <td>No</td>\n",
              "      <td>Not sure</td>\n",
              "      <td>I am not interested in new job opportunities</td>\n",
              "      <td>Less than a year ago</td>\n",
              "      <td>Write code by hand (e.g., on a whiteboard);Int...</td>\n",
              "      <td>No</td>\n",
              "      <td>Languages, frameworks, and other technologies ...</td>\n",
              "      <td>I was preparing for a job search</td>\n",
              "      <td>USD</td>\n",
              "      <td>United States dollar</td>\n",
              "      <td>61000.0</td>\n",
              "      <td>Yearly</td>\n",
              "      <td>61000.0</td>\n",
              "      <td>80.0</td>\n",
              "      <td>There's no schedule or spec; I work on what se...</td>\n",
              "      <td>NaN</td>\n",
              "      <td>Less than once per month / Never</td>\n",
              "      <td>Home</td>\n",
              "      <td>A little below average</td>\n",
              "      <td>No</td>\n",
              "      <td>NaN</td>\n",
              "      <td>No, but I think we should</td>\n",
              "      <td>Developers typically have the most influence o...</td>\n",
              "      <td>I have little or no influence</td>\n",
              "      <td>C;C++;C#;Python;SQL</td>\n",
              "      <td>C;C#;JavaScript;SQL</td>\n",
              "      <td>MySQL;SQLite</td>\n",
              "      <td>MySQL;SQLite</td>\n",
              "      <td>Linux;Windows</td>\n",
              "      <td>Linux;Windows</td>\n",
              "      <td>NaN</td>\n",
              "      <td>NaN</td>\n",
              "      <td>.NET</td>\n",
              "      <td>.NET</td>\n",
              "      <td>Eclipse;Vim;Visual Studio;Visual Studio Code</td>\n",
              "      <td>Windows</td>\n",
              "      <td>I do not use containers</td>\n",
              "      <td>Not at all</td>\n",
              "      <td>Useful for decentralized currency (i.e., Bitcoin)</td>\n",
              "      <td>Yes</td>\n",
              "      <td>SIGH</td>\n",
              "      <td>Yes</td>\n",
              "      <td>Reddit</td>\n",
              "      <td>In real life (in person)</td>\n",
              "      <td>Username</td>\n",
              "      <td>2014</td>\n",
              "      <td>Daily or almost daily</td>\n",
              "      <td>Find answers to specific questions;Pass the ti...</td>\n",
              "      <td>1-2 times per week</td>\n",
              "      <td>Stack Overflow was much faster</td>\n",
              "      <td>31-60 minutes</td>\n",
              "      <td>Yes</td>\n",
              "      <td>Less than once per month or monthly</td>\n",
              "      <td>Yes</td>\n",
              "      <td>No, and I don't know what those are</td>\n",
              "      <td>No, not really</td>\n",
              "      <td>Just as welcome now as I felt last year</td>\n",
              "      <td>Tech articles written by other developers;Indu...</td>\n",
              "      <td>22.0</td>\n",
              "      <td>Man</td>\n",
              "      <td>No</td>\n",
              "      <td>Straight / Heterosexual</td>\n",
              "      <td>White or of European descent</td>\n",
              "      <td>No</td>\n",
              "      <td>Appropriate in length</td>\n",
              "      <td>Easy</td>\n",
              "    </tr>\n",
              "    <tr>\n",
              "      <th>5</th>\n",
              "      <td>I am a developer by profession</td>\n",
              "      <td>Yes</td>\n",
              "      <td>Once a month or more often</td>\n",
              "      <td>OSS is, on average, of HIGHER quality than pro...</td>\n",
              "      <td>Employed full-time</td>\n",
              "      <td>Ukraine</td>\n",
              "      <td>No</td>\n",
              "      <td>Bachelor’s degree (BA, BS, B.Eng., etc.)</td>\n",
              "      <td>Computer science, computer engineering, or sof...</td>\n",
              "      <td>Taken an online course in programming or softw...</td>\n",
              "      <td>10,000 or more employees</td>\n",
              "      <td>Academic researcher;Developer, desktop or ente...</td>\n",
              "      <td>16</td>\n",
              "      <td>14</td>\n",
              "      <td>9</td>\n",
              "      <td>Very dissatisfied</td>\n",
              "      <td>Slightly dissatisfied</td>\n",
              "      <td>Somewhat confident</td>\n",
              "      <td>Yes</td>\n",
              "      <td>No</td>\n",
              "      <td>I am not interested in new job opportunities</td>\n",
              "      <td>Less than a year ago</td>\n",
              "      <td>Write any code;Write code by hand (e.g., on a ...</td>\n",
              "      <td>No</td>\n",
              "      <td>Industry that I'd be working in;Languages, fra...</td>\n",
              "      <td>I was preparing for a job search</td>\n",
              "      <td>UAH</td>\n",
              "      <td>Ukrainian hryvnia</td>\n",
              "      <td>NaN</td>\n",
              "      <td>NaN</td>\n",
              "      <td>NaN</td>\n",
              "      <td>55.0</td>\n",
              "      <td>There is a schedule and/or spec (made by me or...</td>\n",
              "      <td>Being tasked with non-development work;Inadequ...</td>\n",
              "      <td>A few days each month</td>\n",
              "      <td>Office</td>\n",
              "      <td>A little above average</td>\n",
              "      <td>Yes, because I see value in code review</td>\n",
              "      <td>NaN</td>\n",
              "      <td>Yes, it's part of our process</td>\n",
              "      <td>Not sure</td>\n",
              "      <td>I have little or no influence</td>\n",
              "      <td>C++;HTML/CSS;Java;JavaScript;Python;SQL;VBA</td>\n",
              "      <td>HTML/CSS;Java;JavaScript;SQL;WebAssembly</td>\n",
              "      <td>Couchbase;MongoDB;MySQL;Oracle;PostgreSQL;SQLite</td>\n",
              "      <td>Couchbase;Firebase;MongoDB;MySQL;Oracle;Postgr...</td>\n",
              "      <td>Android;Linux;MacOS;Slack;Windows</td>\n",
              "      <td>Android;Docker;Kubernetes;Linux;Slack</td>\n",
              "      <td>Django;Express;Flask;jQuery;React.js;Spring</td>\n",
              "      <td>Flask;jQuery;React.js;Spring</td>\n",
              "      <td>Cordova;Node.js</td>\n",
              "      <td>Apache Spark;Hadoop;Node.js;React Native</td>\n",
              "      <td>IntelliJ;Notepad++;Vim</td>\n",
              "      <td>Linux-based</td>\n",
              "      <td>Outside of work, for personal projects</td>\n",
              "      <td>Not at all</td>\n",
              "      <td>NaN</td>\n",
              "      <td>Yes</td>\n",
              "      <td>Also Yes</td>\n",
              "      <td>Yes</td>\n",
              "      <td>Facebook</td>\n",
              "      <td>In real life (in person)</td>\n",
              "      <td>Username</td>\n",
              "      <td>I don't remember</td>\n",
              "      <td>Multiple times per day</td>\n",
              "      <td>Find answers to specific questions</td>\n",
              "      <td>More than 10 times per week</td>\n",
              "      <td>Stack Overflow was much faster</td>\n",
              "      <td>NaN</td>\n",
              "      <td>Yes</td>\n",
              "      <td>A few times per month or weekly</td>\n",
              "      <td>No, I knew that Stack Overflow had a job board...</td>\n",
              "      <td>No, I've heard of them, but I am not part of a...</td>\n",
              "      <td>Yes, definitely</td>\n",
              "      <td>Just as welcome now as I felt last year</td>\n",
              "      <td>Tech meetups or events in your area;Courses on...</td>\n",
              "      <td>30.0</td>\n",
              "      <td>Man</td>\n",
              "      <td>No</td>\n",
              "      <td>Straight / Heterosexual</td>\n",
              "      <td>White or of European descent;Multiracial</td>\n",
              "      <td>No</td>\n",
              "      <td>Appropriate in length</td>\n",
              "      <td>Easy</td>\n",
              "    </tr>\n",
              "  </tbody>\n",
              "</table>\n",
              "</div>"
            ],
            "text/plain": [
              "                                                   MainBranch Hobbyist  \\\n",
              "Respondent                                                               \n",
              "1                      I am a student who is learning to code      Yes   \n",
              "2                      I am a student who is learning to code       No   \n",
              "3           I am not primarily a developer, but I write co...      Yes   \n",
              "4                              I am a developer by profession       No   \n",
              "5                              I am a developer by profession      Yes   \n",
              "\n",
              "                           OpenSourcer  \\\n",
              "Respondent                               \n",
              "1                                Never   \n",
              "2              Less than once per year   \n",
              "3                                Never   \n",
              "4                                Never   \n",
              "5           Once a month or more often   \n",
              "\n",
              "                                                   OpenSource  \\\n",
              "Respondent                                                      \n",
              "1           The quality of OSS and closed source software ...   \n",
              "2           The quality of OSS and closed source software ...   \n",
              "3           The quality of OSS and closed source software ...   \n",
              "4           The quality of OSS and closed source software ...   \n",
              "5           OSS is, on average, of HIGHER quality than pro...   \n",
              "\n",
              "                                        Employment                 Country  \\\n",
              "Respondent                                                                   \n",
              "1           Not employed, and not looking for work          United Kingdom   \n",
              "2               Not employed, but looking for work  Bosnia and Herzegovina   \n",
              "3                               Employed full-time                Thailand   \n",
              "4                               Employed full-time           United States   \n",
              "5                               Employed full-time                 Ukraine   \n",
              "\n",
              "                   Student                                            EdLevel  \\\n",
              "Respondent                                                                      \n",
              "1                       No                          Primary/elementary school   \n",
              "2           Yes, full-time  Secondary school (e.g. American high school, G...   \n",
              "3                       No           Bachelor’s degree (BA, BS, B.Eng., etc.)   \n",
              "4                       No           Bachelor’s degree (BA, BS, B.Eng., etc.)   \n",
              "5                       No           Bachelor’s degree (BA, BS, B.Eng., etc.)   \n",
              "\n",
              "                                               UndergradMajor  \\\n",
              "Respondent                                                      \n",
              "1                                                         NaN   \n",
              "2                                                         NaN   \n",
              "3                               Web development or web design   \n",
              "4           Computer science, computer engineering, or sof...   \n",
              "5           Computer science, computer engineering, or sof...   \n",
              "\n",
              "                                                     EduOther  \\\n",
              "Respondent                                                      \n",
              "1           Taught yourself a new language, framework, or ...   \n",
              "2           Taken an online course in programming or softw...   \n",
              "3           Taught yourself a new language, framework, or ...   \n",
              "4           Taken an online course in programming or softw...   \n",
              "5           Taken an online course in programming or softw...   \n",
              "\n",
              "                             OrgSize  \\\n",
              "Respondent                             \n",
              "1                                NaN   \n",
              "2                                NaN   \n",
              "3               100 to 499 employees   \n",
              "4               100 to 499 employees   \n",
              "5           10,000 or more employees   \n",
              "\n",
              "                                                      DevType YearsCode  \\\n",
              "Respondent                                                                \n",
              "1                                                         NaN         4   \n",
              "2           Developer, desktop or enterprise applications;...       NaN   \n",
              "3           Designer;Developer, back-end;Developer, front-...         3   \n",
              "4                                       Developer, full-stack         3   \n",
              "5           Academic researcher;Developer, desktop or ente...        16   \n",
              "\n",
              "           Age1stCode      YearsCodePro           CareerSat  \\\n",
              "Respondent                                                    \n",
              "1                  10               NaN                 NaN   \n",
              "2                  17               NaN                 NaN   \n",
              "3                  22                 1  Slightly satisfied   \n",
              "4                  16  Less than 1 year      Very satisfied   \n",
              "5                  14                 9   Very dissatisfied   \n",
              "\n",
              "                           JobSat              MgrIdiot  MgrMoney   MgrWant  \\\n",
              "Respondent                                                                    \n",
              "1                             NaN                   NaN       NaN       NaN   \n",
              "2                             NaN                   NaN       NaN       NaN   \n",
              "3              Slightly satisfied  Not at all confident  Not sure  Not sure   \n",
              "4              Slightly satisfied        Very confident        No  Not sure   \n",
              "5           Slightly dissatisfied    Somewhat confident       Yes        No   \n",
              "\n",
              "                                                      JobSeek  \\\n",
              "Respondent                                                      \n",
              "1                                                         NaN   \n",
              "2                             I am actively looking for a job   \n",
              "3           I’m not actively looking, but I am open to new...   \n",
              "4                I am not interested in new job opportunities   \n",
              "5                I am not interested in new job opportunities   \n",
              "\n",
              "                    LastHireDate  \\\n",
              "Respondent                         \n",
              "1                            NaN   \n",
              "2           I've never had a job   \n",
              "3                  1-2 years ago   \n",
              "4           Less than a year ago   \n",
              "5           Less than a year ago   \n",
              "\n",
              "                                                      LastInt FizzBuzz  \\\n",
              "Respondent                                                               \n",
              "1                                                         NaN      NaN   \n",
              "2                                                         NaN      NaN   \n",
              "3                         Interview with people in peer roles       No   \n",
              "4           Write code by hand (e.g., on a whiteboard);Int...       No   \n",
              "5           Write any code;Write code by hand (e.g., on a ...       No   \n",
              "\n",
              "                                                   JobFactors  \\\n",
              "Respondent                                                      \n",
              "1                                                         NaN   \n",
              "2           Financial performance or funding status of the...   \n",
              "3           Languages, frameworks, and other technologies ...   \n",
              "4           Languages, frameworks, and other technologies ...   \n",
              "5           Industry that I'd be working in;Languages, fra...   \n",
              "\n",
              "                                                 ResumeUpdate CurrencySymbol  \\\n",
              "Respondent                                                                     \n",
              "1                                                         NaN            NaN   \n",
              "2           Something else changed (education, award, medi...            NaN   \n",
              "3                            I was preparing for a job search            THB   \n",
              "4                            I was preparing for a job search            USD   \n",
              "5                            I was preparing for a job search            UAH   \n",
              "\n",
              "                    CurrencyDesc  CompTotal CompFreq  SalaryUSD  WorkWeekHrs  \\\n",
              "Respondent                                                                     \n",
              "1                            NaN        NaN      NaN        NaN          NaN   \n",
              "2                            NaN        NaN      NaN        NaN          NaN   \n",
              "3                      Thai baht    23000.0  Monthly     8820.0         40.0   \n",
              "4           United States dollar    61000.0   Yearly    61000.0         80.0   \n",
              "5              Ukrainian hryvnia        NaN      NaN        NaN         55.0   \n",
              "\n",
              "                                                     WorkPlan  \\\n",
              "Respondent                                                      \n",
              "1                                                         NaN   \n",
              "2                                                         NaN   \n",
              "3           There's no schedule or spec; I work on what se...   \n",
              "4           There's no schedule or spec; I work on what se...   \n",
              "5           There is a schedule and/or spec (made by me or...   \n",
              "\n",
              "                                                WorkChallenge  \\\n",
              "Respondent                                                      \n",
              "1                                                         NaN   \n",
              "2                                                         NaN   \n",
              "3           Distracting work environment;Inadequate access...   \n",
              "4                                                         NaN   \n",
              "5           Being tasked with non-development work;Inadequ...   \n",
              "\n",
              "                                  WorkRemote WorkLoc                  ImpSyn  \\\n",
              "Respondent                                                                     \n",
              "1                                        NaN     NaN                     NaN   \n",
              "2                                        NaN     NaN                     NaN   \n",
              "3           Less than once per month / Never    Home                 Average   \n",
              "4           Less than once per month / Never    Home  A little below average   \n",
              "5                      A few days each month  Office  A little above average   \n",
              "\n",
              "                                            CodeRev  CodeRevHrs  \\\n",
              "Respondent                                                        \n",
              "1                                               NaN         NaN   \n",
              "2                                               NaN         NaN   \n",
              "3                                                No         NaN   \n",
              "4                                                No         NaN   \n",
              "5           Yes, because I see value in code review         NaN   \n",
              "\n",
              "                                UnitTests  \\\n",
              "Respondent                                  \n",
              "1                                     NaN   \n",
              "2                                     NaN   \n",
              "3               No, but I think we should   \n",
              "4               No, but I think we should   \n",
              "5           Yes, it's part of our process   \n",
              "\n",
              "                                                  PurchaseHow  \\\n",
              "Respondent                                                      \n",
              "1                                                         NaN   \n",
              "2                                                         NaN   \n",
              "3                                                    Not sure   \n",
              "4           Developers typically have the most influence o...   \n",
              "5                                                    Not sure   \n",
              "\n",
              "                             PurchaseWhat  \\\n",
              "Respondent                                  \n",
              "1                                     NaN   \n",
              "2                                     NaN   \n",
              "3           I have little or no influence   \n",
              "4           I have little or no influence   \n",
              "5           I have little or no influence   \n",
              "\n",
              "                                     LanguageWorkedWith  \\\n",
              "Respondent                                                \n",
              "1                       HTML/CSS;Java;JavaScript;Python   \n",
              "2                                   C++;HTML/CSS;Python   \n",
              "3                                              HTML/CSS   \n",
              "4                                   C;C++;C#;Python;SQL   \n",
              "5           C++;HTML/CSS;Java;JavaScript;Python;SQL;VBA   \n",
              "\n",
              "                                     LanguageDesireNextYear  \\\n",
              "Respondent                                                    \n",
              "1           C;C++;C#;Go;HTML/CSS;Java;JavaScript;Python;SQL   \n",
              "2                               C++;HTML/CSS;JavaScript;SQL   \n",
              "3                                           Elixir;HTML/CSS   \n",
              "4                                       C;C#;JavaScript;SQL   \n",
              "5                  HTML/CSS;Java;JavaScript;SQL;WebAssembly   \n",
              "\n",
              "                                          DatabaseWorkedWith  \\\n",
              "Respondent                                                     \n",
              "1                                                     SQLite   \n",
              "2                                                        NaN   \n",
              "3                                                 PostgreSQL   \n",
              "4                                               MySQL;SQLite   \n",
              "5           Couchbase;MongoDB;MySQL;Oracle;PostgreSQL;SQLite   \n",
              "\n",
              "                                       DatabaseDesireNextYear  \\\n",
              "Respondent                                                      \n",
              "1                                                       MySQL   \n",
              "2                                                       MySQL   \n",
              "3                                                  PostgreSQL   \n",
              "4                                                MySQL;SQLite   \n",
              "5           Couchbase;Firebase;MongoDB;MySQL;Oracle;Postgr...   \n",
              "\n",
              "                           PlatformWorkedWith  \\\n",
              "Respondent                                      \n",
              "1                               MacOS;Windows   \n",
              "2                                     Windows   \n",
              "3                                         NaN   \n",
              "4                               Linux;Windows   \n",
              "5           Android;Linux;MacOS;Slack;Windows   \n",
              "\n",
              "                           PlatformDesireNextYear  \\\n",
              "Respondent                                          \n",
              "1                         Android;Arduino;Windows   \n",
              "2                                         Windows   \n",
              "3                                             NaN   \n",
              "4                                   Linux;Windows   \n",
              "5           Android;Docker;Kubernetes;Linux;Slack   \n",
              "\n",
              "                                     WebFrameWorkedWith  \\\n",
              "Respondent                                                \n",
              "1                                          Django;Flask   \n",
              "2                                                Django   \n",
              "3                                                   NaN   \n",
              "4                                                   NaN   \n",
              "5           Django;Express;Flask;jQuery;React.js;Spring   \n",
              "\n",
              "                  WebFrameDesireNextYear MiscTechWorkedWith  \\\n",
              "Respondent                                                    \n",
              "1                           Flask;jQuery            Node.js   \n",
              "2                                 Django                NaN   \n",
              "3                              Other(s):                NaN   \n",
              "4                                    NaN               .NET   \n",
              "5           Flask;jQuery;React.js;Spring    Cordova;Node.js   \n",
              "\n",
              "                              MiscTechDesireNextYear  \\\n",
              "Respondent                                             \n",
              "1                                            Node.js   \n",
              "2                                                NaN   \n",
              "3                                                NaN   \n",
              "4                                               .NET   \n",
              "5           Apache Spark;Hadoop;Node.js;React Native   \n",
              "\n",
              "                                              DevEnviron        OpSys  \\\n",
              "Respondent                                                              \n",
              "1                             IntelliJ;Notepad++;PyCharm      Windows   \n",
              "2                                           Atom;PyCharm      Windows   \n",
              "3                                 Vim;Visual Studio Code  Linux-based   \n",
              "4           Eclipse;Vim;Visual Studio;Visual Studio Code      Windows   \n",
              "5                                 IntelliJ;Notepad++;Vim  Linux-based   \n",
              "\n",
              "                                        Containers BlockchainOrg  \\\n",
              "Respondent                                                         \n",
              "1                          I do not use containers           NaN   \n",
              "2                          I do not use containers           NaN   \n",
              "3                          I do not use containers           NaN   \n",
              "4                          I do not use containers    Not at all   \n",
              "5           Outside of work, for personal projects    Not at all   \n",
              "\n",
              "                                                 BlockchainIs BetterLife  \\\n",
              "Respondent                                                                 \n",
              "1                                                         NaN        Yes   \n",
              "2           Useful across many domains and could change ma...        Yes   \n",
              "3                                                         NaN        Yes   \n",
              "4           Useful for decentralized currency (i.e., Bitcoin)        Yes   \n",
              "5                                                         NaN        Yes   \n",
              "\n",
              "                                            ITperson OffOn SocialMedia  \\\n",
              "Respondent                                                               \n",
              "1           Fortunately, someone else has that title   Yes     Twitter   \n",
              "2                                                Yes   Yes   Instagram   \n",
              "3                                                Yes   Yes      Reddit   \n",
              "4                                               SIGH   Yes      Reddit   \n",
              "5                                           Also Yes   Yes    Facebook   \n",
              "\n",
              "                        Extraversion ScreenName        SOVisit1st  \\\n",
              "Respondent                                                          \n",
              "1                             Online   Username              2017   \n",
              "2                             Online   Username              2017   \n",
              "3           In real life (in person)   Username              2011   \n",
              "4           In real life (in person)   Username              2014   \n",
              "5           In real life (in person)   Username  I don't remember   \n",
              "\n",
              "                                SOVisitFreq  \\\n",
              "Respondent                                    \n",
              "1           A few times per month or weekly   \n",
              "2                     Daily or almost daily   \n",
              "3                      A few times per week   \n",
              "4                     Daily or almost daily   \n",
              "5                    Multiple times per day   \n",
              "\n",
              "                                                    SOVisitTo  \\\n",
              "Respondent                                                      \n",
              "1           Find answers to specific questions;Learn how t...   \n",
              "2           Find answers to specific questions;Learn how t...   \n",
              "3           Find answers to specific questions;Learn how t...   \n",
              "4           Find answers to specific questions;Pass the ti...   \n",
              "5                          Find answers to specific questions   \n",
              "\n",
              "                           SOFindAnswer                     SOTimeSaved  \\\n",
              "Respondent                                                                \n",
              "1                    3-5 times per week  Stack Overflow was much faster   \n",
              "2                    3-5 times per week  Stack Overflow was much faster   \n",
              "3                   6-10 times per week        They were about the same   \n",
              "4                    1-2 times per week  Stack Overflow was much faster   \n",
              "5           More than 10 times per week  Stack Overflow was much faster   \n",
              "\n",
              "            SOHowMuchTime SOAccount                           SOPartFreq  \\\n",
              "Respondent                                                                 \n",
              "1           31-60 minutes        No                                  NaN   \n",
              "2           11-30 minutes       Yes      A few times per month or weekly   \n",
              "3                     NaN       Yes  Less than once per month or monthly   \n",
              "4           31-60 minutes       Yes  Less than once per month or monthly   \n",
              "5                     NaN       Yes      A few times per month or weekly   \n",
              "\n",
              "                                                       SOJobs  \\\n",
              "Respondent                                                      \n",
              "1           No, I didn't know that Stack Overflow had a jo...   \n",
              "2           No, I knew that Stack Overflow had a job board...   \n",
              "3                                                         Yes   \n",
              "4                                                         Yes   \n",
              "5           No, I knew that Stack Overflow had a job board...   \n",
              "\n",
              "                                                     EntTeams  \\\n",
              "Respondent                                                      \n",
              "1                         No, and I don't know what those are   \n",
              "2                         No, and I don't know what those are   \n",
              "3           No, I've heard of them, but I am not part of a...   \n",
              "4                         No, and I don't know what those are   \n",
              "5           No, I've heard of them, but I am not part of a...   \n",
              "\n",
              "                     SOComm                            WelcomeChange  \\\n",
              "Respondent                                                             \n",
              "1                   Neutral  Just as welcome now as I felt last year   \n",
              "2             Yes, somewhat  Just as welcome now as I felt last year   \n",
              "3                   Neutral  Just as welcome now as I felt last year   \n",
              "4            No, not really  Just as welcome now as I felt last year   \n",
              "5           Yes, definitely  Just as welcome now as I felt last year   \n",
              "\n",
              "                                                 SONewContent   Age Gender  \\\n",
              "Respondent                                                                   \n",
              "1           Tech articles written by other developers;Indu...  14.0    Man   \n",
              "2           Tech articles written by other developers;Indu...  19.0    Man   \n",
              "3           Tech meetups or events in your area;Courses on...  28.0    Man   \n",
              "4           Tech articles written by other developers;Indu...  22.0    Man   \n",
              "5           Tech meetups or events in your area;Courses on...  30.0    Man   \n",
              "\n",
              "           Trans                Sexuality  \\\n",
              "Respondent                                  \n",
              "1             No  Straight / Heterosexual   \n",
              "2             No  Straight / Heterosexual   \n",
              "3             No  Straight / Heterosexual   \n",
              "4             No  Straight / Heterosexual   \n",
              "5             No  Straight / Heterosexual   \n",
              "\n",
              "                                           Ethnicity Dependents  \\\n",
              "Respondent                                                        \n",
              "1                                                NaN         No   \n",
              "2                                                NaN         No   \n",
              "3                                                NaN        Yes   \n",
              "4                       White or of European descent         No   \n",
              "5           White or of European descent;Multiracial         No   \n",
              "\n",
              "                     SurveyLength                  SurveyEase  \n",
              "Respondent                                                     \n",
              "1           Appropriate in length  Neither easy nor difficult  \n",
              "2           Appropriate in length  Neither easy nor difficult  \n",
              "3           Appropriate in length  Neither easy nor difficult  \n",
              "4           Appropriate in length                        Easy  \n",
              "5           Appropriate in length                        Easy  "
            ]
          },
          "metadata": {
            "tags": []
          },
          "execution_count": 86
        }
      ]
    },
    {
      "cell_type": "code",
      "metadata": {
        "id": "eSH_oJWT0iEp",
        "outputId": "bf444c26-c55f-4b10-fb2c-33a529b21ec9",
        "colab": {
          "base_uri": "https://localhost:8080/"
        }
      },
      "source": [
        "df['SalaryUSD']"
      ],
      "execution_count": 87,
      "outputs": [
        {
          "output_type": "execute_result",
          "data": {
            "text/plain": [
              "Respondent\n",
              "1            NaN\n",
              "2            NaN\n",
              "3         8820.0\n",
              "4        61000.0\n",
              "5            NaN\n",
              "          ...   \n",
              "10138        NaN\n",
              "10139        NaN\n",
              "10140    36432.0\n",
              "10141    65301.0\n",
              "10142    87036.0\n",
              "Name: SalaryUSD, Length: 9168, dtype: float64"
            ]
          },
          "metadata": {
            "tags": []
          },
          "execution_count": 87
        }
      ]
    },
    {
      "cell_type": "code",
      "metadata": {
        "id": "XCdqgBE60vdE",
        "outputId": "8a6e6d8a-a6db-4ae4-e0b3-da260834d666",
        "colab": {
          "base_uri": "https://localhost:8080/"
        }
      },
      "source": [
        "df['Hobbyist']"
      ],
      "execution_count": 88,
      "outputs": [
        {
          "output_type": "execute_result",
          "data": {
            "text/plain": [
              "Respondent\n",
              "1        Yes\n",
              "2         No\n",
              "3        Yes\n",
              "4         No\n",
              "5        Yes\n",
              "        ... \n",
              "10138     No\n",
              "10139    Yes\n",
              "10140    Yes\n",
              "10141    Yes\n",
              "10142    Yes\n",
              "Name: Hobbyist, Length: 9168, dtype: object"
            ]
          },
          "metadata": {
            "tags": []
          },
          "execution_count": 88
        }
      ]
    },
    {
      "cell_type": "code",
      "metadata": {
        "id": "5AUwsxdU0ywM",
        "outputId": "1f7d681b-5561-4847-ced9-fc7a1179a362",
        "colab": {
          "base_uri": "https://localhost:8080/"
        }
      },
      "source": [
        "df['Hobbyist'].map({'Yes':True, 'No':False})"
      ],
      "execution_count": 89,
      "outputs": [
        {
          "output_type": "execute_result",
          "data": {
            "text/plain": [
              "Respondent\n",
              "1         True\n",
              "2        False\n",
              "3         True\n",
              "4        False\n",
              "5         True\n",
              "         ...  \n",
              "10138    False\n",
              "10139     True\n",
              "10140     True\n",
              "10141     True\n",
              "10142     True\n",
              "Name: Hobbyist, Length: 9168, dtype: bool"
            ]
          },
          "metadata": {
            "tags": []
          },
          "execution_count": 89
        }
      ]
    },
    {
      "cell_type": "code",
      "metadata": {
        "id": "W9cWIUSa2Q2L",
        "outputId": "246bf03b-d079-457a-904b-4acef5184bc7",
        "colab": {
          "base_uri": "https://localhost:8080/"
        }
      },
      "source": [
        "df['Hobbyist']"
      ],
      "execution_count": 90,
      "outputs": [
        {
          "output_type": "execute_result",
          "data": {
            "text/plain": [
              "Respondent\n",
              "1        Yes\n",
              "2         No\n",
              "3        Yes\n",
              "4         No\n",
              "5        Yes\n",
              "        ... \n",
              "10138     No\n",
              "10139    Yes\n",
              "10140    Yes\n",
              "10141    Yes\n",
              "10142    Yes\n",
              "Name: Hobbyist, Length: 9168, dtype: object"
            ]
          },
          "metadata": {
            "tags": []
          },
          "execution_count": 90
        }
      ]
    },
    {
      "cell_type": "code",
      "metadata": {
        "id": "s8BGF3Pr1CGh"
      },
      "source": [
        "df['Hobbyist']= df['Hobbyist'].map({'Yes':True, 'No':False})"
      ],
      "execution_count": 91,
      "outputs": []
    },
    {
      "cell_type": "code",
      "metadata": {
        "id": "xcSvGKhq2gW0",
        "outputId": "42a6fae0-a3c6-4dc6-de0f-bf45be4b0805",
        "colab": {
          "base_uri": "https://localhost:8080/"
        }
      },
      "source": [
        "df['Hobbyist']"
      ],
      "execution_count": 92,
      "outputs": [
        {
          "output_type": "execute_result",
          "data": {
            "text/plain": [
              "Respondent\n",
              "1         True\n",
              "2        False\n",
              "3         True\n",
              "4        False\n",
              "5         True\n",
              "         ...  \n",
              "10138    False\n",
              "10139     True\n",
              "10140     True\n",
              "10141     True\n",
              "10142     True\n",
              "Name: Hobbyist, Length: 9168, dtype: bool"
            ]
          },
          "metadata": {
            "tags": []
          },
          "execution_count": 92
        }
      ]
    }
  ]
}