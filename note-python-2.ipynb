{
  "nbformat": 4,
  "nbformat_minor": 0,
  "metadata": {
    "colab": {
      "name": "Untitled",
      "provenance": [],
      "toc_visible": true,
      "authorship_tag": "ABX9TyP1O/I1t512FY2K81iycNpv",
      "include_colab_link": true
    },
    "kernelspec": {
      "name": "python3",
      "display_name": "Python 3"
    }
  },
  "cells": [
    {
      "cell_type": "markdown",
      "metadata": {
        "id": "view-in-github",
        "colab_type": "text"
      },
      "source": [
        "<a href=\"https://colab.research.google.com/github/davidzheng66/python3/blob/master/note-python-2.ipynb\" target=\"_parent\"><img src=\"https://colab.research.google.com/assets/colab-badge.svg\" alt=\"Open In Colab\"/></a>"
      ]
    },
    {
      "cell_type": "markdown",
      "metadata": {
        "id": "UmJiRCAXuhVw"
      },
      "source": [
        "# [Python Releases](https://www.python.org/ftp/python/)"
      ]
    },
    {
      "cell_type": "markdown",
      "metadata": {
        "id": "-ZkGkDvLu7Wj"
      },
      "source": [
        "# [JSON-Javascript Object Notation](https://www.youtube.com/watch?v=9N6a-VLBa2I&list=PL-osiE80TeTt2d9bfVyTiXJA-UTHn6WwU&index=47)\r\n"
      ]
    },
    {
      "cell_type": "markdown",
      "metadata": {
        "id": "NKvdmo3zOQA9"
      },
      "source": [
        "## Convert Json string to Python object: **object.loads(str)**\r\n",
        "\r\n",
        "## Convert Python object to Json string: **object.dumps(str)**"
      ]
    },
    {
      "cell_type": "code",
      "metadata": {
        "id": "AM1FGiSQOWeW"
      },
      "source": [
        "import json\r\n",
        "\r\n",
        "states_string = '''\r\n",
        "{\r\n",
        "  \"states\": [\r\n",
        "    {\r\n",
        "      \"name\": \"Alabama\",\r\n",
        "      \"abbreviation\": \"AL\",\r\n",
        "      \"area_codes\": [\r\n",
        "        \"205\",\r\n",
        "        \"251\",\r\n",
        "        \"256\",\r\n",
        "        \"334\",\r\n",
        "        \"938\"\r\n",
        "      ]\r\n",
        "    },\r\n",
        "    {\r\n",
        "      \"name\": \"Connecticut\",\r\n",
        "      \"abbreviation\": \"CT\",\r\n",
        "      \"area_codes\": [\r\n",
        "        \"203\",\r\n",
        "        \"475\",\r\n",
        "        \"860\",\r\n",
        "        \"959\"\r\n",
        "      ]\r\n",
        "    },\r\n",
        "    {\r\n",
        "      \"name\": \"Delaware\",\r\n",
        "      \"abbreviation\": \"DE\",\r\n",
        "      \"area_codes\": [\r\n",
        "        \"302\"\r\n",
        "      ]\r\n",
        "    },\r\n",
        "    {\r\n",
        "      \"name\": \"Iowa\",\r\n",
        "      \"abbreviation\": \"IA\",\r\n",
        "      \"area_codes\": [\r\n",
        "        \"319\",\r\n",
        "        \"515\",\r\n",
        "        \"563\",\r\n",
        "        \"641\",\r\n",
        "        \"712\"\r\n",
        "      ]\r\n",
        "    },\r\n",
        "  {\r\n",
        "      \"name\": \"Wisconsin\",\r\n",
        "      \"abbreviation\": \"WI\",\r\n",
        "      \"area_codes\": [\r\n",
        "        \"262\",\r\n",
        "        \"414\",\r\n",
        "        \"534\",\r\n",
        "        \"608\",\r\n",
        "        \"715\",\r\n",
        "        \"920\"\r\n",
        "      ]\r\n",
        "    },\r\n",
        "    {\r\n",
        "      \"name\": \"Wyoming\",\r\n",
        "      \"abbreviation\": \"WY\",\r\n",
        "      \"area_codes\": [\r\n",
        "        \"307\"\r\n",
        "      ]\r\n",
        "    }\r\n",
        "  ]\r\n",
        "}\r\n",
        "'''\r\n",
        "\r\n",
        "# print(states_string)\r\n",
        "\r\n",
        "data = json.loads(states_string)\r\n",
        "print('1: \\n', type(data))\r\n",
        "print('2: \\n', type(data['states']))\r\n",
        "print('3: \\n', data)\r\n",
        "\r\n",
        "for state in data['states']:\r\n",
        "  # print(type(state['name']))\r\n",
        "  print('4: \\n', state['name'])\r\n",
        "  # print(type(state))\r\n",
        "\r\n",
        "for state in data['states']:\r\n",
        "  del state['area_codes']\r\n",
        "\r\n",
        "print('5: \\n', data)\r\n",
        "\r\n",
        "new_states = json.dumps(data, indent=2, sort_keys=True)\r\n",
        "print('6: \\n', new_states)"
      ],
      "execution_count": null,
      "outputs": []
    },
    {
      "cell_type": "markdown",
      "metadata": {
        "id": "RYnRBFz2VqlN"
      },
      "source": [
        " ## Convert Json file to Python object: **object.load(file)**\r\n",
        "\r\n",
        " ## Convert Python object to Json file: **object.dump(file)**"
      ]
    },
    {
      "cell_type": "code",
      "metadata": {
        "id": "36MXP6wZWBsg"
      },
      "source": [
        "import json\r\n",
        "from urllib.request import urlopen\r\n",
        "\r\n",
        "with urlopen(\"https://raw.githubusercontent.com/davidzheng66/python3/master/snippets/states.json\") as response:\r\n",
        "    source = response.read()\r\n",
        "\r\n",
        "print('1:\\n ', source)\r\n",
        "\r\n",
        "data = json.loads(source)\r\n",
        "\r\n",
        "for state in data['states']:\r\n",
        "  del state['area_codes']\r\n",
        "\r\n",
        "with open('new_states.json', 'w') as file:\r\n",
        "  json.dump(data, file, indent=2, sort_keys=True)\r\n",
        "\r\n",
        "with open('new_states.json') as file:\r\n",
        "  data = json.load(file)\r\n",
        "\r\n",
        "print('2:\\n ', data)"
      ],
      "execution_count": null,
      "outputs": []
    },
    {
      "cell_type": "markdown",
      "metadata": {
        "id": "yf8zvil5I2Es"
      },
      "source": [
        "## [JSON encoder and decoder](https://docs.python.org/3/library/json.html)\r\n",
        "\r\n",
        "## [Code](https://github.com/davidzheng66/python/tree/master/snippets/json)\r\n",
        "\r\n",
        "## [OAuth 2.0](https://developer.yahoo.com/oauth2/guide/)\r\n"
      ]
    },
    {
      "cell_type": "markdown",
      "metadata": {
        "id": "5r1OfUELMrJi"
      },
      "source": [
        "# [Generator](https://www.youtube.com/watch?v=bD05uGo_sVI&list=PL-osiE80TeTt2d9bfVyTiXJA-UTHn6WwU&index=36)\r\n",
        " * Key word: yield\r\n",
        " * [Code](https://github.com/davidzheng66/python/tree/master/snippets/generator)\r\n",
        "\r\n"
      ]
    },
    {
      "cell_type": "markdown",
      "metadata": {
        "id": "DinQkRRtbDdF"
      },
      "source": [
        "\r\n",
        "# [How to create virtual environment](https://packaging.python.org/tutorials/installing-packages/#creating-and-using-virtual-environments)\r\n",
        "  * [How to use package manager(pip)](https://www.youtube.com/watch?v=U2ZN104hIcc&list=PL-osiE80TeTt2d9bfVyTiXJA-UTHn6WwU&index=13)\r\n",
        "  * [Create a virtual environment](https://www.youtube.com/watch?v=N5vscPTWKOk&list=PL-osiE80TeTt2d9bfVyTiXJA-UTHn6WwU&index=14)\r\n",
        "    * _pip install virtualenv_\r\n",
        "    * _virtualenv myenv_\r\n",
        "    * _myenv\\Scripts\\activate_\r\n",
        "    * _deactivate_\r\n",
        "  * [How to update all outdated packages](https://stackoverflow.com/questions/2720014/how-to-upgrade-all-python-packages-with-pip)  \r\n",
        "    * Linux: pip list --outdated --format=freeze | grep -v '^\\-e' | cut -d = -f 1  | xargs -n1 pip install -U\r\n",
        "    * Old Pip in Linux: pip freeze --local | grep -v '^\\-e' | cut -d = -f 1  | xargs -n1 pip install -U  \r\n",
        "  * To create a virtual environment myenv: \"python3 -m venv myenv [--system-site-packages]\"\r\n",
        "  * To activate myenv: \"myenv\\Scripts\\activate\"\r\n",
        "  * To de-activate myenv: \"myenv\\Scripts\\deactivate\"\r\n",
        "  * To list package: \"pip list [-o]\"\r\n",
        "  * To list pythons: \"where python\"\r\n",
        "  * To remove myenv: \"rmdir /S myenv\"\r\n",
        "  * To save packages name/version: \"pip freeze > requirements.txt\"\r\n",
        "  * To load required packages: \"pip install -r requirements.txt\"\r\n"
      ]
    },
    {
      "cell_type": "markdown",
      "metadata": {
        "id": "bLH-DExbbOG6"
      },
      "source": [
        "\r\n",
        "# [How to Use Anaconda](https://www.youtube.com/watch?v=YJC6ldI3hWk&list=PL-osiE80TeTt2d9bfVyTiXJA-UTHn6WwU&index=15) \r\n",
        "  * [Anaconda-Data Science Technology](https://www.anaconda.com/)\r\n",
        "  * [Download](https://docs.anaconda.com/anaconda/install/windows/)\r\n",
        "  * Install it, trigger \"Anaconda Navigator\" and conda prompt\r\n",
        "  * To see help: \"conda --help\"\r\n",
        "  * To update: \"conda update -n base -c defaults conda\"\r\n",
        "  * To list package: \"conda list\"\r\n",
        "  * To see version: \"conda --version\"\r\n",
        "  * To create a virtual environment: \r\n",
        "    * \"conda create -n myenv_conda_37 python=3.7\"\r\n",
        "        * To export environment: \"conda env export > environment.yml\"\r\n",
        "        * To create an enviroment: \"conda env create -f environment.yml\"\r\n",
        "  * To activate the venv: \"conda activate myenv_conda_37\"\r\n",
        "  * To list conda env: \"conda env list\"\r\n",
        "  * To deactivate the venv: \"conda deactivate\"\r\n",
        "  * To remove the env: \"conda remove -n myenv_conda_37 --all\"\r\n"
      ]
    },
    {
      "cell_type": "markdown",
      "metadata": {
        "id": "XuUbuv-qN5ce"
      },
      "source": [
        "# [How to Use Anaconda for Multiple-Projects](https://www.youtube.com/watch?v=cY2NXB_Tqq0&list=PL-osiE80TeTt2d9bfVyTiXJA-UTHn6WwU&index=16)\r\n",
        "\r\n"
      ]
    },
    {
      "cell_type": "markdown",
      "metadata": {
        "id": "bJ_bcAjKbjIB"
      },
      "source": [
        "# [How to use Jupyter notebook](https://www.youtube.com/watch?v=HW29067qVWk&list=PL-osiE80TeTt2d9bfVyTiXJA-UTHn6WwU&index=17&pbjreload=101)\r\n",
        "  * [Download/Install](https://jupyter.org/install)\r\n",
        "\r\n"
      ]
    },
    {
      "cell_type": "markdown",
      "metadata": {
        "id": "rIogbJQdbr_n"
      },
      "source": [
        "# [Variable Scope](https://www.youtube.com/watch?v=QVdf0LgmICw&list=PL-osiE80TeTt2d9bfVyTiXJA-UTHn6WwU&index=18)\r\n",
        "  * LEGB: Local, Enclosing, Global and Built-in"
      ]
    },
    {
      "cell_type": "markdown",
      "metadata": {
        "id": "N71k5LPgbx6v"
      },
      "source": [
        "# [List Comprehensions](https://www.youtube.com/watch?v=3dt4OGnU5sM&list=PL-osiE80TeTt2d9bfVyTiXJA-UTHn6WwU&index=20)\r\n"
      ]
    },
    {
      "cell_type": "markdown",
      "metadata": {
        "id": "TI4Wwme5b3Px"
      },
      "source": [
        "# [Sorting Lists, Tuples, Objects](https://www.youtube.com/watch?v=D3JvDWO-BY4&list=PL-osiE80TeTt2d9bfVyTiXJA-UTHn6WwU&index=21)\r\n",
        "\r\n"
      ]
    },
    {
      "cell_type": "markdown",
      "metadata": {
        "id": "y1R89Jlgb86C"
      },
      "source": [
        "# [String Formatting - Advanced Operations for Dicts, Lists, Numbers and Dates ](https://www.youtube.com/watch?v=vTX3IwquFkc&list=PL-osiE80TeTt2d9bfVyTiXJA-UTHn6WwU&index=22)\r\n",
        "  * [datetime](https://docs.python.org/3.8/library/datetime.html?highlight=datetime#module-datetime)\r\n",
        "    * strftime(): datetime to string\r\n",
        "    * strptime(): string to datetime\r\n",
        "\r\n"
      ]
    },
    {
      "cell_type": "markdown",
      "metadata": {
        "id": "T5k0TE7KcDnU"
      },
      "source": [
        "## 11. [OS Module - Use Underlying OS Functionality](https://www.youtube.com/watch?v=tJxcKyFMTGo&list=PL-osiE80TeTt2d9bfVyTiXJA-UTHn6WwU&index=23)\r\n",
        "\r\n",
        "## 12. [Datetime Module - Dates, Times, Timedeltas, Timezones](https://www.youtube.com/watch?v=eirjjyP2qcQ&list=PL-osiE80TeTt2d9bfVyTiXJA-UTHn6WwU&index=24)\r\n",
        "\r\n",
        "## 13. [File Objects - Reading and Writing Files](https://www.youtube.com/watch?v=Uh2ebFW8OYM&list=PL-osiE80TeTt2d9bfVyTiXJA-UTHn6WwU&index=25)\r\n",
        "\r\n",
        "## 14. [Automate Parsing and Renaming of Multiple Files](https://www.youtube.com/watch?v=ve2pmm5JqmI&list=PL-osiE80TeTt2d9bfVyTiXJA-UTHn6WwU&index=26)\r\n",
        "\r\n",
        "## 15. [Generate Random Numbers and Data Using the Random Module](https://www.youtube.com/watch?v=KzqSDvzOFNA&list=PL-osiE80TeTt2d9bfVyTiXJA-UTHn6WwU&index=27)\r\n",
        "\r\n",
        "## 16. [CSV Module - How to Read, Parse and Write CVS Files](https://www.youtube.com/watch?v=q5uM4VKywbA&list=PL-osiE80TeTt2d9bfVyTiXJA-UTHn6WwU&index=28)\r\n",
        "\r\n",
        "## 17. [Parsing Names from a CSV to an HTML List](https://www.youtube.com/watch?v=bkpLhQd6YQM&list=PL-osiE80TeTt2d9bfVyTiXJA-UTHn6WwU&index=29)\r\n",
        "\r\n",
        "## 18. [Regular Expression](https://www.youtube.com/watch?v=K8L6KVGG-7o&list=PL-osiE80TeTt2d9bfVyTiXJA-UTHn6WwU&index=30)\r\n",
        " * [wiki](https://en.wikipedia.org/wiki/Regular_expression)\r\n",
        " * python prompt:>> import re --> pattern=re.compile(r'\\w') --> matches=pattern.finditer(sentence)\r\n",
        "\r\n",
        "## 19. [Exception (Error Handling)](https://www.youtube.com/watch?v=NIWwJbo-9_8&list=PL-osiE80TeTt2d9bfVyTiXJA-UTHn6WwU&index=31)\r\n",
        " * try - catch ErrorKey (abnormal) - catch Exception (abnormal) - else (normal)- finally (abnormal + normal)\r\n",
        "\r\n",
        "## 20. [Duck Typing, EAFP, LBYL](https://www.youtube.com/watch?v=x3v9zMX1s4s&list=PL-osiE80TeTt2d9bfVyTiXJA-UTHn6WwU&index=32)\r\n",
        " * Pythonic: Duck Typing, EAFP - Easier to Ask Forgiveness than Permission\r\n",
        " * Non-Pythonic: LBYL - Look Before You Leap\r\n",
        "\r\n",
        "## 21. [How to Set the Path and Switch Between Different Versions/Executables(Windows)](https://www.youtube.com/watch?v=OdIHeg4jj2c&list=PL-osiE80TeTt2d9bfVyTiXJA-UTHn6WwU&index=33)\r\n",
        " * Path: \r\n",
        "   * For python.exe: \"C:\\python37\"\r\n",
        "   * For pip.exe: \"C:\\python37\\Scripts\"\r\n",
        " * To check how many pythons installed: \"where python\" (Windows, Linux)\r\n",
        " * To check which python used:\r\n",
        "   * \"which python\" (Linux only)\r\n",
        "   * To check executables/versions: >> \"import sys\" --> \"sys.executable\" or \"sys.version\"\r\n",
        " * To check where pip is installed: pip show pip\r\n",
        "\r\n",
        "## 22. [How to Set the Path and Switch Between Different Versions/Executables(Linux)](https://www.youtube.com/watch?v=PUIE7CPANfo&list=PL-osiE80TeTt2d9bfVyTiXJA-UTHn6WwU&index=34)\r\n",
        " * To check which python used: \"which python\" or \"type python\"\r\n",
        " * To set PATH: in .bash_profile, 1) PATH=\"myPythonPath:${PATH}\" ; 2) export PATH\r\n",
        " * To use alias: alias python=python3; alias pip=pip3;\r\n",
        " * To check which pip used: type pip\r\n",
        "\r\n",
        "## 23. [F-Strings: How to Use Them and Advanced String Format](https://www.youtube.com/watch?v=nghuHvKLhJA&list=PL-osiE80TeTt2d9bfVyTiXJA-UTHn6WwU&index=35)\r\n",
        "\r\n",
        "## 24. [Decorators: Dynamically Alter the Functionality of Your Functions](https://www.youtube.com/watch?v=FsAPt_9Bf3U&list=PL-osiE80TeTt2d9bfVyTiXJA-UTHn6WwU&index=37)\r\n",
        " * [Decorators with Arguments](https://www.youtube.com/watch?v=KlBPCzcQNU8&list=PL-osiE80TeTt2d9bfVyTiXJA-UTHn6WwU&index=38)\r\n",
        "\r\n",
        "## 25. [Named Tuple](https://www.youtube.com/watch?v=GfxJYp9_nJA&list=PL-osiE80TeTt2d9bfVyTiXJA-UTHn6WwU&index=39)\r\n",
        "\r\n",
        "## 26. Class\r\n",
        "  * [Classes and instances](https://www.youtube.com/watch?v=ZDa-Z5JzLYM&list=PL-osiE80TeTt2d9bfVyTiXJA-UTHn6WwU&index=40)\r\n",
        "  * [Class variables](https://www.youtube.com/watch?v=BJ-VvGyQxho&list=PL-osiE80TeTt2d9bfVyTiXJA-UTHn6WwU&index=41)\r\n",
        "  * [classmethod and staticmethod](https://www.youtube.com/watch?v=rq8cL2XMM5M&list=PL-osiE80TeTt2d9bfVyTiXJA-UTHn6WwU&index=42)\r\n",
        "  * [Inheritance - Creating Subclasses][https://www.youtube.com/watch?v=RSl87lqOXDE&list=PL-osiE80TeTt2d9bfVyTiXJA-UTHn6WwU&index=43)\r\n",
        "  * [Special Special(Magic/Dunder) Methods](https://www.youtube.com/watch?v=3ohzBxoFHAY&list=PL-osiE80TeTt2d9bfVyTiXJA-UTHn6WwU&index=44)\r\n",
        "    *  --init--, --repr--, --str--, --len--, --add--\r\n",
        "  * [Property Decorators - Setters, Getters and Deleters](https://www.youtube.com/watch?v=jCzT9XFZ5bw&list=PL-osiE80TeTt2d9bfVyTiXJA-UTHn6WwU&index=45)\r\n",
        "    * [Code](https://github.com/davidzheng66/python/blob/master/snippets/getter_setter_deleter/employee.py)\r\n",
        "\r\n",
        "\r\n",
        " ## 27. [Setting up a Python Development Environment in Sublime Text](https://www.youtube.com/watch?v=xFciV6Ew5r4&list=PL-osiE80TeTtHH8BZngXEsLPGotQxZa6z&index=2)"
      ]
    },
    {
      "cell_type": "markdown",
      "metadata": {
        "id": "TvY92lRrcG7-"
      },
      "source": [
        ""
      ]
    }
  ]
}